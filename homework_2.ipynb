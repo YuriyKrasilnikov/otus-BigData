{
 "cells": [
  {
   "cell_type": "code",
   "execution_count": 1,
   "metadata": {
    "scrolled": true
   },
   "outputs": [
    {
     "data": {
      "text/plain": [
       "\u001b[32mimport \u001b[39m\u001b[36m$ivy.$                                  \n",
       "\u001b[39m\n",
       "\u001b[32mimport \u001b[39m\u001b[36m$ivy.$                                    \n",
       "\u001b[39m\n",
       "\u001b[32mimport \u001b[39m\u001b[36m$ivy.$                               \u001b[39m"
      ]
     },
     "execution_count": 1,
     "metadata": {},
     "output_type": "execute_result"
    }
   ],
   "source": [
    "import $ivy.`org.apache.spark::spark-sql:3.1.1`\n",
    "import $ivy.`org.apache.spark::spark-mllib:3.1.1`\n",
    "import $ivy.`sh.almond::almond-spark:0.11.1`"
   ]
  },
  {
   "cell_type": "code",
   "execution_count": 2,
   "metadata": {},
   "outputs": [
    {
     "data": {
      "text/plain": [
       "\u001b[32mimport \u001b[39m\u001b[36morg.apache.log4j.{Level, Logger}\n",
       "\u001b[39m"
      ]
     },
     "execution_count": 2,
     "metadata": {},
     "output_type": "execute_result"
    }
   ],
   "source": [
    "import org.apache.log4j.{Level, Logger}\n",
    "Logger.getLogger(\"org\").setLevel(Level.OFF)"
   ]
  },
  {
   "cell_type": "code",
   "execution_count": 3,
   "metadata": {},
   "outputs": [
    {
     "data": {
      "text/plain": [
       "\u001b[32mimport \u001b[39m\u001b[36morg.apache.spark.sql._\n",
       "\n",
       "\u001b[39m\n",
       "defined \u001b[32mclass\u001b[39m \u001b[36mRichDF\u001b[39m"
      ]
     },
     "execution_count": 3,
     "metadata": {},
     "output_type": "execute_result"
    }
   ],
   "source": [
    "import org.apache.spark.sql._\n",
    "\n",
    "implicit class RichDF(val ds:DataFrame) {\n",
    "    def showHTML(limit:Int = 20, truncate: Int = 20) = {\n",
    "        import xml.Utility.escape\n",
    "        val data = ds.take(limit)\n",
    "        val header = ds.schema.fieldNames.toSeq        \n",
    "        val rows: Seq[Seq[String]] = data.map { row =>\n",
    "          row.toSeq.map { cell =>\n",
    "            val str = cell match {\n",
    "              case null => \"null\"\n",
    "              case binary: Array[Byte] => binary.map(\"%02X\".format(_)).mkString(\"[\", \" \", \"]\")\n",
    "              case array: Array[_] => array.mkString(\"[\", \", \", \"]\")\n",
    "              case seq: Seq[_] => seq.mkString(\"[\", \", \", \"]\")\n",
    "              case _ => cell.toString\n",
    "            }\n",
    "            if (truncate > 0 && str.length > truncate) {\n",
    "              // do not show ellipses for strings shorter than 4 characters.\n",
    "              if (truncate < 4) str.substring(0, truncate)\n",
    "              else str.substring(0, truncate - 3) + \"...\"\n",
    "            } else {\n",
    "              str\n",
    "            }\n",
    "          }: Seq[String]\n",
    "        }\n",
    "\n",
    "        publish.html(s\"\"\" <table>\n",
    "                <tr>\n",
    "                 ${header.map(h => s\"<th>${escape(h)}</th>\").mkString}\n",
    "                </tr>\n",
    "                ${rows.map { row =>\n",
    "                  s\"<tr>${row.map{c => s\"<td>${escape(c)}</td>\" }.mkString}</tr>\"\n",
    "                }.mkString}\n",
    "            </table>\n",
    "        \"\"\")        \n",
    "    }\n",
    "    \n",
    "}"
   ]
  },
  {
   "cell_type": "markdown",
   "metadata": {},
   "source": [
    "# Запускаем Spark"
   ]
  },
  {
   "cell_type": "code",
   "execution_count": 4,
   "metadata": {},
   "outputs": [
    {
     "name": "stdout",
     "output_type": "stream",
     "text": [
      "Loading spark-stubs\n",
      "Getting spark JARs\n",
      "Creating SparkSession\n"
     ]
    },
    {
     "name": "stderr",
     "output_type": "stream",
     "text": [
      "Using Spark's default log4j profile: org/apache/spark/log4j-defaults.properties\n"
     ]
    },
    {
     "data": {
      "text/html": [
       "<a target=\"_blank\" href=\"http://e5de5b853fb3:4040\">Spark UI</a>"
      ]
     },
     "metadata": {},
     "output_type": "display_data"
    },
    {
     "data": {
      "text/plain": [
       "\u001b[36mspark\u001b[39m: \u001b[32mSparkSession\u001b[39m = org.apache.spark.sql.SparkSession@6fb9a191"
      ]
     },
     "execution_count": 4,
     "metadata": {},
     "output_type": "execute_result"
    }
   ],
   "source": [
    "val spark = {\n",
    "  NotebookSparkSession.builder()\n",
    "    .master(\"local[*]\")\n",
    "    .getOrCreate()\n",
    "}"
   ]
  },
  {
   "cell_type": "code",
   "execution_count": 5,
   "metadata": {},
   "outputs": [
    {
     "data": {
      "text/plain": [
       "\u001b[36mdataDir\u001b[39m: \u001b[32mString\u001b[39m = \u001b[32m\"./data/train\"\u001b[39m"
      ]
     },
     "execution_count": 5,
     "metadata": {},
     "output_type": "execute_result"
    }
   ],
   "source": [
    "val dataDir = \"./data/train\""
   ]
  },
  {
   "cell_type": "code",
   "execution_count": 6,
   "metadata": {},
   "outputs": [
    {
     "data": {
      "text/html": [
       "<script>\n",
       "var comm = Jupyter.notebook.kernel.comm_manager.new_comm('cancel-stage-eb6fb20c-ea1e-45f4-b139-fa60e9e4679b', {});\n",
       "\n",
       "function cancelStage(stageId) {\n",
       "  console.log('Cancelling stage ' + stageId);\n",
       "  comm.send({ 'stageId': stageId });\n",
       "}\n",
       "</script>\n",
       "          "
      ]
     },
     "metadata": {},
     "output_type": "display_data"
    },
    {
     "data": {
      "text/html": [
       "<div>\n",
       "  <span style=\"float: left;\">load at cmd5.sc:1</span>\n",
       "</div>\n"
      ]
     },
     "metadata": {},
     "output_type": "display_data"
    },
    {
     "data": {
      "text/html": [
       "<div class=\"progress\">\n",
       "  <div class=\"progress-bar\" role=\"progressbar\" style=\"background-color: blue; width: 100%; word-wrap: normal; white-space: nowrap; text-align: center; color: white\" aria-valuenow=\"100\" aria-valuemin=\"0\" aria-valuemax=\"100\">\n",
       "    48 / 48\n",
       "  </div>\n",
       "  <div class=\"progress-bar\" role=\"progressbar\" style=\"background-color: red; width: 0%\" aria-valuenow=\"0\" aria-valuemin=\"0\" aria-valuemax=\"100\"></div>\n",
       "</div>\n"
      ]
     },
     "metadata": {},
     "output_type": "display_data"
    },
    {
     "data": {
      "text/html": [
       "<div>\n",
       "  <span style=\"float: left;\">load at cmd5.sc:1</span>\n",
       "</div>\n"
      ]
     },
     "metadata": {},
     "output_type": "display_data"
    },
    {
     "data": {
      "text/html": [
       "<div class=\"progress\">\n",
       "  <div class=\"progress-bar\" role=\"progressbar\" style=\"background-color: blue; width: 100%; word-wrap: normal; white-space: nowrap; text-align: center; color: white\" aria-valuenow=\"100\" aria-valuemin=\"0\" aria-valuemax=\"100\">\n",
       "    1 / 1\n",
       "  </div>\n",
       "  <div class=\"progress-bar\" role=\"progressbar\" style=\"background-color: red; width: 0%\" aria-valuenow=\"0\" aria-valuemin=\"0\" aria-valuemax=\"100\"></div>\n",
       "</div>\n"
      ]
     },
     "metadata": {},
     "output_type": "display_data"
    },
    {
     "data": {
      "text/plain": [
       "\u001b[36mdfRaw\u001b[39m: \u001b[32mDataFrame\u001b[39m = [instanceId_userId: int, instanceId_objectType: string ... 167 more fields]"
      ]
     },
     "execution_count": 6,
     "metadata": {},
     "output_type": "execute_result"
    }
   ],
   "source": [
    "val dfRaw = spark.read.load(dataDir)"
   ]
  },
  {
   "cell_type": "code",
   "execution_count": 7,
   "metadata": {},
   "outputs": [
    {
     "data": {
      "text/html": [
       "<div>\n",
       "  <span style=\"float: left;\">take at cmd2.sc:6</span>\n",
       "</div>\n"
      ]
     },
     "metadata": {},
     "output_type": "display_data"
    },
    {
     "data": {
      "text/html": [
       "<div class=\"progress\">\n",
       "  <div class=\"progress-bar\" role=\"progressbar\" style=\"background-color: blue; width: 100%; word-wrap: normal; white-space: nowrap; text-align: center; color: white\" aria-valuenow=\"100\" aria-valuemin=\"0\" aria-valuemax=\"100\">\n",
       "    1 / 1\n",
       "  </div>\n",
       "  <div class=\"progress-bar\" role=\"progressbar\" style=\"background-color: red; width: 0%\" aria-valuenow=\"0\" aria-valuemin=\"0\" aria-valuemax=\"100\"></div>\n",
       "</div>\n"
      ]
     },
     "metadata": {},
     "output_type": "display_data"
    },
    {
     "data": {
      "text/html": [
       " <table>\n",
       "                <tr>\n",
       "                 <th>instanceId_userId</th><th>instanceId_objectType</th><th>instanceId_objectId</th><th>audit_pos</th><th>audit_clientType</th><th>audit_timestamp</th><th>audit_timePassed</th><th>audit_experiment</th><th>audit_resourceType</th><th>metadata_ownerId</th><th>metadata_ownerType</th><th>metadata_createdAt</th><th>metadata_authorId</th><th>metadata_applicationId</th><th>metadata_numCompanions</th><th>metadata_numPhotos</th><th>metadata_numPolls</th><th>metadata_numSymbols</th><th>metadata_numTokens</th><th>metadata_numVideos</th><th>metadata_platform</th><th>metadata_totalVideoLength</th><th>metadata_options</th><th>relationsMask</th><th>userOwnerCounters_USER_FEED_REMOVE</th><th>userOwnerCounters_USER_PROFILE_VIEW</th><th>userOwnerCounters_VOTE_POLL</th><th>userOwnerCounters_USER_SEND_MESSAGE</th><th>userOwnerCounters_USER_DELETE_MESSAGE</th><th>userOwnerCounters_USER_INTERNAL_LIKE</th><th>userOwnerCounters_USER_INTERNAL_UNLIKE</th><th>userOwnerCounters_USER_STATUS_COMMENT_CREATE</th><th>userOwnerCounters_PHOTO_COMMENT_CREATE</th><th>userOwnerCounters_MOVIE_COMMENT_CREATE</th><th>userOwnerCounters_USER_PHOTO_ALBUM_COMMENT_CREATE</th><th>userOwnerCounters_COMMENT_INTERNAL_LIKE</th><th>userOwnerCounters_USER_FORUM_MESSAGE_CREATE</th><th>userOwnerCounters_PHOTO_MARK_CREATE</th><th>userOwnerCounters_PHOTO_VIEW</th><th>userOwnerCounters_PHOTO_PIN_BATCH_CREATE</th><th>userOwnerCounters_PHOTO_PIN_UPDATE</th><th>userOwnerCounters_USER_PRESENT_SEND</th><th>userOwnerCounters_UNKNOWN</th><th>userOwnerCounters_CREATE_TOPIC</th><th>userOwnerCounters_CREATE_IMAGE</th><th>userOwnerCounters_CREATE_MOVIE</th><th>userOwnerCounters_CREATE_COMMENT</th><th>userOwnerCounters_CREATE_LIKE</th><th>userOwnerCounters_TEXT</th><th>userOwnerCounters_IMAGE</th><th>userOwnerCounters_VIDEO</th><th>ownerUserCounters_USER_FEED_REMOVE</th><th>ownerUserCounters_USER_PROFILE_VIEW</th><th>ownerUserCounters_VOTE_POLL</th><th>ownerUserCounters_USER_SEND_MESSAGE</th><th>ownerUserCounters_USER_DELETE_MESSAGE</th><th>ownerUserCounters_USER_INTERNAL_LIKE</th><th>ownerUserCounters_USER_INTERNAL_UNLIKE</th><th>ownerUserCounters_USER_STATUS_COMMENT_CREATE</th><th>ownerUserCounters_PHOTO_COMMENT_CREATE</th><th>ownerUserCounters_MOVIE_COMMENT_CREATE</th><th>ownerUserCounters_USER_PHOTO_ALBUM_COMMENT_CREATE</th><th>ownerUserCounters_COMMENT_INTERNAL_LIKE</th><th>ownerUserCounters_USER_FORUM_MESSAGE_CREATE</th><th>ownerUserCounters_PHOTO_MARK_CREATE</th><th>ownerUserCounters_PHOTO_VIEW</th><th>ownerUserCounters_PHOTO_PIN_BATCH_CREATE</th><th>ownerUserCounters_PHOTO_PIN_UPDATE</th><th>ownerUserCounters_USER_PRESENT_SEND</th><th>ownerUserCounters_UNKNOWN</th><th>ownerUserCounters_CREATE_TOPIC</th><th>ownerUserCounters_CREATE_IMAGE</th><th>ownerUserCounters_CREATE_MOVIE</th><th>ownerUserCounters_CREATE_COMMENT</th><th>ownerUserCounters_CREATE_LIKE</th><th>ownerUserCounters_TEXT</th><th>ownerUserCounters_IMAGE</th><th>ownerUserCounters_VIDEO</th><th>membership_status</th><th>membership_statusUpdateDate</th><th>membership_joinDate</th><th>membership_joinRequestDate</th><th>owner_create_date</th><th>owner_birth_date</th><th>owner_gender</th><th>owner_status</th><th>owner_ID_country</th><th>owner_ID_Location</th><th>owner_is_active</th><th>owner_is_deleted</th><th>owner_is_abused</th><th>owner_is_activated</th><th>owner_change_datime</th><th>owner_is_semiactivated</th><th>owner_region</th><th>user_create_date</th><th>user_birth_date</th><th>user_gender</th><th>user_status</th><th>user_ID_country</th><th>user_ID_Location</th><th>user_is_active</th><th>user_is_deleted</th><th>user_is_abused</th><th>user_is_activated</th><th>user_change_datime</th><th>user_is_semiactivated</th><th>user_region</th><th>feedback</th><th>objectId</th><th>auditweights_ageMs</th><th>auditweights_closed</th><th>auditweights_ctr_gender</th><th>auditweights_ctr_high</th><th>auditweights_ctr_negative</th><th>auditweights_dailyRecency</th><th>auditweights_feedOwner_RECOMMENDED_GROUP</th><th>auditweights_feedStats</th><th>auditweights_friendCommentFeeds</th><th>auditweights_friendCommenters</th><th>auditweights_friendLikes</th><th>auditweights_friendLikes_actors</th><th>auditweights_hasDetectedText</th><th>auditweights_hasText</th><th>auditweights_isPymk</th><th>auditweights_isRandom</th><th>auditweights_likersFeedStats_hyper</th><th>auditweights_likersSvd_prelaunch_hyper</th><th>auditweights_matrix</th><th>auditweights_notOriginalPhoto</th><th>auditweights_numDislikes</th><th>auditweights_numLikes</th><th>auditweights_numShows</th><th>auditweights_onlineVideo</th><th>auditweights_partAge</th><th>auditweights_partCtr</th><th>auditweights_partSvd</th><th>auditweights_processedVideo</th><th>auditweights_relationMasks</th><th>auditweights_source_LIVE_TOP</th><th>auditweights_source_MOVIE_TOP</th><th>auditweights_svd_prelaunch</th><th>auditweights_svd_spark</th><th>auditweights_userAge</th><th>auditweights_userOwner_CREATE_COMMENT</th><th>auditweights_userOwner_CREATE_IMAGE</th><th>auditweights_userOwner_CREATE_LIKE</th><th>auditweights_userOwner_IMAGE</th><th>auditweights_userOwner_MOVIE_COMMENT_CREATE</th><th>auditweights_userOwner_PHOTO_COMMENT_CREATE</th><th>auditweights_userOwner_PHOTO_MARK_CREATE</th><th>auditweights_userOwner_PHOTO_VIEW</th><th>auditweights_userOwner_TEXT</th><th>auditweights_userOwner_UNKNOWN</th><th>auditweights_userOwner_USER_DELETE_MESSAGE</th><th>auditweights_userOwner_USER_FEED_REMOVE</th><th>auditweights_userOwner_USER_FORUM_MESSAGE_CREATE</th><th>auditweights_userOwner_USER_INTERNAL_LIKE</th><th>auditweights_userOwner_USER_INTERNAL_UNLIKE</th><th>auditweights_userOwner_USER_PRESENT_SEND</th><th>auditweights_userOwner_USER_PROFILE_VIEW</th><th>auditweights_userOwner_USER_SEND_MESSAGE</th><th>auditweights_userOwner_USER_STATUS_COMMENT_CREATE</th><th>auditweights_userOwner_VIDEO</th><th>auditweights_userOwner_VOTE_POLL</th><th>auditweights_x_ActorsRelations</th><th>auditweights_likersSvd_spark_hyper</th><th>auditweights_source_PROMO</th><th>date</th>\n",
       "                </tr>\n",
       "                <tr><td>108</td><td>Post</td><td>18452434</td><td>0</td><td>MOB</td><td>1520194086477</td><td>10184811</td><td>XPRM-5386_G1</td><td>8</td><td>13680</td><td>GROUP_OPEN_OFFICIAL</td><td>1520147725000</td><td>73356</td><td>0</td><td>0</td><td>1</td><td>0</td><td>18</td><td>2</td><td>0</td><td>OTHER</td><td>0</td><td>[HAS_TEXT, HAS_PH...</td><td>null</td><td>0.0</td><td>0.0</td><td>0.0</td><td>0.0</td><td>0.0</td><td>0.0</td><td>0.0</td><td>0.0</td><td>0.0</td><td>0.0</td><td>0.0</td><td>0.0</td><td>0.0</td><td>0.0</td><td>0.0</td><td>0.0</td><td>0.0</td><td>0.0</td><td>0.0</td><td>0.0</td><td>0.0</td><td>0.0</td><td>5.0487775802612305</td><td>31.726192474365234</td><td>67.61256408691406</td><td>21.856033325195312</td><td>8.234378814697266</td><td>null</td><td>null</td><td>null</td><td>null</td><td>null</td><td>null</td><td>null</td><td>null</td><td>null</td><td>null</td><td>null</td><td>null</td><td>null</td><td>null</td><td>null</td><td>null</td><td>null</td><td>null</td><td>null</td><td>null</td><td>null</td><td>null</td><td>null</td><td>null</td><td>null</td><td>null</td><td>null</td><td>A</td><td>1383386108187</td><td>1383386100000</td><td>null</td><td>null</td><td>null</td><td>null</td><td>null</td><td>null</td><td>null</td><td>null</td><td>null</td><td>null</td><td>null</td><td>null</td><td>null</td><td>null</td><td>1182853218900</td><td>4142</td><td>2</td><td>192</td><td>10397571399</td><td>2773505</td><td>1</td><td>0</td><td>0</td><td>1</td><td>1394110985237</td><td>null</td><td>89</td><td>[Liked]</td><td>18452434</td><td>4.6361264E7</td><td>null</td><td>0.0098556755</td><td>0.051606573</td><td>0.0014042387</td><td>0.9696286</td><td>null</td><td>8.2</td><td>null</td><td>null</td><td>null</td><td>null</td><td>null</td><td>null</td><td>null</td><td>1.0</td><td>null</td><td>null</td><td>0.03549679</td><td>null</td><td>54.0</td><td>392.0</td><td>38355.0</td><td>null</td><td>null</td><td>null</td><td>null</td><td>null</td><td>null</td><td>null</td><td>null</td><td>null</td><td>0.7479802</td><td>36.0</td><td>0.9963158</td><td>null</td><td>1.0</td><td>1.0</td><td>null</td><td>null</td><td>null</td><td>null</td><td>1.0</td><td>null</td><td>null</td><td>null</td><td>null</td><td>null</td><td>null</td><td>null</td><td>null</td><td>null</td><td>null</td><td>null</td><td>null</td><td>null</td><td>null</td><td>null</td><td>2018-03-04</td></tr><tr><td>231</td><td>Post</td><td>31980032</td><td>3</td><td>MOB</td><td>1520113126655</td><td>132164</td><td>XPRM-5386_G2</td><td>8</td><td>42167</td><td>GROUP_OPEN_OFFICIAL</td><td>1520097620000</td><td>828613</td><td>0</td><td>0</td><td>1</td><td>0</td><td>1408</td><td>223</td><td>0</td><td>OTHER</td><td>0</td><td>[HAS_TEXT, HAS_PH...</td><td>null</td><td>0.0</td><td>0.0</td><td>0.0</td><td>0.0</td><td>0.0</td><td>0.0</td><td>0.0</td><td>0.0</td><td>0.0</td><td>0.0</td><td>0.0</td><td>0.0</td><td>0.0</td><td>0.0</td><td>0.0</td><td>0.0</td><td>0.0</td><td>0.0</td><td>2.7805256843566895</td><td>0.0</td><td>0.0</td><td>0.0</td><td>0.0</td><td>9.55345630645752</td><td>11.429396629333496</td><td>2.215708017349243</td><td>0.0</td><td>null</td><td>null</td><td>null</td><td>null</td><td>null</td><td>null</td><td>null</td><td>null</td><td>null</td><td>null</td><td>null</td><td>null</td><td>null</td><td>null</td><td>null</td><td>null</td><td>null</td><td>null</td><td>null</td><td>null</td><td>null</td><td>null</td><td>null</td><td>null</td><td>null</td><td>null</td><td>null</td><td>A</td><td>1513013923373</td><td>1513013940000</td><td>null</td><td>null</td><td>null</td><td>null</td><td>null</td><td>null</td><td>null</td><td>null</td><td>null</td><td>null</td><td>null</td><td>null</td><td>null</td><td>null</td><td>1182872563207</td><td>-4972</td><td>2</td><td>192</td><td>10414533690</td><td>3385314</td><td>1</td><td>0</td><td>0</td><td>1</td><td>1513558462510</td><td>0</td><td>11</td><td>[Clicked, Liked]</td><td>31980032</td><td>1.5505841E7</td><td>null</td><td>0.022309711</td><td>0.11298879</td><td>0.011811024</td><td>0.97855395</td><td>null</td><td>0.1</td><td>null</td><td>null</td><td>null</td><td>null</td><td>null</td><td>null</td><td>null</td><td>1.0</td><td>null</td><td>null</td><td>0.040244617</td><td>null</td><td>9.0</td><td>16.0</td><td>662.0</td><td>null</td><td>null</td><td>null</td><td>null</td><td>null</td><td>null</td><td>null</td><td>null</td><td>null</td><td>0.81291527</td><td>61.0</td><td>null</td><td>null</td><td>0.99990857</td><td>0.9168273</td><td>null</td><td>null</td><td>null</td><td>null</td><td>0.9999628</td><td>null</td><td>null</td><td>null</td><td>null</td><td>null</td><td>null</td><td>null</td><td>null</td><td>null</td><td>null</td><td>null</td><td>null</td><td>null</td><td>null</td><td>null</td><td>2018-03-04</td></tr><tr><td>423</td><td>Post</td><td>33834009</td><td>5</td><td>API</td><td>1520181187538</td><td>71525659</td><td>XPRM-5386_G9</td><td>14</td><td>12988</td><td>GROUP_OPEN</td><td>1519829634000</td><td>1076820</td><td>0</td><td>0</td><td>0</td><td>0</td><td>0</td><td>0</td><td>0</td><td>ANDROID</td><td>0</td><td>[IS_PART_OF_TOPIC...</td><td>null</td><td>null</td><td>null</td><td>null</td><td>null</td><td>null</td><td>null</td><td>null</td><td>null</td><td>null</td><td>null</td><td>null</td><td>null</td><td>null</td><td>null</td><td>null</td><td>null</td><td>null</td><td>null</td><td>null</td><td>null</td><td>null</td><td>null</td><td>null</td><td>null</td><td>null</td><td>null</td><td>null</td><td>null</td><td>null</td><td>null</td><td>null</td><td>null</td><td>null</td><td>null</td><td>null</td><td>null</td><td>null</td><td>null</td><td>null</td><td>null</td><td>null</td><td>null</td><td>null</td><td>null</td><td>null</td><td>null</td><td>null</td><td>null</td><td>null</td><td>null</td><td>null</td><td>null</td><td>null</td><td>null</td><td>null</td><td>null</td><td>null</td><td>null</td><td>null</td><td>null</td><td>null</td><td>null</td><td>null</td><td>null</td><td>null</td><td>null</td><td>null</td><td>null</td><td>null</td><td>null</td><td>null</td><td>1173262601920</td><td>1763</td><td>2</td><td>192</td><td>10414533690</td><td>3385314</td><td>1</td><td>0</td><td>0</td><td>1</td><td>1446451940380</td><td>0</td><td>1</td><td>[Liked]</td><td>33834009</td><td>3.4003936E8</td><td>null</td><td>0.0147976205</td><td>0.07924716</td><td>0.00522269</td><td>0.51608413</td><td>null</td><td>0.1</td><td>null</td><td>null</td><td>1.0</td><td>1.0</td><td>null</td><td>null</td><td>null</td><td>1.0</td><td>1.0</td><td>null</td><td>3.970516E-5</td><td>null</td><td>36.0</td><td>106.0</td><td>6793.0</td><td>null</td><td>null</td><td>null</td><td>null</td><td>null</td><td>null</td><td>null</td><td>null</td><td>null</td><td>0.69021666</td><td>43.0</td><td>null</td><td>null</td><td>null</td><td>null</td><td>null</td><td>null</td><td>null</td><td>null</td><td>null</td><td>null</td><td>null</td><td>null</td><td>null</td><td>null</td><td>null</td><td>null</td><td>null</td><td>null</td><td>null</td><td>null</td><td>null</td><td>32</td><td>0.8158334</td><td>null</td><td>2018-03-04</td></tr><tr><td>624</td><td>Post</td><td>25653019</td><td>5</td><td>WEB</td><td>1520149339921</td><td>1520149339921</td><td>XPRM-explore.q2</td><td>8</td><td>2772</td><td>GROUP_OPEN_OFFICIAL</td><td>1520123422000</td><td>608137</td><td>0</td><td>0</td><td>1</td><td>0</td><td>37</td><td>5</td><td>0</td><td>OTHER</td><td>0</td><td>[HAS_TEXT, HAS_PH...</td><td>null</td><td>null</td><td>null</td><td>null</td><td>null</td><td>null</td><td>null</td><td>null</td><td>null</td><td>null</td><td>null</td><td>null</td><td>null</td><td>null</td><td>null</td><td>null</td><td>null</td><td>null</td><td>null</td><td>null</td><td>null</td><td>null</td><td>null</td><td>null</td><td>null</td><td>null</td><td>null</td><td>null</td><td>null</td><td>null</td><td>null</td><td>null</td><td>null</td><td>null</td><td>null</td><td>null</td><td>null</td><td>null</td><td>null</td><td>null</td><td>null</td><td>null</td><td>null</td><td>null</td><td>null</td><td>null</td><td>null</td><td>null</td><td>null</td><td>null</td><td>null</td><td>null</td><td>null</td><td>null</td><td>null</td><td>null</td><td>null</td><td>null</td><td>null</td><td>null</td><td>null</td><td>null</td><td>null</td><td>null</td><td>null</td><td>null</td><td>null</td><td>null</td><td>null</td><td>null</td><td>null</td><td>null</td><td>1179934071693</td><td>-3846</td><td>2</td><td>128</td><td>10414533690</td><td>1112209</td><td>1</td><td>0</td><td>0</td><td>1</td><td>1445517842953</td><td>0</td><td>13</td><td>[Ignored]</td><td>25653019</td><td>2.591742E7</td><td>null</td><td>0.014586994</td><td>0.07823428</td><td>0.0031282953</td><td>0.97587365</td><td>0.725</td><td>0.1</td><td>null</td><td>null</td><td>null</td><td>null</td><td>null</td><td>1.0</td><td>null</td><td>1.0</td><td>null</td><td>null</td><td>0.02061828</td><td>null</td><td>null</td><td>null</td><td>null</td><td>null</td><td>null</td><td>null</td><td>null</td><td>null</td><td>null</td><td>null</td><td>null</td><td>null</td><td>0.7401656</td><td>58.0</td><td>null</td><td>null</td><td>null</td><td>null</td><td>null</td><td>null</td><td>null</td><td>null</td><td>null</td><td>null</td><td>null</td><td>null</td><td>null</td><td>null</td><td>null</td><td>null</td><td>null</td><td>null</td><td>null</td><td>null</td><td>null</td><td>null</td><td>null</td><td>null</td><td>2018-03-04</td></tr><tr><td>768</td><td>Post</td><td>24024934</td><td>20</td><td>API</td><td>1520180595763</td><td>624657</td><td>XPRM-5386_G1</td><td>8</td><td>20289</td><td>GROUP_OPEN_OFFICIAL</td><td>1520132432000</td><td>565604</td><td>0</td><td>0</td><td>6</td><td>0</td><td>51</td><td>3</td><td>0</td><td>OTHER</td><td>0</td><td>[HAS_TEXT, HAS_PH...</td><td>null</td><td>null</td><td>null</td><td>null</td><td>null</td><td>null</td><td>null</td><td>null</td><td>null</td><td>null</td><td>null</td><td>null</td><td>null</td><td>null</td><td>null</td><td>null</td><td>null</td><td>null</td><td>null</td><td>null</td><td>null</td><td>null</td><td>null</td><td>null</td><td>null</td><td>null</td><td>null</td><td>null</td><td>null</td><td>null</td><td>null</td><td>null</td><td>null</td><td>null</td><td>null</td><td>null</td><td>null</td><td>null</td><td>null</td><td>null</td><td>null</td><td>null</td><td>null</td><td>null</td><td>null</td><td>null</td><td>null</td><td>null</td><td>null</td><td>null</td><td>null</td><td>null</td><td>null</td><td>null</td><td>null</td><td>A</td><td>1408564875883</td><td>1408564860000</td><td>null</td><td>null</td><td>null</td><td>null</td><td>null</td><td>null</td><td>null</td><td>null</td><td>null</td><td>null</td><td>null</td><td>null</td><td>null</td><td>null</td><td>1171835598907</td><td>3251</td><td>2</td><td>192</td><td>10397571399</td><td>2393098</td><td>1</td><td>0</td><td>0</td><td>1</td><td>1445517661617</td><td>0</td><td>142</td><td>[Ignored]</td><td>24024934</td><td>4.8163232E7</td><td>null</td><td>0.011985388</td><td>0.06924916</td><td>0.0014776505</td><td>0.9690083</td><td>null</td><td>0.1</td><td>null</td><td>null</td><td>null</td><td>null</td><td>null</td><td>null</td><td>null</td><td>1.0</td><td>null</td><td>null</td><td>0.008221154</td><td>null</td><td>72.0</td><td>671.0</td><td>48626.0</td><td>null</td><td>null</td><td>null</td><td>null</td><td>null</td><td>null</td><td>null</td><td>null</td><td>null</td><td>0.8230912</td><td>39.0</td><td>null</td><td>null</td><td>null</td><td>null</td><td>null</td><td>null</td><td>null</td><td>null</td><td>null</td><td>null</td><td>null</td><td>null</td><td>null</td><td>null</td><td>null</td><td>null</td><td>null</td><td>null</td><td>null</td><td>null</td><td>null</td><td>null</td><td>null</td><td>null</td><td>2018-03-04</td></tr>\n",
       "            </table>\n",
       "        "
      ]
     },
     "metadata": {},
     "output_type": "display_data"
    }
   ],
   "source": [
    "dfRaw.showHTML(5)"
   ]
  },
  {
   "cell_type": "code",
   "execution_count": 8,
   "metadata": {
    "scrolled": false
   },
   "outputs": [
    {
     "name": "stdout",
     "output_type": "stream",
     "text": [
      "root\n",
      " |-- instanceId_userId: integer (nullable = true)\n",
      " |-- instanceId_objectType: string (nullable = true)\n",
      " |-- instanceId_objectId: integer (nullable = true)\n",
      " |-- audit_pos: long (nullable = true)\n",
      " |-- audit_clientType: string (nullable = true)\n",
      " |-- audit_timestamp: long (nullable = true)\n",
      " |-- audit_timePassed: long (nullable = true)\n",
      " |-- audit_experiment: string (nullable = true)\n",
      " |-- audit_resourceType: long (nullable = true)\n",
      " |-- metadata_ownerId: integer (nullable = true)\n",
      " |-- metadata_ownerType: string (nullable = true)\n",
      " |-- metadata_createdAt: long (nullable = true)\n",
      " |-- metadata_authorId: integer (nullable = true)\n",
      " |-- metadata_applicationId: long (nullable = true)\n",
      " |-- metadata_numCompanions: integer (nullable = true)\n",
      " |-- metadata_numPhotos: integer (nullable = true)\n",
      " |-- metadata_numPolls: integer (nullable = true)\n",
      " |-- metadata_numSymbols: integer (nullable = true)\n",
      " |-- metadata_numTokens: integer (nullable = true)\n",
      " |-- metadata_numVideos: integer (nullable = true)\n",
      " |-- metadata_platform: string (nullable = true)\n",
      " |-- metadata_totalVideoLength: integer (nullable = true)\n",
      " |-- metadata_options: array (nullable = true)\n",
      " |    |-- element: string (containsNull = true)\n",
      " |-- relationsMask: long (nullable = true)\n",
      " |-- userOwnerCounters_USER_FEED_REMOVE: double (nullable = true)\n",
      " |-- userOwnerCounters_USER_PROFILE_VIEW: double (nullable = true)\n",
      " |-- userOwnerCounters_VOTE_POLL: double (nullable = true)\n",
      " |-- userOwnerCounters_USER_SEND_MESSAGE: double (nullable = true)\n",
      " |-- userOwnerCounters_USER_DELETE_MESSAGE: double (nullable = true)\n",
      " |-- userOwnerCounters_USER_INTERNAL_LIKE: double (nullable = true)\n",
      " |-- userOwnerCounters_USER_INTERNAL_UNLIKE: double (nullable = true)\n",
      " |-- userOwnerCounters_USER_STATUS_COMMENT_CREATE: double (nullable = true)\n",
      " |-- userOwnerCounters_PHOTO_COMMENT_CREATE: double (nullable = true)\n",
      " |-- userOwnerCounters_MOVIE_COMMENT_CREATE: double (nullable = true)\n",
      " |-- userOwnerCounters_USER_PHOTO_ALBUM_COMMENT_CREATE: double (nullable = true)\n",
      " |-- userOwnerCounters_COMMENT_INTERNAL_LIKE: double (nullable = true)\n",
      " |-- userOwnerCounters_USER_FORUM_MESSAGE_CREATE: double (nullable = true)\n",
      " |-- userOwnerCounters_PHOTO_MARK_CREATE: double (nullable = true)\n",
      " |-- userOwnerCounters_PHOTO_VIEW: double (nullable = true)\n",
      " |-- userOwnerCounters_PHOTO_PIN_BATCH_CREATE: double (nullable = true)\n",
      " |-- userOwnerCounters_PHOTO_PIN_UPDATE: double (nullable = true)\n",
      " |-- userOwnerCounters_USER_PRESENT_SEND: double (nullable = true)\n",
      " |-- userOwnerCounters_UNKNOWN: double (nullable = true)\n",
      " |-- userOwnerCounters_CREATE_TOPIC: double (nullable = true)\n",
      " |-- userOwnerCounters_CREATE_IMAGE: double (nullable = true)\n",
      " |-- userOwnerCounters_CREATE_MOVIE: double (nullable = true)\n",
      " |-- userOwnerCounters_CREATE_COMMENT: double (nullable = true)\n",
      " |-- userOwnerCounters_CREATE_LIKE: double (nullable = true)\n",
      " |-- userOwnerCounters_TEXT: double (nullable = true)\n",
      " |-- userOwnerCounters_IMAGE: double (nullable = true)\n",
      " |-- userOwnerCounters_VIDEO: double (nullable = true)\n",
      " |-- ownerUserCounters_USER_FEED_REMOVE: double (nullable = true)\n",
      " |-- ownerUserCounters_USER_PROFILE_VIEW: double (nullable = true)\n",
      " |-- ownerUserCounters_VOTE_POLL: double (nullable = true)\n",
      " |-- ownerUserCounters_USER_SEND_MESSAGE: double (nullable = true)\n",
      " |-- ownerUserCounters_USER_DELETE_MESSAGE: double (nullable = true)\n",
      " |-- ownerUserCounters_USER_INTERNAL_LIKE: double (nullable = true)\n",
      " |-- ownerUserCounters_USER_INTERNAL_UNLIKE: double (nullable = true)\n",
      " |-- ownerUserCounters_USER_STATUS_COMMENT_CREATE: double (nullable = true)\n",
      " |-- ownerUserCounters_PHOTO_COMMENT_CREATE: double (nullable = true)\n",
      " |-- ownerUserCounters_MOVIE_COMMENT_CREATE: double (nullable = true)\n",
      " |-- ownerUserCounters_USER_PHOTO_ALBUM_COMMENT_CREATE: double (nullable = true)\n",
      " |-- ownerUserCounters_COMMENT_INTERNAL_LIKE: double (nullable = true)\n",
      " |-- ownerUserCounters_USER_FORUM_MESSAGE_CREATE: double (nullable = true)\n",
      " |-- ownerUserCounters_PHOTO_MARK_CREATE: double (nullable = true)\n",
      " |-- ownerUserCounters_PHOTO_VIEW: double (nullable = true)\n",
      " |-- ownerUserCounters_PHOTO_PIN_BATCH_CREATE: double (nullable = true)\n",
      " |-- ownerUserCounters_PHOTO_PIN_UPDATE: double (nullable = true)\n",
      " |-- ownerUserCounters_USER_PRESENT_SEND: double (nullable = true)\n",
      " |-- ownerUserCounters_UNKNOWN: double (nullable = true)\n",
      " |-- ownerUserCounters_CREATE_TOPIC: double (nullable = true)\n",
      " |-- ownerUserCounters_CREATE_IMAGE: double (nullable = true)\n",
      " |-- ownerUserCounters_CREATE_MOVIE: double (nullable = true)\n",
      " |-- ownerUserCounters_CREATE_COMMENT: double (nullable = true)\n",
      " |-- ownerUserCounters_CREATE_LIKE: double (nullable = true)\n",
      " |-- ownerUserCounters_TEXT: double (nullable = true)\n",
      " |-- ownerUserCounters_IMAGE: double (nullable = true)\n",
      " |-- ownerUserCounters_VIDEO: double (nullable = true)\n",
      " |-- membership_status: string (nullable = true)\n",
      " |-- membership_statusUpdateDate: long (nullable = true)\n",
      " |-- membership_joinDate: long (nullable = true)\n",
      " |-- membership_joinRequestDate: long (nullable = true)\n",
      " |-- owner_create_date: long (nullable = true)\n",
      " |-- owner_birth_date: integer (nullable = true)\n",
      " |-- owner_gender: integer (nullable = true)\n",
      " |-- owner_status: integer (nullable = true)\n",
      " |-- owner_ID_country: long (nullable = true)\n",
      " |-- owner_ID_Location: integer (nullable = true)\n",
      " |-- owner_is_active: integer (nullable = true)\n",
      " |-- owner_is_deleted: integer (nullable = true)\n",
      " |-- owner_is_abused: integer (nullable = true)\n",
      " |-- owner_is_activated: integer (nullable = true)\n",
      " |-- owner_change_datime: long (nullable = true)\n",
      " |-- owner_is_semiactivated: integer (nullable = true)\n",
      " |-- owner_region: integer (nullable = true)\n",
      " |-- user_create_date: long (nullable = true)\n",
      " |-- user_birth_date: integer (nullable = true)\n",
      " |-- user_gender: integer (nullable = true)\n",
      " |-- user_status: integer (nullable = true)\n",
      " |-- user_ID_country: long (nullable = true)\n",
      " |-- user_ID_Location: integer (nullable = true)\n",
      " |-- user_is_active: integer (nullable = true)\n",
      " |-- user_is_deleted: integer (nullable = true)\n",
      " |-- user_is_abused: integer (nullable = true)\n",
      " |-- user_is_activated: integer (nullable = true)\n",
      " |-- user_change_datime: long (nullable = true)\n",
      " |-- user_is_semiactivated: integer (nullable = true)\n",
      " |-- user_region: integer (nullable = true)\n",
      " |-- feedback: array (nullable = true)\n",
      " |    |-- element: string (containsNull = true)\n",
      " |-- objectId: integer (nullable = true)\n",
      " |-- auditweights_ageMs: double (nullable = true)\n",
      " |-- auditweights_closed: double (nullable = true)\n",
      " |-- auditweights_ctr_gender: double (nullable = true)\n",
      " |-- auditweights_ctr_high: double (nullable = true)\n",
      " |-- auditweights_ctr_negative: double (nullable = true)\n",
      " |-- auditweights_dailyRecency: double (nullable = true)\n",
      " |-- auditweights_feedOwner_RECOMMENDED_GROUP: double (nullable = true)\n",
      " |-- auditweights_feedStats: double (nullable = true)\n",
      " |-- auditweights_friendCommentFeeds: double (nullable = true)\n",
      " |-- auditweights_friendCommenters: double (nullable = true)\n",
      " |-- auditweights_friendLikes: double (nullable = true)\n",
      " |-- auditweights_friendLikes_actors: double (nullable = true)\n",
      " |-- auditweights_hasDetectedText: double (nullable = true)\n",
      " |-- auditweights_hasText: double (nullable = true)\n",
      " |-- auditweights_isPymk: double (nullable = true)\n",
      " |-- auditweights_isRandom: double (nullable = true)\n",
      " |-- auditweights_likersFeedStats_hyper: double (nullable = true)\n",
      " |-- auditweights_likersSvd_prelaunch_hyper: double (nullable = true)\n",
      " |-- auditweights_matrix: double (nullable = true)\n",
      " |-- auditweights_notOriginalPhoto: double (nullable = true)\n",
      " |-- auditweights_numDislikes: double (nullable = true)\n",
      " |-- auditweights_numLikes: double (nullable = true)\n",
      " |-- auditweights_numShows: double (nullable = true)\n",
      " |-- auditweights_onlineVideo: double (nullable = true)\n",
      " |-- auditweights_partAge: double (nullable = true)\n",
      " |-- auditweights_partCtr: double (nullable = true)\n",
      " |-- auditweights_partSvd: double (nullable = true)\n",
      " |-- auditweights_processedVideo: double (nullable = true)\n",
      " |-- auditweights_relationMasks: double (nullable = true)\n",
      " |-- auditweights_source_LIVE_TOP: double (nullable = true)\n",
      " |-- auditweights_source_MOVIE_TOP: double (nullable = true)\n",
      " |-- auditweights_svd_prelaunch: double (nullable = true)\n",
      " |-- auditweights_svd_spark: double (nullable = true)\n",
      " |-- auditweights_userAge: double (nullable = true)\n",
      " |-- auditweights_userOwner_CREATE_COMMENT: double (nullable = true)\n",
      " |-- auditweights_userOwner_CREATE_IMAGE: double (nullable = true)\n",
      " |-- auditweights_userOwner_CREATE_LIKE: double (nullable = true)\n",
      " |-- auditweights_userOwner_IMAGE: double (nullable = true)\n",
      " |-- auditweights_userOwner_MOVIE_COMMENT_CREATE: double (nullable = true)\n",
      " |-- auditweights_userOwner_PHOTO_COMMENT_CREATE: double (nullable = true)\n",
      " |-- auditweights_userOwner_PHOTO_MARK_CREATE: double (nullable = true)\n",
      " |-- auditweights_userOwner_PHOTO_VIEW: double (nullable = true)\n",
      " |-- auditweights_userOwner_TEXT: double (nullable = true)\n",
      " |-- auditweights_userOwner_UNKNOWN: double (nullable = true)\n",
      " |-- auditweights_userOwner_USER_DELETE_MESSAGE: double (nullable = true)\n",
      " |-- auditweights_userOwner_USER_FEED_REMOVE: double (nullable = true)\n",
      " |-- auditweights_userOwner_USER_FORUM_MESSAGE_CREATE: double (nullable = true)\n"
     ]
    },
    {
     "name": "stdout",
     "output_type": "stream",
     "text": [
      " |-- auditweights_userOwner_USER_INTERNAL_LIKE: double (nullable = true)\n",
      " |-- auditweights_userOwner_USER_INTERNAL_UNLIKE: double (nullable = true)\n",
      " |-- auditweights_userOwner_USER_PRESENT_SEND: double (nullable = true)\n",
      " |-- auditweights_userOwner_USER_PROFILE_VIEW: double (nullable = true)\n",
      " |-- auditweights_userOwner_USER_SEND_MESSAGE: double (nullable = true)\n",
      " |-- auditweights_userOwner_USER_STATUS_COMMENT_CREATE: double (nullable = true)\n",
      " |-- auditweights_userOwner_VIDEO: double (nullable = true)\n",
      " |-- auditweights_userOwner_VOTE_POLL: double (nullable = true)\n",
      " |-- auditweights_x_ActorsRelations: long (nullable = true)\n",
      " |-- auditweights_likersSvd_spark_hyper: double (nullable = true)\n",
      " |-- auditweights_source_PROMO: double (nullable = true)\n",
      " |-- date: date (nullable = true)\n",
      "\n"
     ]
    }
   ],
   "source": [
    "dfRaw.printSchema"
   ]
  },
  {
   "cell_type": "code",
   "execution_count": 9,
   "metadata": {},
   "outputs": [
    {
     "data": {
      "text/html": [
       "<div>\n",
       "  <span style=\"float: left;\">load at cmd8.sc:1</span>\n",
       "</div>\n"
      ]
     },
     "metadata": {},
     "output_type": "display_data"
    },
    {
     "data": {
      "text/html": [
       "<div class=\"progress\">\n",
       "  <div class=\"progress-bar\" role=\"progressbar\" style=\"background-color: blue; width: 100%; word-wrap: normal; white-space: nowrap; text-align: center; color: white\" aria-valuenow=\"100\" aria-valuemin=\"0\" aria-valuemax=\"100\">\n",
       "    1 / 1\n",
       "  </div>\n",
       "  <div class=\"progress-bar\" role=\"progressbar\" style=\"background-color: red; width: 0%\" aria-valuenow=\"0\" aria-valuemin=\"0\" aria-valuemax=\"100\"></div>\n",
       "</div>\n"
      ]
     },
     "metadata": {},
     "output_type": "display_data"
    },
    {
     "data": {
      "text/html": [
       "<div>\n",
       "  <span style=\"float: left;\">take at cmd2.sc:6</span>\n",
       "</div>\n"
      ]
     },
     "metadata": {},
     "output_type": "display_data"
    },
    {
     "data": {
      "text/html": [
       "<div class=\"progress\">\n",
       "  <div class=\"progress-bar\" role=\"progressbar\" style=\"background-color: blue; width: 100%; word-wrap: normal; white-space: nowrap; text-align: center; color: white\" aria-valuenow=\"100\" aria-valuemin=\"0\" aria-valuemax=\"100\">\n",
       "    1 / 1\n",
       "  </div>\n",
       "  <div class=\"progress-bar\" role=\"progressbar\" style=\"background-color: red; width: 0%\" aria-valuenow=\"0\" aria-valuemin=\"0\" aria-valuemax=\"100\"></div>\n",
       "</div>\n"
      ]
     },
     "metadata": {},
     "output_type": "display_data"
    },
    {
     "data": {
      "text/html": [
       "<div>\n",
       "  <span style=\"float: left;\">take at cmd2.sc:6</span>\n",
       "</div>\n"
      ]
     },
     "metadata": {},
     "output_type": "display_data"
    },
    {
     "data": {
      "text/html": [
       "<div class=\"progress\">\n",
       "  <div class=\"progress-bar\" role=\"progressbar\" style=\"background-color: blue; width: 100%; word-wrap: normal; white-space: nowrap; text-align: center; color: white\" aria-valuenow=\"100\" aria-valuemin=\"0\" aria-valuemax=\"100\">\n",
       "    4 / 4\n",
       "  </div>\n",
       "  <div class=\"progress-bar\" role=\"progressbar\" style=\"background-color: red; width: 0%\" aria-valuenow=\"0\" aria-valuemin=\"0\" aria-valuemax=\"100\"></div>\n",
       "</div>\n"
      ]
     },
     "metadata": {},
     "output_type": "display_data"
    },
    {
     "data": {
      "text/html": [
       "<div>\n",
       "  <span style=\"float: left;\">take at cmd2.sc:6</span>\n",
       "</div>\n"
      ]
     },
     "metadata": {},
     "output_type": "display_data"
    },
    {
     "data": {
      "text/html": [
       "<div class=\"progress\">\n",
       "  <div class=\"progress-bar\" role=\"progressbar\" style=\"background-color: blue; width: 100%; word-wrap: normal; white-space: nowrap; text-align: center; color: white\" aria-valuenow=\"100\" aria-valuemin=\"0\" aria-valuemax=\"100\">\n",
       "    3 / 3\n",
       "  </div>\n",
       "  <div class=\"progress-bar\" role=\"progressbar\" style=\"background-color: red; width: 0%\" aria-valuenow=\"0\" aria-valuemin=\"0\" aria-valuemax=\"100\"></div>\n",
       "</div>\n"
      ]
     },
     "metadata": {},
     "output_type": "display_data"
    },
    {
     "data": {
      "text/html": [
       " <table>\n",
       "                <tr>\n",
       "                 <th>summary</th><th>instanceId_userId</th><th>instanceId_objectType</th><th>instanceId_objectId</th><th>audit_pos</th><th>audit_clientType</th><th>audit_timestamp</th><th>audit_timePassed</th><th>audit_experiment</th><th>audit_resourceType</th><th>metadata_ownerId</th><th>metadata_ownerType</th><th>metadata_createdAt</th><th>metadata_authorId</th><th>metadata_applicationId</th><th>metadata_numCompanions</th><th>metadata_numPhotos</th><th>metadata_numPolls</th><th>metadata_numSymbols</th><th>metadata_numTokens</th><th>metadata_numVideos</th><th>metadata_platform</th><th>metadata_totalVideoLength</th><th>relationsMask</th><th>userOwnerCounters_USER_FEED_REMOVE</th><th>userOwnerCounters_USER_PROFILE_VIEW</th><th>userOwnerCounters_VOTE_POLL</th><th>userOwnerCounters_USER_SEND_MESSAGE</th><th>userOwnerCounters_USER_DELETE_MESSAGE</th><th>userOwnerCounters_USER_INTERNAL_LIKE</th><th>userOwnerCounters_USER_INTERNAL_UNLIKE</th><th>userOwnerCounters_USER_STATUS_COMMENT_CREATE</th><th>userOwnerCounters_PHOTO_COMMENT_CREATE</th><th>userOwnerCounters_MOVIE_COMMENT_CREATE</th><th>userOwnerCounters_USER_PHOTO_ALBUM_COMMENT_CREATE</th><th>userOwnerCounters_COMMENT_INTERNAL_LIKE</th><th>userOwnerCounters_USER_FORUM_MESSAGE_CREATE</th><th>userOwnerCounters_PHOTO_MARK_CREATE</th><th>userOwnerCounters_PHOTO_VIEW</th><th>userOwnerCounters_PHOTO_PIN_BATCH_CREATE</th><th>userOwnerCounters_PHOTO_PIN_UPDATE</th><th>userOwnerCounters_USER_PRESENT_SEND</th><th>userOwnerCounters_UNKNOWN</th><th>userOwnerCounters_CREATE_TOPIC</th><th>userOwnerCounters_CREATE_IMAGE</th><th>userOwnerCounters_CREATE_MOVIE</th><th>userOwnerCounters_CREATE_COMMENT</th><th>userOwnerCounters_CREATE_LIKE</th><th>userOwnerCounters_TEXT</th><th>userOwnerCounters_IMAGE</th><th>userOwnerCounters_VIDEO</th><th>ownerUserCounters_USER_FEED_REMOVE</th><th>ownerUserCounters_USER_PROFILE_VIEW</th><th>ownerUserCounters_VOTE_POLL</th><th>ownerUserCounters_USER_SEND_MESSAGE</th><th>ownerUserCounters_USER_DELETE_MESSAGE</th><th>ownerUserCounters_USER_INTERNAL_LIKE</th><th>ownerUserCounters_USER_INTERNAL_UNLIKE</th><th>ownerUserCounters_USER_STATUS_COMMENT_CREATE</th><th>ownerUserCounters_PHOTO_COMMENT_CREATE</th><th>ownerUserCounters_MOVIE_COMMENT_CREATE</th><th>ownerUserCounters_USER_PHOTO_ALBUM_COMMENT_CREATE</th><th>ownerUserCounters_COMMENT_INTERNAL_LIKE</th><th>ownerUserCounters_USER_FORUM_MESSAGE_CREATE</th><th>ownerUserCounters_PHOTO_MARK_CREATE</th><th>ownerUserCounters_PHOTO_VIEW</th><th>ownerUserCounters_PHOTO_PIN_BATCH_CREATE</th><th>ownerUserCounters_PHOTO_PIN_UPDATE</th><th>ownerUserCounters_USER_PRESENT_SEND</th><th>ownerUserCounters_UNKNOWN</th><th>ownerUserCounters_CREATE_TOPIC</th><th>ownerUserCounters_CREATE_IMAGE</th><th>ownerUserCounters_CREATE_MOVIE</th><th>ownerUserCounters_CREATE_COMMENT</th><th>ownerUserCounters_CREATE_LIKE</th><th>ownerUserCounters_TEXT</th><th>ownerUserCounters_IMAGE</th><th>ownerUserCounters_VIDEO</th><th>membership_status</th><th>membership_statusUpdateDate</th><th>membership_joinDate</th><th>membership_joinRequestDate</th><th>owner_create_date</th><th>owner_birth_date</th><th>owner_gender</th><th>owner_status</th><th>owner_ID_country</th><th>owner_ID_Location</th><th>owner_is_active</th><th>owner_is_deleted</th><th>owner_is_abused</th><th>owner_is_activated</th><th>owner_change_datime</th><th>owner_is_semiactivated</th><th>owner_region</th><th>user_create_date</th><th>user_birth_date</th><th>user_gender</th><th>user_status</th><th>user_ID_country</th><th>user_ID_Location</th><th>user_is_active</th><th>user_is_deleted</th><th>user_is_abused</th><th>user_is_activated</th><th>user_change_datime</th><th>user_is_semiactivated</th><th>user_region</th><th>objectId</th><th>auditweights_ageMs</th><th>auditweights_closed</th><th>auditweights_ctr_gender</th><th>auditweights_ctr_high</th><th>auditweights_ctr_negative</th><th>auditweights_dailyRecency</th><th>auditweights_feedOwner_RECOMMENDED_GROUP</th><th>auditweights_feedStats</th><th>auditweights_friendCommentFeeds</th><th>auditweights_friendCommenters</th><th>auditweights_friendLikes</th><th>auditweights_friendLikes_actors</th><th>auditweights_hasDetectedText</th><th>auditweights_hasText</th><th>auditweights_isPymk</th><th>auditweights_isRandom</th><th>auditweights_likersFeedStats_hyper</th><th>auditweights_likersSvd_prelaunch_hyper</th><th>auditweights_matrix</th><th>auditweights_notOriginalPhoto</th><th>auditweights_numDislikes</th><th>auditweights_numLikes</th><th>auditweights_numShows</th><th>auditweights_onlineVideo</th><th>auditweights_partAge</th><th>auditweights_partCtr</th><th>auditweights_partSvd</th><th>auditweights_processedVideo</th><th>auditweights_relationMasks</th><th>auditweights_source_LIVE_TOP</th><th>auditweights_source_MOVIE_TOP</th><th>auditweights_svd_prelaunch</th><th>auditweights_svd_spark</th><th>auditweights_userAge</th><th>auditweights_userOwner_CREATE_COMMENT</th><th>auditweights_userOwner_CREATE_IMAGE</th><th>auditweights_userOwner_CREATE_LIKE</th><th>auditweights_userOwner_IMAGE</th><th>auditweights_userOwner_MOVIE_COMMENT_CREATE</th><th>auditweights_userOwner_PHOTO_COMMENT_CREATE</th><th>auditweights_userOwner_PHOTO_MARK_CREATE</th><th>auditweights_userOwner_PHOTO_VIEW</th><th>auditweights_userOwner_TEXT</th><th>auditweights_userOwner_UNKNOWN</th><th>auditweights_userOwner_USER_DELETE_MESSAGE</th><th>auditweights_userOwner_USER_FEED_REMOVE</th><th>auditweights_userOwner_USER_FORUM_MESSAGE_CREATE</th><th>auditweights_userOwner_USER_INTERNAL_LIKE</th><th>auditweights_userOwner_USER_INTERNAL_UNLIKE</th><th>auditweights_userOwner_USER_PRESENT_SEND</th><th>auditweights_userOwner_USER_PROFILE_VIEW</th><th>auditweights_userOwner_USER_SEND_MESSAGE</th><th>auditweights_userOwner_USER_STATUS_COMMENT_CREATE</th><th>auditweights_userOwner_VIDEO</th><th>auditweights_userOwner_VOTE_POLL</th><th>auditweights_x_ActorsRelations</th><th>auditweights_likersSvd_spark_hyper</th><th>auditweights_source_PROMO</th>\n",
       "                </tr>\n",
       "                <tr><td>stddev</td><td>4429561.454815443</td><td>null</td><td>1.0238576159238622E7</td><td>16.76051641364607</td><td>null</td><td>1.2248926921205106E9</td><td>3.763325552943401E11</td><td>null</td><td>1.7756541332487872</td><td>24384.539663930365</td><td>null</td><td>1.091085091459979...</td><td>281445.4317685108</td><td>0.0</td><td>0.33247973978938977</td><td>2.408910812248832</td><td>0.26299441675427476</td><td>1792.9343713337323</td><td>256.5980347158671</td><td>1.0430811026852478</td><td>null</td><td>544387.3666067153</td><td>null</td><td>394.6960358362494</td><td>0.0</td><td>0.0</td><td>0.0</td><td>0.0</td><td>0.0</td><td>0.0</td><td>0.0</td><td>0.0</td><td>0.0</td><td>0.0</td><td>0.0</td><td>0.0</td><td>0.0</td><td>0.0</td><td>0.0</td><td>0.0</td><td>0.0</td><td>80.20145285724682</td><td>15.410954596491795</td><td>92.71782368460386</td><td>1.900490666346254</td><td>36.042610957171476</td><td>87.88867184814679</td><td>105.57957814159568</td><td>248.03782024514115</td><td>10.608105659209016</td><td>null</td><td>null</td><td>null</td><td>null</td><td>null</td><td>null</td><td>null</td><td>null</td><td>null</td><td>null</td><td>null</td><td>null</td><td>null</td><td>null</td><td>null</td><td>null</td><td>null</td><td>null</td><td>null</td><td>null</td><td>null</td><td>null</td><td>null</td><td>null</td><td>null</td><td>null</td><td>null</td><td>null</td><td>4.992929926332667E10</td><td>5.000257016354395E10</td><td>2.974898649472825...</td><td>null</td><td>null</td><td>null</td><td>null</td><td>null</td><td>null</td><td>null</td><td>null</td><td>null</td><td>null</td><td>null</td><td>null</td><td>null</td><td>8.407820086456146E10</td><td>5576.109920769263</td><td>0.44666237316676066</td><td>14.188947008247444</td><td>3.82219847421667E10</td><td>5858444.398732758</td><td>0.01346942171238747</td><td>0.00806356280821323</td><td>0.010789783050431125</td><td>0.001383514683710...</td><td>3.239860599871537...</td><td>0.028039074408984066</td><td>47.0137086699214</td><td>1.0238576159238622E7</td><td>1.2339769634778532E8</td><td>null</td><td>1.0051033734581467</td><td>0.06484513215707284</td><td>0.09629185337179803</td><td>0.1262664920256742</td><td>0.1856640359429508</td><td>2.793997976732568</td><td>0.3981411766941128</td><td>0.3177450251702897</td><td>0.05940677787396949</td><td>0.10997573606733825</td><td>0.0</td><td>0.0</td><td>null</td><td>0.0</td><td>35.72234771771185</td><td>0.19135224392286648</td><td>0.23776434261743357</td><td>0.0</td><td>2319.3930234168515</td><td>18485.92430899624</td><td>1.6503352159742413E9</td><td>0.0</td><td>null</td><td>null</td><td>null</td><td>1.477769867060908...</td><td>null</td><td>null</td><td>0.0</td><td>0.21981359143415893</td><td>0.21188684286930895</td><td>15.265532930459623</td><td>0.1374202561833258</td><td>0.13025577153340148</td><td>0.11255914720752581</td><td>0.12242627878620285</td><td>null</td><td>null</td><td>null</td><td>null</td><td>0.1216780557055557</td><td>0.12897961383839715</td><td>null</td><td>0.13434051838951008</td><td>null</td><td>null</td><td>null</td><td>null</td><td>null</td><td>null</td><td>null</td><td>0.12997943052566674</td><td>null</td><td>120548.13492704096</td><td>0.1720396764300658</td><td>null</td></tr><tr><td>mean</td><td>8242530.12244622</td><td>null</td><td>2.1692827480679076E7</td><td>11.39937626373446</td><td>null</td><td>1.519603895525905E12</td><td>9.976292366778741E10</td><td>null</td><td>7.6897380181909405</td><td>38448.96202038928</td><td>null</td><td>1.519231412057201...</td><td>639591.1847709044</td><td>0.0</td><td>0.008158990953746122</td><td>1.6545932193426052</td><td>0.0715413356519742</td><td>501.5637358554021</td><td>72.24032285980289</td><td>0.3151093083313852</td><td>null</td><td>34198.29729306882</td><td>null</td><td>65.82232964804767</td><td>0.0</td><td>0.0</td><td>0.0</td><td>0.0</td><td>0.0</td><td>0.0</td><td>0.0</td><td>0.0</td><td>0.0</td><td>0.0</td><td>0.0</td><td>0.0</td><td>0.0</td><td>0.0</td><td>0.0</td><td>0.0</td><td>0.0</td><td>2.754733797836018</td><td>0.19112932031737698</td><td>0.5665844417578535</td><td>0.010568465963632123</td><td>0.8872920901746114</td><td>16.356657644127626</td><td>10.314975568630494</td><td>12.378116961125453</td><td>0.662582041136408</td><td>null</td><td>null</td><td>null</td><td>null</td><td>null</td><td>null</td><td>null</td><td>null</td><td>null</td><td>null</td><td>null</td><td>null</td><td>null</td><td>null</td><td>null</td><td>null</td><td>null</td><td>null</td><td>null</td><td>null</td><td>null</td><td>null</td><td>null</td><td>null</td><td>null</td><td>null</td><td>null</td><td>null</td><td>1.463167564020670...</td><td>1.462739578284581E12</td><td>1.449622925052180...</td><td>null</td><td>null</td><td>null</td><td>null</td><td>null</td><td>null</td><td>null</td><td>null</td><td>null</td><td>null</td><td>null</td><td>null</td><td>null</td><td>1.361103375326312...</td><td>474.05566529080414</td><td>1.724710023664495</td><td>131.26490512900625</td><td>1.053867801058552...</td><td>4973278.36403011</td><td>0.9998185417615636</td><td>6.502526989178516E-5</td><td>1.164329685446682...</td><td>0.9999980858835608</td><td>1.463557499230684...</td><td>7.868087151043524E-4</td><td>36.95382377576007</td><td>2.1692827480679076E7</td><td>6.274035240162313E7</td><td>1.0</td><td>0.025731506073976486</td><td>0.0966603937075889</td><td>0.005258234964697286</td><td>0.9363677212837633</td><td>0.715786626240615</td><td>1.3514892379178411</td><td>1.030246602043125</td><td>1.0180296200901482</td><td>1.0019607691365195</td><td>1.0100479506790858</td><td>1.0</td><td>1.0</td><td>null</td><td>1.0</td><td>24.804733758798346</td><td>0.7888141536248979</td><td>0.0195769967672762</td><td>1.0</td><td>330.61912680761685</td><td>2763.396580949314</td><td>1718413.9565509704</td><td>1.0</td><td>null</td><td>null</td><td>null</td><td>1.0</td><td>null</td><td>null</td><td>1.0</td><td>0.6543478146695028</td><td>0.7039044602848005</td><td>46.35235118913185</td><td>0.8363950915713697</td><td>0.892991438477282</td><td>0.9252811829966586</td><td>0.9056174369878043</td><td>null</td><td>null</td><td>null</td><td>null</td><td>0.9048241993662339</td><td>0.8898578687620811</td><td>null</td><td>0.892244107233411</td><td>null</td><td>null</td><td>null</td><td>null</td><td>null</td><td>null</td><td>null</td><td>0.8824383928426451</td><td>null</td><td>20001.170045620827</td><td>0.8225318772939787</td><td>null</td></tr><tr><td>count</td><td>18286575</td><td>18286575</td><td>18286575</td><td>18286575</td><td>18286575</td><td>18286575</td><td>18286575</td><td>18286575</td><td>18286575</td><td>18286575</td><td>18286575</td><td>18286575</td><td>18286575</td><td>18286575</td><td>18286575</td><td>18286575</td><td>18286575</td><td>18286575</td><td>18286575</td><td>18286575</td><td>18286575</td><td>18286575</td><td>0</td><td>10977801</td><td>10977801</td><td>10977801</td><td>10977801</td><td>10977801</td><td>10977801</td><td>10977801</td><td>10977801</td><td>10977801</td><td>10977801</td><td>10977801</td><td>10977801</td><td>10977801</td><td>10977801</td><td>10977801</td><td>10977801</td><td>10977801</td><td>10977801</td><td>10977801</td><td>10977801</td><td>10977801</td><td>10977801</td><td>10977801</td><td>10977801</td><td>10977801</td><td>10977801</td><td>10977801</td><td>0</td><td>0</td><td>0</td><td>0</td><td>0</td><td>0</td><td>0</td><td>0</td><td>0</td><td>0</td><td>0</td><td>0</td><td>0</td><td>0</td><td>0</td><td>0</td><td>0</td><td>0</td><td>0</td><td>0</td><td>0</td><td>0</td><td>0</td><td>0</td><td>0</td><td>0</td><td>0</td><td>11835222</td><td>11835222</td><td>11835222</td><td>283656</td><td>0</td><td>0</td><td>0</td><td>0</td><td>0</td><td>0</td><td>0</td><td>0</td><td>0</td><td>0</td><td>0</td><td>0</td><td>0</td><td>18285199</td><td>18270236</td><td>18285199</td><td>18285199</td><td>18285199</td><td>18285199</td><td>18285199</td><td>18285199</td><td>18285199</td><td>18285199</td><td>17495763</td><td>16884663</td><td>18241747</td><td>18286575</td><td>18286534</td><td>1</td><td>18162244</td><td>18286534</td><td>16621462</td><td>18286523</td><td>225401</td><td>18286534</td><td>114922</td><td>114922</td><td>5296901</td><td>5296901</td><td>90</td><td>181343</td><td>0</td><td>17438243</td><td>5296901</td><td>2618325</td><td>17840486</td><td>846540</td><td>16400876</td><td>16709141</td><td>17906706</td><td>25432</td><td>0</td><td>0</td><td>0</td><td>787734</td><td>0</td><td>0</td><td>398</td><td>8814296</td><td>9472238</td><td>18286534</td><td>594413</td><td>13535</td><td>6565135</td><td>3384886</td><td>0</td><td>0</td><td>0</td><td>0</td><td>5633575</td><td>155550</td><td>0</td><td>424381</td><td>0</td><td>0</td><td>0</td><td>0</td><td>0</td><td>0</td><td>0</td><td>64447</td><td>0</td><td>1566609</td><td>2678576</td><td>0</td></tr><tr><td>max</td><td>15716685</td><td>Video</td><td>39082242</td><td>489</td><td>WEB</td><td>1521665999283</td><td>1521665993754</td><td>XPRM-explore.tuning</td><td>14</td><td>85878</td><td>GROUP_OPEN_OFFICIAL</td><td>1552816500000</td><td>1126294</td><td>0</td><td>181</td><td>326</td><td>10</td><td>63482</td><td>9448</td><td>42</td><td>WINPHONE</td><td>96345152</td><td>null</td><td>18927.46484375</td><td>0.0</td><td>0.0</td><td>0.0</td><td>0.0</td><td>0.0</td><td>0.0</td><td>0.0</td><td>0.0</td><td>0.0</td><td>0.0</td><td>0.0</td><td>0.0</td><td>0.0</td><td>0.0</td><td>0.0</td><td>0.0</td><td>0.0</td><td>28568.55078125</td><td>6461.6787109375</td><td>92324.375</td><td>1257.0328369140625</td><td>17837.63671875</td><td>25396.125</td><td>36049.0859375</td><td>596893.875</td><td>4500.2451171875</td><td>null</td><td>null</td><td>null</td><td>null</td><td>null</td><td>null</td><td>null</td><td>null</td><td>null</td><td>null</td><td>null</td><td>null</td><td>null</td><td>null</td><td>null</td><td>null</td><td>null</td><td>null</td><td>null</td><td>null</td><td>null</td><td>null</td><td>null</td><td>null</td><td>null</td><td>null</td><td>null</td><td>Y</td><td>1521679868513</td><td>1521678060000</td><td>1521568803637</td><td>null</td><td>null</td><td>null</td><td>null</td><td>null</td><td>null</td><td>null</td><td>null</td><td>null</td><td>null</td><td>null</td><td>null</td><td>null</td><td>1521606306583</td><td>22041</td><td>2</td><td>192</td><td>12850988277547</td><td>44864990</td><td>1</td><td>1</td><td>1</td><td>1</td><td>1521606739793</td><td>1</td><td>255</td><td>39082242</td><td>1.35385252E11</td><td>1.0</td><td>1328.21</td><td>1.0</td><td>16.66</td><td>0.98201376</td><td>1.0</td><td>12.7</td><td>72.0</td><td>36.0</td><td>43.0</td><td>43.0</td><td>1.0</td><td>1.0</td><td>null</td><td>1.0</td><td>243.2262</td><td>3.279002</td><td>0.864</td><td>1.0</td><td>1800939.0</td><td>7911208.0</td><td>3.24208112E12</td><td>1.0</td><td>null</td><td>null</td><td>null</td><td>1.0</td><td>null</td><td>null</td><td>1.0</td><td>0.9999788</td><td>0.9999774</td><td>118.0</td><td>1.0</td><td>1.0</td><td>1.0</td><td>1.0</td><td>null</td><td>null</td><td>null</td><td>null</td><td>1.0</td><td>1.0</td><td>null</td><td>1.0</td><td>null</td><td>null</td><td>null</td><td>null</td><td>null</td><td>null</td><td>null</td><td>1.0</td><td>null</td><td>1835008</td><td>4.139599</td><td>null</td></tr><tr><td>75%</td><td>12036357</td><td>null</td><td>30168010</td><td>14</td><td>null</td><td>1520666195534</td><td>27460790</td><td>null</td><td>8</td><td>60963</td><td>null</td><td>1520542114000</td><td>865609</td><td>0</td><td>0</td><td>1</td><td>0</td><td>192</td><td>27</td><td>0</td><td>null</td><td>0</td><td>null</td><td>0.0</td><td>0.0</td><td>0.0</td><td>0.0</td><td>0.0</td><td>0.0</td><td>0.0</td><td>0.0</td><td>0.0</td><td>0.0</td><td>0.0</td><td>0.0</td><td>0.0</td><td>0.0</td><td>0.0</td><td>0.0</td><td>0.0</td><td>0.0</td><td>0.0</td><td>0.0</td><td>0.0</td><td>0.0</td><td>0.0</td><td>8.697647094726562</td><td>4.547279357910156</td><td>2.031230926513672</td><td>0.0</td><td>null</td><td>null</td><td>null</td><td>null</td><td>null</td><td>null</td><td>null</td><td>null</td><td>null</td><td>null</td><td>null</td><td>null</td><td>null</td><td>null</td><td>null</td><td>null</td><td>null</td><td>null</td><td>null</td><td>null</td><td>null</td><td>null</td><td>null</td><td>null</td><td>null</td><td>null</td><td>null</td><td>null</td><td>1506071193147</td><td>1505631900000</td><td>1471614394313</td><td>null</td><td>null</td><td>null</td><td>null</td><td>null</td><td>null</td><td>null</td><td>null</td><td>null</td><td>null</td><td>null</td><td>null</td><td>null</td><td>1424793332640</td><td>4427</td><td>2</td><td>128</td><td>10414533690</td><td>4641326</td><td>1</td><td>0</td><td>0</td><td>1</td><td>1491172259030</td><td>0</td><td>52</td><td>30168010</td><td>7.8233136E7</td><td>1.0</td><td>0.017964073</td><td>0.11807001</td><td>0.0043292204</td><td>0.98066896</td><td>0.865</td><td>1.1</td><td>1.0</td><td>1.0</td><td>1.0</td><td>1.0</td><td>1.0</td><td>1.0</td><td>null</td><td>1.0</td><td>33.0</td><td>0.9236417</td><td>0.026767354</td><td>1.0</td><td>206.0</td><td>1390.0</td><td>62511.0</td><td>1.0</td><td>null</td><td>null</td><td>null</td><td>1.0</td><td>null</td><td>null</td><td>1.0</td><td>0.8242596</td><td>0.8619669</td><td>57.0</td><td>0.99183744</td><td>0.9999999</td><td>1.0</td><td>0.9999986</td><td>null</td><td>null</td><td>null</td><td>null</td><td>0.99998635</td><td>0.99998987</td><td>null</td><td>1.0</td><td>null</td><td>null</td><td>null</td><td>null</td><td>null</td><td>null</td><td>null</td><td>0.99981594</td><td>null</td><td>1024</td><td>0.9339265</td><td>null</td></tr><tr><td>50%</td><td>8413230</td><td>null</td><td>22131313</td><td>5</td><td>null</td><td>1519650623218</td><td>3364565</td><td>null</td><td>8</td><td>34217</td><td>null</td><td>1519518002000</td><td>672240</td><td>0</td><td>0</td><td>1</td><td>0</td><td>42</td><td>6</td><td>0</td><td>null</td><td>0</td><td>null</td><td>0.0</td><td>0.0</td><td>0.0</td><td>0.0</td><td>0.0</td><td>0.0</td><td>0.0</td><td>0.0</td><td>0.0</td><td>0.0</td><td>0.0</td><td>0.0</td><td>0.0</td><td>0.0</td><td>0.0</td><td>0.0</td><td>0.0</td><td>0.0</td><td>0.0</td><td>0.0</td><td>0.0</td><td>0.0</td><td>0.0</td><td>1.9973405599594116</td><td>1.0</td><td>0.0</td><td>0.0</td><td>null</td><td>null</td><td>null</td><td>null</td><td>null</td><td>null</td><td>null</td><td>null</td><td>null</td><td>null</td><td>null</td><td>null</td><td>null</td><td>null</td><td>null</td><td>null</td><td>null</td><td>null</td><td>null</td><td>null</td><td>null</td><td>null</td><td>null</td><td>null</td><td>null</td><td>null</td><td>null</td><td>null</td><td>1478349240613</td><td>1477822860000</td><td>1437581807897</td><td>null</td><td>null</td><td>null</td><td>null</td><td>null</td><td>null</td><td>null</td><td>null</td><td>null</td><td>null</td><td>null</td><td>null</td><td>null</td><td>1356105054487</td><td>792</td><td>2</td><td>128</td><td>10414533690</td><td>3353489</td><td>1</td><td>0</td><td>0</td><td>1</td><td>1448623087867</td><td>0</td><td>22</td><td>22131313</td><td>2.6024458E7</td><td>1.0</td><td>0.011396624</td><td>0.08654746</td><td>0.002914036</td><td>0.9758431</td><td>0.72833335</td><td>0.1</td><td>1.0</td><td>1.0</td><td>1.0</td><td>1.0</td><td>1.0</td><td>1.0</td><td>null</td><td>1.0</td><td>8.0</td><td>0.8394465</td><td>0.011834458</td><td>1.0</td><td>46.0</td><td>224.0</td><td>11271.0</td><td>1.0</td><td>null</td><td>null</td><td>null</td><td>1.0</td><td>null</td><td>null</td><td>1.0</td><td>0.7033938</td><td>0.76119924</td><td>46.0</td><td>0.84553474</td><td>0.975873</td><td>0.9963158</td><td>0.98201376</td><td>null</td><td>null</td><td>null</td><td>null</td><td>0.9781187</td><td>0.96083426</td><td>null</td><td>0.9866131</td><td>null</td><td>null</td><td>null</td><td>null</td><td>null</td><td>null</td><td>null</td><td>0.9426758</td><td>null</td><td>512</td><td>0.8687888</td><td>null</td></tr><tr><td>min</td><td>3</td><td>Photo</td><td>4</td><td>0</td><td>API</td><td>1517432400333</td><td>10045</td><td>XPRM-5386_G0</td><td>3</td><td>1</td><td>GROUP_OPEN</td><td>-1511828489000</td><td>1</td><td>0</td><td>0</td><td>0</td><td>0</td><td>0</td><td>0</td><td>0</td><td>ANDROID</td><td>0</td><td>null</td><td>0.0</td><td>0.0</td><td>0.0</td><td>0.0</td><td>0.0</td><td>0.0</td><td>0.0</td><td>0.0</td><td>0.0</td><td>0.0</td><td>0.0</td><td>0.0</td><td>0.0</td><td>0.0</td><td>0.0</td><td>0.0</td><td>0.0</td><td>0.0</td><td>0.0</td><td>0.0</td><td>0.0</td><td>0.0</td><td>0.0</td><td>0.0</td><td>0.0</td><td>0.0</td><td>0.0</td><td>null</td><td>null</td><td>null</td><td>null</td><td>null</td><td>null</td><td>null</td><td>null</td><td>null</td><td>null</td><td>null</td><td>null</td><td>null</td><td>null</td><td>null</td><td>null</td><td>null</td><td>null</td><td>null</td><td>null</td><td>null</td><td>null</td><td>null</td><td>null</td><td>null</td><td>null</td><td>null</td><td>!</td><td>1209144447907</td><td>1209040500000</td><td>1229462080160</td><td>null</td><td>null</td><td>null</td><td>null</td><td>null</td><td>null</td><td>null</td><td>null</td><td>null</td><td>null</td><td>null</td><td>null</td><td>null</td><td>1141743656227</td><td>-25567</td><td>0</td><td>16</td><td>10392716690</td><td>10</td><td>0</td><td>0</td><td>0</td><td>0</td><td>1347527405390</td><td>0</td><td>0</td><td>4</td><td>116.0</td><td>1.0</td><td>-0.032786883</td><td>-0.24107234</td><td>9.349231E-8</td><td>0.0</td><td>0.103</td><td>0.1</td><td>1.0</td><td>1.0</td><td>1.0</td><td>1.0</td><td>1.0</td><td>1.0</td><td>null</td><td>1.0</td><td>1.0</td><td>7.237366E-4</td><td>-1000.0</td><td>1.0</td><td>1.0</td><td>-1972.0</td><td>1.0</td><td>1.0</td><td>null</td><td>null</td><td>null</td><td>1.0</td><td>null</td><td>null</td><td>1.0</td><td>7.5737626E-4</td><td>5.7401732E-5</td><td>-12.0</td><td>0.62245935</td><td>0.62245935</td><td>0.62245935</td><td>0.62245935</td><td>null</td><td>null</td><td>null</td><td>null</td><td>0.62245935</td><td>0.62245935</td><td>null</td><td>0.62245935</td><td>null</td><td>null</td><td>null</td><td>null</td><td>null</td><td>null</td><td>null</td><td>0.62245935</td><td>null</td><td>1</td><td>2.7159543E-4</td><td>null</td></tr><tr><td>25%</td><td>4558479</td><td>null</td><td>14138738</td><td>2</td><td>null</td><td>1518549179078</td><td>602033</td><td>null</td><td>8</td><td>18180</td><td>null</td><td>1518434290000</td><td>480450</td><td>0</td><td>0</td><td>1</td><td>0</td><td>0</td><td>0</td><td>0</td><td>null</td><td>0</td><td>null</td><td>0.0</td><td>0.0</td><td>0.0</td><td>0.0</td><td>0.0</td><td>0.0</td><td>0.0</td><td>0.0</td><td>0.0</td><td>0.0</td><td>0.0</td><td>0.0</td><td>0.0</td><td>0.0</td><td>0.0</td><td>0.0</td><td>0.0</td><td>0.0</td><td>0.0</td><td>0.0</td><td>0.0</td><td>0.0</td><td>0.0</td><td>0.0</td><td>0.0</td><td>0.0</td><td>0.0</td><td>null</td><td>null</td><td>null</td><td>null</td><td>null</td><td>null</td><td>null</td><td>null</td><td>null</td><td>null</td><td>null</td><td>null</td><td>null</td><td>null</td><td>null</td><td>null</td><td>null</td><td>null</td><td>null</td><td>null</td><td>null</td><td>null</td><td>null</td><td>null</td><td>null</td><td>null</td><td>null</td><td>null</td><td>1428678563167</td><td>1428192840000</td><td>1425081394420</td><td>null</td><td>null</td><td>null</td><td>null</td><td>null</td><td>null</td><td>null</td><td>null</td><td>null</td><td>null</td><td>null</td><td>null</td><td>null</td><td>1300373970793</td><td>-3352</td><td>1</td><td>128</td><td>10414533690</td><td>1494221</td><td>1</td><td>0</td><td>0</td><td>1</td><td>1446016254803</td><td>0</td><td>5</td><td>14138738</td><td>6346529.0</td><td>1.0</td><td>0.005306604</td><td>0.059044626</td><td>0.0020283975</td><td>0.95666146</td><td>0.595</td><td>0.1</td><td>1.0</td><td>1.0</td><td>1.0</td><td>1.0</td><td>1.0</td><td>1.0</td><td>null</td><td>1.0</td><td>1.0</td><td>0.7050649</td><td>0.004407836</td><td>1.0</td><td>10.0</td><td>30.0</td><td>1778.0</td><td>1.0</td><td>null</td><td>null</td><td>null</td><td>1.0</td><td>null</td><td>null</td><td>1.0</td><td>0.52542627</td><td>0.5995622</td><td>36.0</td><td>0.7109495</td><td>0.78583497</td><td>0.8698915</td><td>0.8175745</td><td>null</td><td>null</td><td>null</td><td>null</td><td>0.8175745</td><td>0.76852477</td><td>null</td><td>0.7502601</td><td>null</td><td>null</td><td>null</td><td>null</td><td>null</td><td>null</td><td>null</td><td>0.7502601</td><td>null</td><td>128</td><td>0.76206577</td><td>null</td></tr>\n",
       "            </table>\n",
       "        "
      ]
     },
     "metadata": {},
     "output_type": "display_data"
    },
    {
     "data": {
      "text/plain": [
       "\u001b[36mdfRawSummary\u001b[39m: \u001b[32mDataFrame\u001b[39m = [summary: string, instanceId_userId: string ... 165 more fields]"
      ]
     },
     "execution_count": 9,
     "metadata": {},
     "output_type": "execute_result"
    }
   ],
   "source": [
    "/*\n",
    "val dfRawSummary = dfRaw.summary()\n",
    "dfRawSummary.write.save(\"dfRawSummary\")\n",
    "*/\n",
    "val dfRawSummary = spark.read.load(\"dfRawSummary\")\n",
    "\n",
    "dfRawSummary.showHTML()"
   ]
  },
  {
   "cell_type": "markdown",
   "metadata": {},
   "source": [
    "---\n",
    "# Задача: Постройте топ популярных групп на портале\n",
    "*Не понятно, что имеется ввиду под популярностью, но предположим что это активность следующего пункта*\n",
    "\n",
    "ownerId -- группа в которой опубликован пост ([источник](https://habr.com/ru/post/447376/)) "
   ]
  },
  {
   "cell_type": "code",
   "execution_count": 10,
   "metadata": {},
   "outputs": [
    {
     "data": {
      "text/plain": [
       "\u001b[32mimport \u001b[39m\u001b[36morg.apache.spark.sql.functions.{col,sum,explode,hour}\u001b[39m"
      ]
     },
     "execution_count": 10,
     "metadata": {},
     "output_type": "execute_result"
    }
   ],
   "source": [
    "import org.apache.spark.sql.functions.{col,sum,explode,hour}"
   ]
  },
  {
   "cell_type": "markdown",
   "metadata": {},
   "source": [
    "### Посмотрим какие есть типы групп"
   ]
  },
  {
   "cell_type": "code",
   "execution_count": 11,
   "metadata": {},
   "outputs": [
    {
     "data": {
      "text/html": [
       "<div>\n",
       "  <span style=\"float: left;\">count at cmd10.sc:1</span>\n",
       "</div>\n"
      ]
     },
     "metadata": {},
     "output_type": "display_data"
    },
    {
     "data": {
      "text/html": [
       "<div class=\"progress\">\n",
       "  <div class=\"progress-bar\" role=\"progressbar\" style=\"background-color: blue; width: 100%; word-wrap: normal; white-space: nowrap; text-align: center; color: white\" aria-valuenow=\"100\" aria-valuemin=\"0\" aria-valuemax=\"100\">\n",
       "    28 / 28\n",
       "  </div>\n",
       "  <div class=\"progress-bar\" role=\"progressbar\" style=\"background-color: red; width: 0%\" aria-valuenow=\"0\" aria-valuemin=\"0\" aria-valuemax=\"100\"></div>\n",
       "</div>\n"
      ]
     },
     "metadata": {},
     "output_type": "display_data"
    },
    {
     "data": {
      "text/html": [
       "<div>\n",
       "  <span style=\"float: left;\">count at cmd10.sc:1</span>\n",
       "</div>\n"
      ]
     },
     "metadata": {},
     "output_type": "display_data"
    },
    {
     "data": {
      "text/html": [
       "<div class=\"progress\">\n",
       "  <div class=\"progress-bar\" role=\"progressbar\" style=\"background-color: blue; width: 100%; word-wrap: normal; white-space: nowrap; text-align: center; color: white\" aria-valuenow=\"100\" aria-valuemin=\"0\" aria-valuemax=\"100\">\n",
       "    1 / 1\n",
       "  </div>\n",
       "  <div class=\"progress-bar\" role=\"progressbar\" style=\"background-color: red; width: 0%\" aria-valuenow=\"0\" aria-valuemin=\"0\" aria-valuemax=\"100\"></div>\n",
       "</div>\n"
      ]
     },
     "metadata": {},
     "output_type": "display_data"
    },
    {
     "data": {
      "text/plain": [
       "\u001b[36mres10\u001b[39m: \u001b[32mLong\u001b[39m = \u001b[32m0L\u001b[39m"
      ]
     },
     "execution_count": 11,
     "metadata": {},
     "output_type": "execute_result"
    }
   ],
   "source": [
    "//Есть ли пропущенные?\n",
    "dfRaw.filter(dfRaw(\"metadata_ownerType\").isNull || dfRaw(\"metadata_ownerType\") === \"\" || dfRaw(\"metadata_ownerType\").isNaN).count()"
   ]
  },
  {
   "cell_type": "code",
   "execution_count": 12,
   "metadata": {
    "scrolled": false
   },
   "outputs": [
    {
     "data": {
      "text/html": [
       "<div>\n",
       "  <span style=\"float: left;\">take at cmd2.sc:6</span>\n",
       "</div>\n"
      ]
     },
     "metadata": {},
     "output_type": "display_data"
    },
    {
     "data": {
      "text/html": [
       "<div class=\"progress\">\n",
       "  <div class=\"progress-bar\" role=\"progressbar\" style=\"background-color: blue; width: 100%; word-wrap: normal; white-space: nowrap; text-align: center; color: white\" aria-valuenow=\"100\" aria-valuemin=\"0\" aria-valuemax=\"100\">\n",
       "    28 / 28\n",
       "  </div>\n",
       "  <div class=\"progress-bar\" role=\"progressbar\" style=\"background-color: red; width: 0%\" aria-valuenow=\"0\" aria-valuemin=\"0\" aria-valuemax=\"100\"></div>\n",
       "</div>\n"
      ]
     },
     "metadata": {},
     "output_type": "display_data"
    },
    {
     "data": {
      "text/html": [
       "<div>\n",
       "  <span style=\"float: left;\">take at cmd2.sc:6</span>\n",
       "</div>\n"
      ]
     },
     "metadata": {},
     "output_type": "display_data"
    },
    {
     "data": {
      "text/html": [
       "<div class=\"progress\">\n",
       "  <div class=\"progress-bar\" role=\"progressbar\" style=\"background-color: blue; width: 100%; word-wrap: normal; white-space: nowrap; text-align: center; color: white\" aria-valuenow=\"100\" aria-valuemin=\"0\" aria-valuemax=\"100\">\n",
       "    1 / 1\n",
       "  </div>\n",
       "  <div class=\"progress-bar\" role=\"progressbar\" style=\"background-color: red; width: 0%\" aria-valuenow=\"0\" aria-valuemin=\"0\" aria-valuemax=\"100\"></div>\n",
       "</div>\n"
      ]
     },
     "metadata": {},
     "output_type": "display_data"
    },
    {
     "data": {
      "text/html": [
       "<div>\n",
       "  <span style=\"float: left;\">take at cmd2.sc:6</span>\n",
       "</div>\n"
      ]
     },
     "metadata": {},
     "output_type": "display_data"
    },
    {
     "data": {
      "text/html": [
       "<div class=\"progress\">\n",
       "  <div class=\"progress-bar\" role=\"progressbar\" style=\"background-color: blue; width: 100%; word-wrap: normal; white-space: nowrap; text-align: center; color: white\" aria-valuenow=\"100\" aria-valuemin=\"0\" aria-valuemax=\"100\">\n",
       "    4 / 4\n",
       "  </div>\n",
       "  <div class=\"progress-bar\" role=\"progressbar\" style=\"background-color: red; width: 0%\" aria-valuenow=\"0\" aria-valuemin=\"0\" aria-valuemax=\"100\"></div>\n",
       "</div>\n"
      ]
     },
     "metadata": {},
     "output_type": "display_data"
    },
    {
     "data": {
      "text/html": [
       "<div>\n",
       "  <span style=\"float: left;\">take at cmd2.sc:6</span>\n",
       "</div>\n"
      ]
     },
     "metadata": {},
     "output_type": "display_data"
    },
    {
     "data": {
      "text/html": [
       "<div class=\"progress\">\n",
       "  <div class=\"progress-bar\" role=\"progressbar\" style=\"background-color: blue; width: 100%; word-wrap: normal; white-space: nowrap; text-align: center; color: white\" aria-valuenow=\"100\" aria-valuemin=\"0\" aria-valuemax=\"100\">\n",
       "    20 / 20\n",
       "  </div>\n",
       "  <div class=\"progress-bar\" role=\"progressbar\" style=\"background-color: red; width: 0%\" aria-valuenow=\"0\" aria-valuemin=\"0\" aria-valuemax=\"100\"></div>\n",
       "</div>\n"
      ]
     },
     "metadata": {},
     "output_type": "display_data"
    },
    {
     "data": {
      "text/html": [
       "<div>\n",
       "  <span style=\"float: left;\">take at cmd2.sc:6</span>\n",
       "</div>\n"
      ]
     },
     "metadata": {},
     "output_type": "display_data"
    },
    {
     "data": {
      "text/html": [
       "<div class=\"progress\">\n",
       "  <div class=\"progress-bar\" role=\"progressbar\" style=\"background-color: blue; width: 100%; word-wrap: normal; white-space: nowrap; text-align: center; color: white\" aria-valuenow=\"100\" aria-valuemin=\"0\" aria-valuemax=\"100\">\n",
       "    100 / 100\n",
       "  </div>\n",
       "  <div class=\"progress-bar\" role=\"progressbar\" style=\"background-color: red; width: 0%\" aria-valuenow=\"0\" aria-valuemin=\"0\" aria-valuemax=\"100\"></div>\n",
       "</div>\n"
      ]
     },
     "metadata": {},
     "output_type": "display_data"
    },
    {
     "data": {
      "text/html": [
       "<div>\n",
       "  <span style=\"float: left;\">take at cmd2.sc:6</span>\n",
       "</div>\n"
      ]
     },
     "metadata": {},
     "output_type": "display_data"
    },
    {
     "data": {
      "text/html": [
       "<div class=\"progress\">\n",
       "  <div class=\"progress-bar\" role=\"progressbar\" style=\"background-color: blue; width: 100%; word-wrap: normal; white-space: nowrap; text-align: center; color: white\" aria-valuenow=\"100\" aria-valuemin=\"0\" aria-valuemax=\"100\">\n",
       "    75 / 75\n",
       "  </div>\n",
       "  <div class=\"progress-bar\" role=\"progressbar\" style=\"background-color: red; width: 0%\" aria-valuenow=\"0\" aria-valuemin=\"0\" aria-valuemax=\"100\"></div>\n",
       "</div>\n"
      ]
     },
     "metadata": {},
     "output_type": "display_data"
    },
    {
     "data": {
      "text/html": [
       " <table>\n",
       "                <tr>\n",
       "                 <th>metadata_ownerType</th>\n",
       "                </tr>\n",
       "                <tr><td>GROUP_OPEN_OFFICIAL</td></tr><tr><td>GROUP_OPEN</td></tr>\n",
       "            </table>\n",
       "        "
      ]
     },
     "metadata": {},
     "output_type": "display_data"
    }
   ],
   "source": [
    "dfRaw\n",
    "    .select(\"metadata_ownerType\")\n",
    "    .distinct()\n",
    "    .showHTML()"
   ]
  },
  {
   "cell_type": "markdown",
   "metadata": {},
   "source": [
    "### Посмотрим какие есть типы фитбека"
   ]
  },
  {
   "cell_type": "code",
   "execution_count": 13,
   "metadata": {
    "scrolled": false
   },
   "outputs": [
    {
     "data": {
      "text/html": [
       "<div>\n",
       "  <span style=\"float: left;\">take at cmd2.sc:6</span>\n",
       "</div>\n"
      ]
     },
     "metadata": {},
     "output_type": "display_data"
    },
    {
     "data": {
      "text/html": [
       "<div class=\"progress\">\n",
       "  <div class=\"progress-bar\" role=\"progressbar\" style=\"background-color: blue; width: 100%; word-wrap: normal; white-space: nowrap; text-align: center; color: white\" aria-valuenow=\"100\" aria-valuemin=\"0\" aria-valuemax=\"100\">\n",
       "    28 / 28\n",
       "  </div>\n",
       "  <div class=\"progress-bar\" role=\"progressbar\" style=\"background-color: red; width: 0%\" aria-valuenow=\"0\" aria-valuemin=\"0\" aria-valuemax=\"100\"></div>\n",
       "</div>\n"
      ]
     },
     "metadata": {},
     "output_type": "display_data"
    },
    {
     "data": {
      "text/html": [
       "<div>\n",
       "  <span style=\"float: left;\">take at cmd2.sc:6</span>\n",
       "</div>\n"
      ]
     },
     "metadata": {},
     "output_type": "display_data"
    },
    {
     "data": {
      "text/html": [
       "<div class=\"progress\">\n",
       "  <div class=\"progress-bar\" role=\"progressbar\" style=\"background-color: blue; width: 100%; word-wrap: normal; white-space: nowrap; text-align: center; color: white\" aria-valuenow=\"100\" aria-valuemin=\"0\" aria-valuemax=\"100\">\n",
       "    1 / 1\n",
       "  </div>\n",
       "  <div class=\"progress-bar\" role=\"progressbar\" style=\"background-color: red; width: 0%\" aria-valuenow=\"0\" aria-valuemin=\"0\" aria-valuemax=\"100\"></div>\n",
       "</div>\n"
      ]
     },
     "metadata": {},
     "output_type": "display_data"
    },
    {
     "data": {
      "text/html": [
       "<div>\n",
       "  <span style=\"float: left;\">take at cmd2.sc:6</span>\n",
       "</div>\n"
      ]
     },
     "metadata": {},
     "output_type": "display_data"
    },
    {
     "data": {
      "text/html": [
       "<div class=\"progress\">\n",
       "  <div class=\"progress-bar\" role=\"progressbar\" style=\"background-color: blue; width: 100%; word-wrap: normal; white-space: nowrap; text-align: center; color: white\" aria-valuenow=\"100\" aria-valuemin=\"0\" aria-valuemax=\"100\">\n",
       "    4 / 4\n",
       "  </div>\n",
       "  <div class=\"progress-bar\" role=\"progressbar\" style=\"background-color: red; width: 0%\" aria-valuenow=\"0\" aria-valuemin=\"0\" aria-valuemax=\"100\"></div>\n",
       "</div>\n"
      ]
     },
     "metadata": {},
     "output_type": "display_data"
    },
    {
     "data": {
      "text/html": [
       "<div>\n",
       "  <span style=\"float: left;\">take at cmd2.sc:6</span>\n",
       "</div>\n"
      ]
     },
     "metadata": {},
     "output_type": "display_data"
    },
    {
     "data": {
      "text/html": [
       "<div class=\"progress\">\n",
       "  <div class=\"progress-bar\" role=\"progressbar\" style=\"background-color: blue; width: 100%; word-wrap: normal; white-space: nowrap; text-align: center; color: white\" aria-valuenow=\"100\" aria-valuemin=\"0\" aria-valuemax=\"100\">\n",
       "    20 / 20\n",
       "  </div>\n",
       "  <div class=\"progress-bar\" role=\"progressbar\" style=\"background-color: red; width: 0%\" aria-valuenow=\"0\" aria-valuemin=\"0\" aria-valuemax=\"100\"></div>\n",
       "</div>\n"
      ]
     },
     "metadata": {},
     "output_type": "display_data"
    },
    {
     "data": {
      "text/html": [
       "<div>\n",
       "  <span style=\"float: left;\">take at cmd2.sc:6</span>\n",
       "</div>\n"
      ]
     },
     "metadata": {},
     "output_type": "display_data"
    },
    {
     "data": {
      "text/html": [
       "<div class=\"progress\">\n",
       "  <div class=\"progress-bar\" role=\"progressbar\" style=\"background-color: blue; width: 100%; word-wrap: normal; white-space: nowrap; text-align: center; color: white\" aria-valuenow=\"100\" aria-valuemin=\"0\" aria-valuemax=\"100\">\n",
       "    100 / 100\n",
       "  </div>\n",
       "  <div class=\"progress-bar\" role=\"progressbar\" style=\"background-color: red; width: 0%\" aria-valuenow=\"0\" aria-valuemin=\"0\" aria-valuemax=\"100\"></div>\n",
       "</div>\n"
      ]
     },
     "metadata": {},
     "output_type": "display_data"
    },
    {
     "data": {
      "text/html": [
       "<div>\n",
       "  <span style=\"float: left;\">take at cmd2.sc:6</span>\n",
       "</div>\n"
      ]
     },
     "metadata": {},
     "output_type": "display_data"
    },
    {
     "data": {
      "text/html": [
       "<div class=\"progress\">\n",
       "  <div class=\"progress-bar\" role=\"progressbar\" style=\"background-color: blue; width: 100%; word-wrap: normal; white-space: nowrap; text-align: center; color: white\" aria-valuenow=\"100\" aria-valuemin=\"0\" aria-valuemax=\"100\">\n",
       "    75 / 75\n",
       "  </div>\n",
       "  <div class=\"progress-bar\" role=\"progressbar\" style=\"background-color: red; width: 0%\" aria-valuenow=\"0\" aria-valuemin=\"0\" aria-valuemax=\"100\"></div>\n",
       "</div>\n"
      ]
     },
     "metadata": {},
     "output_type": "display_data"
    },
    {
     "data": {
      "text/html": [
       " <table>\n",
       "                <tr>\n",
       "                 <th>feedbackType</th>\n",
       "                </tr>\n",
       "                <tr><td>Commented</td></tr><tr><td>Viewed</td></tr><tr><td>ReShared</td></tr><tr><td>Clicked</td></tr><tr><td>Complaint</td></tr><tr><td>Ignored</td></tr><tr><td>Disliked</td></tr><tr><td>Liked</td></tr><tr><td>Unliked</td></tr>\n",
       "            </table>\n",
       "        "
      ]
     },
     "metadata": {},
     "output_type": "display_data"
    }
   ],
   "source": [
    "//Посмотрим на типы фитбеков\n",
    "dfRaw\n",
    ".select(explode(col(\"feedback\")).as(\"feedbackType\"))\n",
    ".distinct()\n",
    ".showHTML()"
   ]
  },
  {
   "cell_type": "markdown",
   "metadata": {},
   "source": [
    "### Построем топ груп по количеству постов"
   ]
  },
  {
   "cell_type": "code",
   "execution_count": 14,
   "metadata": {},
   "outputs": [
    {
     "data": {
      "text/html": [
       "<div>\n",
       "  <span style=\"float: left;\">take at cmd2.sc:6</span>\n",
       "</div>\n"
      ]
     },
     "metadata": {},
     "output_type": "display_data"
    },
    {
     "data": {
      "text/html": [
       "<div class=\"progress\">\n",
       "  <div class=\"progress-bar\" role=\"progressbar\" style=\"background-color: blue; width: 100%; word-wrap: normal; white-space: nowrap; text-align: center; color: white\" aria-valuenow=\"100\" aria-valuemin=\"0\" aria-valuemax=\"100\">\n",
       "    28 / 28\n",
       "  </div>\n",
       "  <div class=\"progress-bar\" role=\"progressbar\" style=\"background-color: red; width: 0%\" aria-valuenow=\"0\" aria-valuemin=\"0\" aria-valuemax=\"100\"></div>\n",
       "</div>\n"
      ]
     },
     "metadata": {},
     "output_type": "display_data"
    },
    {
     "data": {
      "text/html": [
       "<div>\n",
       "  <span style=\"float: left;\">take at cmd2.sc:6</span>\n",
       "</div>\n"
      ]
     },
     "metadata": {},
     "output_type": "display_data"
    },
    {
     "data": {
      "text/html": [
       "<div class=\"progress\">\n",
       "  <div class=\"progress-bar\" role=\"progressbar\" style=\"background-color: blue; width: 100%; word-wrap: normal; white-space: nowrap; text-align: center; color: white\" aria-valuenow=\"100\" aria-valuemin=\"0\" aria-valuemax=\"100\">\n",
       "    200 / 200\n",
       "  </div>\n",
       "  <div class=\"progress-bar\" role=\"progressbar\" style=\"background-color: red; width: 0%\" aria-valuenow=\"0\" aria-valuemin=\"0\" aria-valuemax=\"100\"></div>\n",
       "</div>\n"
      ]
     },
     "metadata": {},
     "output_type": "display_data"
    },
    {
     "data": {
      "text/html": [
       " <table>\n",
       "                <tr>\n",
       "                 <th>metadata_ownerId</th><th>count</th>\n",
       "                </tr>\n",
       "                <tr><td>37463</td><td>71558</td></tr><tr><td>76851</td><td>53090</td></tr><tr><td>11222</td><td>49656</td></tr><tr><td>65305</td><td>46334</td></tr><tr><td>8225</td><td>44342</td></tr><tr><td>38703</td><td>44308</td></tr><tr><td>18942</td><td>42829</td></tr><tr><td>62833</td><td>40545</td></tr><tr><td>79619</td><td>40540</td></tr><tr><td>19481</td><td>40370</td></tr><tr><td>11058</td><td>39888</td></tr><tr><td>77398</td><td>38763</td></tr><tr><td>14285</td><td>38513</td></tr><tr><td>67111</td><td>37648</td></tr><tr><td>9182</td><td>36496</td></tr><tr><td>51346</td><td>36443</td></tr><tr><td>64184</td><td>35938</td></tr><tr><td>12639</td><td>35694</td></tr><tr><td>20350</td><td>33749</td></tr><tr><td>60195</td><td>33428</td></tr>\n",
       "            </table>\n",
       "        "
      ]
     },
     "metadata": {},
     "output_type": "display_data"
    }
   ],
   "source": [
    "dfRaw.groupBy(\"metadata_ownerId\")\n",
    "    .count()\n",
    "    .sort(col(\"count\").desc)\n",
    "    .showHTML()"
   ]
  },
  {
   "cell_type": "markdown",
   "metadata": {},
   "source": [
    "---\n",
    "# Задача: Построите гистограммы популярности/активности групп на портале по времени суток"
   ]
  },
  {
   "cell_type": "markdown",
   "metadata": {},
   "source": [
    "Чтобы гистаграмма была не сильно большой будем делать её по часам"
   ]
  },
  {
   "cell_type": "code",
   "execution_count": 15,
   "metadata": {},
   "outputs": [
    {
     "data": {
      "text/html": [
       "<div>\n",
       "  <span style=\"float: left;\">take at cmd2.sc:6</span>\n",
       "</div>\n"
      ]
     },
     "metadata": {},
     "output_type": "display_data"
    },
    {
     "data": {
      "text/html": [
       "<div class=\"progress\">\n",
       "  <div class=\"progress-bar\" role=\"progressbar\" style=\"background-color: blue; width: 100%; word-wrap: normal; white-space: nowrap; text-align: center; color: white\" aria-valuenow=\"100\" aria-valuemin=\"0\" aria-valuemax=\"100\">\n",
       "    1 / 1\n",
       "  </div>\n",
       "  <div class=\"progress-bar\" role=\"progressbar\" style=\"background-color: red; width: 0%\" aria-valuenow=\"0\" aria-valuemin=\"0\" aria-valuemax=\"100\"></div>\n",
       "</div>\n"
      ]
     },
     "metadata": {},
     "output_type": "display_data"
    },
    {
     "data": {
      "text/html": [
       " <table>\n",
       "                <tr>\n",
       "                 <th>instanceId_userId</th><th>instanceId_objectType</th><th>instanceId_objectId</th><th>audit_pos</th><th>audit_clientType</th><th>audit_timestamp</th><th>audit_timePassed</th><th>audit_experiment</th><th>audit_resourceType</th><th>metadata_ownerId</th><th>metadata_ownerType</th><th>metadata_createdAt</th><th>metadata_authorId</th><th>metadata_applicationId</th><th>metadata_numCompanions</th><th>metadata_numPhotos</th><th>metadata_numPolls</th><th>metadata_numSymbols</th><th>metadata_numTokens</th><th>metadata_numVideos</th><th>metadata_platform</th><th>metadata_totalVideoLength</th><th>metadata_options</th><th>relationsMask</th><th>userOwnerCounters_USER_FEED_REMOVE</th><th>userOwnerCounters_USER_PROFILE_VIEW</th><th>userOwnerCounters_VOTE_POLL</th><th>userOwnerCounters_USER_SEND_MESSAGE</th><th>userOwnerCounters_USER_DELETE_MESSAGE</th><th>userOwnerCounters_USER_INTERNAL_LIKE</th><th>userOwnerCounters_USER_INTERNAL_UNLIKE</th><th>userOwnerCounters_USER_STATUS_COMMENT_CREATE</th><th>userOwnerCounters_PHOTO_COMMENT_CREATE</th><th>userOwnerCounters_MOVIE_COMMENT_CREATE</th><th>userOwnerCounters_USER_PHOTO_ALBUM_COMMENT_CREATE</th><th>userOwnerCounters_COMMENT_INTERNAL_LIKE</th><th>userOwnerCounters_USER_FORUM_MESSAGE_CREATE</th><th>userOwnerCounters_PHOTO_MARK_CREATE</th><th>userOwnerCounters_PHOTO_VIEW</th><th>userOwnerCounters_PHOTO_PIN_BATCH_CREATE</th><th>userOwnerCounters_PHOTO_PIN_UPDATE</th><th>userOwnerCounters_USER_PRESENT_SEND</th><th>userOwnerCounters_UNKNOWN</th><th>userOwnerCounters_CREATE_TOPIC</th><th>userOwnerCounters_CREATE_IMAGE</th><th>userOwnerCounters_CREATE_MOVIE</th><th>userOwnerCounters_CREATE_COMMENT</th><th>userOwnerCounters_CREATE_LIKE</th><th>userOwnerCounters_TEXT</th><th>userOwnerCounters_IMAGE</th><th>userOwnerCounters_VIDEO</th><th>ownerUserCounters_USER_FEED_REMOVE</th><th>ownerUserCounters_USER_PROFILE_VIEW</th><th>ownerUserCounters_VOTE_POLL</th><th>ownerUserCounters_USER_SEND_MESSAGE</th><th>ownerUserCounters_USER_DELETE_MESSAGE</th><th>ownerUserCounters_USER_INTERNAL_LIKE</th><th>ownerUserCounters_USER_INTERNAL_UNLIKE</th><th>ownerUserCounters_USER_STATUS_COMMENT_CREATE</th><th>ownerUserCounters_PHOTO_COMMENT_CREATE</th><th>ownerUserCounters_MOVIE_COMMENT_CREATE</th><th>ownerUserCounters_USER_PHOTO_ALBUM_COMMENT_CREATE</th><th>ownerUserCounters_COMMENT_INTERNAL_LIKE</th><th>ownerUserCounters_USER_FORUM_MESSAGE_CREATE</th><th>ownerUserCounters_PHOTO_MARK_CREATE</th><th>ownerUserCounters_PHOTO_VIEW</th><th>ownerUserCounters_PHOTO_PIN_BATCH_CREATE</th><th>ownerUserCounters_PHOTO_PIN_UPDATE</th><th>ownerUserCounters_USER_PRESENT_SEND</th><th>ownerUserCounters_UNKNOWN</th><th>ownerUserCounters_CREATE_TOPIC</th><th>ownerUserCounters_CREATE_IMAGE</th><th>ownerUserCounters_CREATE_MOVIE</th><th>ownerUserCounters_CREATE_COMMENT</th><th>ownerUserCounters_CREATE_LIKE</th><th>ownerUserCounters_TEXT</th><th>ownerUserCounters_IMAGE</th><th>ownerUserCounters_VIDEO</th><th>membership_status</th><th>membership_statusUpdateDate</th><th>membership_joinDate</th><th>membership_joinRequestDate</th><th>owner_create_date</th><th>owner_birth_date</th><th>owner_gender</th><th>owner_status</th><th>owner_ID_country</th><th>owner_ID_Location</th><th>owner_is_active</th><th>owner_is_deleted</th><th>owner_is_abused</th><th>owner_is_activated</th><th>owner_change_datime</th><th>owner_is_semiactivated</th><th>owner_region</th><th>user_create_date</th><th>user_birth_date</th><th>user_gender</th><th>user_status</th><th>user_ID_country</th><th>user_ID_Location</th><th>user_is_active</th><th>user_is_deleted</th><th>user_is_abused</th><th>user_is_activated</th><th>user_change_datime</th><th>user_is_semiactivated</th><th>user_region</th><th>feedback</th><th>objectId</th><th>auditweights_ageMs</th><th>auditweights_closed</th><th>auditweights_ctr_gender</th><th>auditweights_ctr_high</th><th>auditweights_ctr_negative</th><th>auditweights_dailyRecency</th><th>auditweights_feedOwner_RECOMMENDED_GROUP</th><th>auditweights_feedStats</th><th>auditweights_friendCommentFeeds</th><th>auditweights_friendCommenters</th><th>auditweights_friendLikes</th><th>auditweights_friendLikes_actors</th><th>auditweights_hasDetectedText</th><th>auditweights_hasText</th><th>auditweights_isPymk</th><th>auditweights_isRandom</th><th>auditweights_likersFeedStats_hyper</th><th>auditweights_likersSvd_prelaunch_hyper</th><th>auditweights_matrix</th><th>auditweights_notOriginalPhoto</th><th>auditweights_numDislikes</th><th>auditweights_numLikes</th><th>auditweights_numShows</th><th>auditweights_onlineVideo</th><th>auditweights_partAge</th><th>auditweights_partCtr</th><th>auditweights_partSvd</th><th>auditweights_processedVideo</th><th>auditweights_relationMasks</th><th>auditweights_source_LIVE_TOP</th><th>auditweights_source_MOVIE_TOP</th><th>auditweights_svd_prelaunch</th><th>auditweights_svd_spark</th><th>auditweights_userAge</th><th>auditweights_userOwner_CREATE_COMMENT</th><th>auditweights_userOwner_CREATE_IMAGE</th><th>auditweights_userOwner_CREATE_LIKE</th><th>auditweights_userOwner_IMAGE</th><th>auditweights_userOwner_MOVIE_COMMENT_CREATE</th><th>auditweights_userOwner_PHOTO_COMMENT_CREATE</th><th>auditweights_userOwner_PHOTO_MARK_CREATE</th><th>auditweights_userOwner_PHOTO_VIEW</th><th>auditweights_userOwner_TEXT</th><th>auditweights_userOwner_UNKNOWN</th><th>auditweights_userOwner_USER_DELETE_MESSAGE</th><th>auditweights_userOwner_USER_FEED_REMOVE</th><th>auditweights_userOwner_USER_FORUM_MESSAGE_CREATE</th><th>auditweights_userOwner_USER_INTERNAL_LIKE</th><th>auditweights_userOwner_USER_INTERNAL_UNLIKE</th><th>auditweights_userOwner_USER_PRESENT_SEND</th><th>auditweights_userOwner_USER_PROFILE_VIEW</th><th>auditweights_userOwner_USER_SEND_MESSAGE</th><th>auditweights_userOwner_USER_STATUS_COMMENT_CREATE</th><th>auditweights_userOwner_VIDEO</th><th>auditweights_userOwner_VOTE_POLL</th><th>auditweights_x_ActorsRelations</th><th>auditweights_likersSvd_spark_hyper</th><th>auditweights_source_PROMO</th><th>date</th><th>hour</th>\n",
       "                </tr>\n",
       "                <tr><td>108</td><td>Post</td><td>18452434</td><td>0</td><td>MOB</td><td>1520194086477</td><td>10184811</td><td>XPRM-5386_G1</td><td>8</td><td>13680</td><td>GROUP_OPEN_OFFICIAL</td><td>1520147725000</td><td>73356</td><td>0</td><td>0</td><td>1</td><td>0</td><td>18</td><td>2</td><td>0</td><td>OTHER</td><td>0</td><td>[HAS_TEXT, HAS_PH...</td><td>null</td><td>0.0</td><td>0.0</td><td>0.0</td><td>0.0</td><td>0.0</td><td>0.0</td><td>0.0</td><td>0.0</td><td>0.0</td><td>0.0</td><td>0.0</td><td>0.0</td><td>0.0</td><td>0.0</td><td>0.0</td><td>0.0</td><td>0.0</td><td>0.0</td><td>0.0</td><td>0.0</td><td>0.0</td><td>0.0</td><td>5.0487775802612305</td><td>31.726192474365234</td><td>67.61256408691406</td><td>21.856033325195312</td><td>8.234378814697266</td><td>null</td><td>null</td><td>null</td><td>null</td><td>null</td><td>null</td><td>null</td><td>null</td><td>null</td><td>null</td><td>null</td><td>null</td><td>null</td><td>null</td><td>null</td><td>null</td><td>null</td><td>null</td><td>null</td><td>null</td><td>null</td><td>null</td><td>null</td><td>null</td><td>null</td><td>null</td><td>null</td><td>A</td><td>1383386108187</td><td>1383386100000</td><td>null</td><td>null</td><td>null</td><td>null</td><td>null</td><td>null</td><td>null</td><td>null</td><td>null</td><td>null</td><td>null</td><td>null</td><td>null</td><td>null</td><td>1182853218900</td><td>4142</td><td>2</td><td>192</td><td>10397571399</td><td>2773505</td><td>1</td><td>0</td><td>0</td><td>1</td><td>1394110985237</td><td>null</td><td>89</td><td>[Liked]</td><td>18452434</td><td>4.6361264E7</td><td>null</td><td>0.0098556755</td><td>0.051606573</td><td>0.0014042387</td><td>0.9696286</td><td>null</td><td>8.2</td><td>null</td><td>null</td><td>null</td><td>null</td><td>null</td><td>null</td><td>null</td><td>1.0</td><td>null</td><td>null</td><td>0.03549679</td><td>null</td><td>54.0</td><td>392.0</td><td>38355.0</td><td>null</td><td>null</td><td>null</td><td>null</td><td>null</td><td>null</td><td>null</td><td>null</td><td>null</td><td>0.7479802</td><td>36.0</td><td>0.9963158</td><td>null</td><td>1.0</td><td>1.0</td><td>null</td><td>null</td><td>null</td><td>null</td><td>1.0</td><td>null</td><td>null</td><td>null</td><td>null</td><td>null</td><td>null</td><td>null</td><td>null</td><td>null</td><td>null</td><td>null</td><td>null</td><td>null</td><td>null</td><td>null</td><td>2018-03-04</td><td>20</td></tr><tr><td>231</td><td>Post</td><td>31980032</td><td>3</td><td>MOB</td><td>1520113126655</td><td>132164</td><td>XPRM-5386_G2</td><td>8</td><td>42167</td><td>GROUP_OPEN_OFFICIAL</td><td>1520097620000</td><td>828613</td><td>0</td><td>0</td><td>1</td><td>0</td><td>1408</td><td>223</td><td>0</td><td>OTHER</td><td>0</td><td>[HAS_TEXT, HAS_PH...</td><td>null</td><td>0.0</td><td>0.0</td><td>0.0</td><td>0.0</td><td>0.0</td><td>0.0</td><td>0.0</td><td>0.0</td><td>0.0</td><td>0.0</td><td>0.0</td><td>0.0</td><td>0.0</td><td>0.0</td><td>0.0</td><td>0.0</td><td>0.0</td><td>0.0</td><td>2.7805256843566895</td><td>0.0</td><td>0.0</td><td>0.0</td><td>0.0</td><td>9.55345630645752</td><td>11.429396629333496</td><td>2.215708017349243</td><td>0.0</td><td>null</td><td>null</td><td>null</td><td>null</td><td>null</td><td>null</td><td>null</td><td>null</td><td>null</td><td>null</td><td>null</td><td>null</td><td>null</td><td>null</td><td>null</td><td>null</td><td>null</td><td>null</td><td>null</td><td>null</td><td>null</td><td>null</td><td>null</td><td>null</td><td>null</td><td>null</td><td>null</td><td>A</td><td>1513013923373</td><td>1513013940000</td><td>null</td><td>null</td><td>null</td><td>null</td><td>null</td><td>null</td><td>null</td><td>null</td><td>null</td><td>null</td><td>null</td><td>null</td><td>null</td><td>null</td><td>1182872563207</td><td>-4972</td><td>2</td><td>192</td><td>10414533690</td><td>3385314</td><td>1</td><td>0</td><td>0</td><td>1</td><td>1513558462510</td><td>0</td><td>11</td><td>[Clicked, Liked]</td><td>31980032</td><td>1.5505841E7</td><td>null</td><td>0.022309711</td><td>0.11298879</td><td>0.011811024</td><td>0.97855395</td><td>null</td><td>0.1</td><td>null</td><td>null</td><td>null</td><td>null</td><td>null</td><td>null</td><td>null</td><td>1.0</td><td>null</td><td>null</td><td>0.040244617</td><td>null</td><td>9.0</td><td>16.0</td><td>662.0</td><td>null</td><td>null</td><td>null</td><td>null</td><td>null</td><td>null</td><td>null</td><td>null</td><td>null</td><td>0.81291527</td><td>61.0</td><td>null</td><td>null</td><td>0.99990857</td><td>0.9168273</td><td>null</td><td>null</td><td>null</td><td>null</td><td>0.9999628</td><td>null</td><td>null</td><td>null</td><td>null</td><td>null</td><td>null</td><td>null</td><td>null</td><td>null</td><td>null</td><td>null</td><td>null</td><td>null</td><td>null</td><td>null</td><td>2018-03-04</td><td>21</td></tr><tr><td>423</td><td>Post</td><td>33834009</td><td>5</td><td>API</td><td>1520181187538</td><td>71525659</td><td>XPRM-5386_G9</td><td>14</td><td>12988</td><td>GROUP_OPEN</td><td>1519829634000</td><td>1076820</td><td>0</td><td>0</td><td>0</td><td>0</td><td>0</td><td>0</td><td>0</td><td>ANDROID</td><td>0</td><td>[IS_PART_OF_TOPIC...</td><td>null</td><td>null</td><td>null</td><td>null</td><td>null</td><td>null</td><td>null</td><td>null</td><td>null</td><td>null</td><td>null</td><td>null</td><td>null</td><td>null</td><td>null</td><td>null</td><td>null</td><td>null</td><td>null</td><td>null</td><td>null</td><td>null</td><td>null</td><td>null</td><td>null</td><td>null</td><td>null</td><td>null</td><td>null</td><td>null</td><td>null</td><td>null</td><td>null</td><td>null</td><td>null</td><td>null</td><td>null</td><td>null</td><td>null</td><td>null</td><td>null</td><td>null</td><td>null</td><td>null</td><td>null</td><td>null</td><td>null</td><td>null</td><td>null</td><td>null</td><td>null</td><td>null</td><td>null</td><td>null</td><td>null</td><td>null</td><td>null</td><td>null</td><td>null</td><td>null</td><td>null</td><td>null</td><td>null</td><td>null</td><td>null</td><td>null</td><td>null</td><td>null</td><td>null</td><td>null</td><td>null</td><td>null</td><td>1173262601920</td><td>1763</td><td>2</td><td>192</td><td>10414533690</td><td>3385314</td><td>1</td><td>0</td><td>0</td><td>1</td><td>1446451940380</td><td>0</td><td>1</td><td>[Liked]</td><td>33834009</td><td>3.4003936E8</td><td>null</td><td>0.0147976205</td><td>0.07924716</td><td>0.00522269</td><td>0.51608413</td><td>null</td><td>0.1</td><td>null</td><td>null</td><td>1.0</td><td>1.0</td><td>null</td><td>null</td><td>null</td><td>1.0</td><td>1.0</td><td>null</td><td>3.970516E-5</td><td>null</td><td>36.0</td><td>106.0</td><td>6793.0</td><td>null</td><td>null</td><td>null</td><td>null</td><td>null</td><td>null</td><td>null</td><td>null</td><td>null</td><td>0.69021666</td><td>43.0</td><td>null</td><td>null</td><td>null</td><td>null</td><td>null</td><td>null</td><td>null</td><td>null</td><td>null</td><td>null</td><td>null</td><td>null</td><td>null</td><td>null</td><td>null</td><td>null</td><td>null</td><td>null</td><td>null</td><td>null</td><td>null</td><td>32</td><td>0.8158334</td><td>null</td><td>2018-03-04</td><td>16</td></tr><tr><td>624</td><td>Post</td><td>25653019</td><td>5</td><td>WEB</td><td>1520149339921</td><td>1520149339921</td><td>XPRM-explore.q2</td><td>8</td><td>2772</td><td>GROUP_OPEN_OFFICIAL</td><td>1520123422000</td><td>608137</td><td>0</td><td>0</td><td>1</td><td>0</td><td>37</td><td>5</td><td>0</td><td>OTHER</td><td>0</td><td>[HAS_TEXT, HAS_PH...</td><td>null</td><td>null</td><td>null</td><td>null</td><td>null</td><td>null</td><td>null</td><td>null</td><td>null</td><td>null</td><td>null</td><td>null</td><td>null</td><td>null</td><td>null</td><td>null</td><td>null</td><td>null</td><td>null</td><td>null</td><td>null</td><td>null</td><td>null</td><td>null</td><td>null</td><td>null</td><td>null</td><td>null</td><td>null</td><td>null</td><td>null</td><td>null</td><td>null</td><td>null</td><td>null</td><td>null</td><td>null</td><td>null</td><td>null</td><td>null</td><td>null</td><td>null</td><td>null</td><td>null</td><td>null</td><td>null</td><td>null</td><td>null</td><td>null</td><td>null</td><td>null</td><td>null</td><td>null</td><td>null</td><td>null</td><td>null</td><td>null</td><td>null</td><td>null</td><td>null</td><td>null</td><td>null</td><td>null</td><td>null</td><td>null</td><td>null</td><td>null</td><td>null</td><td>null</td><td>null</td><td>null</td><td>null</td><td>1179934071693</td><td>-3846</td><td>2</td><td>128</td><td>10414533690</td><td>1112209</td><td>1</td><td>0</td><td>0</td><td>1</td><td>1445517842953</td><td>0</td><td>13</td><td>[Ignored]</td><td>25653019</td><td>2.591742E7</td><td>null</td><td>0.014586994</td><td>0.07823428</td><td>0.0031282953</td><td>0.97587365</td><td>0.725</td><td>0.1</td><td>null</td><td>null</td><td>null</td><td>null</td><td>null</td><td>1.0</td><td>null</td><td>1.0</td><td>null</td><td>null</td><td>0.02061828</td><td>null</td><td>null</td><td>null</td><td>null</td><td>null</td><td>null</td><td>null</td><td>null</td><td>null</td><td>null</td><td>null</td><td>null</td><td>null</td><td>0.7401656</td><td>58.0</td><td>null</td><td>null</td><td>null</td><td>null</td><td>null</td><td>null</td><td>null</td><td>null</td><td>null</td><td>null</td><td>null</td><td>null</td><td>null</td><td>null</td><td>null</td><td>null</td><td>null</td><td>null</td><td>null</td><td>null</td><td>null</td><td>null</td><td>null</td><td>null</td><td>2018-03-04</td><td>7</td></tr><tr><td>768</td><td>Post</td><td>24024934</td><td>20</td><td>API</td><td>1520180595763</td><td>624657</td><td>XPRM-5386_G1</td><td>8</td><td>20289</td><td>GROUP_OPEN_OFFICIAL</td><td>1520132432000</td><td>565604</td><td>0</td><td>0</td><td>6</td><td>0</td><td>51</td><td>3</td><td>0</td><td>OTHER</td><td>0</td><td>[HAS_TEXT, HAS_PH...</td><td>null</td><td>null</td><td>null</td><td>null</td><td>null</td><td>null</td><td>null</td><td>null</td><td>null</td><td>null</td><td>null</td><td>null</td><td>null</td><td>null</td><td>null</td><td>null</td><td>null</td><td>null</td><td>null</td><td>null</td><td>null</td><td>null</td><td>null</td><td>null</td><td>null</td><td>null</td><td>null</td><td>null</td><td>null</td><td>null</td><td>null</td><td>null</td><td>null</td><td>null</td><td>null</td><td>null</td><td>null</td><td>null</td><td>null</td><td>null</td><td>null</td><td>null</td><td>null</td><td>null</td><td>null</td><td>null</td><td>null</td><td>null</td><td>null</td><td>null</td><td>null</td><td>null</td><td>null</td><td>null</td><td>null</td><td>A</td><td>1408564875883</td><td>1408564860000</td><td>null</td><td>null</td><td>null</td><td>null</td><td>null</td><td>null</td><td>null</td><td>null</td><td>null</td><td>null</td><td>null</td><td>null</td><td>null</td><td>null</td><td>1171835598907</td><td>3251</td><td>2</td><td>192</td><td>10397571399</td><td>2393098</td><td>1</td><td>0</td><td>0</td><td>1</td><td>1445517661617</td><td>0</td><td>142</td><td>[Ignored]</td><td>24024934</td><td>4.8163232E7</td><td>null</td><td>0.011985388</td><td>0.06924916</td><td>0.0014776505</td><td>0.9690083</td><td>null</td><td>0.1</td><td>null</td><td>null</td><td>null</td><td>null</td><td>null</td><td>null</td><td>null</td><td>1.0</td><td>null</td><td>null</td><td>0.008221154</td><td>null</td><td>72.0</td><td>671.0</td><td>48626.0</td><td>null</td><td>null</td><td>null</td><td>null</td><td>null</td><td>null</td><td>null</td><td>null</td><td>null</td><td>0.8230912</td><td>39.0</td><td>null</td><td>null</td><td>null</td><td>null</td><td>null</td><td>null</td><td>null</td><td>null</td><td>null</td><td>null</td><td>null</td><td>null</td><td>null</td><td>null</td><td>null</td><td>null</td><td>null</td><td>null</td><td>null</td><td>null</td><td>null</td><td>null</td><td>null</td><td>null</td><td>2018-03-04</td><td>16</td></tr>\n",
       "            </table>\n",
       "        "
      ]
     },
     "metadata": {},
     "output_type": "display_data"
    },
    {
     "data": {
      "text/plain": [
       "\u001b[36mdfHours\u001b[39m: \u001b[32mDataFrame\u001b[39m = [instanceId_userId: int, instanceId_objectType: string ... 168 more fields]"
      ]
     },
     "execution_count": 15,
     "metadata": {},
     "output_type": "execute_result"
    }
   ],
   "source": [
    "val dfHours = dfRaw\n",
    "    .withColumn(\n",
    "        \"hour\",\n",
    "        hour((col(\"audit_timestamp\")/1000).cast(\"timestamp\"))\n",
    "    )\n",
    "dfHours.showHTML(5)"
   ]
  },
  {
   "cell_type": "markdown",
   "metadata": {},
   "source": [
    "### Сначала посмотрим распределение постов для всех групп по часам"
   ]
  },
  {
   "cell_type": "code",
   "execution_count": 16,
   "metadata": {},
   "outputs": [
    {
     "name": "stderr",
     "output_type": "stream",
     "text": [
      "Downloading https://repo1.maven.org/maven2/io/github/cibotech/evilplot-repl_2.12/0.8.1/evilplot-repl_2.12-0.8.1.pom\n",
      "Downloaded https://repo1.maven.org/maven2/io/github/cibotech/evilplot-repl_2.12/0.8.1/evilplot-repl_2.12-0.8.1.pom\n",
      "Downloading https://repo1.maven.org/maven2/io/github/cibotech/evilplot_2.12/0.8.1/evilplot_2.12-0.8.1.pom\n",
      "Downloaded https://repo1.maven.org/maven2/io/github/cibotech/evilplot_2.12/0.8.1/evilplot_2.12-0.8.1.pom\n",
      "Downloading https://repo1.maven.org/maven2/io/github/cibotech/evilplot-math_2.12/0.8.1/evilplot-math_2.12-0.8.1.pom\n",
      "Downloading https://repo1.maven.org/maven2/org/scalactic/scalactic_2.12/3.0.8/scalactic_2.12-3.0.8.pom\n",
      "Downloading https://repo1.maven.org/maven2/io/circe/circe-generic-extras_2.12/0.13.0/circe-generic-extras_2.12-0.13.0.pom\n",
      "Downloading https://repo1.maven.org/maven2/io/circe/circe-generic_2.12/0.13.0/circe-generic_2.12-0.13.0.pom\n",
      "Downloading https://repo1.maven.org/maven2/io/circe/circe-core_2.12/0.13.0/circe-core_2.12-0.13.0.pom\n",
      "Downloading https://repo1.maven.org/maven2/io/circe/circe-parser_2.12/0.13.0/circe-parser_2.12-0.13.0.pom\n",
      "Downloaded https://repo1.maven.org/maven2/org/scalactic/scalactic_2.12/3.0.8/scalactic_2.12-3.0.8.pom\n",
      "Downloaded https://repo1.maven.org/maven2/io/circe/circe-generic-extras_2.12/0.13.0/circe-generic-extras_2.12-0.13.0.pom\n",
      "Downloaded https://repo1.maven.org/maven2/io/circe/circe-core_2.12/0.13.0/circe-core_2.12-0.13.0.pom\n",
      "Downloaded https://repo1.maven.org/maven2/io/circe/circe-generic_2.12/0.13.0/circe-generic_2.12-0.13.0.pom\n",
      "Downloaded https://repo1.maven.org/maven2/io/circe/circe-parser_2.12/0.13.0/circe-parser_2.12-0.13.0.pom\n",
      "Downloaded https://repo1.maven.org/maven2/io/github/cibotech/evilplot-math_2.12/0.8.1/evilplot-math_2.12-0.8.1.pom\n",
      "Downloading https://repo1.maven.org/maven2/io/circe/circe-jawn_2.12/0.13.0/circe-jawn_2.12-0.13.0.pom\n",
      "Downloading https://repo1.maven.org/maven2/io/circe/circe-numbers_2.12/0.13.0/circe-numbers_2.12-0.13.0.pom\n",
      "Downloading https://repo1.maven.org/maven2/org/scalanlp/breeze-natives_2.12/1.0/breeze-natives_2.12-1.0.pom\n",
      "Downloading https://repo1.maven.org/maven2/org/typelevel/cats-core_2.12/2.1.0/cats-core_2.12-2.1.0.pom\n",
      "Downloaded https://repo1.maven.org/maven2/io/circe/circe-jawn_2.12/0.13.0/circe-jawn_2.12-0.13.0.pom\n",
      "Downloaded https://repo1.maven.org/maven2/io/circe/circe-numbers_2.12/0.13.0/circe-numbers_2.12-0.13.0.pom\n",
      "Downloaded https://repo1.maven.org/maven2/org/typelevel/cats-core_2.12/2.1.0/cats-core_2.12-2.1.0.pom\n",
      "Downloaded https://repo1.maven.org/maven2/org/scalanlp/breeze-natives_2.12/1.0/breeze-natives_2.12-1.0.pom\n",
      "Downloading https://repo1.maven.org/maven2/com/github/fommil/netlib/all/1.1.2/all-1.1.2.pom\n",
      "Downloading https://repo1.maven.org/maven2/org/typelevel/cats-kernel_2.12/2.1.0/cats-kernel_2.12-2.1.0.pom\n",
      "Downloading https://repo1.maven.org/maven2/org/slf4j/slf4j-api/1.7.5/slf4j-api-1.7.5.pom\n",
      "Downloading https://repo1.maven.org/maven2/org/apache/commons/commons-math3/3.2/commons-math3-3.2.pom\n",
      "Downloading https://repo1.maven.org/maven2/org/typelevel/cats-macros_2.12/2.1.0/cats-macros_2.12-2.1.0.pom\n",
      "Downloading https://repo1.maven.org/maven2/org/typelevel/jawn-parser_2.12/1.0.0/jawn-parser_2.12-1.0.0.pom\n",
      "Downloaded https://repo1.maven.org/maven2/com/github/fommil/netlib/all/1.1.2/all-1.1.2.pom\n",
      "Downloaded https://repo1.maven.org/maven2/org/typelevel/jawn-parser_2.12/1.0.0/jawn-parser_2.12-1.0.0.pom\n",
      "Downloaded https://repo1.maven.org/maven2/org/typelevel/cats-kernel_2.12/2.1.0/cats-kernel_2.12-2.1.0.pom\n",
      "Downloaded https://repo1.maven.org/maven2/org/typelevel/cats-macros_2.12/2.1.0/cats-macros_2.12-2.1.0.pom\n",
      "Downloaded https://repo1.maven.org/maven2/org/apache/commons/commons-math3/3.2/commons-math3-3.2.pom\n",
      "Downloaded https://repo1.maven.org/maven2/org/slf4j/slf4j-api/1.7.5/slf4j-api-1.7.5.pom\n",
      "Downloading https://repo1.maven.org/maven2/org/apache/commons/commons-parent/28/commons-parent-28.pom\n",
      "Downloading https://repo1.maven.org/maven2/org/slf4j/slf4j-parent/1.7.5/slf4j-parent-1.7.5.pom\n",
      "Downloaded https://repo1.maven.org/maven2/org/slf4j/slf4j-parent/1.7.5/slf4j-parent-1.7.5.pom\n",
      "Downloaded https://repo1.maven.org/maven2/org/apache/commons/commons-parent/28/commons-parent-28.pom\n",
      "Downloading https://repo1.maven.org/maven2/com/github/fommil/netlib/netlib-native_system-linux-x86_64/1.1/netlib-native_system-linux-x86_64-1.1.pom\n",
      "Downloading https://repo1.maven.org/maven2/com/github/fommil/netlib/netlib-native_system-linux-armhf/1.1/netlib-native_system-linux-armhf-1.1.pom\n",
      "Downloading https://repo1.maven.org/maven2/com/github/fommil/netlib/netlib-native_ref-linux-i686/1.1/netlib-native_ref-linux-i686-1.1.pom\n",
      "Downloading https://repo1.maven.org/maven2/com/github/fommil/netlib/netlib-native_ref-linux-x86_64/1.1/netlib-native_ref-linux-x86_64-1.1.pom\n",
      "Downloading https://repo1.maven.org/maven2/com/github/fommil/netlib/netlib-native_system-linux-i686/1.1/netlib-native_system-linux-i686-1.1.pom\n",
      "Downloading https://repo1.maven.org/maven2/com/github/fommil/netlib/netlib-native_ref-osx-x86_64/1.1/netlib-native_ref-osx-x86_64-1.1.pom\n",
      "Downloaded https://repo1.maven.org/maven2/com/github/fommil/netlib/netlib-native_system-linux-x86_64/1.1/netlib-native_system-linux-x86_64-1.1.pom\n",
      "Downloading https://repo1.maven.org/maven2/com/github/fommil/netlib/netlib-native_system-win-i686/1.1/netlib-native_system-win-i686-1.1.pom\n",
      "Downloaded https://repo1.maven.org/maven2/com/github/fommil/netlib/netlib-native_ref-linux-x86_64/1.1/netlib-native_ref-linux-x86_64-1.1.pom\n",
      "Downloading https://repo1.maven.org/maven2/com/github/fommil/netlib/netlib-native_system-win-x86_64/1.1/netlib-native_system-win-x86_64-1.1.pom\n",
      "Downloaded https://repo1.maven.org/maven2/com/github/fommil/netlib/netlib-native_ref-linux-i686/1.1/netlib-native_ref-linux-i686-1.1.pom\n",
      "Downloading https://repo1.maven.org/maven2/com/github/fommil/netlib/netlib-native_ref-win-x86_64/1.1/netlib-native_ref-win-x86_64-1.1.pom\n",
      "Downloaded https://repo1.maven.org/maven2/com/github/fommil/netlib/netlib-native_system-linux-armhf/1.1/netlib-native_system-linux-armhf-1.1.pom\n",
      "Downloading https://repo1.maven.org/maven2/com/github/fommil/netlib/netlib-native_ref-linux-armhf/1.1/netlib-native_ref-linux-armhf-1.1.pom\n",
      "Downloaded https://repo1.maven.org/maven2/com/github/fommil/netlib/netlib-native_ref-osx-x86_64/1.1/netlib-native_ref-osx-x86_64-1.1.pom\n",
      "Downloading https://repo1.maven.org/maven2/org/apache/commons/commons-math3/3.5/commons-math3-3.5.pom\n",
      "Downloaded https://repo1.maven.org/maven2/com/github/fommil/netlib/netlib-native_system-win-i686/1.1/netlib-native_system-win-i686-1.1.pom\n",
      "Downloading https://repo1.maven.org/maven2/com/github/fommil/netlib/netlib-native_ref-win-i686/1.1/netlib-native_ref-win-i686-1.1.pom\n",
      "Downloaded https://repo1.maven.org/maven2/com/github/fommil/netlib/netlib-native_system-win-x86_64/1.1/netlib-native_system-win-x86_64-1.1.pom\n",
      "Downloaded https://repo1.maven.org/maven2/com/github/fommil/netlib/netlib-native_ref-linux-armhf/1.1/netlib-native_ref-linux-armhf-1.1.pom\n",
      "Downloaded https://repo1.maven.org/maven2/com/github/fommil/netlib/netlib-native_ref-win-x86_64/1.1/netlib-native_ref-win-x86_64-1.1.pom\n",
      "Downloading https://repo1.maven.org/maven2/com/github/fommil/netlib/netlib-native_system-osx-x86_64/1.1/netlib-native_system-osx-x86_64-1.1.pom\n",
      "Downloaded https://repo1.maven.org/maven2/org/apache/commons/commons-math3/3.5/commons-math3-3.5.pom\n",
      "Downloaded https://repo1.maven.org/maven2/com/github/fommil/netlib/netlib-native_system-linux-i686/1.1/netlib-native_system-linux-i686-1.1.pom\n",
      "Downloaded https://repo1.maven.org/maven2/com/github/fommil/netlib/netlib-native_ref-win-i686/1.1/netlib-native_ref-win-i686-1.1.pom\n",
      "Downloaded https://repo1.maven.org/maven2/com/github/fommil/netlib/netlib-native_system-osx-x86_64/1.1/netlib-native_system-osx-x86_64-1.1.pom\n",
      "Downloading https://repo1.maven.org/maven2/com/github/fommil/netlib/native_system/1.1/native_system-1.1.pom\n",
      "Downloading https://repo1.maven.org/maven2/com/github/fommil/netlib/native_ref-xbuilds/1.1/native_ref-xbuilds-1.1.pom\n",
      "Downloading https://repo1.maven.org/maven2/com/github/fommil/netlib/native_ref/1.1/native_ref-1.1.pom\n",
      "Downloading https://repo1.maven.org/maven2/com/github/fommil/netlib/native_system-xbuilds/1.1/native_system-xbuilds-1.1.pom\n"
     ]
    },
    {
     "name": "stderr",
     "output_type": "stream",
     "text": [
      "Downloaded https://repo1.maven.org/maven2/com/github/fommil/netlib/native_ref-xbuilds/1.1/native_ref-xbuilds-1.1.pom\n",
      "Downloaded https://repo1.maven.org/maven2/com/github/fommil/netlib/native_system-xbuilds/1.1/native_system-xbuilds-1.1.pom\n",
      "Downloaded https://repo1.maven.org/maven2/com/github/fommil/netlib/native_ref/1.1/native_ref-1.1.pom\n",
      "Downloaded https://repo1.maven.org/maven2/com/github/fommil/netlib/native_system/1.1/native_system-1.1.pom\n",
      "Downloading https://repo1.maven.org/maven2/com/github/fommil/netlib/native_system-java/1.1/native_system-java-1.1.pom\n",
      "Downloading https://repo1.maven.org/maven2/com/github/fommil/netlib/native_ref-java/1.1/native_ref-java-1.1.pom\n",
      "Downloaded https://repo1.maven.org/maven2/com/github/fommil/netlib/native_system-java/1.1/native_system-java-1.1.pom\n",
      "Downloaded https://repo1.maven.org/maven2/com/github/fommil/netlib/native_ref-java/1.1/native_ref-java-1.1.pom\n",
      "Downloading https://repo1.maven.org/maven2/com/github/fommil/jniloader/1.1/jniloader-1.1.pom\n",
      "Downloaded https://repo1.maven.org/maven2/com/github/fommil/jniloader/1.1/jniloader-1.1.pom\n",
      "Downloading https://repo1.maven.org/maven2/com/github/fommil/netlib/netlib-native_ref-linux-armhf/1.1/netlib-native_ref-linux-armhf-1.1-sources.jar\n",
      "Downloading https://repo1.maven.org/maven2/io/github/cibotech/evilplot-repl_2.12/0.8.1/evilplot-repl_2.12-0.8.1-sources.jar\n",
      "Downloading https://repo1.maven.org/maven2/com/github/fommil/netlib/netlib-native_system-linux-x86_64/1.1/netlib-native_system-linux-x86_64-1.1-sources.jar\n",
      "Downloading https://repo1.maven.org/maven2/com/github/fommil/netlib/netlib-native_system-linux-i686/1.1/netlib-native_system-linux-i686-1.1-natives.jar\n",
      "Downloading https://repo1.maven.org/maven2/com/github/fommil/netlib/netlib-native_ref-osx-x86_64/1.1/netlib-native_ref-osx-x86_64-1.1-sources.jar\n",
      "Downloaded https://repo1.maven.org/maven2/io/github/cibotech/evilplot-repl_2.12/0.8.1/evilplot-repl_2.12-0.8.1-sources.jar\n",
      "Downloading https://repo1.maven.org/maven2/com/github/fommil/netlib/native_system-java/1.1/native_system-java-1.1-sources.jar\n",
      "Downloading https://repo1.maven.org/maven2/io/circe/circe-core_2.12/0.13.0/circe-core_2.12-0.13.0-sources.jar\n",
      "Downloaded https://repo1.maven.org/maven2/com/github/fommil/netlib/netlib-native_system-linux-x86_64/1.1/netlib-native_system-linux-x86_64-1.1-sources.jar\n",
      "Downloading https://repo1.maven.org/maven2/com/github/fommil/netlib/netlib-native_ref-win-i686/1.1/netlib-native_ref-win-i686-1.1-natives.jar\n",
      "Downloaded https://repo1.maven.org/maven2/com/github/fommil/netlib/netlib-native_ref-linux-armhf/1.1/netlib-native_ref-linux-armhf-1.1-sources.jar\n",
      "Downloading https://repo1.maven.org/maven2/io/circe/circe-jawn_2.12/0.13.0/circe-jawn_2.12-0.13.0.jar\n",
      "Downloaded https://repo1.maven.org/maven2/com/github/fommil/netlib/native_system-java/1.1/native_system-java-1.1-sources.jar\n",
      "Downloading https://repo1.maven.org/maven2/org/scalactic/scalactic_2.12/3.0.8/scalactic_2.12-3.0.8-sources.jar\n",
      "Downloaded https://repo1.maven.org/maven2/io/circe/circe-core_2.12/0.13.0/circe-core_2.12-0.13.0-sources.jar\n",
      "Downloading https://repo1.maven.org/maven2/org/slf4j/slf4j-api/1.7.5/slf4j-api-1.7.5.jar\n",
      "Downloaded https://repo1.maven.org/maven2/com/github/fommil/netlib/netlib-native_ref-osx-x86_64/1.1/netlib-native_ref-osx-x86_64-1.1-sources.jar\n",
      "Downloading https://repo1.maven.org/maven2/io/circe/circe-generic_2.12/0.13.0/circe-generic_2.12-0.13.0-sources.jar\n",
      "Downloaded https://repo1.maven.org/maven2/io/circe/circe-jawn_2.12/0.13.0/circe-jawn_2.12-0.13.0.jar\n",
      "Downloading https://repo1.maven.org/maven2/io/circe/circe-generic_2.12/0.13.0/circe-generic_2.12-0.13.0.jar\n",
      "Downloaded https://repo1.maven.org/maven2/org/slf4j/slf4j-api/1.7.5/slf4j-api-1.7.5.jar\n",
      "Downloading https://repo1.maven.org/maven2/com/github/fommil/netlib/native_system-java/1.1/native_system-java-1.1.jar\n",
      "Downloaded https://repo1.maven.org/maven2/io/circe/circe-generic_2.12/0.13.0/circe-generic_2.12-0.13.0-sources.jar\n",
      "Downloading https://repo1.maven.org/maven2/org/typelevel/jawn-parser_2.12/1.0.0/jawn-parser_2.12-1.0.0-sources.jar\n",
      "Downloaded https://repo1.maven.org/maven2/com/github/fommil/netlib/netlib-native_system-linux-i686/1.1/netlib-native_system-linux-i686-1.1-natives.jar\n",
      "Downloaded https://repo1.maven.org/maven2/org/scalactic/scalactic_2.12/3.0.8/scalactic_2.12-3.0.8-sources.jar\n",
      "Downloading https://repo1.maven.org/maven2/io/github/cibotech/evilplot_2.12/0.8.1/evilplot_2.12-0.8.1.jar\n",
      "Downloading https://repo1.maven.org/maven2/org/typelevel/cats-kernel_2.12/2.1.0/cats-kernel_2.12-2.1.0.jar\n",
      "Downloaded https://repo1.maven.org/maven2/com/github/fommil/netlib/native_system-java/1.1/native_system-java-1.1.jar\n",
      "Downloading https://repo1.maven.org/maven2/org/scalanlp/breeze-natives_2.12/1.0/breeze-natives_2.12-1.0.jar\n",
      "Downloaded https://repo1.maven.org/maven2/org/typelevel/jawn-parser_2.12/1.0.0/jawn-parser_2.12-1.0.0-sources.jar\n",
      "Downloading https://repo1.maven.org/maven2/io/circe/circe-numbers_2.12/0.13.0/circe-numbers_2.12-0.13.0-sources.jar\n",
      "Downloaded https://repo1.maven.org/maven2/io/circe/circe-generic_2.12/0.13.0/circe-generic_2.12-0.13.0.jar\n",
      "Downloading https://repo1.maven.org/maven2/org/apache/commons/commons-math3/3.5/commons-math3-3.5.jar\n",
      "Downloaded https://repo1.maven.org/maven2/io/circe/circe-numbers_2.12/0.13.0/circe-numbers_2.12-0.13.0-sources.jar\n",
      "Downloading https://repo1.maven.org/maven2/org/typelevel/cats-macros_2.12/2.1.0/cats-macros_2.12-2.1.0.jar\n",
      "Downloaded https://repo1.maven.org/maven2/org/typelevel/cats-macros_2.12/2.1.0/cats-macros_2.12-2.1.0.jar\n",
      "Downloading https://repo1.maven.org/maven2/org/typelevel/jawn-parser_2.12/1.0.0/jawn-parser_2.12-1.0.0.jar\n",
      "Downloaded https://repo1.maven.org/maven2/org/scalanlp/breeze-natives_2.12/1.0/breeze-natives_2.12-1.0.jar\n",
      "Downloading https://repo1.maven.org/maven2/org/apache/commons/commons-math3/3.5/commons-math3-3.5-sources.jar\n",
      "Downloaded https://repo1.maven.org/maven2/org/typelevel/jawn-parser_2.12/1.0.0/jawn-parser_2.12-1.0.0.jar\n",
      "Downloading https://repo1.maven.org/maven2/com/github/fommil/netlib/netlib-native_ref-win-x86_64/1.1/netlib-native_ref-win-x86_64-1.1-sources.jar\n",
      "Downloaded https://repo1.maven.org/maven2/com/github/fommil/netlib/netlib-native_ref-win-x86_64/1.1/netlib-native_ref-win-x86_64-1.1-sources.jar\n",
      "Downloading https://repo1.maven.org/maven2/org/scalactic/scalactic_2.12/3.0.8/scalactic_2.12-3.0.8.jar\n",
      "Downloaded https://repo1.maven.org/maven2/org/scalactic/scalactic_2.12/3.0.8/scalactic_2.12-3.0.8.jar\n",
      "Downloading https://repo1.maven.org/maven2/io/github/cibotech/evilplot_2.12/0.8.1/evilplot_2.12-0.8.1-sources.jar\n",
      "Downloaded https://repo1.maven.org/maven2/io/github/cibotech/evilplot_2.12/0.8.1/evilplot_2.12-0.8.1.jar\n",
      "Downloading https://repo1.maven.org/maven2/org/typelevel/cats-kernel_2.12/2.1.0/cats-kernel_2.12-2.1.0-sources.jar\n",
      "Downloaded https://repo1.maven.org/maven2/org/apache/commons/commons-math3/3.5/commons-math3-3.5.jar\n",
      "Downloading https://repo1.maven.org/maven2/io/circe/circe-parser_2.12/0.13.0/circe-parser_2.12-0.13.0-sources.jar\n",
      "Downloaded https://repo1.maven.org/maven2/org/typelevel/cats-kernel_2.12/2.1.0/cats-kernel_2.12-2.1.0-sources.jar\n",
      "Downloading https://repo1.maven.org/maven2/com/github/fommil/netlib/netlib-native_ref-linux-i686/1.1/netlib-native_ref-linux-i686-1.1-sources.jar\n",
      "Downloaded https://repo1.maven.org/maven2/com/github/fommil/netlib/netlib-native_ref-win-i686/1.1/netlib-native_ref-win-i686-1.1-natives.jar\n",
      "Downloading https://repo1.maven.org/maven2/com/github/fommil/netlib/netlib-native_system-linux-i686/1.1/netlib-native_system-linux-i686-1.1-sources.jar\n",
      "Downloaded https://repo1.maven.org/maven2/io/circe/circe-parser_2.12/0.13.0/circe-parser_2.12-0.13.0-sources.jar\n",
      "Downloading https://repo1.maven.org/maven2/io/circe/circe-parser_2.12/0.13.0/circe-parser_2.12-0.13.0.jar\n",
      "Downloaded https://repo1.maven.org/maven2/com/github/fommil/netlib/netlib-native_ref-linux-i686/1.1/netlib-native_ref-linux-i686-1.1-sources.jar\n",
      "Downloading https://repo1.maven.org/maven2/io/circe/circe-core_2.12/0.13.0/circe-core_2.12-0.13.0.jar\n",
      "Downloaded https://repo1.maven.org/maven2/io/circe/circe-parser_2.12/0.13.0/circe-parser_2.12-0.13.0.jar\n",
      "Downloading https://repo1.maven.org/maven2/com/github/fommil/jniloader/1.1/jniloader-1.1-sources.jar\n"
     ]
    },
    {
     "name": "stderr",
     "output_type": "stream",
     "text": [
      "Downloaded https://repo1.maven.org/maven2/io/github/cibotech/evilplot_2.12/0.8.1/evilplot_2.12-0.8.1-sources.jar\n",
      "Downloading https://repo1.maven.org/maven2/io/circe/circe-generic-extras_2.12/0.13.0/circe-generic-extras_2.12-0.13.0-sources.jar\n",
      "Downloaded https://repo1.maven.org/maven2/com/github/fommil/jniloader/1.1/jniloader-1.1-sources.jar\n",
      "Downloading https://repo1.maven.org/maven2/com/github/fommil/netlib/netlib-native_system-osx-x86_64/1.1/netlib-native_system-osx-x86_64-1.1-sources.jar\n",
      "Downloaded https://repo1.maven.org/maven2/com/github/fommil/netlib/netlib-native_system-linux-i686/1.1/netlib-native_system-linux-i686-1.1-sources.jar\n",
      "Downloading https://repo1.maven.org/maven2/com/github/fommil/netlib/netlib-native_system-win-x86_64/1.1/netlib-native_system-win-x86_64-1.1-natives.jar\n",
      "Downloaded https://repo1.maven.org/maven2/org/typelevel/cats-kernel_2.12/2.1.0/cats-kernel_2.12-2.1.0.jar\n",
      "Downloading https://repo1.maven.org/maven2/com/github/fommil/netlib/netlib-native_ref-linux-armhf/1.1/netlib-native_ref-linux-armhf-1.1-natives.jar\n",
      "Downloaded https://repo1.maven.org/maven2/io/circe/circe-generic-extras_2.12/0.13.0/circe-generic-extras_2.12-0.13.0-sources.jar\n",
      "Downloading https://repo1.maven.org/maven2/io/github/cibotech/evilplot-math_2.12/0.8.1/evilplot-math_2.12-0.8.1.jar\n",
      "Downloaded https://repo1.maven.org/maven2/com/github/fommil/netlib/netlib-native_system-osx-x86_64/1.1/netlib-native_system-osx-x86_64-1.1-sources.jar\n",
      "Downloading https://repo1.maven.org/maven2/com/github/fommil/netlib/netlib-native_ref-linux-x86_64/1.1/netlib-native_ref-linux-x86_64-1.1-natives.jar\n",
      "Downloaded https://repo1.maven.org/maven2/io/github/cibotech/evilplot-math_2.12/0.8.1/evilplot-math_2.12-0.8.1.jar\n",
      "Downloading https://repo1.maven.org/maven2/com/github/fommil/netlib/netlib-native_ref-linux-i686/1.1/netlib-native_ref-linux-i686-1.1-natives.jar\n",
      "Downloaded https://repo1.maven.org/maven2/io/circe/circe-core_2.12/0.13.0/circe-core_2.12-0.13.0.jar\n",
      "Downloading https://repo1.maven.org/maven2/org/scalanlp/breeze-natives_2.12/1.0/breeze-natives_2.12-1.0-sources.jar\n",
      "Downloaded https://repo1.maven.org/maven2/org/scalanlp/breeze-natives_2.12/1.0/breeze-natives_2.12-1.0-sources.jar\n",
      "Downloading https://repo1.maven.org/maven2/io/github/cibotech/evilplot-repl_2.12/0.8.1/evilplot-repl_2.12-0.8.1.jar\n",
      "Downloaded https://repo1.maven.org/maven2/io/github/cibotech/evilplot-repl_2.12/0.8.1/evilplot-repl_2.12-0.8.1.jar\n",
      "Downloading https://repo1.maven.org/maven2/com/github/fommil/netlib/native_ref-java/1.1/native_ref-java-1.1.jar\n",
      "Downloaded https://repo1.maven.org/maven2/org/apache/commons/commons-math3/3.5/commons-math3-3.5-sources.jar\n",
      "Downloading https://repo1.maven.org/maven2/io/circe/circe-generic-extras_2.12/0.13.0/circe-generic-extras_2.12-0.13.0.jar\n",
      "Downloaded https://repo1.maven.org/maven2/com/github/fommil/netlib/netlib-native_system-win-x86_64/1.1/netlib-native_system-win-x86_64-1.1-natives.jar\n",
      "Downloading https://repo1.maven.org/maven2/org/typelevel/cats-core_2.12/2.1.0/cats-core_2.12-2.1.0-sources.jar\n",
      "Downloaded https://repo1.maven.org/maven2/com/github/fommil/netlib/native_ref-java/1.1/native_ref-java-1.1.jar\n",
      "Downloading https://repo1.maven.org/maven2/com/github/fommil/netlib/netlib-native_system-win-i686/1.1/netlib-native_system-win-i686-1.1-sources.jar\n",
      "Downloaded https://repo1.maven.org/maven2/com/github/fommil/netlib/netlib-native_ref-linux-armhf/1.1/netlib-native_ref-linux-armhf-1.1-natives.jar\n",
      "Downloading https://repo1.maven.org/maven2/com/github/fommil/netlib/netlib-native_system-linux-armhf/1.1/netlib-native_system-linux-armhf-1.1-sources.jar\n",
      "Downloaded https://repo1.maven.org/maven2/com/github/fommil/netlib/netlib-native_system-win-i686/1.1/netlib-native_system-win-i686-1.1-sources.jar\n",
      "Downloading https://repo1.maven.org/maven2/com/github/fommil/netlib/netlib-native_system-linux-x86_64/1.1/netlib-native_system-linux-x86_64-1.1-natives.jar\n",
      "Downloaded https://repo1.maven.org/maven2/io/circe/circe-generic-extras_2.12/0.13.0/circe-generic-extras_2.12-0.13.0.jar\n",
      "Downloading https://repo1.maven.org/maven2/com/github/fommil/netlib/netlib-native_system-linux-armhf/1.1/netlib-native_system-linux-armhf-1.1-natives.jar\n",
      "Downloaded https://repo1.maven.org/maven2/com/github/fommil/netlib/netlib-native_system-linux-armhf/1.1/netlib-native_system-linux-armhf-1.1-sources.jar\n",
      "Downloading https://repo1.maven.org/maven2/com/github/fommil/netlib/native_ref-java/1.1/native_ref-java-1.1-sources.jar\n",
      "Downloaded https://repo1.maven.org/maven2/org/typelevel/cats-core_2.12/2.1.0/cats-core_2.12-2.1.0-sources.jar\n",
      "Downloading https://repo1.maven.org/maven2/org/typelevel/cats-macros_2.12/2.1.0/cats-macros_2.12-2.1.0-sources.jar\n",
      "Downloaded https://repo1.maven.org/maven2/com/github/fommil/netlib/native_ref-java/1.1/native_ref-java-1.1-sources.jar\n",
      "Downloading https://repo1.maven.org/maven2/com/github/fommil/netlib/netlib-native_system-win-i686/1.1/netlib-native_system-win-i686-1.1-natives.jar\n",
      "Downloaded https://repo1.maven.org/maven2/org/typelevel/cats-macros_2.12/2.1.0/cats-macros_2.12-2.1.0-sources.jar\n",
      "Downloading https://repo1.maven.org/maven2/com/github/fommil/netlib/netlib-native_ref-linux-x86_64/1.1/netlib-native_ref-linux-x86_64-1.1-sources.jar\n",
      "Downloaded https://repo1.maven.org/maven2/com/github/fommil/netlib/netlib-native_ref-linux-i686/1.1/netlib-native_ref-linux-i686-1.1-natives.jar\n",
      "Downloaded https://repo1.maven.org/maven2/com/github/fommil/netlib/netlib-native_ref-linux-x86_64/1.1/netlib-native_ref-linux-x86_64-1.1-sources.jar\n",
      "Downloading https://repo1.maven.org/maven2/io/circe/circe-numbers_2.12/0.13.0/circe-numbers_2.12-0.13.0.jar\n",
      "Downloading https://repo1.maven.org/maven2/com/github/fommil/jniloader/1.1/jniloader-1.1.jar\n",
      "Downloaded https://repo1.maven.org/maven2/com/github/fommil/netlib/netlib-native_system-linux-x86_64/1.1/netlib-native_system-linux-x86_64-1.1-natives.jar\n",
      "Downloading https://repo1.maven.org/maven2/io/github/cibotech/evilplot-math_2.12/0.8.1/evilplot-math_2.12-0.8.1-sources.jar\n",
      "Downloaded https://repo1.maven.org/maven2/com/github/fommil/netlib/netlib-native_system-linux-armhf/1.1/netlib-native_system-linux-armhf-1.1-natives.jar\n",
      "Downloading https://repo1.maven.org/maven2/com/github/fommil/netlib/netlib-native_ref-win-i686/1.1/netlib-native_ref-win-i686-1.1-sources.jar\n",
      "Downloaded https://repo1.maven.org/maven2/io/github/cibotech/evilplot-math_2.12/0.8.1/evilplot-math_2.12-0.8.1-sources.jar\n",
      "Downloading https://repo1.maven.org/maven2/com/github/fommil/netlib/all/1.1.2/all-1.1.2-sources.jar\n",
      "Downloaded https://repo1.maven.org/maven2/com/github/fommil/jniloader/1.1/jniloader-1.1.jar\n",
      "Downloading https://repo1.maven.org/maven2/org/typelevel/cats-core_2.12/2.1.0/cats-core_2.12-2.1.0.jar\n",
      "Downloaded https://repo1.maven.org/maven2/io/circe/circe-numbers_2.12/0.13.0/circe-numbers_2.12-0.13.0.jar\n",
      "Downloading https://repo1.maven.org/maven2/com/github/fommil/netlib/netlib-native_system-osx-x86_64/1.1/netlib-native_system-osx-x86_64-1.1-natives.jar\n",
      "Downloaded https://repo1.maven.org/maven2/com/github/fommil/netlib/all/1.1.2/all-1.1.2-sources.jar\n",
      "Downloading https://repo1.maven.org/maven2/com/github/fommil/netlib/netlib-native_ref-osx-x86_64/1.1/netlib-native_ref-osx-x86_64-1.1-natives.jar\n",
      "Downloaded https://repo1.maven.org/maven2/com/github/fommil/netlib/netlib-native_ref-win-i686/1.1/netlib-native_ref-win-i686-1.1-sources.jar\n",
      "Downloading https://repo1.maven.org/maven2/com/github/fommil/netlib/netlib-native_system-win-x86_64/1.1/netlib-native_system-win-x86_64-1.1-sources.jar\n",
      "Downloaded https://repo1.maven.org/maven2/com/github/fommil/netlib/netlib-native_ref-linux-x86_64/1.1/netlib-native_ref-linux-x86_64-1.1-natives.jar\n",
      "Downloading https://repo1.maven.org/maven2/io/circe/circe-jawn_2.12/0.13.0/circe-jawn_2.12-0.13.0-sources.jar\n",
      "Downloaded https://repo1.maven.org/maven2/com/github/fommil/netlib/netlib-native_system-win-i686/1.1/netlib-native_system-win-i686-1.1-natives.jar\n",
      "Downloading https://repo1.maven.org/maven2/org/slf4j/slf4j-api/1.7.5/slf4j-api-1.7.5-sources.jar\n",
      "Downloaded https://repo1.maven.org/maven2/com/github/fommil/netlib/netlib-native_system-win-x86_64/1.1/netlib-native_system-win-x86_64-1.1-sources.jar\n",
      "Downloading https://repo1.maven.org/maven2/com/github/fommil/netlib/netlib-native_ref-win-x86_64/1.1/netlib-native_ref-win-x86_64-1.1-natives.jar\n"
     ]
    },
    {
     "name": "stderr",
     "output_type": "stream",
     "text": [
      "Downloaded https://repo1.maven.org/maven2/io/circe/circe-jawn_2.12/0.13.0/circe-jawn_2.12-0.13.0-sources.jar\n",
      "Downloaded https://repo1.maven.org/maven2/org/slf4j/slf4j-api/1.7.5/slf4j-api-1.7.5-sources.jar\n",
      "Downloading https://repo1.maven.org/maven2/com/github/fommil/netlib/all/1.1.2/all-1.1.2-sources.jar.sha1\n",
      "Downloaded https://repo1.maven.org/maven2/com/github/fommil/netlib/all/1.1.2/all-1.1.2-sources.jar.sha1\n",
      "Downloaded https://repo1.maven.org/maven2/com/github/fommil/netlib/netlib-native_system-osx-x86_64/1.1/netlib-native_system-osx-x86_64-1.1-natives.jar\n",
      "Downloaded https://repo1.maven.org/maven2/com/github/fommil/netlib/netlib-native_ref-osx-x86_64/1.1/netlib-native_ref-osx-x86_64-1.1-natives.jar\n",
      "Downloaded https://repo1.maven.org/maven2/com/github/fommil/netlib/netlib-native_ref-win-x86_64/1.1/netlib-native_ref-win-x86_64-1.1-natives.jar\n",
      "Downloaded https://repo1.maven.org/maven2/org/typelevel/cats-core_2.12/2.1.0/cats-core_2.12-2.1.0.jar\n"
     ]
    },
    {
     "data": {
      "text/plain": [
       "\u001b[32mimport \u001b[39m\u001b[36m$ivy.$                                        \u001b[39m"
      ]
     },
     "execution_count": 16,
     "metadata": {},
     "output_type": "execute_result"
    }
   ],
   "source": [
    "import $ivy.`io.github.cibotech::evilplot-repl:0.8.1`"
   ]
  },
  {
   "cell_type": "code",
   "execution_count": 17,
   "metadata": {},
   "outputs": [
    {
     "data": {
      "text/plain": [
       "defined \u001b[32mfunction\u001b[39m \u001b[36mshowPlot\u001b[39m"
      ]
     },
     "execution_count": 17,
     "metadata": {},
     "output_type": "execute_result"
    }
   ],
   "source": [
    "def showPlot(plot: com.cibo.evilplot.geometry.Drawable) =\n",
    "  Image.fromRenderedImage(plot.asBufferedImage, format=Image.PNG)"
   ]
  },
  {
   "cell_type": "code",
   "execution_count": 18,
   "metadata": {},
   "outputs": [
    {
     "data": {
      "text/plain": [
       "\u001b[32mimport \u001b[39m\u001b[36mcom.cibo.evilplot.colors._\n",
       "\u001b[39m\n",
       "\u001b[32mimport \u001b[39m\u001b[36mcom.cibo.evilplot.geometry.Extent\n",
       "\u001b[39m\n",
       "\u001b[32mimport \u001b[39m\u001b[36mcom.cibo.evilplot.plot._\n",
       "\u001b[39m\n",
       "\u001b[32mimport \u001b[39m\u001b[36mcom.cibo.evilplot.plot.aesthetics.DefaultTheme._\n",
       "\u001b[39m\n",
       "\u001b[32mimport \u001b[39m\u001b[36mcom.cibo.evilplot.plot.renderers.BarRenderer\u001b[39m"
      ]
     },
     "execution_count": 18,
     "metadata": {},
     "output_type": "execute_result"
    }
   ],
   "source": [
    "import com.cibo.evilplot.colors._\n",
    "import com.cibo.evilplot.geometry.Extent\n",
    "import com.cibo.evilplot.plot._\n",
    "import com.cibo.evilplot.plot.aesthetics.DefaultTheme._\n",
    "import com.cibo.evilplot.plot.renderers.BarRenderer"
   ]
  },
  {
   "cell_type": "code",
   "execution_count": 19,
   "metadata": {},
   "outputs": [
    {
     "data": {
      "text/html": [
       "<div>\n",
       "  <span style=\"float: left;\">collect at cmd18.sc:4</span>\n",
       "</div>\n"
      ]
     },
     "metadata": {},
     "output_type": "display_data"
    },
    {
     "data": {
      "text/html": [
       "<div class=\"progress\">\n",
       "  <div class=\"progress-bar\" role=\"progressbar\" style=\"background-color: blue; width: 100%; word-wrap: normal; white-space: nowrap; text-align: center; color: white\" aria-valuenow=\"100\" aria-valuemin=\"0\" aria-valuemax=\"100\">\n",
       "    28 / 28\n",
       "  </div>\n",
       "  <div class=\"progress-bar\" role=\"progressbar\" style=\"background-color: red; width: 0%\" aria-valuenow=\"0\" aria-valuemin=\"0\" aria-valuemax=\"100\"></div>\n",
       "</div>\n"
      ]
     },
     "metadata": {},
     "output_type": "display_data"
    },
    {
     "data": {
      "text/html": [
       "<div>\n",
       "  <span style=\"float: left;\">collect at cmd18.sc:4</span>\n",
       "</div>\n"
      ]
     },
     "metadata": {},
     "output_type": "display_data"
    },
    {
     "data": {
      "text/html": [
       "<div class=\"progress\">\n",
       "  <div class=\"progress-bar\" role=\"progressbar\" style=\"background-color: blue; width: 100%; word-wrap: normal; white-space: nowrap; text-align: center; color: white\" aria-valuenow=\"100\" aria-valuemin=\"0\" aria-valuemax=\"100\">\n",
       "    200 / 200\n",
       "  </div>\n",
       "  <div class=\"progress-bar\" role=\"progressbar\" style=\"background-color: red; width: 0%\" aria-valuenow=\"0\" aria-valuemin=\"0\" aria-valuemax=\"100\"></div>\n",
       "</div>\n"
      ]
     },
     "metadata": {},
     "output_type": "display_data"
    },
    {
     "data": {
      "text/html": [
       "<div>\n",
       "  <span style=\"float: left;\">collect at cmd18.sc:4</span>\n",
       "</div>\n"
      ]
     },
     "metadata": {},
     "output_type": "display_data"
    },
    {
     "data": {
      "text/html": [
       "<div class=\"progress\">\n",
       "  <div class=\"progress-bar\" role=\"progressbar\" style=\"background-color: blue; width: 100%; word-wrap: normal; white-space: nowrap; text-align: center; color: white\" aria-valuenow=\"100\" aria-valuemin=\"0\" aria-valuemax=\"100\">\n",
       "    200 / 200\n",
       "  </div>\n",
       "  <div class=\"progress-bar\" role=\"progressbar\" style=\"background-color: red; width: 0%\" aria-valuenow=\"0\" aria-valuemin=\"0\" aria-valuemax=\"100\"></div>\n",
       "</div>\n"
      ]
     },
     "metadata": {},
     "output_type": "display_data"
    },
    {
     "data": {
      "text/html": [
       "<div>\n",
       "  <span style=\"float: left;\">collect at cmd18.sc:4</span>\n",
       "</div>\n"
      ]
     },
     "metadata": {},
     "output_type": "display_data"
    },
    {
     "data": {
      "text/html": [
       "<div class=\"progress\">\n",
       "  <div class=\"progress-bar\" role=\"progressbar\" style=\"background-color: blue; width: 100%; word-wrap: normal; white-space: nowrap; text-align: center; color: white\" aria-valuenow=\"100\" aria-valuemin=\"0\" aria-valuemax=\"100\">\n",
       "    24 / 24\n",
       "  </div>\n",
       "  <div class=\"progress-bar\" role=\"progressbar\" style=\"background-color: red; width: 0%\" aria-valuenow=\"0\" aria-valuemin=\"0\" aria-valuemax=\"100\"></div>\n",
       "</div>\n"
      ]
     },
     "metadata": {},
     "output_type": "display_data"
    },
    {
     "data": {
      "text/plain": [
       "\u001b[36mxLabelsHour\u001b[39m: \u001b[32mList\u001b[39m[\u001b[32mString\u001b[39m] = \u001b[33mList\u001b[39m(\n",
       "  \u001b[32m\"0\"\u001b[39m,\n",
       "  \u001b[32m\"1\"\u001b[39m,\n",
       "  \u001b[32m\"2\"\u001b[39m,\n",
       "  \u001b[32m\"3\"\u001b[39m,\n",
       "  \u001b[32m\"4\"\u001b[39m,\n",
       "  \u001b[32m\"5\"\u001b[39m,\n",
       "  \u001b[32m\"6\"\u001b[39m,\n",
       "  \u001b[32m\"7\"\u001b[39m,\n",
       "  \u001b[32m\"8\"\u001b[39m,\n",
       "  \u001b[32m\"9\"\u001b[39m,\n",
       "  \u001b[32m\"10\"\u001b[39m,\n",
       "  \u001b[32m\"11\"\u001b[39m,\n",
       "  \u001b[32m\"12\"\u001b[39m,\n",
       "  \u001b[32m\"13\"\u001b[39m,\n",
       "  \u001b[32m\"14\"\u001b[39m,\n",
       "  \u001b[32m\"15\"\u001b[39m,\n",
       "  \u001b[32m\"16\"\u001b[39m,\n",
       "  \u001b[32m\"17\"\u001b[39m,\n",
       "  \u001b[32m\"18\"\u001b[39m,\n",
       "  \u001b[32m\"19\"\u001b[39m,\n",
       "  \u001b[32m\"20\"\u001b[39m,\n",
       "  \u001b[32m\"21\"\u001b[39m,\n",
       "  \u001b[32m\"22\"\u001b[39m,\n",
       "  \u001b[32m\"23\"\u001b[39m\n",
       ")\n",
       "\u001b[36myAllCount\u001b[39m: \u001b[32mList\u001b[39m[\u001b[32mDouble\u001b[39m] = \u001b[33mList\u001b[39m(\n",
       "  \u001b[32m190669.0\u001b[39m,\n",
       "  \u001b[32m255999.0\u001b[39m,\n",
       "  \u001b[32m353397.0\u001b[39m,\n",
       "  \u001b[32m508045.0\u001b[39m,\n",
       "  \u001b[32m662820.0\u001b[39m,\n",
       "  \u001b[32m787754.0\u001b[39m,\n",
       "  \u001b[32m831354.0\u001b[39m,\n",
       "  \u001b[32m837955.0\u001b[39m,\n",
       "  \u001b[32m843048.0\u001b[39m,\n",
       "  \u001b[32m858546.0\u001b[39m,\n",
       "  \u001b[32m889471.0\u001b[39m,\n",
       "  \u001b[32m922062.0\u001b[39m,\n",
       "  \u001b[32m972513.0\u001b[39m,\n",
       "  \u001b[32m1029619.0\u001b[39m,\n",
       "  \u001b[32m1122013.0\u001b[39m,\n",
       "  \u001b[32m1213270.0\u001b[39m,\n",
       "  \u001b[32m1276641.0\u001b[39m,\n",
       "  \u001b[32m1275757.0\u001b[39m,\n",
       "  \u001b[32m1180341.0\u001b[39m,\n",
       "  \u001b[32m917899.0\u001b[39m,\n",
       "  \u001b[32m623270.0\u001b[39m,\n",
       "  \u001b[32m347801.0\u001b[39m,\n",
       "  \u001b[32m214532.0\u001b[39m,\n",
       "  \u001b[32m171799.0\u001b[39m\n",
       ")"
      ]
     },
     "execution_count": 19,
     "metadata": {},
     "output_type": "execute_result"
    }
   ],
   "source": [
    "val (xLabelsHour, yAllCount) = dfHours\n",
    "    .groupBy(\"hour\")\n",
    "    .count()\n",
    "    .sort(col(\"hour\"))\n",
    "    .collect\n",
    "    .map(r=>(r(0).toString, r(1).toString.toDouble))\n",
    "    .toList\n",
    "    .unzip"
   ]
  },
  {
   "cell_type": "code",
   "execution_count": 20,
   "metadata": {},
   "outputs": [
    {
     "data": {
      "image/png": "[encoded data removed]"
     },
     "metadata": {
      "height": "2400",
      "width": "3200"
     },
     "output_type": "display_data"
    }
   ],
   "source": [
    "showPlot(\n",
    "    BarChart(\n",
    "        yAllCount.toSeq\n",
    "    )\n",
    "    .standard(xLabels = xLabelsHour)\n",
    "    .render()\n",
    ")"
   ]
  },
  {
   "cell_type": "code",
   "execution_count": 21,
   "metadata": {},
   "outputs": [
    {
     "data": {
      "text/plain": [
       "\u001b[32mimport \u001b[39m\u001b[36morg.apache.spark.sql.expressions.Aggregator\n",
       "\u001b[39m\n",
       "\u001b[32mimport \u001b[39m\u001b[36morg.apache.spark.sql.{Encoder, Encoders, Row}\n",
       "\u001b[39m\n",
       "\u001b[32mimport \u001b[39m\u001b[36mscala.collection.mutable.{ArrayBuffer}\n",
       "\u001b[39m\n",
       "\u001b[32mimport \u001b[39m\u001b[36mscala.collection.immutable.{Map}\n",
       "\u001b[39m\n",
       "\u001b[32mimport \u001b[39m\u001b[36morg.apache.spark.sql.catalyst.encoders.ExpressionEncoder\u001b[39m"
      ]
     },
     "execution_count": 21,
     "metadata": {},
     "output_type": "execute_result"
    }
   ],
   "source": [
    "import org.apache.spark.sql.expressions.Aggregator\n",
    "import org.apache.spark.sql.{Encoder, Encoders, Row}\n",
    "import scala.collection.mutable.{ArrayBuffer}\n",
    "import scala.collection.immutable.{Map}\n",
    "import org.apache.spark.sql.catalyst.encoders.ExpressionEncoder"
   ]
  },
  {
   "cell_type": "code",
   "execution_count": 22,
   "metadata": {},
   "outputs": [
    {
     "data": {
      "text/plain": [
       "defined \u001b[32mclass\u001b[39m \u001b[36mAgrigateByArray\u001b[39m"
      ]
     },
     "execution_count": 22,
     "metadata": {},
     "output_type": "execute_result"
    }
   ],
   "source": [
    "case class AgrigateByArray(\n",
    "    colValues: String,\n",
    "    colKeys: String,\n",
    "    arr: Array[Int],\n",
    "    zeroValue: Long = 0\n",
    "    )extends Aggregator[\n",
    "        Row,\n",
    "        Map[Int, Long],\n",
    "        Array[Long]\n",
    "    ] with Serializable {\n",
    "\n",
    "    def zero: Map[Int, Long] = arr.zip(Array.fill[Long](arr.length)(zeroValue)).toMap\n",
    "\n",
    "    def reduce(b: Map[Int, Long], a: Row): Map[Int, Long] = {\n",
    "        val key = a.getAs[Int](colKeys)\n",
    "        if (arr.contains(key)){\n",
    "            val value = a.getAs[Long](colValues)\n",
    "            b+(key->(b(key)+value.toLong))\n",
    "        }else{\n",
    "            b\n",
    "        }\n",
    "    }\n",
    "\n",
    "    def merge(b1: Map[Int, Long], b2: Map[Int, Long]): Map[Int, Long] = {\n",
    "        b1++b2.map{\n",
    "            case (k,v) =>{\n",
    "                k -> (v + b1.getOrElse(k,zeroValue))\n",
    "            }\n",
    "        }\n",
    "    }\n",
    "    def finish(b: Map[Int, Long]): Array[Long] = {\n",
    "        val temp = ArrayBuffer[Long]()\n",
    "        for(i <- arr){\n",
    "            temp += b(i)\n",
    "        }\n",
    "        temp.toArray\n",
    "    }\n",
    "\n",
    "    def bufferEncoder: Encoder[Map[Int, Long]] = ExpressionEncoder()\n",
    "    def outputEncoder: Encoder[Array[Long]] = ExpressionEncoder()\n",
    "}"
   ]
  },
  {
   "cell_type": "code",
   "execution_count": 23,
   "metadata": {},
   "outputs": [
    {
     "data": {
      "text/plain": [
       "\u001b[36mhoursArray\u001b[39m: \u001b[32mArray\u001b[39m[\u001b[32mInt\u001b[39m] = \u001b[33mArray\u001b[39m(\n",
       "  \u001b[32m0\u001b[39m,\n",
       "  \u001b[32m1\u001b[39m,\n",
       "  \u001b[32m2\u001b[39m,\n",
       "  \u001b[32m3\u001b[39m,\n",
       "  \u001b[32m4\u001b[39m,\n",
       "  \u001b[32m5\u001b[39m,\n",
       "  \u001b[32m6\u001b[39m,\n",
       "  \u001b[32m7\u001b[39m,\n",
       "  \u001b[32m8\u001b[39m,\n",
       "  \u001b[32m9\u001b[39m,\n",
       "  \u001b[32m10\u001b[39m,\n",
       "  \u001b[32m11\u001b[39m,\n",
       "  \u001b[32m12\u001b[39m,\n",
       "  \u001b[32m13\u001b[39m,\n",
       "  \u001b[32m14\u001b[39m,\n",
       "  \u001b[32m15\u001b[39m,\n",
       "  \u001b[32m16\u001b[39m,\n",
       "  \u001b[32m17\u001b[39m,\n",
       "  \u001b[32m18\u001b[39m,\n",
       "  \u001b[32m19\u001b[39m,\n",
       "  \u001b[32m20\u001b[39m,\n",
       "  \u001b[32m21\u001b[39m,\n",
       "  \u001b[32m22\u001b[39m,\n",
       "  \u001b[32m23\u001b[39m\n",
       ")\n",
       "\u001b[36msumByHours\u001b[39m: \u001b[32mTypedColumn\u001b[39m[\u001b[32mRow\u001b[39m, \u001b[32mArray\u001b[39m[\u001b[32mLong\u001b[39m]] = agrigatebyarray(externalmaptocatalyst(lambdavariable(ExternalMapToCatalyst_key, IntegerType, false, 21), lambdavariable(ExternalMapToCatalyst_key, IntegerType, false, 21), lambdavariable(ExternalMapToCatalyst_value, LongType, false, 22), lambdavariable(ExternalMapToCatalyst_value, LongType, false, 22), input[0, scala.collection.immutable.Map, true]) AS `value`, catalysttoexternalmap(lambdavariable(CatalystToExternalMap_key, IntegerType, false, 23), lambdavariable(CatalystToExternalMap_key, IntegerType, false, 23), lambdavariable(CatalystToExternalMap_value, LongType, false, 24), lambdavariable(CatalystToExternalMap_value, LongType, false, 24), input[0, map<int,bigint>, true], interface scala.collection.immutable.Map), staticinvoke(class org.apache.spark.sql.catalyst.expressions.UnsafeArrayData, ArrayType(LongType,false), fromPrimitiveArray, input[0, [J, true], true, false)) AS `sumByHours`"
      ]
     },
     "execution_count": 23,
     "metadata": {},
     "output_type": "execute_result"
    }
   ],
   "source": [
    "val hoursArray = (0 to 23).toArray\n",
    "\n",
    "val sumByHours = AgrigateByArray(\n",
    "    colValues=\"count\",\n",
    "    colKeys=\"hour\",\n",
    "    arr=hoursArray\n",
    ").toColumn.name(\"sumByHours\")"
   ]
  },
  {
   "cell_type": "code",
   "execution_count": 24,
   "metadata": {},
   "outputs": [
    {
     "data": {
      "text/plain": [
       "\u001b[32mimport \u001b[39m\u001b[36mspark.implicits._\n",
       "\n",
       "\u001b[39m\n",
       "defined \u001b[32mclass\u001b[39m \u001b[36mAggByHours\u001b[39m\n",
       "\u001b[36mdsAggByHours\u001b[39m: \u001b[32mDataset\u001b[39m[\u001b[32mAggByHours\u001b[39m] = [metadata_ownerId: int, sumByHours: array<bigint> ... 1 more field]"
      ]
     },
     "execution_count": 24,
     "metadata": {},
     "output_type": "execute_result"
    }
   ],
   "source": [
    "import spark.implicits._\n",
    "\n",
    "case class AggByHours(metadata_ownerId: Int, sumByHours: Array[Long], sum: Long)\n",
    "val dsAggByHours: Dataset[AggByHours] = dfHours\n",
    "    .groupBy(\"metadata_ownerId\", \"hour\")\n",
    "    .count()\n",
    "    .groupBy(\"metadata_ownerId\")\n",
    "    .agg(\n",
    "        sumByHours,\n",
    "        sum(\"count\").as(\"sum\")\n",
    "    ).sort(col(\"sum\").desc)\n",
    "    .as[AggByHours]"
   ]
  },
  {
   "cell_type": "code",
   "execution_count": 25,
   "metadata": {},
   "outputs": [
    {
     "data": {
      "text/html": [
       "<div>\n",
       "  <span style=\"float: left;\">collect at cmd24.sc:1</span>\n",
       "</div>\n"
      ]
     },
     "metadata": {},
     "output_type": "display_data"
    },
    {
     "data": {
      "text/html": [
       "<div class=\"progress\">\n",
       "  <div class=\"progress-bar\" role=\"progressbar\" style=\"background-color: blue; width: 100%; word-wrap: normal; white-space: nowrap; text-align: center; color: white\" aria-valuenow=\"100\" aria-valuemin=\"0\" aria-valuemax=\"100\">\n",
       "    28 / 28\n",
       "  </div>\n",
       "  <div class=\"progress-bar\" role=\"progressbar\" style=\"background-color: red; width: 0%\" aria-valuenow=\"0\" aria-valuemin=\"0\" aria-valuemax=\"100\"></div>\n",
       "</div>\n"
      ]
     },
     "metadata": {},
     "output_type": "display_data"
    },
    {
     "data": {
      "text/html": [
       "<div>\n",
       "  <span style=\"float: left;\">collect at cmd24.sc:1</span>\n",
       "</div>\n"
      ]
     },
     "metadata": {},
     "output_type": "display_data"
    },
    {
     "data": {
      "text/html": [
       "<div class=\"progress\">\n",
       "  <div class=\"progress-bar\" role=\"progressbar\" style=\"background-color: blue; width: 100%; word-wrap: normal; white-space: nowrap; text-align: center; color: white\" aria-valuenow=\"100\" aria-valuemin=\"0\" aria-valuemax=\"100\">\n",
       "    200 / 200\n",
       "  </div>\n",
       "  <div class=\"progress-bar\" role=\"progressbar\" style=\"background-color: red; width: 0%\" aria-valuenow=\"0\" aria-valuemin=\"0\" aria-valuemax=\"100\"></div>\n",
       "</div>\n"
      ]
     },
     "metadata": {},
     "output_type": "display_data"
    },
    {
     "data": {
      "text/html": [
       "<div>\n",
       "  <span style=\"float: left;\">collect at cmd24.sc:1</span>\n",
       "</div>\n"
      ]
     },
     "metadata": {},
     "output_type": "display_data"
    },
    {
     "data": {
      "text/html": [
       "<div class=\"progress\">\n",
       "  <div class=\"progress-bar\" role=\"progressbar\" style=\"background-color: blue; width: 100%; word-wrap: normal; white-space: nowrap; text-align: center; color: white\" aria-valuenow=\"100\" aria-valuemin=\"0\" aria-valuemax=\"100\">\n",
       "    200 / 200\n",
       "  </div>\n",
       "  <div class=\"progress-bar\" role=\"progressbar\" style=\"background-color: red; width: 0%\" aria-valuenow=\"0\" aria-valuemin=\"0\" aria-valuemax=\"100\"></div>\n",
       "</div>\n"
      ]
     },
     "metadata": {},
     "output_type": "display_data"
    },
    {
     "data": {
      "text/html": [
       "<div>\n",
       "  <span style=\"float: left;\">collect at cmd24.sc:1</span>\n",
       "</div>\n"
      ]
     },
     "metadata": {},
     "output_type": "display_data"
    },
    {
     "data": {
      "text/html": [
       "<div class=\"progress\">\n",
       "  <div class=\"progress-bar\" role=\"progressbar\" style=\"background-color: blue; width: 100%; word-wrap: normal; white-space: nowrap; text-align: center; color: white\" aria-valuenow=\"100\" aria-valuemin=\"0\" aria-valuemax=\"100\">\n",
       "    200 / 200\n",
       "  </div>\n",
       "  <div class=\"progress-bar\" role=\"progressbar\" style=\"background-color: red; width: 0%\" aria-valuenow=\"0\" aria-valuemin=\"0\" aria-valuemax=\"100\"></div>\n",
       "</div>\n"
      ]
     },
     "metadata": {},
     "output_type": "display_data"
    },
    {
     "data": {
      "text/html": [
       "<div>\n",
       "  <span style=\"float: left;\">collect at cmd24.sc:1</span>\n",
       "</div>\n"
      ]
     },
     "metadata": {},
     "output_type": "display_data"
    },
    {
     "data": {
      "text/html": [
       "<div class=\"progress\">\n",
       "  <div class=\"progress-bar\" role=\"progressbar\" style=\"background-color: blue; width: 100%; word-wrap: normal; white-space: nowrap; text-align: center; color: white\" aria-valuenow=\"100\" aria-valuemin=\"0\" aria-valuemax=\"100\">\n",
       "    103 / 103\n",
       "  </div>\n",
       "  <div class=\"progress-bar\" role=\"progressbar\" style=\"background-color: red; width: 0%\" aria-valuenow=\"0\" aria-valuemin=\"0\" aria-valuemax=\"100\"></div>\n",
       "</div>\n"
      ]
     },
     "metadata": {},
     "output_type": "display_data"
    },
    {
     "data": {
      "text/plain": [
       "\u001b[36mxLabelsAggByHour\u001b[39m: \u001b[32mList\u001b[39m[\u001b[32mString\u001b[39m] = \u001b[33mList\u001b[39m(\n",
       "  \u001b[32m\"37463\"\u001b[39m,\n",
       "  \u001b[32m\"76851\"\u001b[39m,\n",
       "  \u001b[32m\"11222\"\u001b[39m,\n",
       "  \u001b[32m\"65305\"\u001b[39m,\n",
       "  \u001b[32m\"8225\"\u001b[39m,\n",
       "  \u001b[32m\"38703\"\u001b[39m,\n",
       "  \u001b[32m\"18942\"\u001b[39m,\n",
       "  \u001b[32m\"62833\"\u001b[39m,\n",
       "  \u001b[32m\"79619\"\u001b[39m,\n",
       "  \u001b[32m\"19481\"\u001b[39m,\n",
       "  \u001b[32m\"11058\"\u001b[39m,\n",
       "  \u001b[32m\"77398\"\u001b[39m,\n",
       "  \u001b[32m\"14285\"\u001b[39m,\n",
       "  \u001b[32m\"67111\"\u001b[39m,\n",
       "  \u001b[32m\"9182\"\u001b[39m,\n",
       "  \u001b[32m\"51346\"\u001b[39m,\n",
       "  \u001b[32m\"64184\"\u001b[39m,\n",
       "  \u001b[32m\"12639\"\u001b[39m,\n",
       "  \u001b[32m\"20350\"\u001b[39m,\n",
       "  \u001b[32m\"60195\"\u001b[39m,\n",
       "  \u001b[32m\"34963\"\u001b[39m,\n",
       "  \u001b[32m\"11163\"\u001b[39m,\n",
       "  \u001b[32m\"9236\"\u001b[39m,\n",
       "  \u001b[32m\"17215\"\u001b[39m,\n",
       "  \u001b[32m\"32890\"\u001b[39m,\n",
       "  \u001b[32m\"14959\"\u001b[39m,\n",
       "  \u001b[32m\"66769\"\u001b[39m,\n",
       "  \u001b[32m\"32841\"\u001b[39m,\n",
       "  \u001b[32m\"71284\"\u001b[39m,\n",
       "  \u001b[32m\"23051\"\u001b[39m,\n",
       "  \u001b[32m\"83218\"\u001b[39m,\n",
       "  \u001b[32m\"82227\"\u001b[39m,\n",
       "  \u001b[32m\"26843\"\u001b[39m,\n",
       "  \u001b[32m\"32839\"\u001b[39m,\n",
       "  \u001b[32m\"26735\"\u001b[39m,\n",
       "  \u001b[32m\"23080\"\u001b[39m,\n",
       "  \u001b[32m\"30830\"\u001b[39m,\n",
       "  \u001b[32m\"2425\"\u001b[39m,\n",
       "...\n",
       "\u001b[36myAggByHour\u001b[39m: \u001b[32mList\u001b[39m[\u001b[32mArray\u001b[39m[\u001b[32mLong\u001b[39m]] = \u001b[33mList\u001b[39m(\n",
       "  \u001b[33mArray\u001b[39m(\n",
       "    \u001b[32m787L\u001b[39m,\n",
       "    \u001b[32m1080L\u001b[39m,\n",
       "    \u001b[32m1533L\u001b[39m,\n",
       "    \u001b[32m2241L\u001b[39m,\n",
       "    \u001b[32m2933L\u001b[39m,\n",
       "    \u001b[32m3311L\u001b[39m,\n",
       "    \u001b[32m3622L\u001b[39m,\n",
       "    \u001b[32m3455L\u001b[39m,\n",
       "    \u001b[32m3283L\u001b[39m,\n",
       "    \u001b[32m3383L\u001b[39m,\n",
       "    \u001b[32m3572L\u001b[39m,\n",
       "    \u001b[32m3651L\u001b[39m,\n",
       "    \u001b[32m3643L\u001b[39m,\n",
       "    \u001b[32m3872L\u001b[39m,\n",
       "    \u001b[32m4224L\u001b[39m,\n",
       "    \u001b[32m4652L\u001b[39m,\n",
       "    \u001b[32m4903L\u001b[39m,\n",
       "    \u001b[32m4783L\u001b[39m,\n",
       "    \u001b[32m4214L\u001b[39m,\n",
       "    \u001b[32m3347L\u001b[39m,\n",
       "    \u001b[32m2297L\u001b[39m,\n",
       "    \u001b[32m1232L\u001b[39m,\n",
       "    \u001b[32m820L\u001b[39m,\n",
       "    \u001b[32m720L\u001b[39m\n",
       "  ),\n",
       "  \u001b[33mArray\u001b[39m(\n",
       "    \u001b[32m457L\u001b[39m,\n",
       "    \u001b[32m652L\u001b[39m,\n",
       "    \u001b[32m917L\u001b[39m,\n",
       "    \u001b[32m1295L\u001b[39m,\n",
       "    \u001b[32m1885L\u001b[39m,\n",
       "    \u001b[32m2198L\u001b[39m,\n",
       "    \u001b[32m2379L\u001b[39m,\n",
       "    \u001b[32m2303L\u001b[39m,\n",
       "    \u001b[32m2607L\u001b[39m,\n",
       "    \u001b[32m2583L\u001b[39m,\n",
       "    \u001b[32m2762L\u001b[39m,\n",
       "..."
      ]
     },
     "execution_count": 25,
     "metadata": {},
     "output_type": "execute_result"
    }
   ],
   "source": [
    "val (xLabelsAggByHour, yAggByHour) = dsAggByHours\n",
    "    .collect\n",
    "    .map(r=>(r.metadata_ownerId.toString, r.sumByHours))\n",
    "    .toList\n",
    "    .unzip"
   ]
  },
  {
   "cell_type": "code",
   "execution_count": 26,
   "metadata": {},
   "outputs": [
    {
     "data": {
      "image/png": "[encoded data removed]"
     },
     "metadata": {
      "height": "2400",
      "width": "3202"
     },
     "output_type": "display_data"
    },
    {
     "data": {
      "text/plain": [
       "\u001b[36mgroupNum\u001b[39m: \u001b[32mInt\u001b[39m = \u001b[32m7\u001b[39m"
      ]
     },
     "execution_count": 26,
     "metadata": {},
     "output_type": "execute_result"
    }
   ],
   "source": [
    "val groupNum = 7\n",
    "\n",
    "showPlot(\n",
    "    BarChart\n",
    "      .stacked(\n",
    "        yAggByHour.map(_.map(_.toDouble).toSeq).toSeq.take(groupNum),\n",
    "        labels = hoursArray.map(_.toString).toSeq,\n",
    "        colors = Color.getDefaultPaletteSeq(hoursArray.length)\n",
    "      )\n",
    "      .title(s\"Самые популярные $groupNum групп, с разбивкой по часам\")\n",
    "      .xAxis(xLabelsAggByHour.take(groupNum))\n",
    "      .yAxis()\n",
    "      .frame()\n",
    "      .bottomLegend()\n",
    "      .render()\n",
    ")"
   ]
  },
  {
   "cell_type": "markdown",
   "metadata": {},
   "source": [
    "---\n",
    "# Задача: Посчитайте корреляцию признаков с целевой переменной"
   ]
  },
  {
   "cell_type": "markdown",
   "metadata": {},
   "source": [
    "Необходимо посчитать кореляцию с наличием или отсутсвием Liked в колонке feedback. Тут подойдет коэффициент ранговой корреляции Спирмена"
   ]
  },
  {
   "cell_type": "code",
   "execution_count": 27,
   "metadata": {},
   "outputs": [
    {
     "data": {
      "text/plain": [
       "\u001b[32mimport \u001b[39m\u001b[36morg.apache.spark.sql.types.DoubleType\n",
       "\u001b[39m\n",
       "\u001b[32mimport \u001b[39m\u001b[36morg.apache.spark.sql.functions.{array_contains, when}\n",
       "\u001b[39m\n",
       "\u001b[32mimport \u001b[39m\u001b[36morg.apache.spark.ml.feature.{StringIndexer, VectorAssembler}\n",
       "\u001b[39m\n",
       "\u001b[32mimport \u001b[39m\u001b[36morg.apache.spark.ml.linalg.{Matrix}\n",
       "\u001b[39m\n",
       "\u001b[32mimport \u001b[39m\u001b[36morg.apache.spark.ml.stat.{Correlation}\n",
       "\u001b[39m\n",
       "\u001b[32mimport \u001b[39m\u001b[36morg.apache.spark.sql.{Row}\u001b[39m"
      ]
     },
     "execution_count": 27,
     "metadata": {},
     "output_type": "execute_result"
    }
   ],
   "source": [
    "import org.apache.spark.sql.types.DoubleType\n",
    "import org.apache.spark.sql.functions.{array_contains, when}\n",
    "import org.apache.spark.ml.feature.{StringIndexer, VectorAssembler}\n",
    "import org.apache.spark.ml.linalg.{Matrix}\n",
    "import org.apache.spark.ml.stat.{Correlation}\n",
    "import org.apache.spark.sql.{Row}"
   ]
  },
  {
   "cell_type": "code",
   "execution_count": 28,
   "metadata": {},
   "outputs": [
    {
     "data": {
      "text/plain": [
       "\u001b[36minColl\u001b[39m: \u001b[32mString\u001b[39m = \u001b[32m\"feedback\"\u001b[39m\n",
       "\u001b[36msearchStr\u001b[39m: \u001b[32mString\u001b[39m = \u001b[32m\"Liked\"\u001b[39m\n",
       "\u001b[36mdfLiked\u001b[39m: \u001b[32mDataFrame\u001b[39m = [instanceId_userId: int, instanceId_objectType: string ... 167 more fields]"
      ]
     },
     "execution_count": 28,
     "metadata": {},
     "output_type": "execute_result"
    }
   ],
   "source": [
    "val inColl = \"feedback\"\n",
    "val searchStr = \"Liked\"\n",
    "\n",
    "val dfLiked = dfRaw.withColumn(searchStr, array_contains(col(inColl),searchStr)).drop(inColl)"
   ]
  },
  {
   "cell_type": "code",
   "execution_count": 29,
   "metadata": {},
   "outputs": [
    {
     "data": {
      "text/plain": [
       "\u001b[36mdfLikedDouble\u001b[39m: \u001b[32mDataFrame\u001b[39m = [instanceId_userId: int, instanceId_objectType: string ... 167 more fields]"
      ]
     },
     "execution_count": 29,
     "metadata": {},
     "output_type": "execute_result"
    }
   ],
   "source": [
    "val dfLikedDouble = dfLiked.withColumn(searchStr, dfLiked(searchStr).cast(DoubleType))"
   ]
  },
  {
   "cell_type": "code",
   "execution_count": 30,
   "metadata": {},
   "outputs": [
    {
     "data": {
      "text/plain": [
       "\u001b[36mPattern\u001b[39m: \u001b[32mscala\u001b[39m.\u001b[32mutil\u001b[39m.\u001b[32mmatching\u001b[39m.\u001b[32mRegex\u001b[39m = (^Array.*)\n",
       "\u001b[36mcolsNumber\u001b[39m: \u001b[32mArrayBuffer\u001b[39m[\u001b[32mString\u001b[39m] = \u001b[33mArrayBuffer\u001b[39m(\n",
       "  \u001b[32m\"instanceId_userId\"\u001b[39m,\n",
       "  \u001b[32m\"instanceId_objectId\"\u001b[39m,\n",
       "  \u001b[32m\"audit_pos\"\u001b[39m,\n",
       "  \u001b[32m\"audit_timestamp\"\u001b[39m,\n",
       "  \u001b[32m\"audit_timePassed\"\u001b[39m,\n",
       "  \u001b[32m\"audit_resourceType\"\u001b[39m,\n",
       "  \u001b[32m\"metadata_ownerId\"\u001b[39m,\n",
       "  \u001b[32m\"metadata_createdAt\"\u001b[39m,\n",
       "  \u001b[32m\"metadata_authorId\"\u001b[39m,\n",
       "  \u001b[32m\"metadata_applicationId\"\u001b[39m,\n",
       "  \u001b[32m\"metadata_numCompanions\"\u001b[39m,\n",
       "  \u001b[32m\"metadata_numPhotos\"\u001b[39m,\n",
       "  \u001b[32m\"metadata_numPolls\"\u001b[39m,\n",
       "  \u001b[32m\"metadata_numSymbols\"\u001b[39m,\n",
       "  \u001b[32m\"metadata_numTokens\"\u001b[39m,\n",
       "  \u001b[32m\"metadata_numVideos\"\u001b[39m,\n",
       "  \u001b[32m\"metadata_totalVideoLength\"\u001b[39m,\n",
       "  \u001b[32m\"relationsMask\"\u001b[39m,\n",
       "  \u001b[32m\"userOwnerCounters_USER_FEED_REMOVE\"\u001b[39m,\n",
       "  \u001b[32m\"userOwnerCounters_USER_PROFILE_VIEW\"\u001b[39m,\n",
       "  \u001b[32m\"userOwnerCounters_VOTE_POLL\"\u001b[39m,\n",
       "  \u001b[32m\"userOwnerCounters_USER_SEND_MESSAGE\"\u001b[39m,\n",
       "  \u001b[32m\"userOwnerCounters_USER_DELETE_MESSAGE\"\u001b[39m,\n",
       "  \u001b[32m\"userOwnerCounters_USER_INTERNAL_LIKE\"\u001b[39m,\n",
       "  \u001b[32m\"userOwnerCounters_USER_INTERNAL_UNLIKE\"\u001b[39m,\n",
       "  \u001b[32m\"userOwnerCounters_USER_STATUS_COMMENT_CREATE\"\u001b[39m,\n",
       "  \u001b[32m\"userOwnerCounters_PHOTO_COMMENT_CREATE\"\u001b[39m,\n",
       "  \u001b[32m\"userOwnerCounters_MOVIE_COMMENT_CREATE\"\u001b[39m,\n",
       "  \u001b[32m\"userOwnerCounters_USER_PHOTO_ALBUM_COMMENT_CREATE\"\u001b[39m,\n",
       "  \u001b[32m\"userOwnerCounters_COMMENT_INTERNAL_LIKE\"\u001b[39m,\n",
       "  \u001b[32m\"userOwnerCounters_USER_FORUM_MESSAGE_CREATE\"\u001b[39m,\n",
       "  \u001b[32m\"userOwnerCounters_PHOTO_MARK_CREATE\"\u001b[39m,\n",
       "  \u001b[32m\"userOwnerCounters_PHOTO_VIEW\"\u001b[39m,\n",
       "  \u001b[32m\"userOwnerCounters_PHOTO_PIN_BATCH_CREATE\"\u001b[39m,\n",
       "  \u001b[32m\"userOwnerCounters_PHOTO_PIN_UPDATE\"\u001b[39m,\n",
       "  \u001b[32m\"userOwnerCounters_USER_PRESENT_SEND\"\u001b[39m,\n",
       "  \u001b[32m\"userOwnerCounters_UNKNOWN\"\u001b[39m,\n",
       "  \u001b[32m\"userOwnerCounters_CREATE_TOPIC\"\u001b[39m,\n",
       "...\n",
       "\u001b[36mcolsString\u001b[39m: \u001b[32mArrayBuffer\u001b[39m[\u001b[32mString\u001b[39m] = \u001b[33mArrayBuffer\u001b[39m(\n",
       "  \u001b[32m\"instanceId_objectType\"\u001b[39m,\n",
       "  \u001b[32m\"audit_clientType\"\u001b[39m,\n",
       "  \u001b[32m\"audit_experiment\"\u001b[39m,\n",
       "  \u001b[32m\"metadata_ownerType\"\u001b[39m,\n",
       "  \u001b[32m\"metadata_platform\"\u001b[39m,\n",
       "  \u001b[32m\"membership_status\"\u001b[39m\n",
       ")\n",
       "\u001b[36mcolsArray\u001b[39m: \u001b[32mArrayBuffer\u001b[39m[\u001b[32mString\u001b[39m] = \u001b[33mArrayBuffer\u001b[39m(\u001b[32m\"metadata_options\"\u001b[39m)\n",
       "\u001b[36mcolsUnknown\u001b[39m: \u001b[32mArrayBuffer\u001b[39m[\u001b[32mString\u001b[39m] = \u001b[33mArrayBuffer\u001b[39m(\u001b[32m\"date\"\u001b[39m)"
      ]
     },
     "execution_count": 30,
     "metadata": {},
     "output_type": "execute_result"
    }
   ],
   "source": [
    "val Pattern = \"(^Array.*)\".r\n",
    "\n",
    "val colsNumber  = ArrayBuffer[String]()\n",
    "val colsString  = ArrayBuffer[String]()\n",
    "val colsArray   = ArrayBuffer[String]()\n",
    "val colsUnknown = ArrayBuffer[String]()\n",
    "\n",
    "dfLikedDouble\n",
    "    .dtypes\n",
    "    .foreach(ct=>{\n",
    "        val (c,t) = ct\n",
    "        t match {\n",
    "            case \"IntegerType\"| \"LongType\" | \"DoubleType\" => colsNumber+=c\n",
    "            case \"StringType\"                             => colsString+=c\n",
    "            case Pattern(_)                               => colsArray+=c\n",
    "            case _                                        => colsUnknown+=c\n",
    "        }\n",
    "    })"
   ]
  },
  {
   "cell_type": "code",
   "execution_count": 31,
   "metadata": {},
   "outputs": [
    {
     "data": {
      "text/html": [
       "<div>\n",
       "  <span style=\"float: left;\">collect at cmd30.sc:3</span>\n",
       "</div>\n"
      ]
     },
     "metadata": {},
     "output_type": "display_data"
    },
    {
     "data": {
      "text/html": [
       "<div class=\"progress\">\n",
       "  <div class=\"progress-bar\" role=\"progressbar\" style=\"background-color: blue; width: 100%; word-wrap: normal; white-space: nowrap; text-align: center; color: white\" aria-valuenow=\"100\" aria-valuemin=\"0\" aria-valuemax=\"100\">\n",
       "    28 / 28\n",
       "  </div>\n",
       "  <div class=\"progress-bar\" role=\"progressbar\" style=\"background-color: red; width: 0%\" aria-valuenow=\"0\" aria-valuemin=\"0\" aria-valuemax=\"100\"></div>\n",
       "</div>\n"
      ]
     },
     "metadata": {},
     "output_type": "display_data"
    },
    {
     "data": {
      "text/html": [
       "<div>\n",
       "  <span style=\"float: left;\">collect at cmd30.sc:3</span>\n",
       "</div>\n"
      ]
     },
     "metadata": {},
     "output_type": "display_data"
    },
    {
     "data": {
      "text/html": [
       "<div class=\"progress\">\n",
       "  <div class=\"progress-bar\" role=\"progressbar\" style=\"background-color: blue; width: 100%; word-wrap: normal; white-space: nowrap; text-align: center; color: white\" aria-valuenow=\"100\" aria-valuemin=\"0\" aria-valuemax=\"100\">\n",
       "    200 / 200\n",
       "  </div>\n",
       "  <div class=\"progress-bar\" role=\"progressbar\" style=\"background-color: red; width: 0%\" aria-valuenow=\"0\" aria-valuemin=\"0\" aria-valuemax=\"100\"></div>\n",
       "</div>\n"
      ]
     },
     "metadata": {},
     "output_type": "display_data"
    },
    {
     "data": {
      "text/plain": [
       "\u001b[36mcolArray\u001b[39m: \u001b[32mString\u001b[39m = \u001b[32m\"metadata_options\"\u001b[39m\n",
       "\u001b[36marrayValue\u001b[39m: \u001b[32mArray\u001b[39m[\u001b[32mString\u001b[39m] = \u001b[33mArray\u001b[39m(\n",
       "  \u001b[32m\"IS_GIF\"\u001b[39m,\n",
       "  \u001b[32m\"IS_DISGUSTING\"\u001b[39m,\n",
       "  \u001b[32m\"IS_PART_OF_TOPIC\"\u001b[39m,\n",
       "  \u001b[32m\"HAS_PINS\"\u001b[39m,\n",
       "  \u001b[32m\"HAS_PHOTOS\"\u001b[39m,\n",
       "  \u001b[32m\"HAS_TEXT\"\u001b[39m,\n",
       "  \u001b[32m\"HAS_CHEATED_TEXT\"\u001b[39m,\n",
       "  \u001b[32m\"HAS_POLLS\"\u001b[39m,\n",
       "  \u001b[32m\"IS_PART_OF_ALBUM\"\u001b[39m,\n",
       "  \u001b[32m\"HAS_DETECTED_TEXT\"\u001b[39m,\n",
       "  \u001b[32m\"IS_CENSORED\"\u001b[39m,\n",
       "  \u001b[32m\"HAS_VIDEOS\"\u001b[39m,\n",
       "  \u001b[32m\"IS_PROMO\"\u001b[39m,\n",
       "  \u001b[32m\"HAS_URLS\"\u001b[39m,\n",
       "  \u001b[32m\"HAS_COMPANIONS\"\u001b[39m,\n",
       "  \u001b[32m\"HAS_MUSIC\"\u001b[39m,\n",
       "  \u001b[32m\"IS_EXTERNAL_SHARE\"\u001b[39m,\n",
       "  \u001b[32m\"IS_INTERNAL_GROUP_SHARE\"\u001b[39m,\n",
       "  \u001b[32m\"IS_INTERNAL_SHARE\"\u001b[39m\n",
       ")"
      ]
     },
     "execution_count": 31,
     "metadata": {},
     "output_type": "execute_result"
    }
   ],
   "source": [
    "val colArray = colsArray(0)\n",
    "val arrayValue = dfLikedDouble\n",
    "    .select(explode(col(colArray)))\n",
    "    .distinct\n",
    "    .collect\n",
    "    .map(_.toSeq(0).toString)"
   ]
  },
  {
   "cell_type": "code",
   "execution_count": 32,
   "metadata": {},
   "outputs": [
    {
     "data": {
      "text/plain": [
       "defined \u001b[32mfunction\u001b[39m \u001b[36marrayToCol\u001b[39m"
      ]
     },
     "execution_count": 32,
     "metadata": {},
     "output_type": "execute_result"
    }
   ],
   "source": [
    "def arrayToCol(df:DataFrame, column:String, arrVal:Array[String]) = {\n",
    "    var dfRes = df\n",
    "    for (c<-arrVal){\n",
    "        dfRes = dfRes.withColumn(column+\"_\"+c,\n",
    "            array_contains(col(column),c).cast(DoubleType))\n",
    "    }\n",
    "    dfRes.drop(column)\n",
    "}"
   ]
  },
  {
   "cell_type": "code",
   "execution_count": 33,
   "metadata": {},
   "outputs": [
    {
     "data": {
      "text/plain": [
       "\u001b[36mdfLikedDoubleNoArray\u001b[39m: \u001b[32mDataFrame\u001b[39m = [instanceId_userId: int, instanceId_objectType: string ... 185 more fields]"
      ]
     },
     "execution_count": 33,
     "metadata": {},
     "output_type": "execute_result"
    }
   ],
   "source": [
    "val dfLikedDoubleNoArray = arrayToCol(df=dfLikedDouble, column=colArray, arrVal=arrayValue)"
   ]
  },
  {
   "cell_type": "code",
   "execution_count": 34,
   "metadata": {},
   "outputs": [
    {
     "data": {
      "text/plain": [
       "defined \u001b[32mfunction\u001b[39m \u001b[36mcolsToIndex\u001b[39m"
      ]
     },
     "execution_count": 34,
     "metadata": {},
     "output_type": "execute_result"
    }
   ],
   "source": [
    "def colsToIndex(df:DataFrame, colsName:Array[String]) = {\n",
    "    val colsNameIndex = colsName.map(c=>{c+\"_index\"})\n",
    "    \n",
    "    val indexer = new StringIndexer()\n",
    "      .setInputCols(colsName)\n",
    "      .setOutputCols(colsNameIndex)\n",
    "    \n",
    "    val indexed = indexer\n",
    "        .setHandleInvalid(\"keep\")\n",
    "        .fit(df)\n",
    "        .transform(df)\n",
    "    \n",
    "    indexed.drop(colsName: _*)\n",
    "}"
   ]
  },
  {
   "cell_type": "code",
   "execution_count": 35,
   "metadata": {},
   "outputs": [
    {
     "data": {
      "text/html": [
       "<div>\n",
       "  <span style=\"float: left;\">collect at StringIndexer.scala:204</span>\n",
       "</div>\n"
      ]
     },
     "metadata": {},
     "output_type": "display_data"
    },
    {
     "data": {
      "text/html": [
       "<div class=\"progress\">\n",
       "  <div class=\"progress-bar\" role=\"progressbar\" style=\"background-color: blue; width: 100%; word-wrap: normal; white-space: nowrap; text-align: center; color: white\" aria-valuenow=\"100\" aria-valuemin=\"0\" aria-valuemax=\"100\">\n",
       "    28 / 28\n",
       "  </div>\n",
       "  <div class=\"progress-bar\" role=\"progressbar\" style=\"background-color: red; width: 0%\" aria-valuenow=\"0\" aria-valuemin=\"0\" aria-valuemax=\"100\"></div>\n",
       "</div>\n"
      ]
     },
     "metadata": {},
     "output_type": "display_data"
    },
    {
     "data": {
      "text/html": [
       "<div>\n",
       "  <span style=\"float: left;\">collect at StringIndexer.scala:204</span>\n",
       "</div>\n"
      ]
     },
     "metadata": {},
     "output_type": "display_data"
    },
    {
     "data": {
      "text/html": [
       "<div class=\"progress\">\n",
       "  <div class=\"progress-bar\" role=\"progressbar\" style=\"background-color: blue; width: 100%; word-wrap: normal; white-space: nowrap; text-align: center; color: white\" aria-valuenow=\"100\" aria-valuemin=\"0\" aria-valuemax=\"100\">\n",
       "    1 / 1\n",
       "  </div>\n",
       "  <div class=\"progress-bar\" role=\"progressbar\" style=\"background-color: red; width: 0%\" aria-valuenow=\"0\" aria-valuemin=\"0\" aria-valuemax=\"100\"></div>\n",
       "</div>\n"
      ]
     },
     "metadata": {},
     "output_type": "display_data"
    },
    {
     "data": {
      "text/plain": [
       "\u001b[36mdfStringIndexer\u001b[39m: \u001b[32mDataFrame\u001b[39m = [instanceId_userId: int, instanceId_objectId: int ... 184 more fields]"
      ]
     },
     "execution_count": 35,
     "metadata": {},
     "output_type": "execute_result"
    }
   ],
   "source": [
    "val dfStringIndexer = colsToIndex(dfLikedDoubleNoArray, colsString.toArray).drop(colsUnknown: _*)"
   ]
  },
  {
   "cell_type": "code",
   "execution_count": 36,
   "metadata": {},
   "outputs": [
    {
     "data": {
      "text/plain": [
       "\u001b[36mexprs\u001b[39m: \u001b[32mArray\u001b[39m[\u001b[32mColumn\u001b[39m] = \u001b[33mArray\u001b[39m(\n",
       "  CAST(instanceId_userId AS DOUBLE),\n",
       "  CAST(instanceId_objectId AS DOUBLE),\n",
       "  CAST(audit_pos AS DOUBLE),\n",
       "  CAST(audit_timestamp AS DOUBLE),\n",
       "  CAST(audit_timePassed AS DOUBLE),\n",
       "  CAST(audit_resourceType AS DOUBLE),\n",
       "  CAST(metadata_ownerId AS DOUBLE),\n",
       "  CAST(metadata_createdAt AS DOUBLE),\n",
       "  CAST(metadata_authorId AS DOUBLE),\n",
       "  CAST(metadata_applicationId AS DOUBLE),\n",
       "  CAST(metadata_numCompanions AS DOUBLE),\n",
       "  CAST(metadata_numPhotos AS DOUBLE),\n",
       "  CAST(metadata_numPolls AS DOUBLE),\n",
       "  CAST(metadata_numSymbols AS DOUBLE),\n",
       "  CAST(metadata_numTokens AS DOUBLE),\n",
       "  CAST(metadata_numVideos AS DOUBLE),\n",
       "  CAST(metadata_totalVideoLength AS DOUBLE),\n",
       "  CAST(relationsMask AS DOUBLE),\n",
       "  CAST(userOwnerCounters_USER_FEED_REMOVE AS DOUBLE),\n",
       "  CAST(userOwnerCounters_USER_PROFILE_VIEW AS DOUBLE),\n",
       "  CAST(userOwnerCounters_VOTE_POLL AS DOUBLE),\n",
       "  CAST(userOwnerCounters_USER_SEND_MESSAGE AS DOUBLE),\n",
       "  CAST(userOwnerCounters_USER_DELETE_MESSAGE AS DOUBLE),\n",
       "  CAST(userOwnerCounters_USER_INTERNAL_LIKE AS DOUBLE),\n",
       "  CAST(userOwnerCounters_USER_INTERNAL_UNLIKE AS DOUBLE),\n",
       "  CAST(userOwnerCounters_USER_STATUS_COMMENT_CREATE AS DOUBLE),\n",
       "  CAST(userOwnerCounters_PHOTO_COMMENT_CREATE AS DOUBLE),\n",
       "  CAST(userOwnerCounters_MOVIE_COMMENT_CREATE AS DOUBLE),\n",
       "  CAST(userOwnerCounters_USER_PHOTO_ALBUM_COMMENT_CREATE AS DOUBLE),\n",
       "  CAST(userOwnerCounters_COMMENT_INTERNAL_LIKE AS DOUBLE),\n",
       "  CAST(userOwnerCounters_USER_FORUM_MESSAGE_CREATE AS DOUBLE),\n",
       "  CAST(userOwnerCounters_PHOTO_MARK_CREATE AS DOUBLE),\n",
       "  CAST(userOwnerCounters_PHOTO_VIEW AS DOUBLE),\n",
       "  CAST(userOwnerCounters_PHOTO_PIN_BATCH_CREATE AS DOUBLE),\n",
       "  CAST(userOwnerCounters_PHOTO_PIN_UPDATE AS DOUBLE),\n",
       "  CAST(userOwnerCounters_USER_PRESENT_SEND AS DOUBLE),\n",
       "  CAST(userOwnerCounters_UNKNOWN AS DOUBLE),\n",
       "  CAST(userOwnerCounters_CREATE_TOPIC AS DOUBLE),\n",
       "...\n",
       "\u001b[36mdfDouble\u001b[39m: \u001b[32mDataFrame\u001b[39m = [instanceId_userId: double, instanceId_objectId: double ... 184 more fields]"
      ]
     },
     "execution_count": 36,
     "metadata": {},
     "output_type": "execute_result"
    }
   ],
   "source": [
    "val exprs = dfStringIndexer\n",
    "    .columns\n",
    "    .map(\n",
    "        c => col(c)\n",
    "            .cast(\"double\")\n",
    "    )\n",
    "val dfDouble = dfStringIndexer.select(exprs: _*)"
   ]
  },
  {
   "cell_type": "code",
   "execution_count": 37,
   "metadata": {},
   "outputs": [
    {
     "data": {
      "text/plain": [
       "defined \u001b[32mfunction\u001b[39m \u001b[36mgetColumnsCorr\u001b[39m"
      ]
     },
     "execution_count": 37,
     "metadata": {},
     "output_type": "execute_result"
    }
   ],
   "source": [
    "def getColumnsCorr(df:DataFrame, columns:Array[String]):Array[Double]={\n",
    "    val assembler = new VectorAssembler()\n",
    "        .setInputCols(columns)\n",
    "        .setOutputCol(\"features\")\n",
    "    \n",
    "    val output = assembler\n",
    "        .transform(df)\n",
    "    \n",
    "    val Row(coeff: Matrix) = Correlation.corr(\n",
    "                dataset=output,\n",
    "                column=\"features\",\n",
    "                method=\"spearman\"\n",
    "            ).head\n",
    "    \n",
    "    coeff.toArray.slice(1, coeff.numRows)\n",
    "}"
   ]
  },
  {
   "cell_type": "code",
   "execution_count": 37,
   "metadata": {
    "scrolled": true
   },
   "outputs": [],
   "source": [
    "// тут мы пропустим так как долго считается и я сохранил в фаил\n",
    "\n",
    "\n",
    "/*\n",
    "\n",
    "val arr:ArrayBuffer[(String, Array[Double])]=ArrayBuffer()\n",
    "// реализуем c поколоночным удалением null, чтобы увеличить качество поиска корреляции\n",
    "// запустим без оптимизации, \n",
    "\n",
    "for (c<-dfDouble.columns){\n",
    "    println(\"Start for column \"+c)\n",
    "    val df = dfDouble.select(searchStr, c).na.drop()\n",
    "    if (df.count>1){\n",
    "        arr.append((c, getColumnsCorr(df, Array(searchStr, c))))\n",
    "    }else{\n",
    "        arr.append((c, Array[Double]()))\n",
    "    }\n",
    "}\n",
    "\n",
    "val dfArr = arr.toDF(\"column_name\", \"correlations\")\n",
    "                .select(col(\"column_name\"), explode(col(\"correlations\")))\n",
    "dfArr.write.format(\"csv\").save(\"liked_correlations\")\n",
    "\n",
    "*/"
   ]
  },
  {
   "cell_type": "code",
   "execution_count": 38,
   "metadata": {},
   "outputs": [
    {
     "data": {
      "text/plain": [
       "\u001b[32mimport \u001b[39m\u001b[36morg.apache.spark.sql.types._\n",
       "\n",
       "\u001b[39m\n",
       "\u001b[36mcustomSchema\u001b[39m: \u001b[32mStructType\u001b[39m = \u001b[33mStructType\u001b[39m(\n",
       "  \u001b[33mStructField\u001b[39m(\u001b[32m\"column_name\"\u001b[39m, StringType, true, {}),\n",
       "  \u001b[33mStructField\u001b[39m(\u001b[32m\"col\"\u001b[39m, DoubleType, true, {})\n",
       ")\n",
       "\u001b[36mdfArr\u001b[39m: \u001b[32mDataFrame\u001b[39m = [column_name: string, col: double]"
      ]
     },
     "execution_count": 38,
     "metadata": {},
     "output_type": "execute_result"
    }
   ],
   "source": [
    "import org.apache.spark.sql.types._\n",
    "\n",
    "val customSchema = StructType(Array(\n",
    "    StructField(\"column_name\",StringType,true),\n",
    "    StructField(\"col\",DoubleType,true)\n",
    "  ))\n",
    "\n",
    "val dfArr = spark.read\n",
    "    .format(\"csv\")\n",
    "    .schema(customSchema)\n",
    "    .load(\"liked_correlations\")"
   ]
  },
  {
   "cell_type": "code",
   "execution_count": 39,
   "metadata": {
    "scrolled": false
   },
   "outputs": [
    {
     "data": {
      "text/html": [
       "<div>\n",
       "  <span style=\"float: left;\">count at cmd38.sc:1</span>\n",
       "</div>\n"
      ]
     },
     "metadata": {},
     "output_type": "display_data"
    },
    {
     "data": {
      "text/html": [
       "<div class=\"progress\">\n",
       "  <div class=\"progress-bar\" role=\"progressbar\" style=\"background-color: blue; width: 100%; word-wrap: normal; white-space: nowrap; text-align: center; color: white\" aria-valuenow=\"100\" aria-valuemin=\"0\" aria-valuemax=\"100\">\n",
       "    16 / 16\n",
       "  </div>\n",
       "  <div class=\"progress-bar\" role=\"progressbar\" style=\"background-color: red; width: 0%\" aria-valuenow=\"0\" aria-valuemin=\"0\" aria-valuemax=\"100\"></div>\n",
       "</div>\n"
      ]
     },
     "metadata": {},
     "output_type": "display_data"
    },
    {
     "data": {
      "text/html": [
       "<div>\n",
       "  <span style=\"float: left;\">count at cmd38.sc:1</span>\n",
       "</div>\n"
      ]
     },
     "metadata": {},
     "output_type": "display_data"
    },
    {
     "data": {
      "text/html": [
       "<div class=\"progress\">\n",
       "  <div class=\"progress-bar\" role=\"progressbar\" style=\"background-color: blue; width: 100%; word-wrap: normal; white-space: nowrap; text-align: center; color: white\" aria-valuenow=\"100\" aria-valuemin=\"0\" aria-valuemax=\"100\">\n",
       "    1 / 1\n",
       "  </div>\n",
       "  <div class=\"progress-bar\" role=\"progressbar\" style=\"background-color: red; width: 0%\" aria-valuenow=\"0\" aria-valuemin=\"0\" aria-valuemax=\"100\"></div>\n",
       "</div>\n"
      ]
     },
     "metadata": {},
     "output_type": "display_data"
    },
    {
     "data": {
      "text/html": [
       "<div>\n",
       "  <span style=\"float: left;\">show at cmd38.sc:1</span>\n",
       "</div>\n"
      ]
     },
     "metadata": {},
     "output_type": "display_data"
    },
    {
     "data": {
      "text/html": [
       "<div class=\"progress\">\n",
       "  <div class=\"progress-bar\" role=\"progressbar\" style=\"background-color: blue; width: 100%; word-wrap: normal; white-space: nowrap; text-align: center; color: white\" aria-valuenow=\"100\" aria-valuemin=\"0\" aria-valuemax=\"100\">\n",
       "    16 / 16\n",
       "  </div>\n",
       "  <div class=\"progress-bar\" role=\"progressbar\" style=\"background-color: red; width: 0%\" aria-valuenow=\"0\" aria-valuemin=\"0\" aria-valuemax=\"100\"></div>\n",
       "</div>\n"
      ]
     },
     "metadata": {},
     "output_type": "display_data"
    },
    {
     "name": "stdout",
     "output_type": "stream",
     "text": [
      "+----------------------------------------+-------------------+\n",
      "|column_name                             |col                |\n",
      "+----------------------------------------+-------------------+\n",
      "|Liked                                   |1.000000000000001  |\n",
      "|metadata_applicationId                  |0.4847094820913141 |\n",
      "|user_is_activated                       |0.48470206074518485|\n",
      "|metadata_options_IS_PROMO               |0.48469151908507674|\n",
      "|user_is_abused                          |0.48466930344224896|\n",
      "|user_is_deleted                         |0.4846691615314339 |\n",
      "|user_is_active                          |0.48456357734450944|\n",
      "|metadata_options_HAS_CHEATED_TEXT       |0.4843772141501115 |\n",
      "|metadata_options_IS_CENSORED            |0.48422887483666766|\n",
      "|metadata_options_IS_DISGUSTING          |0.48384091596871376|\n",
      "|metadata_options_HAS_PINS               |0.48362503362975706|\n",
      "|metadata_numCompanions                  |0.48326969263784825|\n",
      "|metadata_options_HAS_COMPANIONS         |0.4831335013335613 |\n",
      "|metadata_options_HAS_MUSIC              |0.4791801599830828 |\n",
      "|metadata_options_IS_GIF                 |0.47672921202963575|\n",
      "|metadata_options_HAS_POLLS              |0.4747355753803055 |\n",
      "|metadata_numPolls                       |0.4746774404749545 |\n",
      "|metadata_options_IS_INTERNAL_GROUP_SHARE|0.4662795854188422 |\n",
      "|metadata_options_HAS_DETECTED_TEXT      |0.4525784980874294 |\n",
      "|user_is_semiactivated                   |0.4508272268228533 |\n",
      "|auditweights_isRandom                   |0.45015218237803584|\n",
      "|user_status                             |0.4459783005453967 |\n",
      "|metadata_totalVideoLength               |0.44314641952451533|\n",
      "|metadata_options_IS_INTERNAL_SHARE      |0.4429325362331858 |\n",
      "|metadata_options_IS_PART_OF_TOPIC       |0.4372373171471592 |\n",
      "|metadata_options_IS_PART_OF_ALBUM       |0.39937522414930093|\n",
      "|metadata_options_HAS_URLS               |0.3892234720932033 |\n",
      "|metadata_numVideos                      |0.388041575866073  |\n",
      "|instanceId_objectType_index             |0.3794881281281238 |\n",
      "|audit_resourceType                      |0.3693166588663415 |\n",
      "|metadata_ownerType_index                |0.35758254755295366|\n",
      "|metadata_options_HAS_VIDEOS             |0.3442739185544492 |\n",
      "|auditweights_svd_spark                  |0.3184993837252577 |\n",
      "|metadata_options_HAS_PHOTOS             |0.3181156961797887 |\n",
      "|auditweights_svd_prelaunch              |0.3076564985962423 |\n",
      "+----------------------------------------+-------------------+\n",
      "\n"
     ]
    }
   ],
   "source": [
    "// посмотрим где есть корреляция Спирмена больше 0.4\n",
    "\n",
    "dfArr.filter(!col(\"col\").isNaN && col(\"col\") > 0.3).sort(col(\"col\").desc).show(dfArr.count.toInt, false)"
   ]
  },
  {
   "cell_type": "markdown",
   "metadata": {},
   "source": [
    "---\n",
    "# Задача: Найдите другие интересные инсайты в данных"
   ]
  },
  {
   "cell_type": "markdown",
   "metadata": {},
   "source": [
    "## Заполним правильно null"
   ]
  },
  {
   "cell_type": "code",
   "execution_count": 40,
   "metadata": {},
   "outputs": [
    {
     "data": {
      "text/html": [
       "<div>\n",
       "  <span style=\"float: left;\">load at cmd39.sc:1</span>\n",
       "</div>\n"
      ]
     },
     "metadata": {},
     "output_type": "display_data"
    },
    {
     "data": {
      "text/html": [
       "<div class=\"progress\">\n",
       "  <div class=\"progress-bar\" role=\"progressbar\" style=\"background-color: blue; width: 100%; word-wrap: normal; white-space: nowrap; text-align: center; color: white\" aria-valuenow=\"100\" aria-valuemin=\"0\" aria-valuemax=\"100\">\n",
       "    1 / 1\n",
       "  </div>\n",
       "  <div class=\"progress-bar\" role=\"progressbar\" style=\"background-color: red; width: 0%\" aria-valuenow=\"0\" aria-valuemin=\"0\" aria-valuemax=\"100\"></div>\n",
       "</div>\n"
      ]
     },
     "metadata": {},
     "output_type": "display_data"
    },
    {
     "data": {
      "text/html": [
       "<div>\n",
       "  <span style=\"float: left;\">take at cmd2.sc:6</span>\n",
       "</div>\n"
      ]
     },
     "metadata": {},
     "output_type": "display_data"
    },
    {
     "data": {
      "text/html": [
       "<div class=\"progress\">\n",
       "  <div class=\"progress-bar\" role=\"progressbar\" style=\"background-color: blue; width: 100%; word-wrap: normal; white-space: nowrap; text-align: center; color: white\" aria-valuenow=\"100\" aria-valuemin=\"0\" aria-valuemax=\"100\">\n",
       "    1 / 1\n",
       "  </div>\n",
       "  <div class=\"progress-bar\" role=\"progressbar\" style=\"background-color: red; width: 0%\" aria-valuenow=\"0\" aria-valuemin=\"0\" aria-valuemax=\"100\"></div>\n",
       "</div>\n"
      ]
     },
     "metadata": {},
     "output_type": "display_data"
    },
    {
     "data": {
      "text/html": [
       "<div>\n",
       "  <span style=\"float: left;\">take at cmd2.sc:6</span>\n",
       "</div>\n"
      ]
     },
     "metadata": {},
     "output_type": "display_data"
    },
    {
     "data": {
      "text/html": [
       "<div class=\"progress\">\n",
       "  <div class=\"progress-bar\" role=\"progressbar\" style=\"background-color: blue; width: 100%; word-wrap: normal; white-space: nowrap; text-align: center; color: white\" aria-valuenow=\"100\" aria-valuemin=\"0\" aria-valuemax=\"100\">\n",
       "    4 / 4\n",
       "  </div>\n",
       "  <div class=\"progress-bar\" role=\"progressbar\" style=\"background-color: red; width: 0%\" aria-valuenow=\"0\" aria-valuemin=\"0\" aria-valuemax=\"100\"></div>\n",
       "</div>\n"
      ]
     },
     "metadata": {},
     "output_type": "display_data"
    },
    {
     "data": {
      "text/html": [
       "<div>\n",
       "  <span style=\"float: left;\">take at cmd2.sc:6</span>\n",
       "</div>\n"
      ]
     },
     "metadata": {},
     "output_type": "display_data"
    },
    {
     "data": {
      "text/html": [
       "<div class=\"progress\">\n",
       "  <div class=\"progress-bar\" role=\"progressbar\" style=\"background-color: blue; width: 100%; word-wrap: normal; white-space: nowrap; text-align: center; color: white\" aria-valuenow=\"100\" aria-valuemin=\"0\" aria-valuemax=\"100\">\n",
       "    3 / 3\n",
       "  </div>\n",
       "  <div class=\"progress-bar\" role=\"progressbar\" style=\"background-color: red; width: 0%\" aria-valuenow=\"0\" aria-valuemin=\"0\" aria-valuemax=\"100\"></div>\n",
       "</div>\n"
      ]
     },
     "metadata": {},
     "output_type": "display_data"
    },
    {
     "data": {
      "text/html": [
       " <table>\n",
       "                <tr>\n",
       "                 <th>summary</th><th>instanceId_userId</th><th>instanceId_objectId</th><th>audit_pos</th><th>audit_timestamp</th><th>audit_timePassed</th><th>audit_resourceType</th><th>metadata_ownerId</th><th>metadata_createdAt</th><th>metadata_authorId</th><th>metadata_applicationId</th><th>metadata_numCompanions</th><th>metadata_numPhotos</th><th>metadata_numPolls</th><th>metadata_numSymbols</th><th>metadata_numTokens</th><th>metadata_numVideos</th><th>metadata_totalVideoLength</th><th>relationsMask</th><th>userOwnerCounters_USER_FEED_REMOVE</th><th>userOwnerCounters_USER_PROFILE_VIEW</th><th>userOwnerCounters_VOTE_POLL</th><th>userOwnerCounters_USER_SEND_MESSAGE</th><th>userOwnerCounters_USER_DELETE_MESSAGE</th><th>userOwnerCounters_USER_INTERNAL_LIKE</th><th>userOwnerCounters_USER_INTERNAL_UNLIKE</th><th>userOwnerCounters_USER_STATUS_COMMENT_CREATE</th><th>userOwnerCounters_PHOTO_COMMENT_CREATE</th><th>userOwnerCounters_MOVIE_COMMENT_CREATE</th><th>userOwnerCounters_USER_PHOTO_ALBUM_COMMENT_CREATE</th><th>userOwnerCounters_COMMENT_INTERNAL_LIKE</th><th>userOwnerCounters_USER_FORUM_MESSAGE_CREATE</th><th>userOwnerCounters_PHOTO_MARK_CREATE</th><th>userOwnerCounters_PHOTO_VIEW</th><th>userOwnerCounters_PHOTO_PIN_BATCH_CREATE</th><th>userOwnerCounters_PHOTO_PIN_UPDATE</th><th>userOwnerCounters_USER_PRESENT_SEND</th><th>userOwnerCounters_UNKNOWN</th><th>userOwnerCounters_CREATE_TOPIC</th><th>userOwnerCounters_CREATE_IMAGE</th><th>userOwnerCounters_CREATE_MOVIE</th><th>userOwnerCounters_CREATE_COMMENT</th><th>userOwnerCounters_CREATE_LIKE</th><th>userOwnerCounters_TEXT</th><th>userOwnerCounters_IMAGE</th><th>userOwnerCounters_VIDEO</th><th>ownerUserCounters_USER_FEED_REMOVE</th><th>ownerUserCounters_USER_PROFILE_VIEW</th><th>ownerUserCounters_VOTE_POLL</th><th>ownerUserCounters_USER_SEND_MESSAGE</th><th>ownerUserCounters_USER_DELETE_MESSAGE</th><th>ownerUserCounters_USER_INTERNAL_LIKE</th><th>ownerUserCounters_USER_INTERNAL_UNLIKE</th><th>ownerUserCounters_USER_STATUS_COMMENT_CREATE</th><th>ownerUserCounters_PHOTO_COMMENT_CREATE</th><th>ownerUserCounters_MOVIE_COMMENT_CREATE</th><th>ownerUserCounters_USER_PHOTO_ALBUM_COMMENT_CREATE</th><th>ownerUserCounters_COMMENT_INTERNAL_LIKE</th><th>ownerUserCounters_USER_FORUM_MESSAGE_CREATE</th><th>ownerUserCounters_PHOTO_MARK_CREATE</th><th>ownerUserCounters_PHOTO_VIEW</th><th>ownerUserCounters_PHOTO_PIN_BATCH_CREATE</th><th>ownerUserCounters_PHOTO_PIN_UPDATE</th><th>ownerUserCounters_USER_PRESENT_SEND</th><th>ownerUserCounters_UNKNOWN</th><th>ownerUserCounters_CREATE_TOPIC</th><th>ownerUserCounters_CREATE_IMAGE</th><th>ownerUserCounters_CREATE_MOVIE</th><th>ownerUserCounters_CREATE_COMMENT</th><th>ownerUserCounters_CREATE_LIKE</th><th>ownerUserCounters_TEXT</th><th>ownerUserCounters_IMAGE</th><th>ownerUserCounters_VIDEO</th><th>membership_statusUpdateDate</th><th>membership_joinDate</th><th>membership_joinRequestDate</th><th>owner_create_date</th><th>owner_birth_date</th><th>owner_gender</th><th>owner_status</th><th>owner_ID_country</th><th>owner_ID_Location</th><th>owner_is_active</th><th>owner_is_deleted</th><th>owner_is_abused</th><th>owner_is_activated</th><th>owner_change_datime</th><th>owner_is_semiactivated</th><th>owner_region</th><th>user_create_date</th><th>user_birth_date</th><th>user_gender</th><th>user_status</th><th>user_ID_country</th><th>user_ID_Location</th><th>user_is_active</th><th>user_is_deleted</th><th>user_is_abused</th><th>user_is_activated</th><th>user_change_datime</th><th>user_is_semiactivated</th><th>user_region</th><th>objectId</th><th>auditweights_ageMs</th><th>auditweights_closed</th><th>auditweights_ctr_gender</th><th>auditweights_ctr_high</th><th>auditweights_ctr_negative</th><th>auditweights_dailyRecency</th><th>auditweights_feedOwner_RECOMMENDED_GROUP</th><th>auditweights_feedStats</th><th>auditweights_friendCommentFeeds</th><th>auditweights_friendCommenters</th><th>auditweights_friendLikes</th><th>auditweights_friendLikes_actors</th><th>auditweights_hasDetectedText</th><th>auditweights_hasText</th><th>auditweights_isPymk</th><th>auditweights_isRandom</th><th>auditweights_likersFeedStats_hyper</th><th>auditweights_likersSvd_prelaunch_hyper</th><th>auditweights_matrix</th><th>auditweights_notOriginalPhoto</th><th>auditweights_numDislikes</th><th>auditweights_numLikes</th><th>auditweights_numShows</th><th>auditweights_onlineVideo</th><th>auditweights_partAge</th><th>auditweights_partCtr</th><th>auditweights_partSvd</th><th>auditweights_processedVideo</th><th>auditweights_relationMasks</th><th>auditweights_source_LIVE_TOP</th><th>auditweights_source_MOVIE_TOP</th><th>auditweights_svd_prelaunch</th><th>auditweights_svd_spark</th><th>auditweights_userAge</th><th>auditweights_userOwner_CREATE_COMMENT</th><th>auditweights_userOwner_CREATE_IMAGE</th><th>auditweights_userOwner_CREATE_LIKE</th><th>auditweights_userOwner_IMAGE</th><th>auditweights_userOwner_MOVIE_COMMENT_CREATE</th><th>auditweights_userOwner_PHOTO_COMMENT_CREATE</th><th>auditweights_userOwner_PHOTO_MARK_CREATE</th><th>auditweights_userOwner_PHOTO_VIEW</th><th>auditweights_userOwner_TEXT</th><th>auditweights_userOwner_UNKNOWN</th><th>auditweights_userOwner_USER_DELETE_MESSAGE</th><th>auditweights_userOwner_USER_FEED_REMOVE</th><th>auditweights_userOwner_USER_FORUM_MESSAGE_CREATE</th><th>auditweights_userOwner_USER_INTERNAL_LIKE</th><th>auditweights_userOwner_USER_INTERNAL_UNLIKE</th><th>auditweights_userOwner_USER_PRESENT_SEND</th><th>auditweights_userOwner_USER_PROFILE_VIEW</th><th>auditweights_userOwner_USER_SEND_MESSAGE</th><th>auditweights_userOwner_USER_STATUS_COMMENT_CREATE</th><th>auditweights_userOwner_VIDEO</th><th>auditweights_userOwner_VOTE_POLL</th><th>auditweights_x_ActorsRelations</th><th>auditweights_likersSvd_spark_hyper</th><th>auditweights_source_PROMO</th><th>Liked</th>\n",
       "                </tr>\n",
       "                <tr><td>stddev</td><td>4429561.454815443</td><td>1.0238576159238622E7</td><td>16.76051641364607</td><td>1.2248926921205106E9</td><td>3.763325552943401E11</td><td>1.7756541332487872</td><td>24384.539663930365</td><td>1.091085091459979...</td><td>281445.4317685108</td><td>0.0</td><td>0.33247973978938977</td><td>2.408910812248832</td><td>0.26299441675427476</td><td>1792.9343713337323</td><td>256.5980347158671</td><td>1.0430811026852478</td><td>544387.3666067153</td><td>null</td><td>394.6960358362494</td><td>0.0</td><td>0.0</td><td>0.0</td><td>0.0</td><td>0.0</td><td>0.0</td><td>0.0</td><td>0.0</td><td>0.0</td><td>0.0</td><td>0.0</td><td>0.0</td><td>0.0</td><td>0.0</td><td>0.0</td><td>0.0</td><td>0.0</td><td>80.20145285724682</td><td>15.410954596491795</td><td>92.71782368460386</td><td>1.900490666346254</td><td>36.042610957171476</td><td>87.88867184814679</td><td>105.57957814159568</td><td>248.03782024514115</td><td>10.608105659209016</td><td>null</td><td>null</td><td>null</td><td>null</td><td>null</td><td>null</td><td>null</td><td>null</td><td>null</td><td>null</td><td>null</td><td>null</td><td>null</td><td>null</td><td>null</td><td>null</td><td>null</td><td>null</td><td>null</td><td>null</td><td>null</td><td>null</td><td>null</td><td>null</td><td>null</td><td>null</td><td>null</td><td>4.992929926332667E10</td><td>5.000257016354395E10</td><td>2.974898649472825...</td><td>null</td><td>null</td><td>null</td><td>null</td><td>null</td><td>null</td><td>null</td><td>null</td><td>null</td><td>null</td><td>null</td><td>null</td><td>null</td><td>8.407820086456146E10</td><td>5576.109920769263</td><td>0.44666237316676066</td><td>14.188947008247444</td><td>3.82219847421667E10</td><td>5858444.398732758</td><td>0.01346942171238747</td><td>0.00806356280821323</td><td>0.010789783050431125</td><td>0.001383514683710...</td><td>3.239860599871537...</td><td>0.028039074408984066</td><td>47.0137086699214</td><td>1.0238576159238622E7</td><td>1.2339769634778532E8</td><td>null</td><td>1.0051033734581467</td><td>0.06484513215707284</td><td>0.09629185337179803</td><td>0.1262664920256742</td><td>0.1856640359429508</td><td>2.793997976732568</td><td>0.3981411766941128</td><td>0.3177450251702897</td><td>0.05940677787396949</td><td>0.10997573606733825</td><td>0.0</td><td>0.0</td><td>null</td><td>0.0</td><td>35.72234771771185</td><td>0.19135224392286648</td><td>0.23776434261743357</td><td>0.0</td><td>2319.3930234168515</td><td>18485.92430899624</td><td>1.6503352159742413E9</td><td>0.0</td><td>null</td><td>null</td><td>null</td><td>1.477769867060908...</td><td>null</td><td>null</td><td>0.0</td><td>0.21981359143415893</td><td>0.21188684286930895</td><td>15.265532930459623</td><td>0.1374202561833258</td><td>0.13025577153340148</td><td>0.11255914720752581</td><td>0.12242627878620285</td><td>null</td><td>null</td><td>null</td><td>null</td><td>0.1216780557055557</td><td>0.12897961383839715</td><td>null</td><td>0.13434051838951008</td><td>null</td><td>null</td><td>null</td><td>null</td><td>null</td><td>null</td><td>null</td><td>0.12997943052566674</td><td>null</td><td>120548.13492704096</td><td>0.1720396764300658</td><td>null</td><td>0.380912820945729</td></tr><tr><td>mean</td><td>8242530.12244622</td><td>2.1692827480679076E7</td><td>11.39937626373446</td><td>1.519603895525905E12</td><td>9.976292366778741E10</td><td>7.6897380181909405</td><td>38448.96202038928</td><td>1.519231412057201...</td><td>639591.1847709044</td><td>0.0</td><td>0.008158990953746122</td><td>1.6545932193426052</td><td>0.0715413356519742</td><td>501.5637358554021</td><td>72.24032285980289</td><td>0.3151093083313852</td><td>34198.29729306882</td><td>null</td><td>65.82232964804767</td><td>0.0</td><td>0.0</td><td>0.0</td><td>0.0</td><td>0.0</td><td>0.0</td><td>0.0</td><td>0.0</td><td>0.0</td><td>0.0</td><td>0.0</td><td>0.0</td><td>0.0</td><td>0.0</td><td>0.0</td><td>0.0</td><td>0.0</td><td>2.754733797836018</td><td>0.19112932031737698</td><td>0.5665844417578535</td><td>0.010568465963632123</td><td>0.8872920901746114</td><td>16.356657644127626</td><td>10.314975568630494</td><td>12.378116961125453</td><td>0.662582041136408</td><td>null</td><td>null</td><td>null</td><td>null</td><td>null</td><td>null</td><td>null</td><td>null</td><td>null</td><td>null</td><td>null</td><td>null</td><td>null</td><td>null</td><td>null</td><td>null</td><td>null</td><td>null</td><td>null</td><td>null</td><td>null</td><td>null</td><td>null</td><td>null</td><td>null</td><td>null</td><td>null</td><td>1.463167564020670...</td><td>1.462739578284581E12</td><td>1.449622925052180...</td><td>null</td><td>null</td><td>null</td><td>null</td><td>null</td><td>null</td><td>null</td><td>null</td><td>null</td><td>null</td><td>null</td><td>null</td><td>null</td><td>1.361103375326312...</td><td>474.05566529080414</td><td>1.724710023664495</td><td>131.26490512900625</td><td>1.053867801058552...</td><td>4973278.36403011</td><td>0.9998185417615636</td><td>6.502526989178516E-5</td><td>1.164329685446682...</td><td>0.9999980858835608</td><td>1.463557499230684...</td><td>7.868087151043524E-4</td><td>36.95382377576007</td><td>2.1692827480679076E7</td><td>6.274035240162313E7</td><td>1.0</td><td>0.025731506073976486</td><td>0.0966603937075889</td><td>0.005258234964697286</td><td>0.9363677212837633</td><td>0.715786626240615</td><td>1.3514892379178411</td><td>1.030246602043125</td><td>1.0180296200901482</td><td>1.0019607691365195</td><td>1.0100479506790858</td><td>1.0</td><td>1.0</td><td>null</td><td>1.0</td><td>24.804733758798346</td><td>0.7888141536248979</td><td>0.0195769967672762</td><td>1.0</td><td>330.61912680761685</td><td>2763.396580949314</td><td>1718413.9565509704</td><td>1.0</td><td>null</td><td>null</td><td>null</td><td>1.0</td><td>null</td><td>null</td><td>1.0</td><td>0.6543478146695028</td><td>0.7039044602848005</td><td>46.35235118913185</td><td>0.8363950915713697</td><td>0.892991438477282</td><td>0.9252811829966586</td><td>0.9056174369878043</td><td>null</td><td>null</td><td>null</td><td>null</td><td>0.9048241993662339</td><td>0.8898578687620811</td><td>null</td><td>0.892244107233411</td><td>null</td><td>null</td><td>null</td><td>null</td><td>null</td><td>null</td><td>null</td><td>0.8824383928426451</td><td>null</td><td>20001.170045620827</td><td>0.8225318772939787</td><td>null</td><td>0.176108921435534</td></tr><tr><td>count</td><td>18286575</td><td>18286575</td><td>18286575</td><td>18286575</td><td>18286575</td><td>18286575</td><td>18286575</td><td>18286575</td><td>18286575</td><td>18286575</td><td>18286575</td><td>18286575</td><td>18286575</td><td>18286575</td><td>18286575</td><td>18286575</td><td>18286575</td><td>0</td><td>10977801</td><td>10977801</td><td>10977801</td><td>10977801</td><td>10977801</td><td>10977801</td><td>10977801</td><td>10977801</td><td>10977801</td><td>10977801</td><td>10977801</td><td>10977801</td><td>10977801</td><td>10977801</td><td>10977801</td><td>10977801</td><td>10977801</td><td>10977801</td><td>10977801</td><td>10977801</td><td>10977801</td><td>10977801</td><td>10977801</td><td>10977801</td><td>10977801</td><td>10977801</td><td>10977801</td><td>0</td><td>0</td><td>0</td><td>0</td><td>0</td><td>0</td><td>0</td><td>0</td><td>0</td><td>0</td><td>0</td><td>0</td><td>0</td><td>0</td><td>0</td><td>0</td><td>0</td><td>0</td><td>0</td><td>0</td><td>0</td><td>0</td><td>0</td><td>0</td><td>0</td><td>0</td><td>0</td><td>11835222</td><td>11835222</td><td>283656</td><td>0</td><td>0</td><td>0</td><td>0</td><td>0</td><td>0</td><td>0</td><td>0</td><td>0</td><td>0</td><td>0</td><td>0</td><td>0</td><td>18285199</td><td>18270236</td><td>18285199</td><td>18285199</td><td>18285199</td><td>18285199</td><td>18285199</td><td>18285199</td><td>18285199</td><td>18285199</td><td>17495763</td><td>16884663</td><td>18241747</td><td>18286575</td><td>18286534</td><td>1</td><td>18162244</td><td>18286534</td><td>16621462</td><td>18286523</td><td>225401</td><td>18286534</td><td>114922</td><td>114922</td><td>5296901</td><td>5296901</td><td>90</td><td>181343</td><td>0</td><td>17438243</td><td>5296901</td><td>2618325</td><td>17840486</td><td>846540</td><td>16400876</td><td>16709141</td><td>17906706</td><td>25432</td><td>0</td><td>0</td><td>0</td><td>787734</td><td>0</td><td>0</td><td>398</td><td>8814296</td><td>9472238</td><td>18286534</td><td>594413</td><td>13535</td><td>6565135</td><td>3384886</td><td>0</td><td>0</td><td>0</td><td>0</td><td>5633575</td><td>155550</td><td>0</td><td>424381</td><td>0</td><td>0</td><td>0</td><td>0</td><td>0</td><td>0</td><td>0</td><td>64447</td><td>0</td><td>1566609</td><td>2678576</td><td>0</td><td>18286575</td></tr><tr><td>max</td><td>15716685</td><td>39082242</td><td>489</td><td>1521665999283</td><td>1521665993754</td><td>14</td><td>85878</td><td>1552816500000</td><td>1126294</td><td>0</td><td>181</td><td>326</td><td>10</td><td>63482</td><td>9448</td><td>42</td><td>96345152</td><td>null</td><td>18927.46484375</td><td>0.0</td><td>0.0</td><td>0.0</td><td>0.0</td><td>0.0</td><td>0.0</td><td>0.0</td><td>0.0</td><td>0.0</td><td>0.0</td><td>0.0</td><td>0.0</td><td>0.0</td><td>0.0</td><td>0.0</td><td>0.0</td><td>0.0</td><td>28568.55078125</td><td>6461.6787109375</td><td>92324.375</td><td>1257.0328369140625</td><td>17837.63671875</td><td>25396.125</td><td>36049.0859375</td><td>596893.875</td><td>4500.2451171875</td><td>null</td><td>null</td><td>null</td><td>null</td><td>null</td><td>null</td><td>null</td><td>null</td><td>null</td><td>null</td><td>null</td><td>null</td><td>null</td><td>null</td><td>null</td><td>null</td><td>null</td><td>null</td><td>null</td><td>null</td><td>null</td><td>null</td><td>null</td><td>null</td><td>null</td><td>null</td><td>null</td><td>1521679868513</td><td>1521678060000</td><td>1521568803637</td><td>null</td><td>null</td><td>null</td><td>null</td><td>null</td><td>null</td><td>null</td><td>null</td><td>null</td><td>null</td><td>null</td><td>null</td><td>null</td><td>1521606306583</td><td>22041</td><td>2</td><td>192</td><td>12850988277547</td><td>44864990</td><td>1</td><td>1</td><td>1</td><td>1</td><td>1521606739793</td><td>1</td><td>255</td><td>39082242</td><td>1.35385252E11</td><td>1.0</td><td>1328.21</td><td>1.0</td><td>16.66</td><td>0.98201376</td><td>1.0</td><td>12.7</td><td>72.0</td><td>36.0</td><td>43.0</td><td>43.0</td><td>1.0</td><td>1.0</td><td>null</td><td>1.0</td><td>243.2262</td><td>3.279002</td><td>0.864</td><td>1.0</td><td>1800939.0</td><td>7911208.0</td><td>3.24208112E12</td><td>1.0</td><td>null</td><td>null</td><td>null</td><td>1.0</td><td>null</td><td>null</td><td>1.0</td><td>0.9999788</td><td>0.9999774</td><td>118.0</td><td>1.0</td><td>1.0</td><td>1.0</td><td>1.0</td><td>null</td><td>null</td><td>null</td><td>null</td><td>1.0</td><td>1.0</td><td>null</td><td>1.0</td><td>null</td><td>null</td><td>null</td><td>null</td><td>null</td><td>null</td><td>null</td><td>1.0</td><td>null</td><td>1835008</td><td>4.139599</td><td>null</td><td>1.0</td></tr><tr><td>75%</td><td>12036357</td><td>30168010</td><td>14</td><td>1520666195534</td><td>27460790</td><td>8</td><td>60963</td><td>1520542114000</td><td>865609</td><td>0</td><td>0</td><td>1</td><td>0</td><td>192</td><td>27</td><td>0</td><td>0</td><td>null</td><td>0.0</td><td>0.0</td><td>0.0</td><td>0.0</td><td>0.0</td><td>0.0</td><td>0.0</td><td>0.0</td><td>0.0</td><td>0.0</td><td>0.0</td><td>0.0</td><td>0.0</td><td>0.0</td><td>0.0</td><td>0.0</td><td>0.0</td><td>0.0</td><td>0.0</td><td>0.0</td><td>0.0</td><td>0.0</td><td>0.0</td><td>8.697647094726562</td><td>4.547279357910156</td><td>2.031230926513672</td><td>0.0</td><td>null</td><td>null</td><td>null</td><td>null</td><td>null</td><td>null</td><td>null</td><td>null</td><td>null</td><td>null</td><td>null</td><td>null</td><td>null</td><td>null</td><td>null</td><td>null</td><td>null</td><td>null</td><td>null</td><td>null</td><td>null</td><td>null</td><td>null</td><td>null</td><td>null</td><td>null</td><td>null</td><td>1506071193147</td><td>1505631900000</td><td>1471614394313</td><td>null</td><td>null</td><td>null</td><td>null</td><td>null</td><td>null</td><td>null</td><td>null</td><td>null</td><td>null</td><td>null</td><td>null</td><td>null</td><td>1424793332640</td><td>4427</td><td>2</td><td>128</td><td>10414533690</td><td>4641326</td><td>1</td><td>0</td><td>0</td><td>1</td><td>1491172259030</td><td>0</td><td>52</td><td>30168010</td><td>7.8233136E7</td><td>1.0</td><td>0.017964073</td><td>0.11807001</td><td>0.0043292204</td><td>0.98066896</td><td>0.865</td><td>1.1</td><td>1.0</td><td>1.0</td><td>1.0</td><td>1.0</td><td>1.0</td><td>1.0</td><td>null</td><td>1.0</td><td>33.0</td><td>0.9236417</td><td>0.026767354</td><td>1.0</td><td>206.0</td><td>1390.0</td><td>62511.0</td><td>1.0</td><td>null</td><td>null</td><td>null</td><td>1.0</td><td>null</td><td>null</td><td>1.0</td><td>0.8242596</td><td>0.8619669</td><td>57.0</td><td>0.99183744</td><td>0.9999999</td><td>1.0</td><td>0.9999986</td><td>null</td><td>null</td><td>null</td><td>null</td><td>0.99998635</td><td>0.99998987</td><td>null</td><td>1.0</td><td>null</td><td>null</td><td>null</td><td>null</td><td>null</td><td>null</td><td>null</td><td>0.99981594</td><td>null</td><td>1024</td><td>0.9339265</td><td>null</td><td>0.0</td></tr><tr><td>50%</td><td>8413230</td><td>22131313</td><td>5</td><td>1519650623218</td><td>3364565</td><td>8</td><td>34217</td><td>1519518002000</td><td>672240</td><td>0</td><td>0</td><td>1</td><td>0</td><td>42</td><td>6</td><td>0</td><td>0</td><td>null</td><td>0.0</td><td>0.0</td><td>0.0</td><td>0.0</td><td>0.0</td><td>0.0</td><td>0.0</td><td>0.0</td><td>0.0</td><td>0.0</td><td>0.0</td><td>0.0</td><td>0.0</td><td>0.0</td><td>0.0</td><td>0.0</td><td>0.0</td><td>0.0</td><td>0.0</td><td>0.0</td><td>0.0</td><td>0.0</td><td>0.0</td><td>1.9973405599594116</td><td>1.0</td><td>0.0</td><td>0.0</td><td>null</td><td>null</td><td>null</td><td>null</td><td>null</td><td>null</td><td>null</td><td>null</td><td>null</td><td>null</td><td>null</td><td>null</td><td>null</td><td>null</td><td>null</td><td>null</td><td>null</td><td>null</td><td>null</td><td>null</td><td>null</td><td>null</td><td>null</td><td>null</td><td>null</td><td>null</td><td>null</td><td>1478349240613</td><td>1477822860000</td><td>1437581807897</td><td>null</td><td>null</td><td>null</td><td>null</td><td>null</td><td>null</td><td>null</td><td>null</td><td>null</td><td>null</td><td>null</td><td>null</td><td>null</td><td>1356105054487</td><td>792</td><td>2</td><td>128</td><td>10414533690</td><td>3353489</td><td>1</td><td>0</td><td>0</td><td>1</td><td>1448623087867</td><td>0</td><td>22</td><td>22131313</td><td>2.6024458E7</td><td>1.0</td><td>0.011396624</td><td>0.08654746</td><td>0.002914036</td><td>0.9758431</td><td>0.72833335</td><td>0.1</td><td>1.0</td><td>1.0</td><td>1.0</td><td>1.0</td><td>1.0</td><td>1.0</td><td>null</td><td>1.0</td><td>8.0</td><td>0.8394465</td><td>0.011834458</td><td>1.0</td><td>46.0</td><td>224.0</td><td>11271.0</td><td>1.0</td><td>null</td><td>null</td><td>null</td><td>1.0</td><td>null</td><td>null</td><td>1.0</td><td>0.7033938</td><td>0.76119924</td><td>46.0</td><td>0.84553474</td><td>0.975873</td><td>0.9963158</td><td>0.98201376</td><td>null</td><td>null</td><td>null</td><td>null</td><td>0.9781187</td><td>0.96083426</td><td>null</td><td>0.9866131</td><td>null</td><td>null</td><td>null</td><td>null</td><td>null</td><td>null</td><td>null</td><td>0.9426758</td><td>null</td><td>512</td><td>0.8687888</td><td>null</td><td>0.0</td></tr><tr><td>25%</td><td>4558479</td><td>14138738</td><td>2</td><td>1518549179078</td><td>602033</td><td>8</td><td>18180</td><td>1518434290000</td><td>480450</td><td>0</td><td>0</td><td>1</td><td>0</td><td>0</td><td>0</td><td>0</td><td>0</td><td>null</td><td>0.0</td><td>0.0</td><td>0.0</td><td>0.0</td><td>0.0</td><td>0.0</td><td>0.0</td><td>0.0</td><td>0.0</td><td>0.0</td><td>0.0</td><td>0.0</td><td>0.0</td><td>0.0</td><td>0.0</td><td>0.0</td><td>0.0</td><td>0.0</td><td>0.0</td><td>0.0</td><td>0.0</td><td>0.0</td><td>0.0</td><td>0.0</td><td>0.0</td><td>0.0</td><td>0.0</td><td>null</td><td>null</td><td>null</td><td>null</td><td>null</td><td>null</td><td>null</td><td>null</td><td>null</td><td>null</td><td>null</td><td>null</td><td>null</td><td>null</td><td>null</td><td>null</td><td>null</td><td>null</td><td>null</td><td>null</td><td>null</td><td>null</td><td>null</td><td>null</td><td>null</td><td>null</td><td>null</td><td>1428678563167</td><td>1428192840000</td><td>1425081394420</td><td>null</td><td>null</td><td>null</td><td>null</td><td>null</td><td>null</td><td>null</td><td>null</td><td>null</td><td>null</td><td>null</td><td>null</td><td>null</td><td>1300373970793</td><td>-3352</td><td>1</td><td>128</td><td>10414533690</td><td>1494221</td><td>1</td><td>0</td><td>0</td><td>1</td><td>1446016254803</td><td>0</td><td>5</td><td>14138738</td><td>6346529.0</td><td>1.0</td><td>0.005306604</td><td>0.059044626</td><td>0.0020283975</td><td>0.95666146</td><td>0.595</td><td>0.1</td><td>1.0</td><td>1.0</td><td>1.0</td><td>1.0</td><td>1.0</td><td>1.0</td><td>null</td><td>1.0</td><td>1.0</td><td>0.7050649</td><td>0.004407836</td><td>1.0</td><td>10.0</td><td>30.0</td><td>1778.0</td><td>1.0</td><td>null</td><td>null</td><td>null</td><td>1.0</td><td>null</td><td>null</td><td>1.0</td><td>0.52542627</td><td>0.5995622</td><td>36.0</td><td>0.7109495</td><td>0.78583497</td><td>0.8698915</td><td>0.8175745</td><td>null</td><td>null</td><td>null</td><td>null</td><td>0.8175745</td><td>0.76852477</td><td>null</td><td>0.7502601</td><td>null</td><td>null</td><td>null</td><td>null</td><td>null</td><td>null</td><td>null</td><td>0.7502601</td><td>null</td><td>128</td><td>0.76206577</td><td>null</td><td>0.0</td></tr><tr><td>min</td><td>3</td><td>4</td><td>0</td><td>1517432400333</td><td>10045</td><td>3</td><td>1</td><td>-1511828489000</td><td>1</td><td>0</td><td>0</td><td>0</td><td>0</td><td>0</td><td>0</td><td>0</td><td>0</td><td>null</td><td>0.0</td><td>0.0</td><td>0.0</td><td>0.0</td><td>0.0</td><td>0.0</td><td>0.0</td><td>0.0</td><td>0.0</td><td>0.0</td><td>0.0</td><td>0.0</td><td>0.0</td><td>0.0</td><td>0.0</td><td>0.0</td><td>0.0</td><td>0.0</td><td>0.0</td><td>0.0</td><td>0.0</td><td>0.0</td><td>0.0</td><td>0.0</td><td>0.0</td><td>0.0</td><td>0.0</td><td>null</td><td>null</td><td>null</td><td>null</td><td>null</td><td>null</td><td>null</td><td>null</td><td>null</td><td>null</td><td>null</td><td>null</td><td>null</td><td>null</td><td>null</td><td>null</td><td>null</td><td>null</td><td>null</td><td>null</td><td>null</td><td>null</td><td>null</td><td>null</td><td>null</td><td>null</td><td>null</td><td>1209144447907</td><td>1209040500000</td><td>1229462080160</td><td>null</td><td>null</td><td>null</td><td>null</td><td>null</td><td>null</td><td>null</td><td>null</td><td>null</td><td>null</td><td>null</td><td>null</td><td>null</td><td>1141743656227</td><td>-25567</td><td>0</td><td>16</td><td>10392716690</td><td>10</td><td>0</td><td>0</td><td>0</td><td>0</td><td>1347527405390</td><td>0</td><td>0</td><td>4</td><td>116.0</td><td>1.0</td><td>-0.032786883</td><td>-0.24107234</td><td>9.349231E-8</td><td>0.0</td><td>0.103</td><td>0.1</td><td>1.0</td><td>1.0</td><td>1.0</td><td>1.0</td><td>1.0</td><td>1.0</td><td>null</td><td>1.0</td><td>1.0</td><td>7.237366E-4</td><td>-1000.0</td><td>1.0</td><td>1.0</td><td>-1972.0</td><td>1.0</td><td>1.0</td><td>null</td><td>null</td><td>null</td><td>1.0</td><td>null</td><td>null</td><td>1.0</td><td>7.5737626E-4</td><td>5.7401732E-5</td><td>-12.0</td><td>0.62245935</td><td>0.62245935</td><td>0.62245935</td><td>0.62245935</td><td>null</td><td>null</td><td>null</td><td>null</td><td>0.62245935</td><td>0.62245935</td><td>null</td><td>0.62245935</td><td>null</td><td>null</td><td>null</td><td>null</td><td>null</td><td>null</td><td>null</td><td>0.62245935</td><td>null</td><td>1</td><td>2.7159543E-4</td><td>null</td><td>0.0</td></tr>\n",
       "            </table>\n",
       "        "
      ]
     },
     "metadata": {},
     "output_type": "display_data"
    },
    {
     "data": {
      "text/plain": [
       "\u001b[36mdfLikedDoubleSummary\u001b[39m: \u001b[32mDataFrame\u001b[39m = [summary: string, instanceId_userId: string ... 160 more fields]"
      ]
     },
     "execution_count": 40,
     "metadata": {},
     "output_type": "execute_result"
    }
   ],
   "source": [
    "//посмотрим на цифровые колонки \n",
    "/*\n",
    "val dfLikedDoubleSummary = dfLikedDouble.select(colsNumber.map(col):_*).summary()\n",
    "dfLikedDoubleSummary.write.save(\"dfLikedDoubleSummary\")\n",
    "*/\n",
    "val dfLikedDoubleSummary = spark.read.load(\"dfLikedDoubleSummary\")\n",
    "\n",
    "dfLikedDoubleSummary.showHTML()"
   ]
  },
  {
   "cell_type": "code",
   "execution_count": 41,
   "metadata": {
    "scrolled": true
   },
   "outputs": [
    {
     "data": {
      "text/html": [
       "<div>\n",
       "  <span style=\"float: left;\">load at cmd40.sc:1</span>\n",
       "</div>\n"
      ]
     },
     "metadata": {},
     "output_type": "display_data"
    },
    {
     "data": {
      "text/html": [
       "<div class=\"progress\">\n",
       "  <div class=\"progress-bar\" role=\"progressbar\" style=\"background-color: blue; width: 100%; word-wrap: normal; white-space: nowrap; text-align: center; color: white\" aria-valuenow=\"100\" aria-valuemin=\"0\" aria-valuemax=\"100\">\n",
       "    1 / 1\n",
       "  </div>\n",
       "  <div class=\"progress-bar\" role=\"progressbar\" style=\"background-color: red; width: 0%\" aria-valuenow=\"0\" aria-valuemin=\"0\" aria-valuemax=\"100\"></div>\n",
       "</div>\n"
      ]
     },
     "metadata": {},
     "output_type": "display_data"
    },
    {
     "data": {
      "text/plain": [
       "\u001b[36mdfCountOfDiffValue\u001b[39m: \u001b[32mDataFrame\u001b[39m = [column: string, count: int]"
      ]
     },
     "execution_count": 41,
     "metadata": {},
     "output_type": "execute_result"
    }
   ],
   "source": [
    "//найдем явные категориальные переменные\n",
    "/*\n",
    "val countOfDiffValue:ArrayBuffer[(String, Int)] = ArrayBuffer()\n",
    "\n",
    "for (c<-colsNumber){\n",
    "    countOfDiffValue.append(\n",
    "        (c, dfLikedDouble.select(c).distinct.count.toInt)\n",
    "    )\n",
    "}\n",
    "\n",
    "val dfCountOfDiffValue = countOfDiffValue.toDF(\"column\",\"count\").sort(\"count\")\n",
    "\n",
    "dfCountOfDiffValue.write.save(\"dfCountOfDiffValue\")\n",
    "*/\n",
    "\n",
    "val dfCountOfDiffValue = spark.read.load(\"dfCountOfDiffValue\")"
   ]
  },
  {
   "cell_type": "code",
   "execution_count": 42,
   "metadata": {
    "scrolled": false
   },
   "outputs": [
    {
     "data": {
      "text/html": [
       "<div>\n",
       "  <span style=\"float: left;\">count at cmd41.sc:1</span>\n",
       "</div>\n"
      ]
     },
     "metadata": {},
     "output_type": "display_data"
    },
    {
     "data": {
      "text/html": [
       "<div class=\"progress\">\n",
       "  <div class=\"progress-bar\" role=\"progressbar\" style=\"background-color: blue; width: 100%; word-wrap: normal; white-space: nowrap; text-align: center; color: white\" aria-valuenow=\"100\" aria-valuemin=\"0\" aria-valuemax=\"100\">\n",
       "    16 / 16\n",
       "  </div>\n",
       "  <div class=\"progress-bar\" role=\"progressbar\" style=\"background-color: red; width: 0%\" aria-valuenow=\"0\" aria-valuemin=\"0\" aria-valuemax=\"100\"></div>\n",
       "</div>\n"
      ]
     },
     "metadata": {},
     "output_type": "display_data"
    },
    {
     "data": {
      "text/html": [
       "<div>\n",
       "  <span style=\"float: left;\">count at cmd41.sc:1</span>\n",
       "</div>\n"
      ]
     },
     "metadata": {},
     "output_type": "display_data"
    },
    {
     "data": {
      "text/html": [
       "<div class=\"progress\">\n",
       "  <div class=\"progress-bar\" role=\"progressbar\" style=\"background-color: blue; width: 100%; word-wrap: normal; white-space: nowrap; text-align: center; color: white\" aria-valuenow=\"100\" aria-valuemin=\"0\" aria-valuemax=\"100\">\n",
       "    1 / 1\n",
       "  </div>\n",
       "  <div class=\"progress-bar\" role=\"progressbar\" style=\"background-color: red; width: 0%\" aria-valuenow=\"0\" aria-valuemin=\"0\" aria-valuemax=\"100\"></div>\n",
       "</div>\n"
      ]
     },
     "metadata": {},
     "output_type": "display_data"
    },
    {
     "data": {
      "text/html": [
       "<div>\n",
       "  <span style=\"float: left;\">show at cmd41.sc:1</span>\n",
       "</div>\n"
      ]
     },
     "metadata": {},
     "output_type": "display_data"
    },
    {
     "data": {
      "text/html": [
       "<div class=\"progress\">\n",
       "  <div class=\"progress-bar\" role=\"progressbar\" style=\"background-color: blue; width: 100%; word-wrap: normal; white-space: nowrap; text-align: center; color: white\" aria-valuenow=\"100\" aria-valuemin=\"0\" aria-valuemax=\"100\">\n",
       "    1 / 1\n",
       "  </div>\n",
       "  <div class=\"progress-bar\" role=\"progressbar\" style=\"background-color: red; width: 0%\" aria-valuenow=\"0\" aria-valuemin=\"0\" aria-valuemax=\"100\"></div>\n",
       "</div>\n"
      ]
     },
     "metadata": {},
     "output_type": "display_data"
    },
    {
     "data": {
      "text/html": [
       "<div>\n",
       "  <span style=\"float: left;\">show at cmd41.sc:1</span>\n",
       "</div>\n"
      ]
     },
     "metadata": {},
     "output_type": "display_data"
    },
    {
     "data": {
      "text/html": [
       "<div class=\"progress\">\n",
       "  <div class=\"progress-bar\" role=\"progressbar\" style=\"background-color: blue; width: 100%; word-wrap: normal; white-space: nowrap; text-align: center; color: white\" aria-valuenow=\"100\" aria-valuemin=\"0\" aria-valuemax=\"100\">\n",
       "    2 / 2\n",
       "  </div>\n",
       "  <div class=\"progress-bar\" role=\"progressbar\" style=\"background-color: red; width: 0%\" aria-valuenow=\"0\" aria-valuemin=\"0\" aria-valuemax=\"100\"></div>\n",
       "</div>\n"
      ]
     },
     "metadata": {},
     "output_type": "display_data"
    },
    {
     "data": {
      "text/html": [
       "<div>\n",
       "  <span style=\"float: left;\">show at cmd41.sc:1</span>\n",
       "</div>\n"
      ]
     },
     "metadata": {},
     "output_type": "display_data"
    },
    {
     "data": {
      "text/html": [
       "<div class=\"progress\">\n",
       "  <div class=\"progress-bar\" role=\"progressbar\" style=\"background-color: blue; width: 100%; word-wrap: normal; white-space: nowrap; text-align: center; color: white\" aria-valuenow=\"100\" aria-valuemin=\"0\" aria-valuemax=\"100\">\n",
       "    3 / 3\n",
       "  </div>\n",
       "  <div class=\"progress-bar\" role=\"progressbar\" style=\"background-color: red; width: 0%\" aria-valuenow=\"0\" aria-valuemin=\"0\" aria-valuemax=\"100\"></div>\n",
       "</div>\n"
      ]
     },
     "metadata": {},
     "output_type": "display_data"
    },
    {
     "data": {
      "text/html": [
       "<div>\n",
       "  <span style=\"float: left;\">show at cmd41.sc:1</span>\n",
       "</div>\n"
      ]
     },
     "metadata": {},
     "output_type": "display_data"
    },
    {
     "data": {
      "text/html": [
       "<div class=\"progress\">\n",
       "  <div class=\"progress-bar\" role=\"progressbar\" style=\"background-color: blue; width: 100%; word-wrap: normal; white-space: nowrap; text-align: center; color: white\" aria-valuenow=\"100\" aria-valuemin=\"0\" aria-valuemax=\"100\">\n",
       "    4 / 4\n",
       "  </div>\n",
       "  <div class=\"progress-bar\" role=\"progressbar\" style=\"background-color: red; width: 0%\" aria-valuenow=\"0\" aria-valuemin=\"0\" aria-valuemax=\"100\"></div>\n",
       "</div>\n"
      ]
     },
     "metadata": {},
     "output_type": "display_data"
    },
    {
     "data": {
      "text/html": [
       "<div>\n",
       "  <span style=\"float: left;\">show at cmd41.sc:1</span>\n",
       "</div>\n"
      ]
     },
     "metadata": {},
     "output_type": "display_data"
    },
    {
     "data": {
      "text/html": [
       "<div class=\"progress\">\n",
       "  <div class=\"progress-bar\" role=\"progressbar\" style=\"background-color: blue; width: 100%; word-wrap: normal; white-space: nowrap; text-align: center; color: white\" aria-valuenow=\"100\" aria-valuemin=\"0\" aria-valuemax=\"100\">\n",
       "    4 / 4\n",
       "  </div>\n",
       "  <div class=\"progress-bar\" role=\"progressbar\" style=\"background-color: red; width: 0%\" aria-valuenow=\"0\" aria-valuemin=\"0\" aria-valuemax=\"100\"></div>\n",
       "</div>\n"
      ]
     },
     "metadata": {},
     "output_type": "display_data"
    },
    {
     "data": {
      "text/html": [
       "<div>\n",
       "  <span style=\"float: left;\">show at cmd41.sc:1</span>\n",
       "</div>\n"
      ]
     },
     "metadata": {},
     "output_type": "display_data"
    },
    {
     "data": {
      "text/html": [
       "<div class=\"progress\">\n",
       "  <div class=\"progress-bar\" role=\"progressbar\" style=\"background-color: blue; width: 100%; word-wrap: normal; white-space: nowrap; text-align: center; color: white\" aria-valuenow=\"100\" aria-valuemin=\"0\" aria-valuemax=\"100\">\n",
       "    1 / 1\n",
       "  </div>\n",
       "  <div class=\"progress-bar\" role=\"progressbar\" style=\"background-color: red; width: 0%\" aria-valuenow=\"0\" aria-valuemin=\"0\" aria-valuemax=\"100\"></div>\n",
       "</div>\n"
      ]
     },
     "metadata": {},
     "output_type": "display_data"
    },
    {
     "data": {
      "text/html": [
       "<div>\n",
       "  <span style=\"float: left;\">show at cmd41.sc:1</span>\n",
       "</div>\n"
      ]
     },
     "metadata": {},
     "output_type": "display_data"
    },
    {
     "data": {
      "text/html": [
       "<div class=\"progress\">\n",
       "  <div class=\"progress-bar\" role=\"progressbar\" style=\"background-color: blue; width: 100%; word-wrap: normal; white-space: nowrap; text-align: center; color: white\" aria-valuenow=\"100\" aria-valuemin=\"0\" aria-valuemax=\"100\">\n",
       "    1 / 1\n",
       "  </div>\n",
       "  <div class=\"progress-bar\" role=\"progressbar\" style=\"background-color: red; width: 0%\" aria-valuenow=\"0\" aria-valuemin=\"0\" aria-valuemax=\"100\"></div>\n",
       "</div>\n"
      ]
     },
     "metadata": {},
     "output_type": "display_data"
    },
    {
     "name": "stdout",
     "output_type": "stream",
     "text": [
      "+-------------------------------------------------+--------+\n",
      "|column                                           |count   |\n",
      "+-------------------------------------------------+--------+\n",
      "|metadata_applicationId                           |1       |\n",
      "|relationsMask                                    |1       |\n",
      "|ownerUserCounters_USER_FEED_REMOVE               |1       |\n",
      "|ownerUserCounters_USER_PROFILE_VIEW              |1       |\n",
      "|ownerUserCounters_VOTE_POLL                      |1       |\n",
      "|ownerUserCounters_USER_SEND_MESSAGE              |1       |\n",
      "|ownerUserCounters_USER_DELETE_MESSAGE            |1       |\n",
      "|ownerUserCounters_USER_INTERNAL_LIKE             |1       |\n",
      "|ownerUserCounters_USER_INTERNAL_UNLIKE           |1       |\n",
      "|ownerUserCounters_USER_STATUS_COMMENT_CREATE     |1       |\n",
      "|ownerUserCounters_PHOTO_COMMENT_CREATE           |1       |\n",
      "|ownerUserCounters_MOVIE_COMMENT_CREATE           |1       |\n",
      "|ownerUserCounters_USER_PHOTO_ALBUM_COMMENT_CREATE|1       |\n",
      "|ownerUserCounters_COMMENT_INTERNAL_LIKE          |1       |\n",
      "|ownerUserCounters_USER_FORUM_MESSAGE_CREATE      |1       |\n",
      "|ownerUserCounters_PHOTO_MARK_CREATE              |1       |\n",
      "|ownerUserCounters_PHOTO_VIEW                     |1       |\n",
      "|ownerUserCounters_PHOTO_PIN_BATCH_CREATE         |1       |\n",
      "|ownerUserCounters_PHOTO_PIN_UPDATE               |1       |\n",
      "|ownerUserCounters_USER_PRESENT_SEND              |1       |\n",
      "|ownerUserCounters_UNKNOWN                        |1       |\n",
      "|ownerUserCounters_CREATE_TOPIC                   |1       |\n",
      "|ownerUserCounters_CREATE_IMAGE                   |1       |\n",
      "|ownerUserCounters_CREATE_MOVIE                   |1       |\n",
      "|ownerUserCounters_CREATE_COMMENT                 |1       |\n",
      "|ownerUserCounters_CREATE_LIKE                    |1       |\n",
      "|ownerUserCounters_TEXT                           |1       |\n",
      "|ownerUserCounters_IMAGE                          |1       |\n",
      "|ownerUserCounters_VIDEO                          |1       |\n",
      "|owner_create_date                                |1       |\n",
      "|owner_birth_date                                 |1       |\n",
      "|owner_gender                                     |1       |\n",
      "|owner_status                                     |1       |\n",
      "|owner_ID_country                                 |1       |\n",
      "|owner_ID_Location                                |1       |\n",
      "|owner_is_active                                  |1       |\n",
      "|owner_is_deleted                                 |1       |\n",
      "|owner_is_abused                                  |1       |\n",
      "|owner_is_activated                               |1       |\n",
      "|owner_change_datime                              |1       |\n",
      "|owner_is_semiactivated                           |1       |\n",
      "|owner_region                                     |1       |\n",
      "|auditweights_isPymk                              |1       |\n",
      "|auditweights_partAge                             |1       |\n",
      "|auditweights_partCtr                             |1       |\n",
      "|auditweights_partSvd                             |1       |\n",
      "|auditweights_relationMasks                       |1       |\n",
      "|auditweights_source_LIVE_TOP                     |1       |\n",
      "|auditweights_userOwner_MOVIE_COMMENT_CREATE      |1       |\n",
      "|auditweights_userOwner_PHOTO_COMMENT_CREATE      |1       |\n",
      "|auditweights_userOwner_PHOTO_MARK_CREATE         |1       |\n",
      "|auditweights_userOwner_PHOTO_VIEW                |1       |\n",
      "|auditweights_userOwner_USER_DELETE_MESSAGE       |1       |\n",
      "|auditweights_userOwner_USER_FORUM_MESSAGE_CREATE |1       |\n",
      "|auditweights_userOwner_USER_INTERNAL_LIKE        |1       |\n",
      "|auditweights_userOwner_USER_INTERNAL_UNLIKE      |1       |\n",
      "|auditweights_userOwner_USER_PRESENT_SEND         |1       |\n",
      "|auditweights_userOwner_USER_PROFILE_VIEW         |1       |\n",
      "|auditweights_userOwner_USER_SEND_MESSAGE         |1       |\n",
      "|auditweights_userOwner_USER_STATUS_COMMENT_CREATE|1       |\n",
      "|auditweights_userOwner_VOTE_POLL                 |1       |\n",
      "|auditweights_source_PROMO                        |1       |\n",
      "|userOwnerCounters_USER_PROFILE_VIEW              |2       |\n",
      "|userOwnerCounters_VOTE_POLL                      |2       |\n",
      "|userOwnerCounters_USER_SEND_MESSAGE              |2       |\n",
      "|userOwnerCounters_USER_DELETE_MESSAGE            |2       |\n",
      "|userOwnerCounters_USER_INTERNAL_LIKE             |2       |\n",
      "|userOwnerCounters_USER_INTERNAL_UNLIKE           |2       |\n",
      "|userOwnerCounters_USER_STATUS_COMMENT_CREATE     |2       |\n",
      "|userOwnerCounters_PHOTO_COMMENT_CREATE           |2       |\n",
      "|userOwnerCounters_MOVIE_COMMENT_CREATE           |2       |\n",
      "|userOwnerCounters_USER_PHOTO_ALBUM_COMMENT_CREATE|2       |\n",
      "|userOwnerCounters_COMMENT_INTERNAL_LIKE          |2       |\n",
      "|userOwnerCounters_USER_FORUM_MESSAGE_CREATE      |2       |\n",
      "|userOwnerCounters_PHOTO_MARK_CREATE              |2       |\n",
      "|userOwnerCounters_PHOTO_VIEW                     |2       |\n",
      "|userOwnerCounters_PHOTO_PIN_BATCH_CREATE         |2       |\n",
      "|userOwnerCounters_PHOTO_PIN_UPDATE               |2       |\n",
      "|userOwnerCounters_USER_PRESENT_SEND              |2       |\n",
      "|auditweights_closed                              |2       |\n",
      "|auditweights_hasDetectedText                     |2       |\n",
      "|auditweights_hasText                             |2       |\n",
      "|auditweights_isRandom                            |2       |\n",
      "|auditweights_notOriginalPhoto                    |2       |\n",
      "|auditweights_onlineVideo                         |2       |\n",
      "|auditweights_processedVideo                      |2       |\n",
      "|auditweights_source_MOVIE_TOP                    |2       |\n",
      "|Liked                                            |2       |\n",
      "|auditweights_feedOwner_RECOMMENDED_GROUP         |11610   |\n",
      "|auditweights_likersSvd_prelaunch_hyper           |2228575 |\n",
      "|auditweights_likersFeedStats_hyper               |878     |\n",
      "|userOwnerCounters_USER_FEED_REMOVE               |1352165 |\n",
      "|auditweights_likersSvd_spark_hyper               |2191892 |\n",
      "|userOwnerCounters_CREATE_COMMENT                 |320007  |\n",
      "|auditweights_friendLikes_actors                  |22      |\n",
      "|auditweights_x_ActorsRelations                   |619     |\n",
      "|userOwnerCounters_CREATE_MOVIE                   |3263    |\n",
      "|userOwnerCounters_CREATE_TOPIC                   |31389   |\n",
      "|userOwnerCounters_CREATE_IMAGE                   |32803   |\n",
      "|auditweights_userOwner_CREATE_COMMENT            |150     |\n",
      "|auditweights_userOwner_CREATE_IMAGE              |150     |\n",
      "|auditweights_userOwner_CREATE_LIKE               |150     |\n",
      "|auditweights_userOwner_IMAGE                     |150     |\n",
      "|auditweights_userOwner_TEXT                      |150     |\n",
      "|auditweights_userOwner_UNKNOWN                   |150     |\n",
      "|auditweights_userOwner_USER_FEED_REMOVE          |150     |\n",
      "|auditweights_userOwner_VIDEO                     |150     |\n",
      "|userOwnerCounters_CREATE_LIKE                    |5682041 |\n",
      "|membership_statusUpdateDate                      |9873711 |\n",
      "|membership_joinRequestDate                       |241679  |\n",
      "|auditweights_svd_prelaunch                       |6383479 |\n",
      "|metadata_totalVideoLength                        |54341   |\n",
      "|userOwnerCounters_UNKNOWN                        |763289  |\n",
      "|auditweights_dailyRecency                        |3064338 |\n",
      "|auditweights_ctr_negative                        |5481171 |\n",
      "|auditweights_friendLikes                         |21      |\n",
      "|auditweights_numDislikes                         |32141   |\n",
      "|userOwnerCounters_VIDEO                          |509759  |\n",
      "|userOwnerCounters_IMAGE                          |2673354 |\n",
      "|auditweights_ctr_gender                          |7466596 |\n",
      "|metadata_numCompanions                           |92      |\n",
      "|auditweights_feedStats                           |128     |\n",
      "|userOwnerCounters_TEXT                           |4484172 |\n",
      "|auditweights_svd_spark                           |6350363 |\n",
      "|auditweights_numLikes                            |114835  |\n",
      "|auditweights_numShows                            |999178  |\n",
      "|auditweights_ctr_high                            |12637628|\n",
      "|auditweights_friendCommentFeeds                  |24      |\n",
      "|auditweights_friendCommenters                    |24      |\n",
      "|metadata_numSymbols                              |15960   |\n",
      "|auditweights_matrix                              |866697  |\n",
      "|membership_joinDate                              |2505486 |\n",
      "|audit_resourceType                               |5       |\n",
      "|metadata_numVideos                               |34      |\n",
      "|metadata_numTokens                               |3604    |\n",
      "|user_change_datime                               |1744833 |\n",
      "|metadata_createdAt                               |1942253 |\n",
      "|auditweights_ageMs                               |14866140|\n",
      "|metadata_numPolls                                |9       |\n",
      "|metadata_authorId                                |298567  |\n",
      "|instanceId_userId                                |3916579 |\n",
      "|user_is_active                                   |3       |\n",
      "|user_is_deleted                                  |3       |\n",
      "|user_is_abused                                   |3       |\n",
      "|user_is_activated                                |3       |\n",
      "|user_is_semiactivated                            |3       |\n",
      "|metadata_ownerId                                 |81272   |\n",
      "|user_ID_Location                                 |288701  |\n"
     ]
    },
    {
     "name": "stdout",
     "output_type": "stream",
     "text": [
      "|user_create_date                                 |3916083 |\n",
      "|audit_timePassed                                 |10462419|\n",
      "|metadata_numPhotos                               |116     |\n",
      "|auditweights_userAge                             |116     |\n",
      "|user_ID_country                                  |212     |\n",
      "|user_birth_date                                  |38506   |\n",
      "|audit_timestamp                                  |17410064|\n",
      "|instanceId_objectId                              |2936576 |\n",
      "|objectId                                         |2936576 |\n",
      "|user_gender                                      |4       |\n",
      "|user_status                                      |7       |\n",
      "|user_region                                      |248     |\n",
      "|audit_pos                                        |305     |\n",
      "+-------------------------------------------------+--------+\n",
      "\n"
     ]
    }
   ],
   "source": [
    "dfCountOfDiffValue.show(dfCountOfDiffValue.count.toInt, false)"
   ]
  },
  {
   "cell_type": "code",
   "execution_count": 43,
   "metadata": {},
   "outputs": [
    {
     "data": {
      "text/html": [
       "<div>\n",
       "  <span style=\"float: left;\">collect at cmd42.sc:3</span>\n",
       "</div>\n"
      ]
     },
     "metadata": {},
     "output_type": "display_data"
    },
    {
     "data": {
      "text/html": [
       "<div class=\"progress\">\n",
       "  <div class=\"progress-bar\" role=\"progressbar\" style=\"background-color: blue; width: 100%; word-wrap: normal; white-space: nowrap; text-align: center; color: white\" aria-valuenow=\"100\" aria-valuemin=\"0\" aria-valuemax=\"100\">\n",
       "    16 / 16\n",
       "  </div>\n",
       "  <div class=\"progress-bar\" role=\"progressbar\" style=\"background-color: red; width: 0%\" aria-valuenow=\"0\" aria-valuemin=\"0\" aria-valuemax=\"100\"></div>\n",
       "</div>\n"
      ]
     },
     "metadata": {},
     "output_type": "display_data"
    },
    {
     "data": {
      "text/plain": [
       "\u001b[36mconstCol\u001b[39m: \u001b[32mArray\u001b[39m[\u001b[32mString\u001b[39m] = \u001b[33mArray\u001b[39m(\n",
       "  \u001b[32m\"metadata_applicationId\"\u001b[39m,\n",
       "  \u001b[32m\"relationsMask\"\u001b[39m,\n",
       "  \u001b[32m\"ownerUserCounters_USER_FEED_REMOVE\"\u001b[39m,\n",
       "  \u001b[32m\"ownerUserCounters_USER_PROFILE_VIEW\"\u001b[39m,\n",
       "  \u001b[32m\"ownerUserCounters_VOTE_POLL\"\u001b[39m,\n",
       "  \u001b[32m\"ownerUserCounters_USER_SEND_MESSAGE\"\u001b[39m,\n",
       "  \u001b[32m\"ownerUserCounters_USER_DELETE_MESSAGE\"\u001b[39m,\n",
       "  \u001b[32m\"ownerUserCounters_USER_INTERNAL_LIKE\"\u001b[39m,\n",
       "  \u001b[32m\"ownerUserCounters_USER_INTERNAL_UNLIKE\"\u001b[39m,\n",
       "  \u001b[32m\"ownerUserCounters_USER_STATUS_COMMENT_CREATE\"\u001b[39m,\n",
       "  \u001b[32m\"ownerUserCounters_PHOTO_COMMENT_CREATE\"\u001b[39m,\n",
       "  \u001b[32m\"ownerUserCounters_MOVIE_COMMENT_CREATE\"\u001b[39m,\n",
       "  \u001b[32m\"ownerUserCounters_USER_PHOTO_ALBUM_COMMENT_CREATE\"\u001b[39m,\n",
       "  \u001b[32m\"ownerUserCounters_COMMENT_INTERNAL_LIKE\"\u001b[39m,\n",
       "  \u001b[32m\"ownerUserCounters_USER_FORUM_MESSAGE_CREATE\"\u001b[39m,\n",
       "  \u001b[32m\"ownerUserCounters_PHOTO_MARK_CREATE\"\u001b[39m,\n",
       "  \u001b[32m\"ownerUserCounters_PHOTO_VIEW\"\u001b[39m,\n",
       "  \u001b[32m\"ownerUserCounters_PHOTO_PIN_BATCH_CREATE\"\u001b[39m,\n",
       "  \u001b[32m\"ownerUserCounters_PHOTO_PIN_UPDATE\"\u001b[39m,\n",
       "  \u001b[32m\"ownerUserCounters_USER_PRESENT_SEND\"\u001b[39m,\n",
       "  \u001b[32m\"ownerUserCounters_UNKNOWN\"\u001b[39m,\n",
       "  \u001b[32m\"ownerUserCounters_CREATE_TOPIC\"\u001b[39m,\n",
       "  \u001b[32m\"ownerUserCounters_CREATE_IMAGE\"\u001b[39m,\n",
       "  \u001b[32m\"ownerUserCounters_CREATE_MOVIE\"\u001b[39m,\n",
       "  \u001b[32m\"ownerUserCounters_CREATE_COMMENT\"\u001b[39m,\n",
       "  \u001b[32m\"ownerUserCounters_CREATE_LIKE\"\u001b[39m,\n",
       "  \u001b[32m\"ownerUserCounters_TEXT\"\u001b[39m,\n",
       "  \u001b[32m\"ownerUserCounters_IMAGE\"\u001b[39m,\n",
       "  \u001b[32m\"ownerUserCounters_VIDEO\"\u001b[39m,\n",
       "  \u001b[32m\"owner_create_date\"\u001b[39m,\n",
       "  \u001b[32m\"owner_birth_date\"\u001b[39m,\n",
       "  \u001b[32m\"owner_gender\"\u001b[39m,\n",
       "  \u001b[32m\"owner_status\"\u001b[39m,\n",
       "  \u001b[32m\"owner_ID_country\"\u001b[39m,\n",
       "  \u001b[32m\"owner_ID_Location\"\u001b[39m,\n",
       "  \u001b[32m\"owner_is_active\"\u001b[39m,\n",
       "  \u001b[32m\"owner_is_deleted\"\u001b[39m,\n",
       "  \u001b[32m\"owner_is_abused\"\u001b[39m,\n",
       "..."
      ]
     },
     "execution_count": 43,
     "metadata": {},
     "output_type": "execute_result"
    }
   ],
   "source": [
    "//получим колонки, которые константны\n",
    "val constCol = dfCountOfDiffValue\n",
    "                    .filter(col(\"count\")<2)\n",
    "                    .select(\"column\")\n",
    "                    .collect\n",
    "                    .map(_.toSeq.map(_.toString).toArray.apply(0))"
   ]
  },
  {
   "cell_type": "code",
   "execution_count": 44,
   "metadata": {},
   "outputs": [
    {
     "data": {
      "text/plain": [
       "\u001b[36mdfLikedDoubleNoArrayDropConst\u001b[39m: \u001b[32mDataFrame\u001b[39m = [instanceId_userId: int, instanceId_objectType: string ... 123 more fields]"
      ]
     },
     "execution_count": 44,
     "metadata": {},
     "output_type": "execute_result"
    }
   ],
   "source": [
    "val dfLikedDoubleNoArrayDropConst = dfLikedDoubleNoArray.drop(constCol: _*)"
   ]
  },
  {
   "cell_type": "code",
   "execution_count": 45,
   "metadata": {},
   "outputs": [
    {
     "data": {
      "text/html": [
       "<div>\n",
       "  <span style=\"float: left;\">collect at cmd44.sc:3</span>\n",
       "</div>\n"
      ]
     },
     "metadata": {},
     "output_type": "display_data"
    },
    {
     "data": {
      "text/html": [
       "<div class=\"progress\">\n",
       "  <div class=\"progress-bar\" role=\"progressbar\" style=\"background-color: blue; width: 100%; word-wrap: normal; white-space: nowrap; text-align: center; color: white\" aria-valuenow=\"100\" aria-valuemin=\"0\" aria-valuemax=\"100\">\n",
       "    16 / 16\n",
       "  </div>\n",
       "  <div class=\"progress-bar\" role=\"progressbar\" style=\"background-color: red; width: 0%\" aria-valuenow=\"0\" aria-valuemin=\"0\" aria-valuemax=\"100\"></div>\n",
       "</div>\n"
      ]
     },
     "metadata": {},
     "output_type": "display_data"
    },
    {
     "data": {
      "text/plain": [
       "\u001b[36mtwoValCol\u001b[39m: \u001b[32mArray\u001b[39m[\u001b[32mString\u001b[39m] = \u001b[33mArray\u001b[39m(\n",
       "  \u001b[32m\"userOwnerCounters_USER_PROFILE_VIEW\"\u001b[39m,\n",
       "  \u001b[32m\"userOwnerCounters_VOTE_POLL\"\u001b[39m,\n",
       "  \u001b[32m\"userOwnerCounters_USER_SEND_MESSAGE\"\u001b[39m,\n",
       "  \u001b[32m\"userOwnerCounters_USER_DELETE_MESSAGE\"\u001b[39m,\n",
       "  \u001b[32m\"userOwnerCounters_USER_INTERNAL_LIKE\"\u001b[39m,\n",
       "  \u001b[32m\"userOwnerCounters_USER_INTERNAL_UNLIKE\"\u001b[39m,\n",
       "  \u001b[32m\"userOwnerCounters_USER_STATUS_COMMENT_CREATE\"\u001b[39m,\n",
       "  \u001b[32m\"userOwnerCounters_PHOTO_COMMENT_CREATE\"\u001b[39m,\n",
       "  \u001b[32m\"userOwnerCounters_MOVIE_COMMENT_CREATE\"\u001b[39m,\n",
       "  \u001b[32m\"userOwnerCounters_USER_PHOTO_ALBUM_COMMENT_CREATE\"\u001b[39m,\n",
       "  \u001b[32m\"userOwnerCounters_COMMENT_INTERNAL_LIKE\"\u001b[39m,\n",
       "  \u001b[32m\"userOwnerCounters_USER_FORUM_MESSAGE_CREATE\"\u001b[39m,\n",
       "  \u001b[32m\"userOwnerCounters_PHOTO_MARK_CREATE\"\u001b[39m,\n",
       "  \u001b[32m\"userOwnerCounters_PHOTO_VIEW\"\u001b[39m,\n",
       "  \u001b[32m\"userOwnerCounters_PHOTO_PIN_BATCH_CREATE\"\u001b[39m,\n",
       "  \u001b[32m\"userOwnerCounters_PHOTO_PIN_UPDATE\"\u001b[39m,\n",
       "  \u001b[32m\"userOwnerCounters_USER_PRESENT_SEND\"\u001b[39m,\n",
       "  \u001b[32m\"auditweights_closed\"\u001b[39m,\n",
       "  \u001b[32m\"auditweights_hasDetectedText\"\u001b[39m,\n",
       "  \u001b[32m\"auditweights_hasText\"\u001b[39m,\n",
       "  \u001b[32m\"auditweights_isRandom\"\u001b[39m,\n",
       "  \u001b[32m\"auditweights_notOriginalPhoto\"\u001b[39m,\n",
       "  \u001b[32m\"auditweights_onlineVideo\"\u001b[39m,\n",
       "  \u001b[32m\"auditweights_processedVideo\"\u001b[39m,\n",
       "  \u001b[32m\"auditweights_source_MOVIE_TOP\"\u001b[39m,\n",
       "  \u001b[32m\"Liked\"\u001b[39m\n",
       ")"
      ]
     },
     "execution_count": 45,
     "metadata": {},
     "output_type": "execute_result"
    }
   ],
   "source": [
    "//получим колонки, у которых 2 занчения\n",
    "val twoValCol = dfCountOfDiffValue\n",
    "                    .filter(col(\"count\")===2)\n",
    "                    .select(\"column\")\n",
    "                    .collect\n",
    "                    .map(_.toSeq.map(_.toString).toArray.apply(0))"
   ]
  },
  {
   "cell_type": "code",
   "execution_count": 46,
   "metadata": {},
   "outputs": [
    {
     "data": {
      "text/html": [
       "<div>\n",
       "  <span style=\"float: left;\">head at cmd45.sc:2</span>\n",
       "</div>\n"
      ]
     },
     "metadata": {},
     "output_type": "display_data"
    },
    {
     "data": {
      "text/html": [
       "<div class=\"progress\">\n",
       "  <div class=\"progress-bar\" role=\"progressbar\" style=\"background-color: blue; width: 100%; word-wrap: normal; white-space: nowrap; text-align: center; color: white\" aria-valuenow=\"100\" aria-valuemin=\"0\" aria-valuemax=\"100\">\n",
       "    28 / 28\n",
       "  </div>\n",
       "  <div class=\"progress-bar\" role=\"progressbar\" style=\"background-color: red; width: 0%\" aria-valuenow=\"0\" aria-valuemin=\"0\" aria-valuemax=\"100\"></div>\n",
       "</div>\n"
      ]
     },
     "metadata": {},
     "output_type": "display_data"
    },
    {
     "data": {
      "text/html": [
       "<div>\n",
       "  <span style=\"float: left;\">head at cmd45.sc:2</span>\n",
       "</div>\n"
      ]
     },
     "metadata": {},
     "output_type": "display_data"
    },
    {
     "data": {
      "text/html": [
       "<div class=\"progress\">\n",
       "  <div class=\"progress-bar\" role=\"progressbar\" style=\"background-color: blue; width: 100%; word-wrap: normal; white-space: nowrap; text-align: center; color: white\" aria-valuenow=\"100\" aria-valuemin=\"0\" aria-valuemax=\"100\">\n",
       "    1 / 1\n",
       "  </div>\n",
       "  <div class=\"progress-bar\" role=\"progressbar\" style=\"background-color: red; width: 0%\" aria-valuenow=\"0\" aria-valuemin=\"0\" aria-valuemax=\"100\"></div>\n",
       "</div>\n"
      ]
     },
     "metadata": {},
     "output_type": "display_data"
    },
    {
     "data": {
      "text/plain": [
       "\u001b[36mtwoValColNull\u001b[39m: \u001b[32mArray\u001b[39m[\u001b[32mString\u001b[39m] = \u001b[33mArray\u001b[39m(\n",
       "  \u001b[32m\"userOwnerCounters_USER_PRESENT_SEND\"\u001b[39m,\n",
       "  \u001b[32m\"userOwnerCounters_VOTE_POLL\"\u001b[39m,\n",
       "  \u001b[32m\"userOwnerCounters_PHOTO_MARK_CREATE\"\u001b[39m,\n",
       "  \u001b[32m\"userOwnerCounters_PHOTO_VIEW\"\u001b[39m,\n",
       "  \u001b[32m\"userOwnerCounters_USER_DELETE_MESSAGE\"\u001b[39m,\n",
       "  \u001b[32m\"userOwnerCounters_USER_INTERNAL_LIKE\"\u001b[39m,\n",
       "  \u001b[32m\"userOwnerCounters_PHOTO_PIN_UPDATE\"\u001b[39m,\n",
       "  \u001b[32m\"auditweights_notOriginalPhoto\"\u001b[39m,\n",
       "  \u001b[32m\"auditweights_closed\"\u001b[39m,\n",
       "  \u001b[32m\"userOwnerCounters_USER_PROFILE_VIEW\"\u001b[39m,\n",
       "  \u001b[32m\"userOwnerCounters_USER_INTERNAL_UNLIKE\"\u001b[39m,\n",
       "  \u001b[32m\"auditweights_source_MOVIE_TOP\"\u001b[39m,\n",
       "  \u001b[32m\"userOwnerCounters_USER_PHOTO_ALBUM_COMMENT_CREATE\"\u001b[39m,\n",
       "  \u001b[32m\"auditweights_onlineVideo\"\u001b[39m,\n",
       "  \u001b[32m\"userOwnerCounters_COMMENT_INTERNAL_LIKE\"\u001b[39m,\n",
       "  \u001b[32m\"auditweights_hasDetectedText\"\u001b[39m,\n",
       "  \u001b[32m\"userOwnerCounters_MOVIE_COMMENT_CREATE\"\u001b[39m,\n",
       "  \u001b[32m\"auditweights_processedVideo\"\u001b[39m,\n",
       "  \u001b[32m\"userOwnerCounters_USER_SEND_MESSAGE\"\u001b[39m,\n",
       "  \u001b[32m\"userOwnerCounters_PHOTO_PIN_BATCH_CREATE\"\u001b[39m,\n",
       "  \u001b[32m\"userOwnerCounters_USER_STATUS_COMMENT_CREATE\"\u001b[39m,\n",
       "  \u001b[32m\"userOwnerCounters_PHOTO_COMMENT_CREATE\"\u001b[39m,\n",
       "  \u001b[32m\"userOwnerCounters_USER_FORUM_MESSAGE_CREATE\"\u001b[39m,\n",
       "  \u001b[32m\"auditweights_isRandom\"\u001b[39m,\n",
       "  \u001b[32m\"auditweights_hasText\"\u001b[39m\n",
       ")"
      ]
     },
     "execution_count": 46,
     "metadata": {},
     "output_type": "execute_result"
    }
   ],
   "source": [
    "//получим колонки, у которых 2 занчения с null\n",
    "val twoValColNull = dfLikedDoubleNoArray\n",
    "                        .select(twoValCol.map(c => (sum(when(col(c).isNull,1))>0).alias(c)):_*)\n",
    "                        .head()\n",
    "                        .getValuesMap[Boolean](twoValCol)\n",
    "                        .filter{case (c,hasNulls) => hasNulls}\n",
    "                        .keys\n",
    "                        .toArray"
   ]
  },
  {
   "cell_type": "code",
   "execution_count": 47,
   "metadata": {
    "scrolled": true
   },
   "outputs": [
    {
     "data": {
      "text/html": [
       "<div>\n",
       "  <span style=\"float: left;\">head at cmd46.sc:5</span>\n",
       "</div>\n"
      ]
     },
     "metadata": {},
     "output_type": "display_data"
    },
    {
     "data": {
      "text/html": [
       "<div class=\"progress\">\n",
       "  <div class=\"progress-bar\" role=\"progressbar\" style=\"background-color: blue; width: 100%; word-wrap: normal; white-space: nowrap; text-align: center; color: white\" aria-valuenow=\"100\" aria-valuemin=\"0\" aria-valuemax=\"100\">\n",
       "    28 / 28\n",
       "  </div>\n",
       "  <div class=\"progress-bar\" role=\"progressbar\" style=\"background-color: red; width: 0%\" aria-valuenow=\"0\" aria-valuemin=\"0\" aria-valuemax=\"100\"></div>\n",
       "</div>\n"
      ]
     },
     "metadata": {},
     "output_type": "display_data"
    },
    {
     "data": {
      "text/html": [
       "<div>\n",
       "  <span style=\"float: left;\">head at cmd46.sc:5</span>\n",
       "</div>\n"
      ]
     },
     "metadata": {},
     "output_type": "display_data"
    },
    {
     "data": {
      "text/html": [
       "<div class=\"progress\">\n",
       "  <div class=\"progress-bar\" role=\"progressbar\" style=\"background-color: blue; width: 100%; word-wrap: normal; white-space: nowrap; text-align: center; color: white\" aria-valuenow=\"100\" aria-valuemin=\"0\" aria-valuemax=\"100\">\n",
       "    200 / 200\n",
       "  </div>\n",
       "  <div class=\"progress-bar\" role=\"progressbar\" style=\"background-color: red; width: 0%\" aria-valuenow=\"0\" aria-valuemin=\"0\" aria-valuemax=\"100\"></div>\n",
       "</div>\n"
      ]
     },
     "metadata": {},
     "output_type": "display_data"
    },
    {
     "data": {
      "text/html": [
       "<div>\n",
       "  <span style=\"float: left;\">head at cmd46.sc:5</span>\n",
       "</div>\n"
      ]
     },
     "metadata": {},
     "output_type": "display_data"
    },
    {
     "data": {
      "text/html": [
       "<div class=\"progress\">\n",
       "  <div class=\"progress-bar\" role=\"progressbar\" style=\"background-color: blue; width: 100%; word-wrap: normal; white-space: nowrap; text-align: center; color: white\" aria-valuenow=\"100\" aria-valuemin=\"0\" aria-valuemax=\"100\">\n",
       "    1 / 1\n",
       "  </div>\n",
       "  <div class=\"progress-bar\" role=\"progressbar\" style=\"background-color: red; width: 0%\" aria-valuenow=\"0\" aria-valuemin=\"0\" aria-valuemax=\"100\"></div>\n",
       "</div>\n"
      ]
     },
     "metadata": {},
     "output_type": "display_data"
    },
    {
     "data": {
      "text/plain": [
       "\u001b[36mvalMap\u001b[39m: \u001b[32mMap\u001b[39m[\u001b[32mString\u001b[39m, \u001b[32mInt\u001b[39m] = \u001b[33mMap\u001b[39m(\n",
       "  \u001b[32m\"userOwnerCounters_USER_PRESENT_SEND\"\u001b[39m -> \u001b[32m0\u001b[39m,\n",
       "  \u001b[32m\"userOwnerCounters_VOTE_POLL\"\u001b[39m -> \u001b[32m0\u001b[39m,\n",
       "  \u001b[32m\"userOwnerCounters_PHOTO_MARK_CREATE\"\u001b[39m -> \u001b[32m0\u001b[39m,\n",
       "  \u001b[32m\"userOwnerCounters_PHOTO_VIEW\"\u001b[39m -> \u001b[32m0\u001b[39m,\n",
       "  \u001b[32m\"userOwnerCounters_USER_DELETE_MESSAGE\"\u001b[39m -> \u001b[32m0\u001b[39m,\n",
       "  \u001b[32m\"userOwnerCounters_USER_INTERNAL_LIKE\"\u001b[39m -> \u001b[32m0\u001b[39m,\n",
       "  \u001b[32m\"userOwnerCounters_PHOTO_PIN_UPDATE\"\u001b[39m -> \u001b[32m0\u001b[39m,\n",
       "  \u001b[32m\"auditweights_notOriginalPhoto\"\u001b[39m -> \u001b[32m7\u001b[39m,\n",
       "  \u001b[32m\"auditweights_closed\"\u001b[39m -> \u001b[32m1\u001b[39m,\n",
       "  \u001b[32m\"userOwnerCounters_USER_PROFILE_VIEW\"\u001b[39m -> \u001b[32m0\u001b[39m,\n",
       "  \u001b[32m\"userOwnerCounters_USER_INTERNAL_UNLIKE\"\u001b[39m -> \u001b[32m0\u001b[39m,\n",
       "  \u001b[32m\"auditweights_source_MOVIE_TOP\"\u001b[39m -> \u001b[32m5\u001b[39m,\n",
       "  \u001b[32m\"userOwnerCounters_USER_PHOTO_ALBUM_COMMENT_CREATE\"\u001b[39m -> \u001b[32m0\u001b[39m,\n",
       "  \u001b[32m\"auditweights_onlineVideo\"\u001b[39m -> \u001b[32m5\u001b[39m,\n",
       "  \u001b[32m\"userOwnerCounters_COMMENT_INTERNAL_LIKE\"\u001b[39m -> \u001b[32m0\u001b[39m,\n",
       "  \u001b[32m\"auditweights_hasDetectedText\"\u001b[39m -> \u001b[32m5\u001b[39m,\n",
       "  \u001b[32m\"userOwnerCounters_MOVIE_COMMENT_CREATE\"\u001b[39m -> \u001b[32m0\u001b[39m,\n",
       "  \u001b[32m\"auditweights_processedVideo\"\u001b[39m -> \u001b[32m9\u001b[39m,\n",
       "  \u001b[32m\"userOwnerCounters_USER_SEND_MESSAGE\"\u001b[39m -> \u001b[32m0\u001b[39m,\n",
       "  \u001b[32m\"userOwnerCounters_PHOTO_PIN_BATCH_CREATE\"\u001b[39m -> \u001b[32m0\u001b[39m,\n",
       "  \u001b[32m\"userOwnerCounters_USER_STATUS_COMMENT_CREATE\"\u001b[39m -> \u001b[32m0\u001b[39m,\n",
       "  \u001b[32m\"userOwnerCounters_PHOTO_COMMENT_CREATE\"\u001b[39m -> \u001b[32m0\u001b[39m,\n",
       "  \u001b[32m\"userOwnerCounters_USER_FORUM_MESSAGE_CREATE\"\u001b[39m -> \u001b[32m0\u001b[39m,\n",
       "  \u001b[32m\"auditweights_isRandom\"\u001b[39m -> \u001b[32m18\u001b[39m,\n",
       "  \u001b[32m\"auditweights_hasText\"\u001b[39m -> \u001b[32m4\u001b[39m\n",
       ")\n",
       "\u001b[36mreplZ\u001b[39m: \u001b[32mSeq\u001b[39m[\u001b[32mString\u001b[39m] = \u001b[33mVector\u001b[39m(\n",
       "  \u001b[32m\"auditweights_notOriginalPhoto\"\u001b[39m,\n",
       "  \u001b[32m\"auditweights_closed\"\u001b[39m,\n",
       "  \u001b[32m\"auditweights_source_MOVIE_TOP\"\u001b[39m,\n",
       "  \u001b[32m\"auditweights_onlineVideo\"\u001b[39m,\n",
       "  \u001b[32m\"auditweights_hasDetectedText\"\u001b[39m,\n",
       "  \u001b[32m\"auditweights_processedVideo\"\u001b[39m,\n",
       "  \u001b[32m\"auditweights_isRandom\"\u001b[39m,\n",
       "  \u001b[32m\"auditweights_hasText\"\u001b[39m\n",
       ")\n",
       "\u001b[36mreplO\u001b[39m: \u001b[32mSeq\u001b[39m[\u001b[32mString\u001b[39m] = \u001b[33mVector\u001b[39m(\n",
       "  \u001b[32m\"userOwnerCounters_USER_PRESENT_SEND\"\u001b[39m,\n",
       "  \u001b[32m\"userOwnerCounters_VOTE_POLL\"\u001b[39m,\n",
       "  \u001b[32m\"userOwnerCounters_PHOTO_MARK_CREATE\"\u001b[39m,\n",
       "  \u001b[32m\"userOwnerCounters_PHOTO_VIEW\"\u001b[39m,\n",
       "  \u001b[32m\"userOwnerCounters_USER_DELETE_MESSAGE\"\u001b[39m,\n",
       "  \u001b[32m\"userOwnerCounters_USER_INTERNAL_LIKE\"\u001b[39m,\n",
       "  \u001b[32m\"userOwnerCounters_PHOTO_PIN_UPDATE\"\u001b[39m,\n",
       "  \u001b[32m\"userOwnerCounters_USER_PROFILE_VIEW\"\u001b[39m,\n",
       "  \u001b[32m\"userOwnerCounters_USER_INTERNAL_UNLIKE\"\u001b[39m,\n",
       "  \u001b[32m\"userOwnerCounters_USER_PHOTO_ALBUM_COMMENT_CREATE\"\u001b[39m,\n",
       "  \u001b[32m\"userOwnerCounters_COMMENT_INTERNAL_LIKE\"\u001b[39m,\n",
       "  \u001b[32m\"userOwnerCounters_MOVIE_COMMENT_CREATE\"\u001b[39m,\n",
       "  \u001b[32m\"userOwnerCounters_USER_SEND_MESSAGE\"\u001b[39m,\n",
       "  \u001b[32m\"userOwnerCounters_PHOTO_PIN_BATCH_CREATE\"\u001b[39m,\n",
       "  \u001b[32m\"userOwnerCounters_USER_STATUS_COMMENT_CREATE\"\u001b[39m,\n",
       "  \u001b[32m\"userOwnerCounters_PHOTO_COMMENT_CREATE\"\u001b[39m,\n",
       "  \u001b[32m\"userOwnerCounters_USER_FORUM_MESSAGE_CREATE\"\u001b[39m\n",
       ")\n",
       "\u001b[36mdfLikedDoubleNoArrayDropTemp1\u001b[39m: \u001b[32mDataFrame\u001b[39m = [instanceId_userId: int, instanceId_objectType: string ... 123 more fields]\n",
       "\u001b[36mdfLikedDoubleNoArrayDropTemp2\u001b[39m: \u001b[32mDataFrame\u001b[39m = [instanceId_userId: int, instanceId_objectType: string ... 123 more fields]"
      ]
     },
     "execution_count": 47,
     "metadata": {},
     "output_type": "execute_result"
    }
   ],
   "source": [
    "// заменим где только нолики null на единицы, а где другое на ноль\n",
    "\n",
    "val valMap = dfLikedDoubleNoArray\n",
    "        .select(twoValColNull.map(col):_*)\n",
    "        .distinct\n",
    "        .select(twoValColNull\n",
    "                    .map(\n",
    "                        c=>sum(col(c)).cast(\"Int\") as c\n",
    "                    ):_*\n",
    "        )\n",
    "        .head()\n",
    "        .getValuesMap[Int](twoValColNull)\n",
    "\n",
    "val replZ = valMap.filter(x=>x._2>0).keys.toSeq\n",
    "val replO = valMap.filter(x=>x._2==0).keys.toSeq\n",
    "\n",
    "val dfLikedDoubleNoArrayDropTemp1 = dfLikedDoubleNoArrayDropConst.na.fill(0.0, replZ)\n",
    "val dfLikedDoubleNoArrayDropTemp2 = dfLikedDoubleNoArrayDropTemp1.na.fill(1.0, replO)"
   ]
  },
  {
   "cell_type": "markdown",
   "metadata": {},
   "source": [
    "## Сделаем one hot encoding для текстовых колонок с учетом null как значения"
   ]
  },
  {
   "cell_type": "code",
   "execution_count": 48,
   "metadata": {},
   "outputs": [
    {
     "data": {
      "text/plain": [
       "\u001b[36mdfLikedDoubleStringNull\u001b[39m: \u001b[32mDataFrame\u001b[39m = [instanceId_userId: int, instanceId_objectType: string ... 122 more fields]"
      ]
     },
     "execution_count": 48,
     "metadata": {},
     "output_type": "execute_result"
    }
   ],
   "source": [
    "val dfLikedDoubleStringNull = dfLikedDoubleNoArrayDropTemp2.na.fill(\"null\", colsString.toSeq).drop(colsUnknown:_*)"
   ]
  },
  {
   "cell_type": "code",
   "execution_count": 49,
   "metadata": {},
   "outputs": [
    {
     "data": {
      "text/plain": [
       "defined \u001b[32mfunction\u001b[39m \u001b[36mstringToCol\u001b[39m"
      ]
     },
     "execution_count": 49,
     "metadata": {},
     "output_type": "execute_result"
    }
   ],
   "source": [
    "def stringToCol(df:DataFrame, columns:Array[String])={\n",
    "    var dfRes = df\n",
    "    \n",
    "    for(c<-columns){\n",
    "        val arrayValue = df\n",
    "                            .select(c)\n",
    "                            .distinct\n",
    "                            .collect\n",
    "                            .map(_.toSeq(0).toString)\n",
    "        \n",
    "        for (v<-arrayValue){\n",
    "            dfRes = dfRes.withColumn(\n",
    "                c+\"_\"+v.filter(_.isLetterOrDigit),\n",
    "                when(col(c)===v,1).otherwise(0)\n",
    "            )\n",
    "        }\n",
    "    }\n",
    "    \n",
    "    dfRes.drop(columns:_*)\n",
    "}"
   ]
  },
  {
   "cell_type": "code",
   "execution_count": 50,
   "metadata": {
    "scrolled": true
   },
   "outputs": [
    {
     "data": {
      "text/html": [
       "<div>\n",
       "  <span style=\"float: left;\">collect at cmd48.sc:6</span>\n",
       "</div>\n"
      ]
     },
     "metadata": {},
     "output_type": "display_data"
    },
    {
     "data": {
      "text/html": [
       "<div class=\"progress\">\n",
       "  <div class=\"progress-bar\" role=\"progressbar\" style=\"background-color: blue; width: 100%; word-wrap: normal; white-space: nowrap; text-align: center; color: white\" aria-valuenow=\"100\" aria-valuemin=\"0\" aria-valuemax=\"100\">\n",
       "    28 / 28\n",
       "  </div>\n",
       "  <div class=\"progress-bar\" role=\"progressbar\" style=\"background-color: red; width: 0%\" aria-valuenow=\"0\" aria-valuemin=\"0\" aria-valuemax=\"100\"></div>\n",
       "</div>\n"
      ]
     },
     "metadata": {},
     "output_type": "display_data"
    },
    {
     "data": {
      "text/html": [
       "<div>\n",
       "  <span style=\"float: left;\">collect at cmd48.sc:6</span>\n",
       "</div>\n"
      ]
     },
     "metadata": {},
     "output_type": "display_data"
    },
    {
     "data": {
      "text/html": [
       "<div class=\"progress\">\n",
       "  <div class=\"progress-bar\" role=\"progressbar\" style=\"background-color: blue; width: 100%; word-wrap: normal; white-space: nowrap; text-align: center; color: white\" aria-valuenow=\"100\" aria-valuemin=\"0\" aria-valuemax=\"100\">\n",
       "    200 / 200\n",
       "  </div>\n",
       "  <div class=\"progress-bar\" role=\"progressbar\" style=\"background-color: red; width: 0%\" aria-valuenow=\"0\" aria-valuemin=\"0\" aria-valuemax=\"100\"></div>\n",
       "</div>\n"
      ]
     },
     "metadata": {},
     "output_type": "display_data"
    },
    {
     "data": {
      "text/html": [
       "<div>\n",
       "  <span style=\"float: left;\">collect at cmd48.sc:6</span>\n",
       "</div>\n"
      ]
     },
     "metadata": {},
     "output_type": "display_data"
    },
    {
     "data": {
      "text/html": [
       "<div class=\"progress\">\n",
       "  <div class=\"progress-bar\" role=\"progressbar\" style=\"background-color: blue; width: 100%; word-wrap: normal; white-space: nowrap; text-align: center; color: white\" aria-valuenow=\"100\" aria-valuemin=\"0\" aria-valuemax=\"100\">\n",
       "    28 / 28\n",
       "  </div>\n",
       "  <div class=\"progress-bar\" role=\"progressbar\" style=\"background-color: red; width: 0%\" aria-valuenow=\"0\" aria-valuemin=\"0\" aria-valuemax=\"100\"></div>\n",
       "</div>\n"
      ]
     },
     "metadata": {},
     "output_type": "display_data"
    },
    {
     "data": {
      "text/html": [
       "<div>\n",
       "  <span style=\"float: left;\">collect at cmd48.sc:6</span>\n",
       "</div>\n"
      ]
     },
     "metadata": {},
     "output_type": "display_data"
    },
    {
     "data": {
      "text/html": [
       "<div class=\"progress\">\n",
       "  <div class=\"progress-bar\" role=\"progressbar\" style=\"background-color: blue; width: 100%; word-wrap: normal; white-space: nowrap; text-align: center; color: white\" aria-valuenow=\"100\" aria-valuemin=\"0\" aria-valuemax=\"100\">\n",
       "    200 / 200\n",
       "  </div>\n",
       "  <div class=\"progress-bar\" role=\"progressbar\" style=\"background-color: red; width: 0%\" aria-valuenow=\"0\" aria-valuemin=\"0\" aria-valuemax=\"100\"></div>\n",
       "</div>\n"
      ]
     },
     "metadata": {},
     "output_type": "display_data"
    },
    {
     "data": {
      "text/html": [
       "<div>\n",
       "  <span style=\"float: left;\">collect at cmd48.sc:6</span>\n",
       "</div>\n"
      ]
     },
     "metadata": {},
     "output_type": "display_data"
    },
    {
     "data": {
      "text/html": [
       "<div class=\"progress\">\n",
       "  <div class=\"progress-bar\" role=\"progressbar\" style=\"background-color: blue; width: 100%; word-wrap: normal; white-space: nowrap; text-align: center; color: white\" aria-valuenow=\"100\" aria-valuemin=\"0\" aria-valuemax=\"100\">\n",
       "    28 / 28\n",
       "  </div>\n",
       "  <div class=\"progress-bar\" role=\"progressbar\" style=\"background-color: red; width: 0%\" aria-valuenow=\"0\" aria-valuemin=\"0\" aria-valuemax=\"100\"></div>\n",
       "</div>\n"
      ]
     },
     "metadata": {},
     "output_type": "display_data"
    },
    {
     "data": {
      "text/html": [
       "<div>\n",
       "  <span style=\"float: left;\">collect at cmd48.sc:6</span>\n",
       "</div>\n"
      ]
     },
     "metadata": {},
     "output_type": "display_data"
    },
    {
     "data": {
      "text/html": [
       "<div class=\"progress\">\n",
       "  <div class=\"progress-bar\" role=\"progressbar\" style=\"background-color: blue; width: 100%; word-wrap: normal; white-space: nowrap; text-align: center; color: white\" aria-valuenow=\"100\" aria-valuemin=\"0\" aria-valuemax=\"100\">\n",
       "    200 / 200\n",
       "  </div>\n",
       "  <div class=\"progress-bar\" role=\"progressbar\" style=\"background-color: red; width: 0%\" aria-valuenow=\"0\" aria-valuemin=\"0\" aria-valuemax=\"100\"></div>\n",
       "</div>\n"
      ]
     },
     "metadata": {},
     "output_type": "display_data"
    },
    {
     "data": {
      "text/html": [
       "<div>\n",
       "  <span style=\"float: left;\">collect at cmd48.sc:6</span>\n",
       "</div>\n"
      ]
     },
     "metadata": {},
     "output_type": "display_data"
    },
    {
     "data": {
      "text/html": [
       "<div class=\"progress\">\n",
       "  <div class=\"progress-bar\" role=\"progressbar\" style=\"background-color: blue; width: 100%; word-wrap: normal; white-space: nowrap; text-align: center; color: white\" aria-valuenow=\"100\" aria-valuemin=\"0\" aria-valuemax=\"100\">\n",
       "    28 / 28\n",
       "  </div>\n",
       "  <div class=\"progress-bar\" role=\"progressbar\" style=\"background-color: red; width: 0%\" aria-valuenow=\"0\" aria-valuemin=\"0\" aria-valuemax=\"100\"></div>\n",
       "</div>\n"
      ]
     },
     "metadata": {},
     "output_type": "display_data"
    },
    {
     "data": {
      "text/html": [
       "<div>\n",
       "  <span style=\"float: left;\">collect at cmd48.sc:6</span>\n",
       "</div>\n"
      ]
     },
     "metadata": {},
     "output_type": "display_data"
    },
    {
     "data": {
      "text/html": [
       "<div class=\"progress\">\n",
       "  <div class=\"progress-bar\" role=\"progressbar\" style=\"background-color: blue; width: 100%; word-wrap: normal; white-space: nowrap; text-align: center; color: white\" aria-valuenow=\"100\" aria-valuemin=\"0\" aria-valuemax=\"100\">\n",
       "    200 / 200\n",
       "  </div>\n",
       "  <div class=\"progress-bar\" role=\"progressbar\" style=\"background-color: red; width: 0%\" aria-valuenow=\"0\" aria-valuemin=\"0\" aria-valuemax=\"100\"></div>\n",
       "</div>\n"
      ]
     },
     "metadata": {},
     "output_type": "display_data"
    },
    {
     "data": {
      "text/html": [
       "<div>\n",
       "  <span style=\"float: left;\">collect at cmd48.sc:6</span>\n",
       "</div>\n"
      ]
     },
     "metadata": {},
     "output_type": "display_data"
    },
    {
     "data": {
      "text/html": [
       "<div class=\"progress\">\n",
       "  <div class=\"progress-bar\" role=\"progressbar\" style=\"background-color: blue; width: 100%; word-wrap: normal; white-space: nowrap; text-align: center; color: white\" aria-valuenow=\"100\" aria-valuemin=\"0\" aria-valuemax=\"100\">\n",
       "    28 / 28\n",
       "  </div>\n",
       "  <div class=\"progress-bar\" role=\"progressbar\" style=\"background-color: red; width: 0%\" aria-valuenow=\"0\" aria-valuemin=\"0\" aria-valuemax=\"100\"></div>\n",
       "</div>\n"
      ]
     },
     "metadata": {},
     "output_type": "display_data"
    },
    {
     "data": {
      "text/html": [
       "<div>\n",
       "  <span style=\"float: left;\">collect at cmd48.sc:6</span>\n",
       "</div>\n"
      ]
     },
     "metadata": {},
     "output_type": "display_data"
    },
    {
     "data": {
      "text/html": [
       "<div class=\"progress\">\n",
       "  <div class=\"progress-bar\" role=\"progressbar\" style=\"background-color: blue; width: 100%; word-wrap: normal; white-space: nowrap; text-align: center; color: white\" aria-valuenow=\"100\" aria-valuemin=\"0\" aria-valuemax=\"100\">\n",
       "    200 / 200\n",
       "  </div>\n",
       "  <div class=\"progress-bar\" role=\"progressbar\" style=\"background-color: red; width: 0%\" aria-valuenow=\"0\" aria-valuemin=\"0\" aria-valuemax=\"100\"></div>\n",
       "</div>\n"
      ]
     },
     "metadata": {},
     "output_type": "display_data"
    },
    {
     "data": {
      "text/html": [
       "<div>\n",
       "  <span style=\"float: left;\">collect at cmd48.sc:6</span>\n",
       "</div>\n"
      ]
     },
     "metadata": {},
     "output_type": "display_data"
    },
    {
     "data": {
      "text/html": [
       "<div class=\"progress\">\n",
       "  <div class=\"progress-bar\" role=\"progressbar\" style=\"background-color: blue; width: 100%; word-wrap: normal; white-space: nowrap; text-align: center; color: white\" aria-valuenow=\"100\" aria-valuemin=\"0\" aria-valuemax=\"100\">\n",
       "    28 / 28\n",
       "  </div>\n",
       "  <div class=\"progress-bar\" role=\"progressbar\" style=\"background-color: red; width: 0%\" aria-valuenow=\"0\" aria-valuemin=\"0\" aria-valuemax=\"100\"></div>\n",
       "</div>\n"
      ]
     },
     "metadata": {},
     "output_type": "display_data"
    },
    {
     "data": {
      "text/html": [
       "<div>\n",
       "  <span style=\"float: left;\">collect at cmd48.sc:6</span>\n",
       "</div>\n"
      ]
     },
     "metadata": {},
     "output_type": "display_data"
    },
    {
     "data": {
      "text/html": [
       "<div class=\"progress\">\n",
       "  <div class=\"progress-bar\" role=\"progressbar\" style=\"background-color: blue; width: 100%; word-wrap: normal; white-space: nowrap; text-align: center; color: white\" aria-valuenow=\"100\" aria-valuemin=\"0\" aria-valuemax=\"100\">\n",
       "    200 / 200\n",
       "  </div>\n",
       "  <div class=\"progress-bar\" role=\"progressbar\" style=\"background-color: red; width: 0%\" aria-valuenow=\"0\" aria-valuemin=\"0\" aria-valuemax=\"100\"></div>\n",
       "</div>\n"
      ]
     },
     "metadata": {},
     "output_type": "display_data"
    },
    {
     "data": {
      "text/plain": [
       "\u001b[36mdfLikedDoubleS2D\u001b[39m: \u001b[32mDataFrame\u001b[39m = [instanceId_userId: int, instanceId_objectId: int ... 160 more fields]"
      ]
     },
     "execution_count": 50,
     "metadata": {},
     "output_type": "execute_result"
    }
   ],
   "source": [
    "val dfLikedDoubleS2D = stringToCol(dfLikedDoubleStringNull, colsString.toArray)"
   ]
  },
  {
   "cell_type": "code",
   "execution_count": 51,
   "metadata": {
    "scrolled": true
   },
   "outputs": [
    {
     "data": {
      "text/plain": [
       "\u001b[32mimport \u001b[39m\u001b[36morg.apache.spark.ml.feature.Imputer\n",
       "\n",
       "\u001b[39m\n",
       "defined \u001b[32mfunction\u001b[39m \u001b[36mimpMean\u001b[39m"
      ]
     },
     "execution_count": 51,
     "metadata": {},
     "output_type": "execute_result"
    }
   ],
   "source": [
    "import org.apache.spark.ml.feature.Imputer\n",
    "\n",
    "def impMean(df:DataFrame, colsName:Array[String]) = {\n",
    "    val colsNameImp = colsName.map(c=>{c+\"_imputed\"})\n",
    "    \n",
    "    val imputer = new Imputer()\n",
    "      .setInputCols(colsName)\n",
    "      .setOutputCols(colsNameImp)\n",
    "      .setStrategy(\"mean\")\n",
    "\n",
    "    val imp = imputer\n",
    "        .fit(df)\n",
    "        .transform(df)\n",
    "    \n",
    "    imp.drop(colsName: _*)\n",
    "}"
   ]
  },
  {
   "cell_type": "code",
   "execution_count": 52,
   "metadata": {},
   "outputs": [
    {
     "data": {
      "text/html": [
       "<div>\n",
       "  <span style=\"float: left;\">head at Imputer.scala:169</span>\n",
       "</div>\n"
      ]
     },
     "metadata": {},
     "output_type": "display_data"
    },
    {
     "data": {
      "text/html": [
       "<div class=\"progress\">\n",
       "  <div class=\"progress-bar\" role=\"progressbar\" style=\"background-color: blue; width: 100%; word-wrap: normal; white-space: nowrap; text-align: center; color: white\" aria-valuenow=\"100\" aria-valuemin=\"0\" aria-valuemax=\"100\">\n",
       "    28 / 28\n",
       "  </div>\n",
       "  <div class=\"progress-bar\" role=\"progressbar\" style=\"background-color: red; width: 0%\" aria-valuenow=\"0\" aria-valuemin=\"0\" aria-valuemax=\"100\"></div>\n",
       "</div>\n"
      ]
     },
     "metadata": {},
     "output_type": "display_data"
    },
    {
     "data": {
      "text/html": [
       "<div>\n",
       "  <span style=\"float: left;\">head at Imputer.scala:169</span>\n",
       "</div>\n"
      ]
     },
     "metadata": {},
     "output_type": "display_data"
    },
    {
     "data": {
      "text/html": [
       "<div class=\"progress\">\n",
       "  <div class=\"progress-bar\" role=\"progressbar\" style=\"background-color: blue; width: 100%; word-wrap: normal; white-space: nowrap; text-align: center; color: white\" aria-valuenow=\"100\" aria-valuemin=\"0\" aria-valuemax=\"100\">\n",
       "    1 / 1\n",
       "  </div>\n",
       "  <div class=\"progress-bar\" role=\"progressbar\" style=\"background-color: red; width: 0%\" aria-valuenow=\"0\" aria-valuemin=\"0\" aria-valuemax=\"100\"></div>\n",
       "</div>\n"
      ]
     },
     "metadata": {},
     "output_type": "display_data"
    },
    {
     "data": {
      "text/html": [
       "<div>\n",
       "  <span style=\"float: left;\">head at Imputer.scala:258</span>\n",
       "</div>\n"
      ]
     },
     "metadata": {},
     "output_type": "display_data"
    },
    {
     "data": {
      "text/html": [
       "<div class=\"progress\">\n",
       "  <div class=\"progress-bar\" role=\"progressbar\" style=\"background-color: blue; width: 100%; word-wrap: normal; white-space: nowrap; text-align: center; color: white\" aria-valuenow=\"100\" aria-valuemin=\"0\" aria-valuemax=\"100\">\n",
       "    1 / 1\n",
       "  </div>\n",
       "  <div class=\"progress-bar\" role=\"progressbar\" style=\"background-color: red; width: 0%\" aria-valuenow=\"0\" aria-valuemin=\"0\" aria-valuemax=\"100\"></div>\n",
       "</div>\n"
      ]
     },
     "metadata": {},
     "output_type": "display_data"
    },
    {
     "data": {
      "text/html": [
       "<div>\n",
       "  <span style=\"float: left;\">head at Imputer.scala:258</span>\n",
       "</div>\n"
      ]
     },
     "metadata": {},
     "output_type": "display_data"
    },
    {
     "data": {
      "text/html": [
       "<div class=\"progress\">\n",
       "  <div class=\"progress-bar\" role=\"progressbar\" style=\"background-color: blue; width: 100%; word-wrap: normal; white-space: nowrap; text-align: center; color: white\" aria-valuenow=\"100\" aria-valuemin=\"0\" aria-valuemax=\"100\">\n",
       "    4 / 4\n",
       "  </div>\n",
       "  <div class=\"progress-bar\" role=\"progressbar\" style=\"background-color: red; width: 0%\" aria-valuenow=\"0\" aria-valuemin=\"0\" aria-valuemax=\"100\"></div>\n",
       "</div>\n"
      ]
     },
     "metadata": {},
     "output_type": "display_data"
    },
    {
     "data": {
      "text/html": [
       "<div>\n",
       "  <span style=\"float: left;\">head at Imputer.scala:258</span>\n",
       "</div>\n"
      ]
     },
     "metadata": {},
     "output_type": "display_data"
    },
    {
     "data": {
      "text/html": [
       "<div class=\"progress\">\n",
       "  <div class=\"progress-bar\" role=\"progressbar\" style=\"background-color: blue; width: 100%; word-wrap: normal; white-space: nowrap; text-align: center; color: white\" aria-valuenow=\"100\" aria-valuemin=\"0\" aria-valuemax=\"100\">\n",
       "    11 / 11\n",
       "  </div>\n",
       "  <div class=\"progress-bar\" role=\"progressbar\" style=\"background-color: red; width: 0%\" aria-valuenow=\"0\" aria-valuemin=\"0\" aria-valuemax=\"100\"></div>\n",
       "</div>\n"
      ]
     },
     "metadata": {},
     "output_type": "display_data"
    },
    {
     "data": {
      "text/plain": [
       "\u001b[36mdfLikedFull\u001b[39m: \u001b[32mDataFrame\u001b[39m = [metadata_options_HAS_PINS_imputed: double, audit_experiment_XPRM5386q4x3_imputed: int ... 160 more fields]"
      ]
     },
     "execution_count": 52,
     "metadata": {},
     "output_type": "execute_result"
    }
   ],
   "source": [
    "val dfLikedFull = impMean(dfLikedDoubleS2D, dfLikedDoubleS2D.columns).withColumnRenamed(searchStr+\"_imputed\", searchStr)"
   ]
  },
  {
   "cell_type": "code",
   "execution_count": 53,
   "metadata": {},
   "outputs": [
    {
     "data": {
      "text/plain": [
       "\u001b[36mcolFeatures\u001b[39m: \u001b[32mArray\u001b[39m[\u001b[32mString\u001b[39m] = \u001b[33mArray\u001b[39m(\n",
       "  \u001b[32m\"metadata_options_HAS_PINS_imputed\"\u001b[39m,\n",
       "  \u001b[32m\"audit_experiment_XPRM5386q4x3_imputed\"\u001b[39m,\n",
       "  \u001b[32m\"userOwnerCounters_USER_INTERNAL_UNLIKE_imputed\"\u001b[39m,\n",
       "  \u001b[32m\"audit_clientType_WEB_imputed\"\u001b[39m,\n",
       "  \u001b[32m\"membership_status_R_imputed\"\u001b[39m,\n",
       "  \u001b[32m\"auditweights_x_ActorsRelations_imputed\"\u001b[39m,\n",
       "  \u001b[32m\"auditweights_ctr_high_imputed\"\u001b[39m,\n",
       "  \u001b[32m\"userOwnerCounters_CREATE_IMAGE_imputed\"\u001b[39m,\n",
       "  \u001b[32m\"auditweights_friendLikes_actors_imputed\"\u001b[39m,\n",
       "  \u001b[32m\"auditweights_userOwner_VIDEO_imputed\"\u001b[39m,\n",
       "  \u001b[32m\"auditweights_numLikes_imputed\"\u001b[39m,\n",
       "  \u001b[32m\"user_create_date_imputed\"\u001b[39m,\n",
       "  \u001b[32m\"auditweights_friendCommentFeeds_imputed\"\u001b[39m,\n",
       "  \u001b[32m\"userOwnerCounters_UNKNOWN_imputed\"\u001b[39m,\n",
       "  \u001b[32m\"audit_experiment_XPRM5386q4x2_imputed\"\u001b[39m,\n",
       "  \u001b[32m\"metadata_options_HAS_COMPANIONS_imputed\"\u001b[39m,\n",
       "  \u001b[32m\"auditweights_friendCommenters_imputed\"\u001b[39m,\n",
       "  \u001b[32m\"auditweights_source_MOVIE_TOP_imputed\"\u001b[39m,\n",
       "  \u001b[32m\"membership_status_M_imputed\"\u001b[39m,\n",
       "  \u001b[32m\"metadata_totalVideoLength_imputed\"\u001b[39m,\n",
       "  \u001b[32m\"membership_status_P_imputed\"\u001b[39m,\n",
       "  \u001b[32m\"membership_status_I_imputed\"\u001b[39m,\n",
       "  \u001b[32m\"audit_experiment_XPRM5386G11_imputed\"\u001b[39m,\n",
       "  \u001b[32m\"userOwnerCounters_IMAGE_imputed\"\u001b[39m,\n",
       "  \u001b[32m\"user_ID_country_imputed\"\u001b[39m,\n",
       "  \u001b[32m\"metadata_options_HAS_CHEATED_TEXT_imputed\"\u001b[39m,\n",
       "  \u001b[32m\"audit_experiment_XPRM5386G4_imputed\"\u001b[39m,\n",
       "  \u001b[32m\"metadata_authorId_imputed\"\u001b[39m,\n",
       "  \u001b[32m\"user_is_abused_imputed\"\u001b[39m,\n",
       "  \u001b[32m\"user_status_imputed\"\u001b[39m,\n",
       "  \u001b[32m\"auditweights_userOwner_USER_FEED_REMOVE_imputed\"\u001b[39m,\n",
       "  \u001b[32m\"auditweights_closed_imputed\"\u001b[39m,\n",
       "  \u001b[32m\"objectId_imputed\"\u001b[39m,\n",
       "  \u001b[32m\"userOwnerCounters_USER_PRESENT_SEND_imputed\"\u001b[39m,\n",
       "  \u001b[32m\"userOwnerCounters_USER_PROFILE_VIEW_imputed\"\u001b[39m,\n",
       "  \u001b[32m\"userOwnerCounters_VIDEO_imputed\"\u001b[39m,\n",
       "  \u001b[32m\"user_gender_imputed\"\u001b[39m,\n",
       "  \u001b[32m\"userOwnerCounters_PHOTO_VIEW_imputed\"\u001b[39m,\n",
       "...\n",
       "\u001b[36massembler\u001b[39m: \u001b[32mVectorAssembler\u001b[39m = VectorAssembler: uid=vecAssembler_10f304a4818c, handleInvalid=error, numInputCols=161\n",
       "\u001b[36moutput\u001b[39m: \u001b[32mDataFrame\u001b[39m = [metadata_options_HAS_PINS_imputed: double, audit_experiment_XPRM5386q4x3_imputed: int ... 161 more fields]\n",
       "\u001b[36mdfLr\u001b[39m: \u001b[32mDataFrame\u001b[39m = [label: double, features: vector]"
      ]
     },
     "execution_count": 53,
     "metadata": {},
     "output_type": "execute_result"
    }
   ],
   "source": [
    "val colFeatures = dfLikedFull.drop(searchStr).columns\n",
    "\n",
    "val assembler = new VectorAssembler()\n",
    "    .setInputCols(colFeatures)\n",
    "    .setOutputCol(\"features\")\n",
    "\n",
    "val output = assembler\n",
    "    .transform(dfLikedFull)\n",
    "\n",
    "val dfLr = output.drop(colFeatures:_*).withColumnRenamed(searchStr, \"label\")"
   ]
  },
  {
   "cell_type": "code",
   "execution_count": 54,
   "metadata": {},
   "outputs": [
    {
     "data": {
      "text/html": [
       "<div>\n",
       "  <span style=\"float: left;\">show at cmd53.sc:1</span>\n",
       "</div>\n"
      ]
     },
     "metadata": {},
     "output_type": "display_data"
    },
    {
     "data": {
      "text/html": [
       "<div class=\"progress\">\n",
       "  <div class=\"progress-bar\" role=\"progressbar\" style=\"background-color: blue; width: 100%; word-wrap: normal; white-space: nowrap; text-align: center; color: white\" aria-valuenow=\"100\" aria-valuemin=\"0\" aria-valuemax=\"100\">\n",
       "    28 / 28\n",
       "  </div>\n",
       "  <div class=\"progress-bar\" role=\"progressbar\" style=\"background-color: red; width: 0%\" aria-valuenow=\"0\" aria-valuemin=\"0\" aria-valuemax=\"100\"></div>\n",
       "</div>\n"
      ]
     },
     "metadata": {},
     "output_type": "display_data"
    },
    {
     "data": {
      "text/html": [
       "<div>\n",
       "  <span style=\"float: left;\">show at cmd53.sc:1</span>\n",
       "</div>\n"
      ]
     },
     "metadata": {},
     "output_type": "display_data"
    },
    {
     "data": {
      "text/html": [
       "<div class=\"progress\">\n",
       "  <div class=\"progress-bar\" role=\"progressbar\" style=\"background-color: blue; width: 100%; word-wrap: normal; white-space: nowrap; text-align: center; color: white\" aria-valuenow=\"100\" aria-valuemin=\"0\" aria-valuemax=\"100\">\n",
       "    1 / 1\n",
       "  </div>\n",
       "  <div class=\"progress-bar\" role=\"progressbar\" style=\"background-color: red; width: 0%\" aria-valuenow=\"0\" aria-valuemin=\"0\" aria-valuemax=\"100\"></div>\n",
       "</div>\n"
      ]
     },
     "metadata": {},
     "output_type": "display_data"
    },
    {
     "data": {
      "text/html": [
       "<div>\n",
       "  <span style=\"float: left;\">show at cmd53.sc:1</span>\n",
       "</div>\n"
      ]
     },
     "metadata": {},
     "output_type": "display_data"
    },
    {
     "data": {
      "text/html": [
       "<div class=\"progress\">\n",
       "  <div class=\"progress-bar\" role=\"progressbar\" style=\"background-color: blue; width: 100%; word-wrap: normal; white-space: nowrap; text-align: center; color: white\" aria-valuenow=\"100\" aria-valuemin=\"0\" aria-valuemax=\"100\">\n",
       "    4 / 4\n",
       "  </div>\n",
       "  <div class=\"progress-bar\" role=\"progressbar\" style=\"background-color: red; width: 0%\" aria-valuenow=\"0\" aria-valuemin=\"0\" aria-valuemax=\"100\"></div>\n",
       "</div>\n"
      ]
     },
     "metadata": {},
     "output_type": "display_data"
    },
    {
     "data": {
      "text/html": [
       "<div>\n",
       "  <span style=\"float: left;\">show at cmd53.sc:1</span>\n",
       "</div>\n"
      ]
     },
     "metadata": {},
     "output_type": "display_data"
    },
    {
     "data": {
      "text/html": [
       "<div class=\"progress\">\n",
       "  <div class=\"progress-bar\" role=\"progressbar\" style=\"background-color: blue; width: 100%; word-wrap: normal; white-space: nowrap; text-align: center; color: white\" aria-valuenow=\"100\" aria-valuemin=\"0\" aria-valuemax=\"100\">\n",
       "    20 / 20\n",
       "  </div>\n",
       "  <div class=\"progress-bar\" role=\"progressbar\" style=\"background-color: red; width: 0%\" aria-valuenow=\"0\" aria-valuemin=\"0\" aria-valuemax=\"100\"></div>\n",
       "</div>\n"
      ]
     },
     "metadata": {},
     "output_type": "display_data"
    },
    {
     "data": {
      "text/html": [
       "<div>\n",
       "  <span style=\"float: left;\">show at cmd53.sc:1</span>\n",
       "</div>\n"
      ]
     },
     "metadata": {},
     "output_type": "display_data"
    },
    {
     "data": {
      "text/html": [
       "<div class=\"progress\">\n",
       "  <div class=\"progress-bar\" role=\"progressbar\" style=\"background-color: blue; width: 100%; word-wrap: normal; white-space: nowrap; text-align: center; color: white\" aria-valuenow=\"100\" aria-valuemin=\"0\" aria-valuemax=\"100\">\n",
       "    100 / 100\n",
       "  </div>\n",
       "  <div class=\"progress-bar\" role=\"progressbar\" style=\"background-color: red; width: 0%\" aria-valuenow=\"0\" aria-valuemin=\"0\" aria-valuemax=\"100\"></div>\n",
       "</div>\n"
      ]
     },
     "metadata": {},
     "output_type": "display_data"
    },
    {
     "data": {
      "text/html": [
       "<div>\n",
       "  <span style=\"float: left;\">show at cmd53.sc:1</span>\n",
       "</div>\n"
      ]
     },
     "metadata": {},
     "output_type": "display_data"
    },
    {
     "data": {
      "text/html": [
       "<div class=\"progress\">\n",
       "  <div class=\"progress-bar\" role=\"progressbar\" style=\"background-color: blue; width: 100%; word-wrap: normal; white-space: nowrap; text-align: center; color: white\" aria-valuenow=\"100\" aria-valuemin=\"0\" aria-valuemax=\"100\">\n",
       "    75 / 75\n",
       "  </div>\n",
       "  <div class=\"progress-bar\" role=\"progressbar\" style=\"background-color: red; width: 0%\" aria-valuenow=\"0\" aria-valuemin=\"0\" aria-valuemax=\"100\"></div>\n",
       "</div>\n"
      ]
     },
     "metadata": {},
     "output_type": "display_data"
    },
    {
     "name": "stdout",
     "output_type": "stream",
     "text": [
      "+-----+--------+\n",
      "|label|count   |\n",
      "+-----+--------+\n",
      "|0.0  |15066146|\n",
      "|1.0  |3220429 |\n",
      "+-----+--------+\n",
      "\n"
     ]
    }
   ],
   "source": [
    "// смотрим распределение целевой\n",
    "dfLr.groupBy(\"label\").count.show(false)"
   ]
  },
  {
   "cell_type": "markdown",
   "metadata": {},
   "source": [
    "Видим разницу в 5 раз"
   ]
  },
  {
   "cell_type": "code",
   "execution_count": 55,
   "metadata": {},
   "outputs": [
    {
     "data": {
      "text/plain": [
       "\u001b[32mimport \u001b[39m\u001b[36morg.apache.spark.sql.functions.udf\n",
       "\n",
       "\u001b[39m\n",
       "defined \u001b[32mfunction\u001b[39m \u001b[36mbalanceDataFrame\u001b[39m"
      ]
     },
     "execution_count": 55,
     "metadata": {},
     "output_type": "execute_result"
    }
   ],
   "source": [
    "import org.apache.spark.sql.functions.udf\n",
    "\n",
    "def balanceDataFrame(df: DataFrame): DataFrame = {\n",
    "\n",
    "    val numNegatives = df.filter(df(\"label\") === 0).count\n",
    "    val dfSize = df.count\n",
    "    val balancingRatio = (dfSize - numNegatives).toDouble / dfSize\n",
    "\n",
    "    val calculateWeights = udf { d: Double =>\n",
    "      if (d == 0.0) {\n",
    "        1 * balancingRatio\n",
    "      }\n",
    "      else {\n",
    "        (1 * (1.0 - balancingRatio))\n",
    "      }\n",
    "    }\n",
    "\n",
    "    val dfWeighted = df.withColumn(\"classWeightCol\", calculateWeights(df(\"label\")))\n",
    "    dfWeighted\n",
    "}"
   ]
  },
  {
   "cell_type": "code",
   "execution_count": 56,
   "metadata": {},
   "outputs": [
    {
     "data": {
      "text/html": [
       "<div>\n",
       "  <span style=\"float: left;\">count at cmd54.sc:5</span>\n",
       "</div>\n"
      ]
     },
     "metadata": {},
     "output_type": "display_data"
    },
    {
     "data": {
      "text/html": [
       "<div class=\"progress\">\n",
       "  <div class=\"progress-bar\" role=\"progressbar\" style=\"background-color: blue; width: 100%; word-wrap: normal; white-space: nowrap; text-align: center; color: white\" aria-valuenow=\"100\" aria-valuemin=\"0\" aria-valuemax=\"100\">\n",
       "    28 / 28\n",
       "  </div>\n",
       "  <div class=\"progress-bar\" role=\"progressbar\" style=\"background-color: red; width: 0%\" aria-valuenow=\"0\" aria-valuemin=\"0\" aria-valuemax=\"100\"></div>\n",
       "</div>\n"
      ]
     },
     "metadata": {},
     "output_type": "display_data"
    },
    {
     "data": {
      "text/html": [
       "<div>\n",
       "  <span style=\"float: left;\">count at cmd54.sc:5</span>\n",
       "</div>\n"
      ]
     },
     "metadata": {},
     "output_type": "display_data"
    },
    {
     "data": {
      "text/html": [
       "<div class=\"progress\">\n",
       "  <div class=\"progress-bar\" role=\"progressbar\" style=\"background-color: blue; width: 100%; word-wrap: normal; white-space: nowrap; text-align: center; color: white\" aria-valuenow=\"100\" aria-valuemin=\"0\" aria-valuemax=\"100\">\n",
       "    1 / 1\n",
       "  </div>\n",
       "  <div class=\"progress-bar\" role=\"progressbar\" style=\"background-color: red; width: 0%\" aria-valuenow=\"0\" aria-valuemin=\"0\" aria-valuemax=\"100\"></div>\n",
       "</div>\n"
      ]
     },
     "metadata": {},
     "output_type": "display_data"
    },
    {
     "data": {
      "text/html": [
       "<div>\n",
       "  <span style=\"float: left;\">count at cmd54.sc:6</span>\n",
       "</div>\n"
      ]
     },
     "metadata": {},
     "output_type": "display_data"
    },
    {
     "data": {
      "text/html": [
       "<div class=\"progress\">\n",
       "  <div class=\"progress-bar\" role=\"progressbar\" style=\"background-color: blue; width: 100%; word-wrap: normal; white-space: nowrap; text-align: center; color: white\" aria-valuenow=\"100\" aria-valuemin=\"0\" aria-valuemax=\"100\">\n",
       "    28 / 28\n",
       "  </div>\n",
       "  <div class=\"progress-bar\" role=\"progressbar\" style=\"background-color: red; width: 0%\" aria-valuenow=\"0\" aria-valuemin=\"0\" aria-valuemax=\"100\"></div>\n",
       "</div>\n"
      ]
     },
     "metadata": {},
     "output_type": "display_data"
    },
    {
     "data": {
      "text/html": [
       "<div>\n",
       "  <span style=\"float: left;\">count at cmd54.sc:6</span>\n",
       "</div>\n"
      ]
     },
     "metadata": {},
     "output_type": "display_data"
    },
    {
     "data": {
      "text/html": [
       "<div class=\"progress\">\n",
       "  <div class=\"progress-bar\" role=\"progressbar\" style=\"background-color: blue; width: 100%; word-wrap: normal; white-space: nowrap; text-align: center; color: white\" aria-valuenow=\"100\" aria-valuemin=\"0\" aria-valuemax=\"100\">\n",
       "    1 / 1\n",
       "  </div>\n",
       "  <div class=\"progress-bar\" role=\"progressbar\" style=\"background-color: red; width: 0%\" aria-valuenow=\"0\" aria-valuemin=\"0\" aria-valuemax=\"100\"></div>\n",
       "</div>\n"
      ]
     },
     "metadata": {},
     "output_type": "display_data"
    },
    {
     "data": {
      "text/plain": [
       "\u001b[36mdfLrBalance\u001b[39m: \u001b[32mDataFrame\u001b[39m = [label: double, features: vector ... 1 more field]"
      ]
     },
     "execution_count": 56,
     "metadata": {},
     "output_type": "execute_result"
    }
   ],
   "source": [
    "val dfLrBalance = balanceDataFrame(dfLr)"
   ]
  },
  {
   "cell_type": "markdown",
   "metadata": {},
   "source": [
    "## Реализуем простую бинарную класификацию c учетом баланса и посморим коэфиценты"
   ]
  },
  {
   "cell_type": "code",
   "execution_count": 57,
   "metadata": {},
   "outputs": [
    {
     "data": {
      "text/html": [
       "<div>\n",
       "  <span style=\"float: left;\">load at cmd56.sc:1</span>\n",
       "</div>\n"
      ]
     },
     "metadata": {},
     "output_type": "display_data"
    },
    {
     "data": {
      "text/html": [
       "<div class=\"progress\">\n",
       "  <div class=\"progress-bar\" role=\"progressbar\" style=\"background-color: blue; width: 100%; word-wrap: normal; white-space: nowrap; text-align: center; color: white\" aria-valuenow=\"100\" aria-valuemin=\"0\" aria-valuemax=\"100\">\n",
       "    1 / 1\n",
       "  </div>\n",
       "  <div class=\"progress-bar\" role=\"progressbar\" style=\"background-color: red; width: 0%\" aria-valuenow=\"0\" aria-valuemin=\"0\" aria-valuemax=\"100\"></div>\n",
       "</div>\n"
      ]
     },
     "metadata": {},
     "output_type": "display_data"
    },
    {
     "data": {
      "text/plain": [
       "\u001b[36mdfLrBalance\u001b[39m: \u001b[32mDataFrame\u001b[39m = [label: double, features: vector ... 1 more field]"
      ]
     },
     "execution_count": 57,
     "metadata": {},
     "output_type": "execute_result"
    }
   ],
   "source": [
    "// dfLrBalance.write.save(\"lr_balance\")\n",
    "\n",
    "val dfLrBalance = spark.read.load(\"lr_balance\")"
   ]
  },
  {
   "cell_type": "code",
   "execution_count": 58,
   "metadata": {},
   "outputs": [
    {
     "data": {
      "text/plain": [
       "\u001b[32mimport \u001b[39m\u001b[36morg.apache.spark.ml.classification.LogisticRegression\n",
       "\u001b[39m\n",
       "\u001b[32mimport \u001b[39m\u001b[36morg.apache.spark.ml.evaluation.BinaryClassificationEvaluator\n",
       "\u001b[39m\n",
       "\u001b[32mimport \u001b[39m\u001b[36morg.apache.spark.ml.Pipeline\n",
       "\u001b[39m\n",
       "\u001b[32mimport \u001b[39m\u001b[36morg.apache.spark.ml.tuning.{ParamGridBuilder, TrainValidationSplit, CrossValidator}\u001b[39m"
      ]
     },
     "execution_count": 58,
     "metadata": {},
     "output_type": "execute_result"
    }
   ],
   "source": [
    "import org.apache.spark.ml.classification.LogisticRegression\n",
    "import org.apache.spark.ml.evaluation.BinaryClassificationEvaluator\n",
    "import org.apache.spark.ml.Pipeline\n",
    "import org.apache.spark.ml.tuning.{ParamGridBuilder, TrainValidationSplit, CrossValidator}"
   ]
  },
  {
   "cell_type": "code",
   "execution_count": 59,
   "metadata": {},
   "outputs": [
    {
     "data": {
      "text/plain": [
       "\u001b[36mseed\u001b[39m: \u001b[32mInt\u001b[39m = \u001b[32m5043\u001b[39m\n",
       "\u001b[36mtrainingData\u001b[39m: \u001b[32mDataset\u001b[39m[\u001b[32mRow\u001b[39m] = [label: double, features: vector ... 1 more field]\n",
       "\u001b[36mtestData\u001b[39m: \u001b[32mDataset\u001b[39m[\u001b[32mRow\u001b[39m] = [label: double, features: vector ... 1 more field]"
      ]
     },
     "execution_count": 59,
     "metadata": {},
     "output_type": "execute_result"
    }
   ],
   "source": [
    "val seed = 5043\n",
    "val Array(trainingData, testData) = dfLrBalance.randomSplit(Array(0.9, 0.1), seed)"
   ]
  },
  {
   "cell_type": "code",
   "execution_count": 60,
   "metadata": {},
   "outputs": [
    {
     "data": {
      "text/html": [
       "<div>\n",
       "  <span style=\"float: left;\">first at StandardScaler.scala:113</span>\n",
       "</div>\n"
      ]
     },
     "metadata": {},
     "output_type": "display_data"
    },
    {
     "data": {
      "text/html": [
       "<div class=\"progress\">\n",
       "  <div class=\"progress-bar\" role=\"progressbar\" style=\"background-color: blue; width: 100%; word-wrap: normal; white-space: nowrap; text-align: center; color: white\" aria-valuenow=\"100\" aria-valuemin=\"0\" aria-valuemax=\"100\">\n",
       "    39 / 39\n",
       "  </div>\n",
       "  <div class=\"progress-bar\" role=\"progressbar\" style=\"background-color: red; width: 0%\" aria-valuenow=\"0\" aria-valuemin=\"0\" aria-valuemax=\"100\"></div>\n",
       "</div>\n"
      ]
     },
     "metadata": {},
     "output_type": "display_data"
    },
    {
     "data": {
      "text/html": [
       "<div>\n",
       "  <span style=\"float: left;\">first at StandardScaler.scala:113</span>\n",
       "</div>\n"
      ]
     },
     "metadata": {},
     "output_type": "display_data"
    },
    {
     "data": {
      "text/html": [
       "<div class=\"progress\">\n",
       "  <div class=\"progress-bar\" role=\"progressbar\" style=\"background-color: blue; width: 100%; word-wrap: normal; white-space: nowrap; text-align: center; color: white\" aria-valuenow=\"100\" aria-valuemin=\"0\" aria-valuemax=\"100\">\n",
       "    1 / 1\n",
       "  </div>\n",
       "  <div class=\"progress-bar\" role=\"progressbar\" style=\"background-color: red; width: 0%\" aria-valuenow=\"0\" aria-valuemin=\"0\" aria-valuemax=\"100\"></div>\n",
       "</div>\n"
      ]
     },
     "metadata": {},
     "output_type": "display_data"
    },
    {
     "data": {
      "text/plain": [
       "\u001b[32mimport \u001b[39m\u001b[36morg.apache.spark.ml.feature.StandardScaler\n",
       "\n",
       "\u001b[39m\n",
       "\u001b[36mscaler\u001b[39m: \u001b[32mStandardScaler\u001b[39m = stdScal_7e297c8a46fa\n",
       "\u001b[36mscalerModel\u001b[39m: \u001b[32morg\u001b[39m.\u001b[32mapache\u001b[39m.\u001b[32mspark\u001b[39m.\u001b[32mml\u001b[39m.\u001b[32mfeature\u001b[39m.\u001b[32mStandardScalerModel\u001b[39m = StandardScalerModel: uid=stdScal_7e297c8a46fa, numFeatures=161, withMean=false, withStd=true\n",
       "\u001b[36mtrainingScaledData\u001b[39m: \u001b[32mDataFrame\u001b[39m = [label: double, features: vector ... 2 more fields]\n",
       "\u001b[36mtestScaledData\u001b[39m: \u001b[32mDataFrame\u001b[39m = [label: double, features: vector ... 2 more fields]"
      ]
     },
     "execution_count": 60,
     "metadata": {},
     "output_type": "execute_result"
    }
   ],
   "source": [
    "import org.apache.spark.ml.feature.StandardScaler\n",
    "\n",
    "val scaler = new StandardScaler()\n",
    "  .setInputCol(\"features\")\n",
    "  .setOutputCol(\"scaledFeatures\")\n",
    "  .setWithStd(true)\n",
    "  .setWithMean(false)\n",
    "\n",
    "val scalerModel = scaler.fit(trainingData)\n",
    "\n",
    "val trainingScaledData = scalerModel.transform(trainingData)\n",
    "\n",
    "val testScaledData = scalerModel.transform(testData)"
   ]
  },
  {
   "cell_type": "code",
   "execution_count": 61,
   "metadata": {},
   "outputs": [
    {
     "data": {
      "text/plain": [
       "\u001b[36mlr\u001b[39m: \u001b[32mLogisticRegression\u001b[39m = logreg_6ba10180abda"
      ]
     },
     "execution_count": 61,
     "metadata": {},
     "output_type": "execute_result"
    }
   ],
   "source": [
    "val lr = new LogisticRegression()\n",
    "  .setWeightCol(\"classWeightCol\")\n",
    "  .setLabelCol(\"label\")\n",
    "  .setFeaturesCol(\"scaledFeatures\")\n",
    "  .setMaxIter(100)\n",
    "  .setRegParam(0.09)\n",
    "  .setElasticNetParam(0.4)"
   ]
  },
  {
   "cell_type": "code",
   "execution_count": 77,
   "metadata": {
    "scrolled": true
   },
   "outputs": [
    {
     "data": {
      "text/html": [
       "<div>\n",
       "  <span style=\"float: left;\">runJob at SparkHadoopWriter.scala:83</span>\n",
       "</div>\n"
      ]
     },
     "metadata": {},
     "output_type": "display_data"
    },
    {
     "data": {
      "text/html": [
       "<div class=\"progress\">\n",
       "  <div class=\"progress-bar\" role=\"progressbar\" style=\"background-color: blue; width: 100%; word-wrap: normal; white-space: nowrap; text-align: center; color: white\" aria-valuenow=\"100\" aria-valuemin=\"0\" aria-valuemax=\"100\">\n",
       "    1 / 1\n",
       "  </div>\n",
       "  <div class=\"progress-bar\" role=\"progressbar\" style=\"background-color: red; width: 0%\" aria-valuenow=\"0\" aria-valuemin=\"0\" aria-valuemax=\"100\"></div>\n",
       "</div>\n"
      ]
     },
     "metadata": {},
     "output_type": "display_data"
    },
    {
     "data": {
      "text/html": [
       "<div>\n",
       "  <span style=\"float: left;\">parquet at LogisticRegression.scala:1288</span>\n",
       "</div>\n"
      ]
     },
     "metadata": {},
     "output_type": "display_data"
    },
    {
     "data": {
      "text/html": [
       "<div class=\"progress\">\n",
       "  <div class=\"progress-bar\" role=\"progressbar\" style=\"background-color: blue; width: 100%; word-wrap: normal; white-space: nowrap; text-align: center; color: white\" aria-valuenow=\"100\" aria-valuemin=\"0\" aria-valuemax=\"100\">\n",
       "    1 / 1\n",
       "  </div>\n",
       "  <div class=\"progress-bar\" role=\"progressbar\" style=\"background-color: red; width: 0%\" aria-valuenow=\"0\" aria-valuemin=\"0\" aria-valuemax=\"100\"></div>\n",
       "</div>\n"
      ]
     },
     "metadata": {},
     "output_type": "display_data"
    },
    {
     "data": {
      "text/html": [
       "<div>\n",
       "  <span style=\"float: left;\">parquet at LogisticRegression.scala:1288</span>\n",
       "</div>\n"
      ]
     },
     "metadata": {},
     "output_type": "display_data"
    },
    {
     "data": {
      "text/html": [
       "<div class=\"progress\">\n",
       "  <div class=\"progress-bar\" role=\"progressbar\" style=\"background-color: blue; width: 100%; word-wrap: normal; white-space: nowrap; text-align: center; color: white\" aria-valuenow=\"100\" aria-valuemin=\"0\" aria-valuemax=\"100\">\n",
       "    1 / 1\n",
       "  </div>\n",
       "  <div class=\"progress-bar\" role=\"progressbar\" style=\"background-color: red; width: 0%\" aria-valuenow=\"0\" aria-valuemin=\"0\" aria-valuemax=\"100\"></div>\n",
       "</div>\n"
      ]
     },
     "metadata": {},
     "output_type": "display_data"
    }
   ],
   "source": [
    "//val lrModel = lr.fit(trainingScaledData)\n",
    "\n",
    "//lrModel.write.overwrite.save(\"lrModel\")"
   ]
  },
  {
   "cell_type": "code",
   "execution_count": 66,
   "metadata": {},
   "outputs": [
    {
     "data": {
      "text/plain": [
       "\u001b[36mpredictionDf\u001b[39m: \u001b[32mDataFrame\u001b[39m = [label: double, features: vector ... 5 more fields]"
      ]
     },
     "execution_count": 66,
     "metadata": {},
     "output_type": "execute_result"
    }
   ],
   "source": [
    "val predictionDf = lrModel.transform(testScaledData)"
   ]
  },
  {
   "cell_type": "code",
   "execution_count": 67,
   "metadata": {},
   "outputs": [
    {
     "data": {
      "text/plain": [
       "\u001b[36mevaluator\u001b[39m: \u001b[32mBinaryClassificationEvaluator\u001b[39m = BinaryClassificationEvaluator: uid=binEval_81c1cc03a0e5, metricName=areaUnderROC, numBins=1000"
      ]
     },
     "execution_count": 67,
     "metadata": {},
     "output_type": "execute_result"
    }
   ],
   "source": [
    "val evaluator = new BinaryClassificationEvaluator()\n",
    "  .setLabelCol(\"label\")\n",
    "  .setRawPredictionCol(\"prediction\")\n",
    "  .setMetricName(\"areaUnderROC\")"
   ]
  },
  {
   "cell_type": "code",
   "execution_count": 68,
   "metadata": {
    "scrolled": false
   },
   "outputs": [
    {
     "data": {
      "text/html": [
       "<div>\n",
       "  <span style=\"float: left;\">map at BinaryClassificationMetrics.scala:48</span>\n",
       "</div>\n"
      ]
     },
     "metadata": {},
     "output_type": "display_data"
    },
    {
     "data": {
      "text/html": [
       "<div class=\"progress\">\n",
       "  <div class=\"progress-bar\" role=\"progressbar\" style=\"background-color: blue; width: 100%; word-wrap: normal; white-space: nowrap; text-align: center; color: white\" aria-valuenow=\"100\" aria-valuemin=\"0\" aria-valuemax=\"100\">\n",
       "    39 / 39\n",
       "  </div>\n",
       "  <div class=\"progress-bar\" role=\"progressbar\" style=\"background-color: red; width: 0%\" aria-valuenow=\"0\" aria-valuemin=\"0\" aria-valuemax=\"100\"></div>\n",
       "</div>\n"
      ]
     },
     "metadata": {},
     "output_type": "display_data"
    },
    {
     "data": {
      "text/html": [
       "<div>\n",
       "  <span style=\"float: left;\">sortByKey at BinaryClassificationMetrics.scala:189</span>\n",
       "</div>\n"
      ]
     },
     "metadata": {},
     "output_type": "display_data"
    },
    {
     "data": {
      "text/html": [
       "<div class=\"progress\">\n",
       "  <div class=\"progress-bar\" role=\"progressbar\" style=\"background-color: blue; width: 100%; word-wrap: normal; white-space: nowrap; text-align: center; color: white\" aria-valuenow=\"100\" aria-valuemin=\"0\" aria-valuemax=\"100\">\n",
       "    39 / 39\n",
       "  </div>\n",
       "  <div class=\"progress-bar\" role=\"progressbar\" style=\"background-color: red; width: 0%\" aria-valuenow=\"0\" aria-valuemin=\"0\" aria-valuemax=\"100\"></div>\n",
       "</div>\n"
      ]
     },
     "metadata": {},
     "output_type": "display_data"
    },
    {
     "data": {
      "text/html": [
       "<div>\n",
       "  <span style=\"float: left;\">combineByKey at BinaryClassificationMetrics.scala:188</span>\n",
       "</div>\n"
      ]
     },
     "metadata": {},
     "output_type": "display_data"
    },
    {
     "data": {
      "text/html": [
       "<div class=\"progress\">\n",
       "  <div class=\"progress-bar\" role=\"progressbar\" style=\"background-color: blue; width: 100%; word-wrap: normal; white-space: nowrap; text-align: center; color: white\" aria-valuenow=\"100\" aria-valuemin=\"0\" aria-valuemax=\"100\">\n",
       "    39 / 39\n",
       "  </div>\n",
       "  <div class=\"progress-bar\" role=\"progressbar\" style=\"background-color: red; width: 0%\" aria-valuenow=\"0\" aria-valuemin=\"0\" aria-valuemax=\"100\"></div>\n",
       "</div>\n"
      ]
     },
     "metadata": {},
     "output_type": "display_data"
    },
    {
     "data": {
      "text/html": [
       "<div>\n",
       "  <span style=\"float: left;\">count at BinaryClassificationMetrics.scala:197</span>\n",
       "</div>\n"
      ]
     },
     "metadata": {},
     "output_type": "display_data"
    },
    {
     "data": {
      "text/html": [
       "<div class=\"progress\">\n",
       "  <div class=\"progress-bar\" role=\"progressbar\" style=\"background-color: blue; width: 100%; word-wrap: normal; white-space: nowrap; text-align: center; color: white\" aria-valuenow=\"100\" aria-valuemin=\"0\" aria-valuemax=\"100\">\n",
       "    2 / 2\n",
       "  </div>\n",
       "  <div class=\"progress-bar\" role=\"progressbar\" style=\"background-color: red; width: 0%\" aria-valuenow=\"0\" aria-valuemin=\"0\" aria-valuemax=\"100\"></div>\n",
       "</div>\n"
      ]
     },
     "metadata": {},
     "output_type": "display_data"
    },
    {
     "data": {
      "text/html": [
       "<div>\n",
       "  <span style=\"float: left;\">collect at BinaryClassificationMetrics.scala:237</span>\n",
       "</div>\n"
      ]
     },
     "metadata": {},
     "output_type": "display_data"
    },
    {
     "data": {
      "text/html": [
       "<div class=\"progress\">\n",
       "  <div class=\"progress-bar\" role=\"progressbar\" style=\"background-color: blue; width: 100%; word-wrap: normal; white-space: nowrap; text-align: center; color: white\" aria-valuenow=\"100\" aria-valuemin=\"0\" aria-valuemax=\"100\">\n",
       "    2 / 2\n",
       "  </div>\n",
       "  <div class=\"progress-bar\" role=\"progressbar\" style=\"background-color: red; width: 0%\" aria-valuenow=\"0\" aria-valuemin=\"0\" aria-valuemax=\"100\"></div>\n",
       "</div>\n"
      ]
     },
     "metadata": {},
     "output_type": "display_data"
    },
    {
     "data": {
      "text/html": [
       "<div>\n",
       "  <span style=\"float: left;\">collect at AreaUnderCurve.scala:44</span>\n",
       "</div>\n"
      ]
     },
     "metadata": {},
     "output_type": "display_data"
    },
    {
     "data": {
      "text/html": [
       "<div class=\"progress\">\n",
       "  <div class=\"progress-bar\" role=\"progressbar\" style=\"background-color: blue; width: 100%; word-wrap: normal; white-space: nowrap; text-align: center; color: white\" aria-valuenow=\"100\" aria-valuemin=\"0\" aria-valuemax=\"100\">\n",
       "    2 / 2\n",
       "  </div>\n",
       "  <div class=\"progress-bar\" role=\"progressbar\" style=\"background-color: red; width: 0%\" aria-valuenow=\"0\" aria-valuemin=\"0\" aria-valuemax=\"100\"></div>\n",
       "</div>\n"
      ]
     },
     "metadata": {},
     "output_type": "display_data"
    },
    {
     "name": "stdout",
     "output_type": "stream",
     "text": [
      "Accuracy: 0.6750377290488582\n"
     ]
    },
    {
     "data": {
      "text/plain": [
       "\u001b[36maccuracy\u001b[39m: \u001b[32mDouble\u001b[39m = \u001b[32m0.6750377290488582\u001b[39m"
      ]
     },
     "execution_count": 68,
     "metadata": {},
     "output_type": "execute_result"
    }
   ],
   "source": [
    "val accuracy = evaluator.evaluate(predictionDf)\n",
    "println(s\"Accuracy: ${accuracy}\")"
   ]
  },
  {
   "cell_type": "code",
   "execution_count": 78,
   "metadata": {},
   "outputs": [
    {
     "data": {
      "text/plain": [
       "\u001b[36mdfCoef\u001b[39m: \u001b[32mDataFrame\u001b[39m = [column: string, coef: double]"
      ]
     },
     "execution_count": 78,
     "metadata": {},
     "output_type": "execute_result"
    }
   ],
   "source": [
    "val dfCoef = lrModel\n",
    "    .coefficients\n",
    "    .toArray\n",
    "    .zipWithIndex\n",
    "    .map(ci => {(colFeatures(ci._2),ci._1)})\n",
    "    .toSeq\n",
    "    .toDF(\"column\",\"coef\")"
   ]
  },
  {
   "cell_type": "code",
   "execution_count": 81,
   "metadata": {},
   "outputs": [
    {
     "data": {
      "text/html": [
       "<div>\n",
       "  <span style=\"float: left;\">show at cmd80.sc:3</span>\n",
       "</div>\n"
      ]
     },
     "metadata": {},
     "output_type": "display_data"
    },
    {
     "data": {
      "text/html": [
       "<div class=\"progress\">\n",
       "  <div class=\"progress-bar\" role=\"progressbar\" style=\"background-color: blue; width: 100%; word-wrap: normal; white-space: nowrap; text-align: center; color: white\" aria-valuenow=\"100\" aria-valuemin=\"0\" aria-valuemax=\"100\">\n",
       "    16 / 16\n",
       "  </div>\n",
       "  <div class=\"progress-bar\" role=\"progressbar\" style=\"background-color: red; width: 0%\" aria-valuenow=\"0\" aria-valuemin=\"0\" aria-valuemax=\"100\"></div>\n",
       "</div>\n"
      ]
     },
     "metadata": {},
     "output_type": "display_data"
    },
    {
     "name": "stdout",
     "output_type": "stream",
     "text": [
      "+-----------------------------------------------+--------------------+\n",
      "|column                                         |coef                |\n",
      "+-----------------------------------------------+--------------------+\n",
      "|auditweights_svd_spark_imputed                 |0.37004862625571905 |\n",
      "|auditweights_svd_prelaunch_imputed             |0.3343188311238707  |\n",
      "|auditweights_matrix_imputed                    |0.09569666472071207 |\n",
      "|auditweights_ctr_high_imputed                  |0.07495580730009214 |\n",
      "|auditweights_isRandom_imputed                  |0.04541953350468141 |\n",
      "|metadata_options_HAS_PHOTOS_imputed            |0.007468086016894263|\n",
      "|auditweights_userOwner_CREATE_LIKE_imputed     |6.499227847197511E-5|\n",
      "|membership_statusUpdateDate_imputed            |5.406719066416137E-6|\n",
      "|membership_joinDate_imputed                    |4.143766327883911E-6|\n",
      "|audit_experiment_XPRM5386G2_imputed            |0.0                 |\n",
      "|membership_status_P_imputed                    |0.0                 |\n",
      "|audit_experiment_XPRM5386G11_imputed           |0.0                 |\n",
      "|membership_status_I_imputed                    |0.0                 |\n",
      "|metadata_options_HAS_CHEATED_TEXT_imputed      |0.0                 |\n",
      "|audit_experiment_XPRM5386G4_imputed            |0.0                 |\n",
      "|userOwnerCounters_USER_PROFILE_VIEW_imputed    |0.0                 |\n",
      "|user_ID_country_imputed                        |0.0                 |\n",
      "|auditweights_userOwner_USER_FEED_REMOVE_imputed|0.0                 |\n",
      "|objectId_imputed                               |0.0                 |\n",
      "|userOwnerCounters_USER_PRESENT_SEND_imputed    |0.0                 |\n",
      "+-----------------------------------------------+--------------------+\n",
      "only showing top 20 rows\n",
      "\n"
     ]
    }
   ],
   "source": [
    "dfCoef\n",
    "    .sort(col(\"coef\").desc)\n",
    "    .show(false)"
   ]
  },
  {
   "cell_type": "code",
   "execution_count": 95,
   "metadata": {},
   "outputs": [
    {
     "data": {
      "text/plain": [
       "\u001b[36mpatternAuditweights\u001b[39m: \u001b[32mscala\u001b[39m.\u001b[32mutil\u001b[39m.\u001b[32mmatching\u001b[39m.\u001b[32mRegex\u001b[39m = ^(?!auditweights).*\n",
       "\u001b[36mpatternAudit\u001b[39m: \u001b[32mscala\u001b[39m.\u001b[32mutil\u001b[39m.\u001b[32mmatching\u001b[39m.\u001b[32mRegex\u001b[39m = ^(?!audit).*"
      ]
     },
     "execution_count": 95,
     "metadata": {},
     "output_type": "execute_result"
    }
   ],
   "source": [
    "val patternAuditweights = \"^(?!auditweights).*\".r\n",
    "val patternAudit = \"^(?!audit).*\".r"
   ]
  },
  {
   "cell_type": "code",
   "execution_count": 109,
   "metadata": {
    "scrolled": false
   },
   "outputs": [
    {
     "data": {
      "text/plain": [
       "\u001b[36mcolFeaturesNotAudit\u001b[39m: \u001b[32mArray\u001b[39m[\u001b[32mString\u001b[39m] = \u001b[33mArray\u001b[39m(\n",
       "  \u001b[32m\"metadata_options_HAS_PINS_imputed\"\u001b[39m,\n",
       "  \u001b[32m\"userOwnerCounters_USER_INTERNAL_UNLIKE_imputed\"\u001b[39m,\n",
       "  \u001b[32m\"membership_status_R_imputed\"\u001b[39m,\n",
       "  \u001b[32m\"userOwnerCounters_CREATE_IMAGE_imputed\"\u001b[39m,\n",
       "  \u001b[32m\"user_create_date_imputed\"\u001b[39m,\n",
       "  \u001b[32m\"userOwnerCounters_UNKNOWN_imputed\"\u001b[39m,\n",
       "  \u001b[32m\"metadata_options_HAS_COMPANIONS_imputed\"\u001b[39m,\n",
       "  \u001b[32m\"membership_status_M_imputed\"\u001b[39m,\n",
       "  \u001b[32m\"metadata_totalVideoLength_imputed\"\u001b[39m,\n",
       "  \u001b[32m\"membership_status_P_imputed\"\u001b[39m,\n",
       "  \u001b[32m\"membership_status_I_imputed\"\u001b[39m,\n",
       "  \u001b[32m\"userOwnerCounters_IMAGE_imputed\"\u001b[39m,\n",
       "  \u001b[32m\"user_ID_country_imputed\"\u001b[39m,\n",
       "  \u001b[32m\"metadata_options_HAS_CHEATED_TEXT_imputed\"\u001b[39m,\n",
       "  \u001b[32m\"metadata_authorId_imputed\"\u001b[39m,\n",
       "  \u001b[32m\"user_is_abused_imputed\"\u001b[39m,\n",
       "  \u001b[32m\"user_status_imputed\"\u001b[39m,\n",
       "  \u001b[32m\"objectId_imputed\"\u001b[39m,\n",
       "  \u001b[32m\"userOwnerCounters_USER_PRESENT_SEND_imputed\"\u001b[39m,\n",
       "  \u001b[32m\"userOwnerCounters_USER_PROFILE_VIEW_imputed\"\u001b[39m,\n",
       "  \u001b[32m\"userOwnerCounters_VIDEO_imputed\"\u001b[39m,\n",
       "  \u001b[32m\"user_gender_imputed\"\u001b[39m,\n",
       "  \u001b[32m\"userOwnerCounters_PHOTO_VIEW_imputed\"\u001b[39m,\n",
       "  \u001b[32m\"metadata_numSymbols_imputed\"\u001b[39m,\n",
       "  \u001b[32m\"user_is_active_imputed\"\u001b[39m,\n",
       "  \u001b[32m\"metadata_options_HAS_VIDEOS_imputed\"\u001b[39m,\n",
       "  \u001b[32m\"user_is_deleted_imputed\"\u001b[39m,\n",
       "  \u001b[32m\"metadata_options_HAS_URLS_imputed\"\u001b[39m,\n",
       "  \u001b[32m\"membership_statusUpdateDate_imputed\"\u001b[39m,\n",
       "  \u001b[32m\"metadata_numVideos_imputed\"\u001b[39m,\n",
       "  \u001b[32m\"metadata_options_HAS_TEXT_imputed\"\u001b[39m,\n",
       "  \u001b[32m\"userOwnerCounters_CREATE_LIKE_imputed\"\u001b[39m,\n",
       "  \u001b[32m\"userOwnerCounters_COMMENT_INTERNAL_LIKE_imputed\"\u001b[39m,\n",
       "  \u001b[32m\"userOwnerCounters_USER_FORUM_MESSAGE_CREATE_imputed\"\u001b[39m,\n",
       "  \u001b[32m\"userOwnerCounters_PHOTO_MARK_CREATE_imputed\"\u001b[39m,\n",
       "  \u001b[32m\"userOwnerCounters_PHOTO_PIN_BATCH_CREATE_imputed\"\u001b[39m,\n",
       "  \u001b[32m\"metadata_options_HAS_POLLS_imputed\"\u001b[39m,\n",
       "  \u001b[32m\"metadata_numCompanions_imputed\"\u001b[39m,\n",
       "..."
      ]
     },
     "execution_count": 109,
     "metadata": {},
     "output_type": "execute_result"
    }
   ],
   "source": [
    "val colFeaturesNotAudit = dfLikedFull.drop(searchStr).columns.filter(s => patternAudit.findFirstIn(s).isDefined)"
   ]
  },
  {
   "cell_type": "code",
   "execution_count": 110,
   "metadata": {},
   "outputs": [
    {
     "data": {
      "text/plain": [
       "\u001b[36massembler\u001b[39m: \u001b[32mVectorAssembler\u001b[39m = VectorAssembler: uid=vecAssembler_01cf02204b55, handleInvalid=error, numInputCols=95\n",
       "\u001b[36moutput\u001b[39m: \u001b[32mDataFrame\u001b[39m = [metadata_options_HAS_PINS_imputed: double, audit_experiment_XPRM5386q4x3_imputed: int ... 161 more fields]\n",
       "\u001b[36mdfLr\u001b[39m: \u001b[32mDataFrame\u001b[39m = [label: double, features: vector]"
      ]
     },
     "execution_count": 110,
     "metadata": {},
     "output_type": "execute_result"
    }
   ],
   "source": [
    "val assembler = new VectorAssembler()\n",
    "    .setInputCols(colFeaturesNotAudit)\n",
    "    .setOutputCol(\"features\")\n",
    "\n",
    "val output = assembler\n",
    "    .transform(dfLikedFull)\n",
    "\n",
    "val dfLr = output.drop(colFeatures:_*).withColumnRenamed(searchStr, \"label\")"
   ]
  },
  {
   "cell_type": "code",
   "execution_count": 111,
   "metadata": {},
   "outputs": [
    {
     "data": {
      "text/html": [
       "<div>\n",
       "  <span style=\"float: left;\">count at cmd54.sc:5</span>\n",
       "</div>\n"
      ]
     },
     "metadata": {},
     "output_type": "display_data"
    },
    {
     "data": {
      "text/html": [
       "<div class=\"progress\">\n",
       "  <div class=\"progress-bar\" role=\"progressbar\" style=\"background-color: blue; width: 100%; word-wrap: normal; white-space: nowrap; text-align: center; color: white\" aria-valuenow=\"100\" aria-valuemin=\"0\" aria-valuemax=\"100\">\n",
       "    28 / 28\n",
       "  </div>\n",
       "  <div class=\"progress-bar\" role=\"progressbar\" style=\"background-color: red; width: 0%\" aria-valuenow=\"0\" aria-valuemin=\"0\" aria-valuemax=\"100\"></div>\n",
       "</div>\n"
      ]
     },
     "metadata": {},
     "output_type": "display_data"
    },
    {
     "data": {
      "text/html": [
       "<div>\n",
       "  <span style=\"float: left;\">count at cmd54.sc:5</span>\n",
       "</div>\n"
      ]
     },
     "metadata": {},
     "output_type": "display_data"
    },
    {
     "data": {
      "text/html": [
       "<div class=\"progress\">\n",
       "  <div class=\"progress-bar\" role=\"progressbar\" style=\"background-color: blue; width: 100%; word-wrap: normal; white-space: nowrap; text-align: center; color: white\" aria-valuenow=\"100\" aria-valuemin=\"0\" aria-valuemax=\"100\">\n",
       "    1 / 1\n",
       "  </div>\n",
       "  <div class=\"progress-bar\" role=\"progressbar\" style=\"background-color: red; width: 0%\" aria-valuenow=\"0\" aria-valuemin=\"0\" aria-valuemax=\"100\"></div>\n",
       "</div>\n"
      ]
     },
     "metadata": {},
     "output_type": "display_data"
    },
    {
     "data": {
      "text/html": [
       "<div>\n",
       "  <span style=\"float: left;\">count at cmd54.sc:6</span>\n",
       "</div>\n"
      ]
     },
     "metadata": {},
     "output_type": "display_data"
    },
    {
     "data": {
      "text/html": [
       "<div class=\"progress\">\n",
       "  <div class=\"progress-bar\" role=\"progressbar\" style=\"background-color: blue; width: 100%; word-wrap: normal; white-space: nowrap; text-align: center; color: white\" aria-valuenow=\"100\" aria-valuemin=\"0\" aria-valuemax=\"100\">\n",
       "    28 / 28\n",
       "  </div>\n",
       "  <div class=\"progress-bar\" role=\"progressbar\" style=\"background-color: red; width: 0%\" aria-valuenow=\"0\" aria-valuemin=\"0\" aria-valuemax=\"100\"></div>\n",
       "</div>\n"
      ]
     },
     "metadata": {},
     "output_type": "display_data"
    },
    {
     "data": {
      "text/html": [
       "<div>\n",
       "  <span style=\"float: left;\">count at cmd54.sc:6</span>\n",
       "</div>\n"
      ]
     },
     "metadata": {},
     "output_type": "display_data"
    },
    {
     "data": {
      "text/html": [
       "<div class=\"progress\">\n",
       "  <div class=\"progress-bar\" role=\"progressbar\" style=\"background-color: blue; width: 100%; word-wrap: normal; white-space: nowrap; text-align: center; color: white\" aria-valuenow=\"100\" aria-valuemin=\"0\" aria-valuemax=\"100\">\n",
       "    1 / 1\n",
       "  </div>\n",
       "  <div class=\"progress-bar\" role=\"progressbar\" style=\"background-color: red; width: 0%\" aria-valuenow=\"0\" aria-valuemin=\"0\" aria-valuemax=\"100\"></div>\n",
       "</div>\n"
      ]
     },
     "metadata": {},
     "output_type": "display_data"
    },
    {
     "data": {
      "text/plain": [
       "\u001b[36mdfLrBalance\u001b[39m: \u001b[32mDataFrame\u001b[39m = [label: double, features: vector ... 1 more field]"
      ]
     },
     "execution_count": 111,
     "metadata": {},
     "output_type": "execute_result"
    }
   ],
   "source": [
    "val dfLrBalance = balanceDataFrame(dfLr)"
   ]
  },
  {
   "cell_type": "code",
   "execution_count": 112,
   "metadata": {},
   "outputs": [
    {
     "data": {
      "text/plain": [
       "\u001b[36mseed\u001b[39m: \u001b[32mInt\u001b[39m = \u001b[32m5043\u001b[39m\n",
       "\u001b[36mtrainingData\u001b[39m: \u001b[32mDataset\u001b[39m[\u001b[32mRow\u001b[39m] = [label: double, features: vector ... 1 more field]\n",
       "\u001b[36mtestData\u001b[39m: \u001b[32mDataset\u001b[39m[\u001b[32mRow\u001b[39m] = [label: double, features: vector ... 1 more field]"
      ]
     },
     "execution_count": 112,
     "metadata": {},
     "output_type": "execute_result"
    }
   ],
   "source": [
    "val seed = 5043\n",
    "val Array(trainingData, testData) = dfLrBalance.randomSplit(Array(0.9, 0.1), seed)"
   ]
  },
  {
   "cell_type": "code",
   "execution_count": 113,
   "metadata": {},
   "outputs": [
    {
     "data": {
      "text/html": [
       "<div>\n",
       "  <span style=\"float: left;\">first at StandardScaler.scala:113</span>\n",
       "</div>\n"
      ]
     },
     "metadata": {},
     "output_type": "display_data"
    },
    {
     "data": {
      "text/html": [
       "<div class=\"progress\">\n",
       "  <div class=\"progress-bar\" role=\"progressbar\" style=\"background-color: blue; width: 100%; word-wrap: normal; white-space: nowrap; text-align: center; color: white\" aria-valuenow=\"100\" aria-valuemin=\"0\" aria-valuemax=\"100\">\n",
       "    28 / 28\n",
       "  </div>\n",
       "  <div class=\"progress-bar\" role=\"progressbar\" style=\"background-color: red; width: 0%\" aria-valuenow=\"0\" aria-valuemin=\"0\" aria-valuemax=\"100\"></div>\n",
       "</div>\n"
      ]
     },
     "metadata": {},
     "output_type": "display_data"
    },
    {
     "data": {
      "text/html": [
       "<div>\n",
       "  <span style=\"float: left;\">first at StandardScaler.scala:113</span>\n",
       "</div>\n"
      ]
     },
     "metadata": {},
     "output_type": "display_data"
    },
    {
     "data": {
      "text/html": [
       "<div class=\"progress\">\n",
       "  <div class=\"progress-bar\" role=\"progressbar\" style=\"background-color: blue; width: 100%; word-wrap: normal; white-space: nowrap; text-align: center; color: white\" aria-valuenow=\"100\" aria-valuemin=\"0\" aria-valuemax=\"100\">\n",
       "    1 / 1\n",
       "  </div>\n",
       "  <div class=\"progress-bar\" role=\"progressbar\" style=\"background-color: red; width: 0%\" aria-valuenow=\"0\" aria-valuemin=\"0\" aria-valuemax=\"100\"></div>\n",
       "</div>\n"
      ]
     },
     "metadata": {},
     "output_type": "display_data"
    },
    {
     "data": {
      "text/plain": [
       "\u001b[36mscaler\u001b[39m: \u001b[32mStandardScaler\u001b[39m = stdScal_bfec2df54df3\n",
       "\u001b[36mscalerModel\u001b[39m: \u001b[32morg\u001b[39m.\u001b[32mapache\u001b[39m.\u001b[32mspark\u001b[39m.\u001b[32mml\u001b[39m.\u001b[32mfeature\u001b[39m.\u001b[32mStandardScalerModel\u001b[39m = StandardScalerModel: uid=stdScal_bfec2df54df3, numFeatures=95, withMean=false, withStd=true\n",
       "\u001b[36mtrainingScaledData\u001b[39m: \u001b[32mDataFrame\u001b[39m = [label: double, features: vector ... 2 more fields]\n",
       "\u001b[36mtestScaledData\u001b[39m: \u001b[32mDataFrame\u001b[39m = [label: double, features: vector ... 2 more fields]"
      ]
     },
     "execution_count": 113,
     "metadata": {},
     "output_type": "execute_result"
    }
   ],
   "source": [
    "val scaler = new StandardScaler()\n",
    "  .setInputCol(\"features\")\n",
    "  .setOutputCol(\"scaledFeatures\")\n",
    "  .setWithStd(true)\n",
    "  .setWithMean(false)\n",
    "\n",
    "val scalerModel = scaler.fit(trainingData)\n",
    "\n",
    "val trainingScaledData = scalerModel.transform(trainingData)\n",
    "\n",
    "val testScaledData = scalerModel.transform(testData)"
   ]
  },
  {
   "cell_type": "code",
   "execution_count": 130,
   "metadata": {},
   "outputs": [
    {
     "data": {
      "text/plain": [
       "\u001b[36mlr\u001b[39m: \u001b[32mLogisticRegression\u001b[39m = logreg_ad0fa14712b4"
      ]
     },
     "execution_count": 130,
     "metadata": {},
     "output_type": "execute_result"
    }
   ],
   "source": [
    "val lr = new LogisticRegression()\n",
    "  .setWeightCol(\"classWeightCol\")\n",
    "  .setLabelCol(\"label\")\n",
    "  .setFeaturesCol(\"scaledFeatures\")\n",
    "  .setMaxIter(100)\n",
    "  .setRegParam(0.03)\n",
    "  .setElasticNetParam(0.3)"
   ]
  },
  {
   "cell_type": "code",
   "execution_count": 131,
   "metadata": {
    "scrolled": true
   },
   "outputs": [
    {
     "data": {
      "text/html": [
       "<div>\n",
       "  <span style=\"float: left;\">treeAggregate at Summarizer.scala:232</span>\n",
       "</div>\n"
      ]
     },
     "metadata": {},
     "output_type": "display_data"
    },
    {
     "data": {
      "text/html": [
       "<div class=\"progress\">\n",
       "  <div class=\"progress-bar\" role=\"progressbar\" style=\"background-color: blue; width: 100%; word-wrap: normal; white-space: nowrap; text-align: center; color: white\" aria-valuenow=\"100\" aria-valuemin=\"0\" aria-valuemax=\"100\">\n",
       "    28 / 28\n",
       "  </div>\n",
       "  <div class=\"progress-bar\" role=\"progressbar\" style=\"background-color: red; width: 0%\" aria-valuenow=\"0\" aria-valuemin=\"0\" aria-valuemax=\"100\"></div>\n",
       "</div>\n"
      ]
     },
     "metadata": {},
     "output_type": "display_data"
    },
    {
     "data": {
      "text/html": [
       "<div>\n",
       "  <span style=\"float: left;\">treeAggregate at Summarizer.scala:232</span>\n",
       "</div>\n"
      ]
     },
     "metadata": {},
     "output_type": "display_data"
    },
    {
     "data": {
      "text/html": [
       "<div class=\"progress\">\n",
       "  <div class=\"progress-bar\" role=\"progressbar\" style=\"background-color: blue; width: 100%; word-wrap: normal; white-space: nowrap; text-align: center; color: white\" aria-valuenow=\"100\" aria-valuemin=\"0\" aria-valuemax=\"100\">\n",
       "    4 / 4\n",
       "  </div>\n",
       "  <div class=\"progress-bar\" role=\"progressbar\" style=\"background-color: red; width: 0%\" aria-valuenow=\"0\" aria-valuemin=\"0\" aria-valuemax=\"100\"></div>\n",
       "</div>\n"
      ]
     },
     "metadata": {},
     "output_type": "display_data"
    },
    {
     "data": {
      "text/html": [
       "<div>\n",
       "  <span style=\"float: left;\">treeAggregate at RDDLossFunction.scala:61</span>\n",
       "</div>\n"
      ]
     },
     "metadata": {},
     "output_type": "display_data"
    },
    {
     "data": {
      "text/html": [
       "<div class=\"progress\">\n",
       "  <div class=\"progress-bar\" role=\"progressbar\" style=\"background-color: blue; width: 100%; word-wrap: normal; white-space: nowrap; text-align: center; color: white\" aria-valuenow=\"100\" aria-valuemin=\"0\" aria-valuemax=\"100\">\n",
       "    28 / 28\n",
       "  </div>\n",
       "  <div class=\"progress-bar\" role=\"progressbar\" style=\"background-color: red; width: 0%\" aria-valuenow=\"0\" aria-valuemin=\"0\" aria-valuemax=\"100\"></div>\n",
       "</div>\n"
      ]
     },
     "metadata": {},
     "output_type": "display_data"
    },
    {
     "data": {
      "text/html": [
       "<div>\n",
       "  <span style=\"float: left;\">treeAggregate at RDDLossFunction.scala:61</span>\n",
       "</div>\n"
      ]
     },
     "metadata": {},
     "output_type": "display_data"
    },
    {
     "data": {
      "text/html": [
       "<div class=\"progress\">\n",
       "  <div class=\"progress-bar\" role=\"progressbar\" style=\"background-color: blue; width: 100%; word-wrap: normal; white-space: nowrap; text-align: center; color: white\" aria-valuenow=\"100\" aria-valuemin=\"0\" aria-valuemax=\"100\">\n",
       "    4 / 4\n",
       "  </div>\n",
       "  <div class=\"progress-bar\" role=\"progressbar\" style=\"background-color: red; width: 0%\" aria-valuenow=\"0\" aria-valuemin=\"0\" aria-valuemax=\"100\"></div>\n",
       "</div>\n"
      ]
     },
     "metadata": {},
     "output_type": "display_data"
    },
    {
     "data": {
      "text/html": [
       "<div>\n",
       "  <span style=\"float: left;\">treeAggregate at RDDLossFunction.scala:61</span>\n",
       "</div>\n"
      ]
     },
     "metadata": {},
     "output_type": "display_data"
    },
    {
     "data": {
      "text/html": [
       "<div class=\"progress\">\n",
       "  <div class=\"progress-bar\" role=\"progressbar\" style=\"background-color: blue; width: 100%; word-wrap: normal; white-space: nowrap; text-align: center; color: white\" aria-valuenow=\"100\" aria-valuemin=\"0\" aria-valuemax=\"100\">\n",
       "    28 / 28\n",
       "  </div>\n",
       "  <div class=\"progress-bar\" role=\"progressbar\" style=\"background-color: red; width: 0%\" aria-valuenow=\"0\" aria-valuemin=\"0\" aria-valuemax=\"100\"></div>\n",
       "</div>\n"
      ]
     },
     "metadata": {},
     "output_type": "display_data"
    },
    {
     "data": {
      "text/html": [
       "<div>\n",
       "  <span style=\"float: left;\">treeAggregate at RDDLossFunction.scala:61</span>\n",
       "</div>\n"
      ]
     },
     "metadata": {},
     "output_type": "display_data"
    },
    {
     "data": {
      "text/html": [
       "<div class=\"progress\">\n",
       "  <div class=\"progress-bar\" role=\"progressbar\" style=\"background-color: blue; width: 100%; word-wrap: normal; white-space: nowrap; text-align: center; color: white\" aria-valuenow=\"100\" aria-valuemin=\"0\" aria-valuemax=\"100\">\n",
       "    4 / 4\n",
       "  </div>\n",
       "  <div class=\"progress-bar\" role=\"progressbar\" style=\"background-color: red; width: 0%\" aria-valuenow=\"0\" aria-valuemin=\"0\" aria-valuemax=\"100\"></div>\n",
       "</div>\n"
      ]
     },
     "metadata": {},
     "output_type": "display_data"
    },
    {
     "data": {
      "text/html": [
       "<div>\n",
       "  <span style=\"float: left;\">treeAggregate at RDDLossFunction.scala:61</span>\n",
       "</div>\n"
      ]
     },
     "metadata": {},
     "output_type": "display_data"
    },
    {
     "data": {
      "text/html": [
       "<div class=\"progress\">\n",
       "  <div class=\"progress-bar\" role=\"progressbar\" style=\"background-color: blue; width: 100%; word-wrap: normal; white-space: nowrap; text-align: center; color: white\" aria-valuenow=\"100\" aria-valuemin=\"0\" aria-valuemax=\"100\">\n",
       "    28 / 28\n",
       "  </div>\n",
       "  <div class=\"progress-bar\" role=\"progressbar\" style=\"background-color: red; width: 0%\" aria-valuenow=\"0\" aria-valuemin=\"0\" aria-valuemax=\"100\"></div>\n",
       "</div>\n"
      ]
     },
     "metadata": {},
     "output_type": "display_data"
    },
    {
     "data": {
      "text/html": [
       "<div>\n",
       "  <span style=\"float: left;\">treeAggregate at RDDLossFunction.scala:61</span>\n",
       "</div>\n"
      ]
     },
     "metadata": {},
     "output_type": "display_data"
    },
    {
     "data": {
      "text/html": [
       "<div class=\"progress\">\n",
       "  <div class=\"progress-bar\" role=\"progressbar\" style=\"background-color: blue; width: 100%; word-wrap: normal; white-space: nowrap; text-align: center; color: white\" aria-valuenow=\"100\" aria-valuemin=\"0\" aria-valuemax=\"100\">\n",
       "    4 / 4\n",
       "  </div>\n",
       "  <div class=\"progress-bar\" role=\"progressbar\" style=\"background-color: red; width: 0%\" aria-valuenow=\"0\" aria-valuemin=\"0\" aria-valuemax=\"100\"></div>\n",
       "</div>\n"
      ]
     },
     "metadata": {},
     "output_type": "display_data"
    },
    {
     "data": {
      "text/html": [
       "<div>\n",
       "  <span style=\"float: left;\">treeAggregate at RDDLossFunction.scala:61</span>\n",
       "</div>\n"
      ]
     },
     "metadata": {},
     "output_type": "display_data"
    },
    {
     "data": {
      "text/html": [
       "<div class=\"progress\">\n",
       "  <div class=\"progress-bar\" role=\"progressbar\" style=\"background-color: blue; width: 100%; word-wrap: normal; white-space: nowrap; text-align: center; color: white\" aria-valuenow=\"100\" aria-valuemin=\"0\" aria-valuemax=\"100\">\n",
       "    28 / 28\n",
       "  </div>\n",
       "  <div class=\"progress-bar\" role=\"progressbar\" style=\"background-color: red; width: 0%\" aria-valuenow=\"0\" aria-valuemin=\"0\" aria-valuemax=\"100\"></div>\n",
       "</div>\n"
      ]
     },
     "metadata": {},
     "output_type": "display_data"
    },
    {
     "data": {
      "text/html": [
       "<div>\n",
       "  <span style=\"float: left;\">treeAggregate at RDDLossFunction.scala:61</span>\n",
       "</div>\n"
      ]
     },
     "metadata": {},
     "output_type": "display_data"
    },
    {
     "data": {
      "text/html": [
       "<div class=\"progress\">\n",
       "  <div class=\"progress-bar\" role=\"progressbar\" style=\"background-color: blue; width: 100%; word-wrap: normal; white-space: nowrap; text-align: center; color: white\" aria-valuenow=\"100\" aria-valuemin=\"0\" aria-valuemax=\"100\">\n",
       "    4 / 4\n",
       "  </div>\n",
       "  <div class=\"progress-bar\" role=\"progressbar\" style=\"background-color: red; width: 0%\" aria-valuenow=\"0\" aria-valuemin=\"0\" aria-valuemax=\"100\"></div>\n",
       "</div>\n"
      ]
     },
     "metadata": {},
     "output_type": "display_data"
    },
    {
     "name": "stderr",
     "output_type": "stream",
     "text": [
      "21/05/19 15:50:44 INFO OWLQN: Step Size: 0.02452\n",
      "21/05/19 15:50:44 INFO OWLQN: Val and Grad Norm: 0.692970 (rel: 0.000255) 5.88983\n"
     ]
    },
    {
     "data": {
      "text/html": [
       "<div>\n",
       "  <span style=\"float: left;\">treeAggregate at RDDLossFunction.scala:61</span>\n",
       "</div>\n"
      ]
     },
     "metadata": {},
     "output_type": "display_data"
    },
    {
     "data": {
      "text/html": [
       "<div class=\"progress\">\n",
       "  <div class=\"progress-bar\" role=\"progressbar\" style=\"background-color: blue; width: 100%; word-wrap: normal; white-space: nowrap; text-align: center; color: white\" aria-valuenow=\"100\" aria-valuemin=\"0\" aria-valuemax=\"100\">\n",
       "    28 / 28\n",
       "  </div>\n",
       "  <div class=\"progress-bar\" role=\"progressbar\" style=\"background-color: red; width: 0%\" aria-valuenow=\"0\" aria-valuemin=\"0\" aria-valuemax=\"100\"></div>\n",
       "</div>\n"
      ]
     },
     "metadata": {},
     "output_type": "display_data"
    },
    {
     "data": {
      "text/html": [
       "<div>\n",
       "  <span style=\"float: left;\">treeAggregate at RDDLossFunction.scala:61</span>\n",
       "</div>\n"
      ]
     },
     "metadata": {},
     "output_type": "display_data"
    },
    {
     "data": {
      "text/html": [
       "<div class=\"progress\">\n",
       "  <div class=\"progress-bar\" role=\"progressbar\" style=\"background-color: blue; width: 100%; word-wrap: normal; white-space: nowrap; text-align: center; color: white\" aria-valuenow=\"100\" aria-valuemin=\"0\" aria-valuemax=\"100\">\n",
       "    4 / 4\n",
       "  </div>\n",
       "  <div class=\"progress-bar\" role=\"progressbar\" style=\"background-color: red; width: 0%\" aria-valuenow=\"0\" aria-valuemin=\"0\" aria-valuemax=\"100\"></div>\n",
       "</div>\n"
      ]
     },
     "metadata": {},
     "output_type": "display_data"
    },
    {
     "name": "stderr",
     "output_type": "stream",
     "text": [
      "21/05/19 15:50:46 INFO OWLQN: Step Size: 1.000\n",
      "21/05/19 15:50:46 INFO OWLQN: Val and Grad Norm: 0.692452 (rel: 0.000749) 1.21137\n"
     ]
    },
    {
     "data": {
      "text/html": [
       "<div>\n",
       "  <span style=\"float: left;\">treeAggregate at RDDLossFunction.scala:61</span>\n",
       "</div>\n"
      ]
     },
     "metadata": {},
     "output_type": "display_data"
    },
    {
     "data": {
      "text/html": [
       "<div class=\"progress\">\n",
       "  <div class=\"progress-bar\" role=\"progressbar\" style=\"background-color: blue; width: 100%; word-wrap: normal; white-space: nowrap; text-align: center; color: white\" aria-valuenow=\"100\" aria-valuemin=\"0\" aria-valuemax=\"100\">\n",
       "    28 / 28\n",
       "  </div>\n",
       "  <div class=\"progress-bar\" role=\"progressbar\" style=\"background-color: red; width: 0%\" aria-valuenow=\"0\" aria-valuemin=\"0\" aria-valuemax=\"100\"></div>\n",
       "</div>\n"
      ]
     },
     "metadata": {},
     "output_type": "display_data"
    },
    {
     "data": {
      "text/html": [
       "<div>\n",
       "  <span style=\"float: left;\">treeAggregate at RDDLossFunction.scala:61</span>\n",
       "</div>\n"
      ]
     },
     "metadata": {},
     "output_type": "display_data"
    },
    {
     "data": {
      "text/html": [
       "<div class=\"progress\">\n",
       "  <div class=\"progress-bar\" role=\"progressbar\" style=\"background-color: blue; width: 100%; word-wrap: normal; white-space: nowrap; text-align: center; color: white\" aria-valuenow=\"100\" aria-valuemin=\"0\" aria-valuemax=\"100\">\n",
       "    4 / 4\n",
       "  </div>\n",
       "  <div class=\"progress-bar\" role=\"progressbar\" style=\"background-color: red; width: 0%\" aria-valuenow=\"0\" aria-valuemin=\"0\" aria-valuemax=\"100\"></div>\n",
       "</div>\n"
      ]
     },
     "metadata": {},
     "output_type": "display_data"
    },
    {
     "data": {
      "text/html": [
       "<div>\n",
       "  <span style=\"float: left;\">treeAggregate at RDDLossFunction.scala:61</span>\n",
       "</div>\n"
      ]
     },
     "metadata": {},
     "output_type": "display_data"
    },
    {
     "data": {
      "text/html": [
       "<div class=\"progress\">\n",
       "  <div class=\"progress-bar\" role=\"progressbar\" style=\"background-color: blue; width: 100%; word-wrap: normal; white-space: nowrap; text-align: center; color: white\" aria-valuenow=\"100\" aria-valuemin=\"0\" aria-valuemax=\"100\">\n",
       "    28 / 28\n",
       "  </div>\n",
       "  <div class=\"progress-bar\" role=\"progressbar\" style=\"background-color: red; width: 0%\" aria-valuenow=\"0\" aria-valuemin=\"0\" aria-valuemax=\"100\"></div>\n",
       "</div>\n"
      ]
     },
     "metadata": {},
     "output_type": "display_data"
    },
    {
     "data": {
      "text/html": [
       "<div>\n",
       "  <span style=\"float: left;\">treeAggregate at RDDLossFunction.scala:61</span>\n",
       "</div>\n"
      ]
     },
     "metadata": {},
     "output_type": "display_data"
    },
    {
     "data": {
      "text/html": [
       "<div class=\"progress\">\n",
       "  <div class=\"progress-bar\" role=\"progressbar\" style=\"background-color: blue; width: 100%; word-wrap: normal; white-space: nowrap; text-align: center; color: white\" aria-valuenow=\"100\" aria-valuemin=\"0\" aria-valuemax=\"100\">\n",
       "    4 / 4\n",
       "  </div>\n",
       "  <div class=\"progress-bar\" role=\"progressbar\" style=\"background-color: red; width: 0%\" aria-valuenow=\"0\" aria-valuemin=\"0\" aria-valuemax=\"100\"></div>\n",
       "</div>\n"
      ]
     },
     "metadata": {},
     "output_type": "display_data"
    },
    {
     "name": "stderr",
     "output_type": "stream",
     "text": [
      "21/05/19 15:50:50 INFO OWLQN: Step Size: 0.5000\n",
      "21/05/19 15:50:50 INFO OWLQN: Val and Grad Norm: 0.692062 (rel: 0.000562) 5.17447\n"
     ]
    },
    {
     "data": {
      "text/html": [
       "<div>\n",
       "  <span style=\"float: left;\">treeAggregate at RDDLossFunction.scala:61</span>\n",
       "</div>\n"
      ]
     },
     "metadata": {},
     "output_type": "display_data"
    },
    {
     "data": {
      "text/html": [
       "<div class=\"progress\">\n",
       "  <div class=\"progress-bar\" role=\"progressbar\" style=\"background-color: blue; width: 100%; word-wrap: normal; white-space: nowrap; text-align: center; color: white\" aria-valuenow=\"100\" aria-valuemin=\"0\" aria-valuemax=\"100\">\n",
       "    28 / 28\n",
       "  </div>\n",
       "  <div class=\"progress-bar\" role=\"progressbar\" style=\"background-color: red; width: 0%\" aria-valuenow=\"0\" aria-valuemin=\"0\" aria-valuemax=\"100\"></div>\n",
       "</div>\n"
      ]
     },
     "metadata": {},
     "output_type": "display_data"
    },
    {
     "data": {
      "text/html": [
       "<div>\n",
       "  <span style=\"float: left;\">treeAggregate at RDDLossFunction.scala:61</span>\n",
       "</div>\n"
      ]
     },
     "metadata": {},
     "output_type": "display_data"
    },
    {
     "data": {
      "text/html": [
       "<div class=\"progress\">\n",
       "  <div class=\"progress-bar\" role=\"progressbar\" style=\"background-color: blue; width: 100%; word-wrap: normal; white-space: nowrap; text-align: center; color: white\" aria-valuenow=\"100\" aria-valuemin=\"0\" aria-valuemax=\"100\">\n",
       "    4 / 4\n",
       "  </div>\n",
       "  <div class=\"progress-bar\" role=\"progressbar\" style=\"background-color: red; width: 0%\" aria-valuenow=\"0\" aria-valuemin=\"0\" aria-valuemax=\"100\"></div>\n",
       "</div>\n"
      ]
     },
     "metadata": {},
     "output_type": "display_data"
    },
    {
     "name": "stderr",
     "output_type": "stream",
     "text": [
      "21/05/19 15:50:52 INFO OWLQN: Step Size: 1.000\n",
      "21/05/19 15:50:52 INFO OWLQN: Val and Grad Norm: 0.691158 (rel: 0.00131) 6.62962\n"
     ]
    },
    {
     "data": {
      "text/html": [
       "<div>\n",
       "  <span style=\"float: left;\">treeAggregate at RDDLossFunction.scala:61</span>\n",
       "</div>\n"
      ]
     },
     "metadata": {},
     "output_type": "display_data"
    },
    {
     "data": {
      "text/html": [
       "<div class=\"progress\">\n",
       "  <div class=\"progress-bar\" role=\"progressbar\" style=\"background-color: blue; width: 100%; word-wrap: normal; white-space: nowrap; text-align: center; color: white\" aria-valuenow=\"100\" aria-valuemin=\"0\" aria-valuemax=\"100\">\n",
       "    28 / 28\n",
       "  </div>\n",
       "  <div class=\"progress-bar\" role=\"progressbar\" style=\"background-color: red; width: 0%\" aria-valuenow=\"0\" aria-valuemin=\"0\" aria-valuemax=\"100\"></div>\n",
       "</div>\n"
      ]
     },
     "metadata": {},
     "output_type": "display_data"
    },
    {
     "data": {
      "text/html": [
       "<div>\n",
       "  <span style=\"float: left;\">treeAggregate at RDDLossFunction.scala:61</span>\n",
       "</div>\n"
      ]
     },
     "metadata": {},
     "output_type": "display_data"
    },
    {
     "data": {
      "text/html": [
       "<div class=\"progress\">\n",
       "  <div class=\"progress-bar\" role=\"progressbar\" style=\"background-color: blue; width: 100%; word-wrap: normal; white-space: nowrap; text-align: center; color: white\" aria-valuenow=\"100\" aria-valuemin=\"0\" aria-valuemax=\"100\">\n",
       "    4 / 4\n",
       "  </div>\n",
       "  <div class=\"progress-bar\" role=\"progressbar\" style=\"background-color: red; width: 0%\" aria-valuenow=\"0\" aria-valuemin=\"0\" aria-valuemax=\"100\"></div>\n",
       "</div>\n"
      ]
     },
     "metadata": {},
     "output_type": "display_data"
    },
    {
     "name": "stderr",
     "output_type": "stream",
     "text": [
      "21/05/19 15:50:54 INFO OWLQN: Step Size: 1.000\n",
      "21/05/19 15:50:54 INFO OWLQN: Val and Grad Norm: 0.690567 (rel: 0.000855) 13.7586\n"
     ]
    },
    {
     "data": {
      "text/html": [
       "<div>\n",
       "  <span style=\"float: left;\">treeAggregate at RDDLossFunction.scala:61</span>\n",
       "</div>\n"
      ]
     },
     "metadata": {},
     "output_type": "display_data"
    },
    {
     "data": {
      "text/html": [
       "<div class=\"progress\">\n",
       "  <div class=\"progress-bar\" role=\"progressbar\" style=\"background-color: blue; width: 100%; word-wrap: normal; white-space: nowrap; text-align: center; color: white\" aria-valuenow=\"100\" aria-valuemin=\"0\" aria-valuemax=\"100\">\n",
       "    28 / 28\n",
       "  </div>\n",
       "  <div class=\"progress-bar\" role=\"progressbar\" style=\"background-color: red; width: 0%\" aria-valuenow=\"0\" aria-valuemin=\"0\" aria-valuemax=\"100\"></div>\n",
       "</div>\n"
      ]
     },
     "metadata": {},
     "output_type": "display_data"
    },
    {
     "data": {
      "text/html": [
       "<div>\n",
       "  <span style=\"float: left;\">treeAggregate at RDDLossFunction.scala:61</span>\n",
       "</div>\n"
      ]
     },
     "metadata": {},
     "output_type": "display_data"
    },
    {
     "data": {
      "text/html": [
       "<div class=\"progress\">\n",
       "  <div class=\"progress-bar\" role=\"progressbar\" style=\"background-color: blue; width: 100%; word-wrap: normal; white-space: nowrap; text-align: center; color: white\" aria-valuenow=\"100\" aria-valuemin=\"0\" aria-valuemax=\"100\">\n",
       "    4 / 4\n",
       "  </div>\n",
       "  <div class=\"progress-bar\" role=\"progressbar\" style=\"background-color: red; width: 0%\" aria-valuenow=\"0\" aria-valuemin=\"0\" aria-valuemax=\"100\"></div>\n",
       "</div>\n"
      ]
     },
     "metadata": {},
     "output_type": "display_data"
    },
    {
     "name": "stderr",
     "output_type": "stream",
     "text": [
      "21/05/19 15:50:56 INFO OWLQN: Step Size: 1.000\n",
      "21/05/19 15:50:56 INFO OWLQN: Val and Grad Norm: 0.688443 (rel: 0.00308) 13.9091\n"
     ]
    },
    {
     "data": {
      "text/html": [
       "<div>\n",
       "  <span style=\"float: left;\">treeAggregate at RDDLossFunction.scala:61</span>\n",
       "</div>\n"
      ]
     },
     "metadata": {},
     "output_type": "display_data"
    },
    {
     "data": {
      "text/html": [
       "<div class=\"progress\">\n",
       "  <div class=\"progress-bar\" role=\"progressbar\" style=\"background-color: blue; width: 100%; word-wrap: normal; white-space: nowrap; text-align: center; color: white\" aria-valuenow=\"100\" aria-valuemin=\"0\" aria-valuemax=\"100\">\n",
       "    28 / 28\n",
       "  </div>\n",
       "  <div class=\"progress-bar\" role=\"progressbar\" style=\"background-color: red; width: 0%\" aria-valuenow=\"0\" aria-valuemin=\"0\" aria-valuemax=\"100\"></div>\n",
       "</div>\n"
      ]
     },
     "metadata": {},
     "output_type": "display_data"
    },
    {
     "data": {
      "text/html": [
       "<div>\n",
       "  <span style=\"float: left;\">treeAggregate at RDDLossFunction.scala:61</span>\n",
       "</div>\n"
      ]
     },
     "metadata": {},
     "output_type": "display_data"
    },
    {
     "data": {
      "text/html": [
       "<div class=\"progress\">\n",
       "  <div class=\"progress-bar\" role=\"progressbar\" style=\"background-color: blue; width: 100%; word-wrap: normal; white-space: nowrap; text-align: center; color: white\" aria-valuenow=\"100\" aria-valuemin=\"0\" aria-valuemax=\"100\">\n",
       "    4 / 4\n",
       "  </div>\n",
       "  <div class=\"progress-bar\" role=\"progressbar\" style=\"background-color: red; width: 0%\" aria-valuenow=\"0\" aria-valuemin=\"0\" aria-valuemax=\"100\"></div>\n",
       "</div>\n"
      ]
     },
     "metadata": {},
     "output_type": "display_data"
    },
    {
     "name": "stderr",
     "output_type": "stream",
     "text": [
      "21/05/19 15:50:58 INFO OWLQN: Step Size: 1.000\n",
      "21/05/19 15:50:58 INFO OWLQN: Val and Grad Norm: 0.687704 (rel: 0.00107) 17.1077\n"
     ]
    },
    {
     "data": {
      "text/html": [
       "<div>\n",
       "  <span style=\"float: left;\">treeAggregate at RDDLossFunction.scala:61</span>\n",
       "</div>\n"
      ]
     },
     "metadata": {},
     "output_type": "display_data"
    },
    {
     "data": {
      "text/html": [
       "<div class=\"progress\">\n",
       "  <div class=\"progress-bar\" role=\"progressbar\" style=\"background-color: blue; width: 100%; word-wrap: normal; white-space: nowrap; text-align: center; color: white\" aria-valuenow=\"100\" aria-valuemin=\"0\" aria-valuemax=\"100\">\n",
       "    28 / 28\n",
       "  </div>\n",
       "  <div class=\"progress-bar\" role=\"progressbar\" style=\"background-color: red; width: 0%\" aria-valuenow=\"0\" aria-valuemin=\"0\" aria-valuemax=\"100\"></div>\n",
       "</div>\n"
      ]
     },
     "metadata": {},
     "output_type": "display_data"
    },
    {
     "data": {
      "text/html": [
       "<div>\n",
       "  <span style=\"float: left;\">treeAggregate at RDDLossFunction.scala:61</span>\n",
       "</div>\n"
      ]
     },
     "metadata": {},
     "output_type": "display_data"
    },
    {
     "data": {
      "text/html": [
       "<div class=\"progress\">\n",
       "  <div class=\"progress-bar\" role=\"progressbar\" style=\"background-color: blue; width: 100%; word-wrap: normal; white-space: nowrap; text-align: center; color: white\" aria-valuenow=\"100\" aria-valuemin=\"0\" aria-valuemax=\"100\">\n",
       "    4 / 4\n",
       "  </div>\n",
       "  <div class=\"progress-bar\" role=\"progressbar\" style=\"background-color: red; width: 0%\" aria-valuenow=\"0\" aria-valuemin=\"0\" aria-valuemax=\"100\"></div>\n",
       "</div>\n"
      ]
     },
     "metadata": {},
     "output_type": "display_data"
    },
    {
     "name": "stderr",
     "output_type": "stream",
     "text": [
      "21/05/19 15:50:59 INFO OWLQN: Step Size: 1.000\n",
      "21/05/19 15:50:59 INFO OWLQN: Val and Grad Norm: 0.685110 (rel: 0.00377) 13.1735\n"
     ]
    },
    {
     "data": {
      "text/html": [
       "<div>\n",
       "  <span style=\"float: left;\">treeAggregate at RDDLossFunction.scala:61</span>\n",
       "</div>\n"
      ]
     },
     "metadata": {},
     "output_type": "display_data"
    },
    {
     "data": {
      "text/html": [
       "<div class=\"progress\">\n",
       "  <div class=\"progress-bar\" role=\"progressbar\" style=\"background-color: blue; width: 100%; word-wrap: normal; white-space: nowrap; text-align: center; color: white\" aria-valuenow=\"100\" aria-valuemin=\"0\" aria-valuemax=\"100\">\n",
       "    28 / 28\n",
       "  </div>\n",
       "  <div class=\"progress-bar\" role=\"progressbar\" style=\"background-color: red; width: 0%\" aria-valuenow=\"0\" aria-valuemin=\"0\" aria-valuemax=\"100\"></div>\n",
       "</div>\n"
      ]
     },
     "metadata": {},
     "output_type": "display_data"
    },
    {
     "data": {
      "text/html": [
       "<div>\n",
       "  <span style=\"float: left;\">treeAggregate at RDDLossFunction.scala:61</span>\n",
       "</div>\n"
      ]
     },
     "metadata": {},
     "output_type": "display_data"
    },
    {
     "data": {
      "text/html": [
       "<div class=\"progress\">\n",
       "  <div class=\"progress-bar\" role=\"progressbar\" style=\"background-color: blue; width: 100%; word-wrap: normal; white-space: nowrap; text-align: center; color: white\" aria-valuenow=\"100\" aria-valuemin=\"0\" aria-valuemax=\"100\">\n",
       "    4 / 4\n",
       "  </div>\n",
       "  <div class=\"progress-bar\" role=\"progressbar\" style=\"background-color: red; width: 0%\" aria-valuenow=\"0\" aria-valuemin=\"0\" aria-valuemax=\"100\"></div>\n",
       "</div>\n"
      ]
     },
     "metadata": {},
     "output_type": "display_data"
    },
    {
     "name": "stderr",
     "output_type": "stream",
     "text": [
      "21/05/19 15:51:01 INFO OWLQN: Step Size: 1.000\n",
      "21/05/19 15:51:01 INFO OWLQN: Val and Grad Norm: 0.684107 (rel: 0.00146) 13.2056\n"
     ]
    },
    {
     "data": {
      "text/html": [
       "<div>\n",
       "  <span style=\"float: left;\">treeAggregate at RDDLossFunction.scala:61</span>\n",
       "</div>\n"
      ]
     },
     "metadata": {},
     "output_type": "display_data"
    },
    {
     "data": {
      "text/html": [
       "<div class=\"progress\">\n",
       "  <div class=\"progress-bar\" role=\"progressbar\" style=\"background-color: blue; width: 100%; word-wrap: normal; white-space: nowrap; text-align: center; color: white\" aria-valuenow=\"100\" aria-valuemin=\"0\" aria-valuemax=\"100\">\n",
       "    28 / 28\n",
       "  </div>\n",
       "  <div class=\"progress-bar\" role=\"progressbar\" style=\"background-color: red; width: 0%\" aria-valuenow=\"0\" aria-valuemin=\"0\" aria-valuemax=\"100\"></div>\n",
       "</div>\n"
      ]
     },
     "metadata": {},
     "output_type": "display_data"
    },
    {
     "data": {
      "text/html": [
       "<div>\n",
       "  <span style=\"float: left;\">treeAggregate at RDDLossFunction.scala:61</span>\n",
       "</div>\n"
      ]
     },
     "metadata": {},
     "output_type": "display_data"
    },
    {
     "data": {
      "text/html": [
       "<div class=\"progress\">\n",
       "  <div class=\"progress-bar\" role=\"progressbar\" style=\"background-color: blue; width: 100%; word-wrap: normal; white-space: nowrap; text-align: center; color: white\" aria-valuenow=\"100\" aria-valuemin=\"0\" aria-valuemax=\"100\">\n",
       "    4 / 4\n",
       "  </div>\n",
       "  <div class=\"progress-bar\" role=\"progressbar\" style=\"background-color: red; width: 0%\" aria-valuenow=\"0\" aria-valuemin=\"0\" aria-valuemax=\"100\"></div>\n",
       "</div>\n"
      ]
     },
     "metadata": {},
     "output_type": "display_data"
    },
    {
     "name": "stderr",
     "output_type": "stream",
     "text": [
      "21/05/19 15:51:03 INFO OWLQN: Step Size: 1.000\n",
      "21/05/19 15:51:03 INFO OWLQN: Val and Grad Norm: 0.682605 (rel: 0.00219) 9.91004\n"
     ]
    },
    {
     "data": {
      "text/html": [
       "<div>\n",
       "  <span style=\"float: left;\">treeAggregate at RDDLossFunction.scala:61</span>\n",
       "</div>\n"
      ]
     },
     "metadata": {},
     "output_type": "display_data"
    },
    {
     "data": {
      "text/html": [
       "<div class=\"progress\">\n",
       "  <div class=\"progress-bar\" role=\"progressbar\" style=\"background-color: blue; width: 100%; word-wrap: normal; white-space: nowrap; text-align: center; color: white\" aria-valuenow=\"100\" aria-valuemin=\"0\" aria-valuemax=\"100\">\n",
       "    28 / 28\n",
       "  </div>\n",
       "  <div class=\"progress-bar\" role=\"progressbar\" style=\"background-color: red; width: 0%\" aria-valuenow=\"0\" aria-valuemin=\"0\" aria-valuemax=\"100\"></div>\n",
       "</div>\n"
      ]
     },
     "metadata": {},
     "output_type": "display_data"
    },
    {
     "data": {
      "text/html": [
       "<div>\n",
       "  <span style=\"float: left;\">treeAggregate at RDDLossFunction.scala:61</span>\n",
       "</div>\n"
      ]
     },
     "metadata": {},
     "output_type": "display_data"
    },
    {
     "data": {
      "text/html": [
       "<div class=\"progress\">\n",
       "  <div class=\"progress-bar\" role=\"progressbar\" style=\"background-color: blue; width: 100%; word-wrap: normal; white-space: nowrap; text-align: center; color: white\" aria-valuenow=\"100\" aria-valuemin=\"0\" aria-valuemax=\"100\">\n",
       "    4 / 4\n",
       "  </div>\n",
       "  <div class=\"progress-bar\" role=\"progressbar\" style=\"background-color: red; width: 0%\" aria-valuenow=\"0\" aria-valuemin=\"0\" aria-valuemax=\"100\"></div>\n",
       "</div>\n"
      ]
     },
     "metadata": {},
     "output_type": "display_data"
    },
    {
     "name": "stderr",
     "output_type": "stream",
     "text": [
      "21/05/19 15:51:05 INFO OWLQN: Step Size: 1.000\n",
      "21/05/19 15:51:05 INFO OWLQN: Val and Grad Norm: 0.681672 (rel: 0.00137) 7.50365\n"
     ]
    },
    {
     "data": {
      "text/html": [
       "<div>\n",
       "  <span style=\"float: left;\">treeAggregate at RDDLossFunction.scala:61</span>\n",
       "</div>\n"
      ]
     },
     "metadata": {},
     "output_type": "display_data"
    },
    {
     "data": {
      "text/html": [
       "<div class=\"progress\">\n",
       "  <div class=\"progress-bar\" role=\"progressbar\" style=\"background-color: blue; width: 100%; word-wrap: normal; white-space: nowrap; text-align: center; color: white\" aria-valuenow=\"100\" aria-valuemin=\"0\" aria-valuemax=\"100\">\n",
       "    28 / 28\n",
       "  </div>\n",
       "  <div class=\"progress-bar\" role=\"progressbar\" style=\"background-color: red; width: 0%\" aria-valuenow=\"0\" aria-valuemin=\"0\" aria-valuemax=\"100\"></div>\n",
       "</div>\n"
      ]
     },
     "metadata": {},
     "output_type": "display_data"
    },
    {
     "data": {
      "text/html": [
       "<div>\n",
       "  <span style=\"float: left;\">treeAggregate at RDDLossFunction.scala:61</span>\n",
       "</div>\n"
      ]
     },
     "metadata": {},
     "output_type": "display_data"
    },
    {
     "data": {
      "text/html": [
       "<div class=\"progress\">\n",
       "  <div class=\"progress-bar\" role=\"progressbar\" style=\"background-color: blue; width: 100%; word-wrap: normal; white-space: nowrap; text-align: center; color: white\" aria-valuenow=\"100\" aria-valuemin=\"0\" aria-valuemax=\"100\">\n",
       "    4 / 4\n",
       "  </div>\n",
       "  <div class=\"progress-bar\" role=\"progressbar\" style=\"background-color: red; width: 0%\" aria-valuenow=\"0\" aria-valuemin=\"0\" aria-valuemax=\"100\"></div>\n",
       "</div>\n"
      ]
     },
     "metadata": {},
     "output_type": "display_data"
    },
    {
     "name": "stderr",
     "output_type": "stream",
     "text": [
      "21/05/19 15:51:07 INFO OWLQN: Step Size: 1.000\n",
      "21/05/19 15:51:07 INFO OWLQN: Val and Grad Norm: 0.681136 (rel: 0.000787) 6.68950\n"
     ]
    },
    {
     "data": {
      "text/html": [
       "<div>\n",
       "  <span style=\"float: left;\">treeAggregate at RDDLossFunction.scala:61</span>\n",
       "</div>\n"
      ]
     },
     "metadata": {},
     "output_type": "display_data"
    },
    {
     "data": {
      "text/html": [
       "<div class=\"progress\">\n",
       "  <div class=\"progress-bar\" role=\"progressbar\" style=\"background-color: blue; width: 100%; word-wrap: normal; white-space: nowrap; text-align: center; color: white\" aria-valuenow=\"100\" aria-valuemin=\"0\" aria-valuemax=\"100\">\n",
       "    28 / 28\n",
       "  </div>\n",
       "  <div class=\"progress-bar\" role=\"progressbar\" style=\"background-color: red; width: 0%\" aria-valuenow=\"0\" aria-valuemin=\"0\" aria-valuemax=\"100\"></div>\n",
       "</div>\n"
      ]
     },
     "metadata": {},
     "output_type": "display_data"
    },
    {
     "data": {
      "text/html": [
       "<div>\n",
       "  <span style=\"float: left;\">treeAggregate at RDDLossFunction.scala:61</span>\n",
       "</div>\n"
      ]
     },
     "metadata": {},
     "output_type": "display_data"
    },
    {
     "data": {
      "text/html": [
       "<div class=\"progress\">\n",
       "  <div class=\"progress-bar\" role=\"progressbar\" style=\"background-color: blue; width: 100%; word-wrap: normal; white-space: nowrap; text-align: center; color: white\" aria-valuenow=\"100\" aria-valuemin=\"0\" aria-valuemax=\"100\">\n",
       "    4 / 4\n",
       "  </div>\n",
       "  <div class=\"progress-bar\" role=\"progressbar\" style=\"background-color: red; width: 0%\" aria-valuenow=\"0\" aria-valuemin=\"0\" aria-valuemax=\"100\"></div>\n",
       "</div>\n"
      ]
     },
     "metadata": {},
     "output_type": "display_data"
    },
    {
     "name": "stderr",
     "output_type": "stream",
     "text": [
      "21/05/19 15:51:09 INFO OWLQN: Step Size: 1.000\n",
      "21/05/19 15:51:09 INFO OWLQN: Val and Grad Norm: 0.680624 (rel: 0.000751) 5.05207\n"
     ]
    },
    {
     "data": {
      "text/html": [
       "<div>\n",
       "  <span style=\"float: left;\">treeAggregate at RDDLossFunction.scala:61</span>\n",
       "</div>\n"
      ]
     },
     "metadata": {},
     "output_type": "display_data"
    },
    {
     "data": {
      "text/html": [
       "<div class=\"progress\">\n",
       "  <div class=\"progress-bar\" role=\"progressbar\" style=\"background-color: blue; width: 100%; word-wrap: normal; white-space: nowrap; text-align: center; color: white\" aria-valuenow=\"100\" aria-valuemin=\"0\" aria-valuemax=\"100\">\n",
       "    28 / 28\n",
       "  </div>\n",
       "  <div class=\"progress-bar\" role=\"progressbar\" style=\"background-color: red; width: 0%\" aria-valuenow=\"0\" aria-valuemin=\"0\" aria-valuemax=\"100\"></div>\n",
       "</div>\n"
      ]
     },
     "metadata": {},
     "output_type": "display_data"
    },
    {
     "data": {
      "text/html": [
       "<div>\n",
       "  <span style=\"float: left;\">treeAggregate at RDDLossFunction.scala:61</span>\n",
       "</div>\n"
      ]
     },
     "metadata": {},
     "output_type": "display_data"
    },
    {
     "data": {
      "text/html": [
       "<div class=\"progress\">\n",
       "  <div class=\"progress-bar\" role=\"progressbar\" style=\"background-color: blue; width: 100%; word-wrap: normal; white-space: nowrap; text-align: center; color: white\" aria-valuenow=\"100\" aria-valuemin=\"0\" aria-valuemax=\"100\">\n",
       "    4 / 4\n",
       "  </div>\n",
       "  <div class=\"progress-bar\" role=\"progressbar\" style=\"background-color: red; width: 0%\" aria-valuenow=\"0\" aria-valuemin=\"0\" aria-valuemax=\"100\"></div>\n",
       "</div>\n"
      ]
     },
     "metadata": {},
     "output_type": "display_data"
    },
    {
     "name": "stderr",
     "output_type": "stream",
     "text": [
      "21/05/19 15:51:11 INFO OWLQN: Step Size: 1.000\n",
      "21/05/19 15:51:11 INFO OWLQN: Val and Grad Norm: 0.680342 (rel: 0.000414) 5.14272\n"
     ]
    },
    {
     "data": {
      "text/html": [
       "<div>\n",
       "  <span style=\"float: left;\">treeAggregate at RDDLossFunction.scala:61</span>\n",
       "</div>\n"
      ]
     },
     "metadata": {},
     "output_type": "display_data"
    },
    {
     "data": {
      "text/html": [
       "<div class=\"progress\">\n",
       "  <div class=\"progress-bar\" role=\"progressbar\" style=\"background-color: blue; width: 100%; word-wrap: normal; white-space: nowrap; text-align: center; color: white\" aria-valuenow=\"100\" aria-valuemin=\"0\" aria-valuemax=\"100\">\n",
       "    28 / 28\n",
       "  </div>\n",
       "  <div class=\"progress-bar\" role=\"progressbar\" style=\"background-color: red; width: 0%\" aria-valuenow=\"0\" aria-valuemin=\"0\" aria-valuemax=\"100\"></div>\n",
       "</div>\n"
      ]
     },
     "metadata": {},
     "output_type": "display_data"
    },
    {
     "data": {
      "text/html": [
       "<div>\n",
       "  <span style=\"float: left;\">treeAggregate at RDDLossFunction.scala:61</span>\n",
       "</div>\n"
      ]
     },
     "metadata": {},
     "output_type": "display_data"
    },
    {
     "data": {
      "text/html": [
       "<div class=\"progress\">\n",
       "  <div class=\"progress-bar\" role=\"progressbar\" style=\"background-color: blue; width: 100%; word-wrap: normal; white-space: nowrap; text-align: center; color: white\" aria-valuenow=\"100\" aria-valuemin=\"0\" aria-valuemax=\"100\">\n",
       "    4 / 4\n",
       "  </div>\n",
       "  <div class=\"progress-bar\" role=\"progressbar\" style=\"background-color: red; width: 0%\" aria-valuenow=\"0\" aria-valuemin=\"0\" aria-valuemax=\"100\"></div>\n",
       "</div>\n"
      ]
     },
     "metadata": {},
     "output_type": "display_data"
    },
    {
     "name": "stderr",
     "output_type": "stream",
     "text": [
      "21/05/19 15:51:13 INFO OWLQN: Step Size: 1.000\n",
      "21/05/19 15:51:13 INFO OWLQN: Val and Grad Norm: 0.680000 (rel: 0.000502) 3.56728\n"
     ]
    },
    {
     "data": {
      "text/html": [
       "<div>\n",
       "  <span style=\"float: left;\">treeAggregate at RDDLossFunction.scala:61</span>\n",
       "</div>\n"
      ]
     },
     "metadata": {},
     "output_type": "display_data"
    },
    {
     "data": {
      "text/html": [
       "<div class=\"progress\">\n",
       "  <div class=\"progress-bar\" role=\"progressbar\" style=\"background-color: blue; width: 100%; word-wrap: normal; white-space: nowrap; text-align: center; color: white\" aria-valuenow=\"100\" aria-valuemin=\"0\" aria-valuemax=\"100\">\n",
       "    28 / 28\n",
       "  </div>\n",
       "  <div class=\"progress-bar\" role=\"progressbar\" style=\"background-color: red; width: 0%\" aria-valuenow=\"0\" aria-valuemin=\"0\" aria-valuemax=\"100\"></div>\n",
       "</div>\n"
      ]
     },
     "metadata": {},
     "output_type": "display_data"
    },
    {
     "data": {
      "text/html": [
       "<div>\n",
       "  <span style=\"float: left;\">treeAggregate at RDDLossFunction.scala:61</span>\n",
       "</div>\n"
      ]
     },
     "metadata": {},
     "output_type": "display_data"
    },
    {
     "data": {
      "text/html": [
       "<div class=\"progress\">\n",
       "  <div class=\"progress-bar\" role=\"progressbar\" style=\"background-color: blue; width: 100%; word-wrap: normal; white-space: nowrap; text-align: center; color: white\" aria-valuenow=\"100\" aria-valuemin=\"0\" aria-valuemax=\"100\">\n",
       "    4 / 4\n",
       "  </div>\n",
       "  <div class=\"progress-bar\" role=\"progressbar\" style=\"background-color: red; width: 0%\" aria-valuenow=\"0\" aria-valuemin=\"0\" aria-valuemax=\"100\"></div>\n",
       "</div>\n"
      ]
     },
     "metadata": {},
     "output_type": "display_data"
    },
    {
     "name": "stderr",
     "output_type": "stream",
     "text": [
      "21/05/19 15:51:15 INFO OWLQN: Step Size: 1.000\n",
      "21/05/19 15:51:15 INFO OWLQN: Val and Grad Norm: 0.679812 (rel: 0.000277) 4.28365\n"
     ]
    },
    {
     "data": {
      "text/html": [
       "<div>\n",
       "  <span style=\"float: left;\">treeAggregate at RDDLossFunction.scala:61</span>\n",
       "</div>\n"
      ]
     },
     "metadata": {},
     "output_type": "display_data"
    },
    {
     "data": {
      "text/html": [
       "<div class=\"progress\">\n",
       "  <div class=\"progress-bar\" role=\"progressbar\" style=\"background-color: blue; width: 100%; word-wrap: normal; white-space: nowrap; text-align: center; color: white\" aria-valuenow=\"100\" aria-valuemin=\"0\" aria-valuemax=\"100\">\n",
       "    28 / 28\n",
       "  </div>\n",
       "  <div class=\"progress-bar\" role=\"progressbar\" style=\"background-color: red; width: 0%\" aria-valuenow=\"0\" aria-valuemin=\"0\" aria-valuemax=\"100\"></div>\n",
       "</div>\n"
      ]
     },
     "metadata": {},
     "output_type": "display_data"
    },
    {
     "data": {
      "text/html": [
       "<div>\n",
       "  <span style=\"float: left;\">treeAggregate at RDDLossFunction.scala:61</span>\n",
       "</div>\n"
      ]
     },
     "metadata": {},
     "output_type": "display_data"
    },
    {
     "data": {
      "text/html": [
       "<div class=\"progress\">\n",
       "  <div class=\"progress-bar\" role=\"progressbar\" style=\"background-color: blue; width: 100%; word-wrap: normal; white-space: nowrap; text-align: center; color: white\" aria-valuenow=\"100\" aria-valuemin=\"0\" aria-valuemax=\"100\">\n",
       "    4 / 4\n",
       "  </div>\n",
       "  <div class=\"progress-bar\" role=\"progressbar\" style=\"background-color: red; width: 0%\" aria-valuenow=\"0\" aria-valuemin=\"0\" aria-valuemax=\"100\"></div>\n",
       "</div>\n"
      ]
     },
     "metadata": {},
     "output_type": "display_data"
    },
    {
     "name": "stderr",
     "output_type": "stream",
     "text": [
      "21/05/19 15:51:17 INFO OWLQN: Step Size: 1.000\n",
      "21/05/19 15:51:17 INFO OWLQN: Val and Grad Norm: 0.679570 (rel: 0.000356) 4.07042\n"
     ]
    },
    {
     "data": {
      "text/html": [
       "<div>\n",
       "  <span style=\"float: left;\">treeAggregate at RDDLossFunction.scala:61</span>\n",
       "</div>\n"
      ]
     },
     "metadata": {},
     "output_type": "display_data"
    },
    {
     "data": {
      "text/html": [
       "<div class=\"progress\">\n",
       "  <div class=\"progress-bar\" role=\"progressbar\" style=\"background-color: blue; width: 100%; word-wrap: normal; white-space: nowrap; text-align: center; color: white\" aria-valuenow=\"100\" aria-valuemin=\"0\" aria-valuemax=\"100\">\n",
       "    28 / 28\n",
       "  </div>\n",
       "  <div class=\"progress-bar\" role=\"progressbar\" style=\"background-color: red; width: 0%\" aria-valuenow=\"0\" aria-valuemin=\"0\" aria-valuemax=\"100\"></div>\n",
       "</div>\n"
      ]
     },
     "metadata": {},
     "output_type": "display_data"
    },
    {
     "data": {
      "text/html": [
       "<div>\n",
       "  <span style=\"float: left;\">treeAggregate at RDDLossFunction.scala:61</span>\n",
       "</div>\n"
      ]
     },
     "metadata": {},
     "output_type": "display_data"
    },
    {
     "data": {
      "text/html": [
       "<div class=\"progress\">\n",
       "  <div class=\"progress-bar\" role=\"progressbar\" style=\"background-color: blue; width: 100%; word-wrap: normal; white-space: nowrap; text-align: center; color: white\" aria-valuenow=\"100\" aria-valuemin=\"0\" aria-valuemax=\"100\">\n",
       "    4 / 4\n",
       "  </div>\n",
       "  <div class=\"progress-bar\" role=\"progressbar\" style=\"background-color: red; width: 0%\" aria-valuenow=\"0\" aria-valuemin=\"0\" aria-valuemax=\"100\"></div>\n",
       "</div>\n"
      ]
     },
     "metadata": {},
     "output_type": "display_data"
    },
    {
     "name": "stderr",
     "output_type": "stream",
     "text": [
      "21/05/19 15:51:19 INFO OWLQN: Step Size: 1.000\n",
      "21/05/19 15:51:19 INFO OWLQN: Val and Grad Norm: 0.679330 (rel: 0.000353) 3.60124\n"
     ]
    },
    {
     "data": {
      "text/html": [
       "<div>\n",
       "  <span style=\"float: left;\">treeAggregate at RDDLossFunction.scala:61</span>\n",
       "</div>\n"
      ]
     },
     "metadata": {},
     "output_type": "display_data"
    },
    {
     "data": {
      "text/html": [
       "<div class=\"progress\">\n",
       "  <div class=\"progress-bar\" role=\"progressbar\" style=\"background-color: blue; width: 100%; word-wrap: normal; white-space: nowrap; text-align: center; color: white\" aria-valuenow=\"100\" aria-valuemin=\"0\" aria-valuemax=\"100\">\n",
       "    28 / 28\n",
       "  </div>\n",
       "  <div class=\"progress-bar\" role=\"progressbar\" style=\"background-color: red; width: 0%\" aria-valuenow=\"0\" aria-valuemin=\"0\" aria-valuemax=\"100\"></div>\n",
       "</div>\n"
      ]
     },
     "metadata": {},
     "output_type": "display_data"
    },
    {
     "data": {
      "text/html": [
       "<div>\n",
       "  <span style=\"float: left;\">treeAggregate at RDDLossFunction.scala:61</span>\n",
       "</div>\n"
      ]
     },
     "metadata": {},
     "output_type": "display_data"
    },
    {
     "data": {
      "text/html": [
       "<div class=\"progress\">\n",
       "  <div class=\"progress-bar\" role=\"progressbar\" style=\"background-color: blue; width: 100%; word-wrap: normal; white-space: nowrap; text-align: center; color: white\" aria-valuenow=\"100\" aria-valuemin=\"0\" aria-valuemax=\"100\">\n",
       "    4 / 4\n",
       "  </div>\n",
       "  <div class=\"progress-bar\" role=\"progressbar\" style=\"background-color: red; width: 0%\" aria-valuenow=\"0\" aria-valuemin=\"0\" aria-valuemax=\"100\"></div>\n",
       "</div>\n"
      ]
     },
     "metadata": {},
     "output_type": "display_data"
    },
    {
     "name": "stderr",
     "output_type": "stream",
     "text": [
      "21/05/19 15:51:21 INFO OWLQN: Step Size: 1.000\n",
      "21/05/19 15:51:21 INFO OWLQN: Val and Grad Norm: 0.679101 (rel: 0.000337) 3.91380\n"
     ]
    },
    {
     "data": {
      "text/html": [
       "<div>\n",
       "  <span style=\"float: left;\">treeAggregate at RDDLossFunction.scala:61</span>\n",
       "</div>\n"
      ]
     },
     "metadata": {},
     "output_type": "display_data"
    },
    {
     "data": {
      "text/html": [
       "<div class=\"progress\">\n",
       "  <div class=\"progress-bar\" role=\"progressbar\" style=\"background-color: blue; width: 100%; word-wrap: normal; white-space: nowrap; text-align: center; color: white\" aria-valuenow=\"100\" aria-valuemin=\"0\" aria-valuemax=\"100\">\n",
       "    28 / 28\n",
       "  </div>\n",
       "  <div class=\"progress-bar\" role=\"progressbar\" style=\"background-color: red; width: 0%\" aria-valuenow=\"0\" aria-valuemin=\"0\" aria-valuemax=\"100\"></div>\n",
       "</div>\n"
      ]
     },
     "metadata": {},
     "output_type": "display_data"
    },
    {
     "data": {
      "text/html": [
       "<div>\n",
       "  <span style=\"float: left;\">treeAggregate at RDDLossFunction.scala:61</span>\n",
       "</div>\n"
      ]
     },
     "metadata": {},
     "output_type": "display_data"
    },
    {
     "data": {
      "text/html": [
       "<div class=\"progress\">\n",
       "  <div class=\"progress-bar\" role=\"progressbar\" style=\"background-color: blue; width: 100%; word-wrap: normal; white-space: nowrap; text-align: center; color: white\" aria-valuenow=\"100\" aria-valuemin=\"0\" aria-valuemax=\"100\">\n",
       "    4 / 4\n",
       "  </div>\n",
       "  <div class=\"progress-bar\" role=\"progressbar\" style=\"background-color: red; width: 0%\" aria-valuenow=\"0\" aria-valuemin=\"0\" aria-valuemax=\"100\"></div>\n",
       "</div>\n"
      ]
     },
     "metadata": {},
     "output_type": "display_data"
    },
    {
     "name": "stderr",
     "output_type": "stream",
     "text": [
      "21/05/19 15:51:22 INFO OWLQN: Step Size: 1.000\n",
      "21/05/19 15:51:22 INFO OWLQN: Val and Grad Norm: 0.678786 (rel: 0.000464) 2.59835\n"
     ]
    },
    {
     "data": {
      "text/html": [
       "<div>\n",
       "  <span style=\"float: left;\">treeAggregate at RDDLossFunction.scala:61</span>\n",
       "</div>\n"
      ]
     },
     "metadata": {},
     "output_type": "display_data"
    },
    {
     "data": {
      "text/html": [
       "<div class=\"progress\">\n",
       "  <div class=\"progress-bar\" role=\"progressbar\" style=\"background-color: blue; width: 100%; word-wrap: normal; white-space: nowrap; text-align: center; color: white\" aria-valuenow=\"100\" aria-valuemin=\"0\" aria-valuemax=\"100\">\n",
       "    28 / 28\n",
       "  </div>\n",
       "  <div class=\"progress-bar\" role=\"progressbar\" style=\"background-color: red; width: 0%\" aria-valuenow=\"0\" aria-valuemin=\"0\" aria-valuemax=\"100\"></div>\n",
       "</div>\n"
      ]
     },
     "metadata": {},
     "output_type": "display_data"
    },
    {
     "data": {
      "text/html": [
       "<div>\n",
       "  <span style=\"float: left;\">treeAggregate at RDDLossFunction.scala:61</span>\n",
       "</div>\n"
      ]
     },
     "metadata": {},
     "output_type": "display_data"
    },
    {
     "data": {
      "text/html": [
       "<div class=\"progress\">\n",
       "  <div class=\"progress-bar\" role=\"progressbar\" style=\"background-color: blue; width: 100%; word-wrap: normal; white-space: nowrap; text-align: center; color: white\" aria-valuenow=\"100\" aria-valuemin=\"0\" aria-valuemax=\"100\">\n",
       "    4 / 4\n",
       "  </div>\n",
       "  <div class=\"progress-bar\" role=\"progressbar\" style=\"background-color: red; width: 0%\" aria-valuenow=\"0\" aria-valuemin=\"0\" aria-valuemax=\"100\"></div>\n",
       "</div>\n"
      ]
     },
     "metadata": {},
     "output_type": "display_data"
    },
    {
     "name": "stderr",
     "output_type": "stream",
     "text": [
      "21/05/19 15:51:24 INFO OWLQN: Step Size: 1.000\n",
      "21/05/19 15:51:24 INFO OWLQN: Val and Grad Norm: 0.678535 (rel: 0.000370) 4.17439\n"
     ]
    },
    {
     "data": {
      "text/html": [
       "<div>\n",
       "  <span style=\"float: left;\">treeAggregate at RDDLossFunction.scala:61</span>\n",
       "</div>\n"
      ]
     },
     "metadata": {},
     "output_type": "display_data"
    },
    {
     "data": {
      "text/html": [
       "<div class=\"progress\">\n",
       "  <div class=\"progress-bar\" role=\"progressbar\" style=\"background-color: blue; width: 100%; word-wrap: normal; white-space: nowrap; text-align: center; color: white\" aria-valuenow=\"100\" aria-valuemin=\"0\" aria-valuemax=\"100\">\n",
       "    28 / 28\n",
       "  </div>\n",
       "  <div class=\"progress-bar\" role=\"progressbar\" style=\"background-color: red; width: 0%\" aria-valuenow=\"0\" aria-valuemin=\"0\" aria-valuemax=\"100\"></div>\n",
       "</div>\n"
      ]
     },
     "metadata": {},
     "output_type": "display_data"
    },
    {
     "data": {
      "text/html": [
       "<div>\n",
       "  <span style=\"float: left;\">treeAggregate at RDDLossFunction.scala:61</span>\n",
       "</div>\n"
      ]
     },
     "metadata": {},
     "output_type": "display_data"
    },
    {
     "data": {
      "text/html": [
       "<div class=\"progress\">\n",
       "  <div class=\"progress-bar\" role=\"progressbar\" style=\"background-color: blue; width: 100%; word-wrap: normal; white-space: nowrap; text-align: center; color: white\" aria-valuenow=\"100\" aria-valuemin=\"0\" aria-valuemax=\"100\">\n",
       "    4 / 4\n",
       "  </div>\n",
       "  <div class=\"progress-bar\" role=\"progressbar\" style=\"background-color: red; width: 0%\" aria-valuenow=\"0\" aria-valuemin=\"0\" aria-valuemax=\"100\"></div>\n",
       "</div>\n"
      ]
     },
     "metadata": {},
     "output_type": "display_data"
    },
    {
     "name": "stderr",
     "output_type": "stream",
     "text": [
      "21/05/19 15:51:26 INFO OWLQN: Step Size: 1.000\n",
      "21/05/19 15:51:26 INFO OWLQN: Val and Grad Norm: 0.678213 (rel: 0.000475) 3.83382\n"
     ]
    },
    {
     "data": {
      "text/html": [
       "<div>\n",
       "  <span style=\"float: left;\">treeAggregate at RDDLossFunction.scala:61</span>\n",
       "</div>\n"
      ]
     },
     "metadata": {},
     "output_type": "display_data"
    },
    {
     "data": {
      "text/html": [
       "<div class=\"progress\">\n",
       "  <div class=\"progress-bar\" role=\"progressbar\" style=\"background-color: blue; width: 100%; word-wrap: normal; white-space: nowrap; text-align: center; color: white\" aria-valuenow=\"100\" aria-valuemin=\"0\" aria-valuemax=\"100\">\n",
       "    28 / 28\n",
       "  </div>\n",
       "  <div class=\"progress-bar\" role=\"progressbar\" style=\"background-color: red; width: 0%\" aria-valuenow=\"0\" aria-valuemin=\"0\" aria-valuemax=\"100\"></div>\n",
       "</div>\n"
      ]
     },
     "metadata": {},
     "output_type": "display_data"
    },
    {
     "data": {
      "text/html": [
       "<div>\n",
       "  <span style=\"float: left;\">treeAggregate at RDDLossFunction.scala:61</span>\n",
       "</div>\n"
      ]
     },
     "metadata": {},
     "output_type": "display_data"
    },
    {
     "data": {
      "text/html": [
       "<div class=\"progress\">\n",
       "  <div class=\"progress-bar\" role=\"progressbar\" style=\"background-color: blue; width: 100%; word-wrap: normal; white-space: nowrap; text-align: center; color: white\" aria-valuenow=\"100\" aria-valuemin=\"0\" aria-valuemax=\"100\">\n",
       "    4 / 4\n",
       "  </div>\n",
       "  <div class=\"progress-bar\" role=\"progressbar\" style=\"background-color: red; width: 0%\" aria-valuenow=\"0\" aria-valuemin=\"0\" aria-valuemax=\"100\"></div>\n",
       "</div>\n"
      ]
     },
     "metadata": {},
     "output_type": "display_data"
    },
    {
     "name": "stderr",
     "output_type": "stream",
     "text": [
      "21/05/19 15:51:28 INFO OWLQN: Step Size: 1.000\n",
      "21/05/19 15:51:28 INFO OWLQN: Val and Grad Norm: 0.677835 (rel: 0.000557) 3.76614\n"
     ]
    },
    {
     "data": {
      "text/html": [
       "<div>\n",
       "  <span style=\"float: left;\">treeAggregate at RDDLossFunction.scala:61</span>\n",
       "</div>\n"
      ]
     },
     "metadata": {},
     "output_type": "display_data"
    },
    {
     "data": {
      "text/html": [
       "<div class=\"progress\">\n",
       "  <div class=\"progress-bar\" role=\"progressbar\" style=\"background-color: blue; width: 100%; word-wrap: normal; white-space: nowrap; text-align: center; color: white\" aria-valuenow=\"100\" aria-valuemin=\"0\" aria-valuemax=\"100\">\n",
       "    28 / 28\n",
       "  </div>\n",
       "  <div class=\"progress-bar\" role=\"progressbar\" style=\"background-color: red; width: 0%\" aria-valuenow=\"0\" aria-valuemin=\"0\" aria-valuemax=\"100\"></div>\n",
       "</div>\n"
      ]
     },
     "metadata": {},
     "output_type": "display_data"
    },
    {
     "data": {
      "text/html": [
       "<div>\n",
       "  <span style=\"float: left;\">treeAggregate at RDDLossFunction.scala:61</span>\n",
       "</div>\n"
      ]
     },
     "metadata": {},
     "output_type": "display_data"
    },
    {
     "data": {
      "text/html": [
       "<div class=\"progress\">\n",
       "  <div class=\"progress-bar\" role=\"progressbar\" style=\"background-color: blue; width: 100%; word-wrap: normal; white-space: nowrap; text-align: center; color: white\" aria-valuenow=\"100\" aria-valuemin=\"0\" aria-valuemax=\"100\">\n",
       "    4 / 4\n",
       "  </div>\n",
       "  <div class=\"progress-bar\" role=\"progressbar\" style=\"background-color: red; width: 0%\" aria-valuenow=\"0\" aria-valuemin=\"0\" aria-valuemax=\"100\"></div>\n",
       "</div>\n"
      ]
     },
     "metadata": {},
     "output_type": "display_data"
    },
    {
     "name": "stderr",
     "output_type": "stream",
     "text": [
      "21/05/19 15:51:30 INFO OWLQN: Step Size: 1.000\n",
      "21/05/19 15:51:30 INFO OWLQN: Val and Grad Norm: 0.677411 (rel: 0.000626) 2.42034\n"
     ]
    },
    {
     "data": {
      "text/html": [
       "<div>\n",
       "  <span style=\"float: left;\">treeAggregate at RDDLossFunction.scala:61</span>\n",
       "</div>\n"
      ]
     },
     "metadata": {},
     "output_type": "display_data"
    },
    {
     "data": {
      "text/html": [
       "<div class=\"progress\">\n",
       "  <div class=\"progress-bar\" role=\"progressbar\" style=\"background-color: blue; width: 100%; word-wrap: normal; white-space: nowrap; text-align: center; color: white\" aria-valuenow=\"100\" aria-valuemin=\"0\" aria-valuemax=\"100\">\n",
       "    28 / 28\n",
       "  </div>\n",
       "  <div class=\"progress-bar\" role=\"progressbar\" style=\"background-color: red; width: 0%\" aria-valuenow=\"0\" aria-valuemin=\"0\" aria-valuemax=\"100\"></div>\n",
       "</div>\n"
      ]
     },
     "metadata": {},
     "output_type": "display_data"
    },
    {
     "data": {
      "text/html": [
       "<div>\n",
       "  <span style=\"float: left;\">treeAggregate at RDDLossFunction.scala:61</span>\n",
       "</div>\n"
      ]
     },
     "metadata": {},
     "output_type": "display_data"
    },
    {
     "data": {
      "text/html": [
       "<div class=\"progress\">\n",
       "  <div class=\"progress-bar\" role=\"progressbar\" style=\"background-color: blue; width: 100%; word-wrap: normal; white-space: nowrap; text-align: center; color: white\" aria-valuenow=\"100\" aria-valuemin=\"0\" aria-valuemax=\"100\">\n",
       "    4 / 4\n",
       "  </div>\n",
       "  <div class=\"progress-bar\" role=\"progressbar\" style=\"background-color: red; width: 0%\" aria-valuenow=\"0\" aria-valuemin=\"0\" aria-valuemax=\"100\"></div>\n",
       "</div>\n"
      ]
     },
     "metadata": {},
     "output_type": "display_data"
    },
    {
     "name": "stderr",
     "output_type": "stream",
     "text": [
      "21/05/19 15:51:32 INFO OWLQN: Step Size: 1.000\n",
      "21/05/19 15:51:32 INFO OWLQN: Val and Grad Norm: 0.676996 (rel: 0.000613) 2.02915\n"
     ]
    },
    {
     "data": {
      "text/html": [
       "<div>\n",
       "  <span style=\"float: left;\">treeAggregate at RDDLossFunction.scala:61</span>\n",
       "</div>\n"
      ]
     },
     "metadata": {},
     "output_type": "display_data"
    },
    {
     "data": {
      "text/html": [
       "<div class=\"progress\">\n",
       "  <div class=\"progress-bar\" role=\"progressbar\" style=\"background-color: blue; width: 100%; word-wrap: normal; white-space: nowrap; text-align: center; color: white\" aria-valuenow=\"100\" aria-valuemin=\"0\" aria-valuemax=\"100\">\n",
       "    28 / 28\n",
       "  </div>\n",
       "  <div class=\"progress-bar\" role=\"progressbar\" style=\"background-color: red; width: 0%\" aria-valuenow=\"0\" aria-valuemin=\"0\" aria-valuemax=\"100\"></div>\n",
       "</div>\n"
      ]
     },
     "metadata": {},
     "output_type": "display_data"
    },
    {
     "data": {
      "text/html": [
       "<div>\n",
       "  <span style=\"float: left;\">treeAggregate at RDDLossFunction.scala:61</span>\n",
       "</div>\n"
      ]
     },
     "metadata": {},
     "output_type": "display_data"
    },
    {
     "data": {
      "text/html": [
       "<div class=\"progress\">\n",
       "  <div class=\"progress-bar\" role=\"progressbar\" style=\"background-color: blue; width: 100%; word-wrap: normal; white-space: nowrap; text-align: center; color: white\" aria-valuenow=\"100\" aria-valuemin=\"0\" aria-valuemax=\"100\">\n",
       "    4 / 4\n",
       "  </div>\n",
       "  <div class=\"progress-bar\" role=\"progressbar\" style=\"background-color: red; width: 0%\" aria-valuenow=\"0\" aria-valuemin=\"0\" aria-valuemax=\"100\"></div>\n",
       "</div>\n"
      ]
     },
     "metadata": {},
     "output_type": "display_data"
    },
    {
     "name": "stderr",
     "output_type": "stream",
     "text": [
      "21/05/19 15:51:34 INFO OWLQN: Step Size: 1.000\n",
      "21/05/19 15:51:34 INFO OWLQN: Val and Grad Norm: 0.676439 (rel: 0.000822) 1.48050\n"
     ]
    },
    {
     "data": {
      "text/html": [
       "<div>\n",
       "  <span style=\"float: left;\">treeAggregate at RDDLossFunction.scala:61</span>\n",
       "</div>\n"
      ]
     },
     "metadata": {},
     "output_type": "display_data"
    },
    {
     "data": {
      "text/html": [
       "<div class=\"progress\">\n",
       "  <div class=\"progress-bar\" role=\"progressbar\" style=\"background-color: blue; width: 100%; word-wrap: normal; white-space: nowrap; text-align: center; color: white\" aria-valuenow=\"100\" aria-valuemin=\"0\" aria-valuemax=\"100\">\n",
       "    28 / 28\n",
       "  </div>\n",
       "  <div class=\"progress-bar\" role=\"progressbar\" style=\"background-color: red; width: 0%\" aria-valuenow=\"0\" aria-valuemin=\"0\" aria-valuemax=\"100\"></div>\n",
       "</div>\n"
      ]
     },
     "metadata": {},
     "output_type": "display_data"
    },
    {
     "data": {
      "text/html": [
       "<div>\n",
       "  <span style=\"float: left;\">treeAggregate at RDDLossFunction.scala:61</span>\n",
       "</div>\n"
      ]
     },
     "metadata": {},
     "output_type": "display_data"
    },
    {
     "data": {
      "text/html": [
       "<div class=\"progress\">\n",
       "  <div class=\"progress-bar\" role=\"progressbar\" style=\"background-color: blue; width: 100%; word-wrap: normal; white-space: nowrap; text-align: center; color: white\" aria-valuenow=\"100\" aria-valuemin=\"0\" aria-valuemax=\"100\">\n",
       "    4 / 4\n",
       "  </div>\n",
       "  <div class=\"progress-bar\" role=\"progressbar\" style=\"background-color: red; width: 0%\" aria-valuenow=\"0\" aria-valuemin=\"0\" aria-valuemax=\"100\"></div>\n",
       "</div>\n"
      ]
     },
     "metadata": {},
     "output_type": "display_data"
    },
    {
     "name": "stderr",
     "output_type": "stream",
     "text": [
      "21/05/19 15:51:36 INFO OWLQN: Step Size: 1.000\n",
      "21/05/19 15:51:36 INFO OWLQN: Val and Grad Norm: 0.676125 (rel: 0.000464) 0.122853\n"
     ]
    },
    {
     "data": {
      "text/html": [
       "<div>\n",
       "  <span style=\"float: left;\">treeAggregate at RDDLossFunction.scala:61</span>\n",
       "</div>\n"
      ]
     },
     "metadata": {},
     "output_type": "display_data"
    },
    {
     "data": {
      "text/html": [
       "<div class=\"progress\">\n",
       "  <div class=\"progress-bar\" role=\"progressbar\" style=\"background-color: blue; width: 100%; word-wrap: normal; white-space: nowrap; text-align: center; color: white\" aria-valuenow=\"100\" aria-valuemin=\"0\" aria-valuemax=\"100\">\n",
       "    28 / 28\n",
       "  </div>\n",
       "  <div class=\"progress-bar\" role=\"progressbar\" style=\"background-color: red; width: 0%\" aria-valuenow=\"0\" aria-valuemin=\"0\" aria-valuemax=\"100\"></div>\n",
       "</div>\n"
      ]
     },
     "metadata": {},
     "output_type": "display_data"
    },
    {
     "data": {
      "text/html": [
       "<div>\n",
       "  <span style=\"float: left;\">treeAggregate at RDDLossFunction.scala:61</span>\n",
       "</div>\n"
      ]
     },
     "metadata": {},
     "output_type": "display_data"
    },
    {
     "data": {
      "text/html": [
       "<div class=\"progress\">\n",
       "  <div class=\"progress-bar\" role=\"progressbar\" style=\"background-color: blue; width: 100%; word-wrap: normal; white-space: nowrap; text-align: center; color: white\" aria-valuenow=\"100\" aria-valuemin=\"0\" aria-valuemax=\"100\">\n",
       "    4 / 4\n",
       "  </div>\n",
       "  <div class=\"progress-bar\" role=\"progressbar\" style=\"background-color: red; width: 0%\" aria-valuenow=\"0\" aria-valuemin=\"0\" aria-valuemax=\"100\"></div>\n",
       "</div>\n"
      ]
     },
     "metadata": {},
     "output_type": "display_data"
    },
    {
     "name": "stderr",
     "output_type": "stream",
     "text": [
      "21/05/19 15:51:38 INFO OWLQN: Step Size: 1.000\n",
      "21/05/19 15:51:38 INFO OWLQN: Val and Grad Norm: 0.676041 (rel: 0.000124) 1.56789\n"
     ]
    },
    {
     "data": {
      "text/html": [
       "<div>\n",
       "  <span style=\"float: left;\">treeAggregate at RDDLossFunction.scala:61</span>\n",
       "</div>\n"
      ]
     },
     "metadata": {},
     "output_type": "display_data"
    },
    {
     "data": {
      "text/html": [
       "<div class=\"progress\">\n",
       "  <div class=\"progress-bar\" role=\"progressbar\" style=\"background-color: blue; width: 100%; word-wrap: normal; white-space: nowrap; text-align: center; color: white\" aria-valuenow=\"100\" aria-valuemin=\"0\" aria-valuemax=\"100\">\n",
       "    28 / 28\n",
       "  </div>\n",
       "  <div class=\"progress-bar\" role=\"progressbar\" style=\"background-color: red; width: 0%\" aria-valuenow=\"0\" aria-valuemin=\"0\" aria-valuemax=\"100\"></div>\n",
       "</div>\n"
      ]
     },
     "metadata": {},
     "output_type": "display_data"
    },
    {
     "data": {
      "text/html": [
       "<div>\n",
       "  <span style=\"float: left;\">treeAggregate at RDDLossFunction.scala:61</span>\n",
       "</div>\n"
      ]
     },
     "metadata": {},
     "output_type": "display_data"
    },
    {
     "data": {
      "text/html": [
       "<div class=\"progress\">\n",
       "  <div class=\"progress-bar\" role=\"progressbar\" style=\"background-color: blue; width: 100%; word-wrap: normal; white-space: nowrap; text-align: center; color: white\" aria-valuenow=\"100\" aria-valuemin=\"0\" aria-valuemax=\"100\">\n",
       "    4 / 4\n",
       "  </div>\n",
       "  <div class=\"progress-bar\" role=\"progressbar\" style=\"background-color: red; width: 0%\" aria-valuenow=\"0\" aria-valuemin=\"0\" aria-valuemax=\"100\"></div>\n",
       "</div>\n"
      ]
     },
     "metadata": {},
     "output_type": "display_data"
    },
    {
     "name": "stderr",
     "output_type": "stream",
     "text": [
      "21/05/19 15:51:40 INFO OWLQN: Step Size: 1.000\n",
      "21/05/19 15:51:40 INFO OWLQN: Val and Grad Norm: 0.675893 (rel: 0.000220) 1.27819\n"
     ]
    },
    {
     "data": {
      "text/html": [
       "<div>\n",
       "  <span style=\"float: left;\">treeAggregate at RDDLossFunction.scala:61</span>\n",
       "</div>\n"
      ]
     },
     "metadata": {},
     "output_type": "display_data"
    },
    {
     "data": {
      "text/html": [
       "<div class=\"progress\">\n",
       "  <div class=\"progress-bar\" role=\"progressbar\" style=\"background-color: blue; width: 100%; word-wrap: normal; white-space: nowrap; text-align: center; color: white\" aria-valuenow=\"100\" aria-valuemin=\"0\" aria-valuemax=\"100\">\n",
       "    28 / 28\n",
       "  </div>\n",
       "  <div class=\"progress-bar\" role=\"progressbar\" style=\"background-color: red; width: 0%\" aria-valuenow=\"0\" aria-valuemin=\"0\" aria-valuemax=\"100\"></div>\n",
       "</div>\n"
      ]
     },
     "metadata": {},
     "output_type": "display_data"
    },
    {
     "data": {
      "text/html": [
       "<div>\n",
       "  <span style=\"float: left;\">treeAggregate at RDDLossFunction.scala:61</span>\n",
       "</div>\n"
      ]
     },
     "metadata": {},
     "output_type": "display_data"
    },
    {
     "data": {
      "text/html": [
       "<div class=\"progress\">\n",
       "  <div class=\"progress-bar\" role=\"progressbar\" style=\"background-color: blue; width: 100%; word-wrap: normal; white-space: nowrap; text-align: center; color: white\" aria-valuenow=\"100\" aria-valuemin=\"0\" aria-valuemax=\"100\">\n",
       "    4 / 4\n",
       "  </div>\n",
       "  <div class=\"progress-bar\" role=\"progressbar\" style=\"background-color: red; width: 0%\" aria-valuenow=\"0\" aria-valuemin=\"0\" aria-valuemax=\"100\"></div>\n",
       "</div>\n"
      ]
     },
     "metadata": {},
     "output_type": "display_data"
    },
    {
     "name": "stderr",
     "output_type": "stream",
     "text": [
      "21/05/19 15:51:42 INFO OWLQN: Step Size: 1.000\n",
      "21/05/19 15:51:42 INFO OWLQN: Val and Grad Norm: 0.675806 (rel: 0.000129) 2.34146\n"
     ]
    },
    {
     "data": {
      "text/html": [
       "<div>\n",
       "  <span style=\"float: left;\">treeAggregate at RDDLossFunction.scala:61</span>\n",
       "</div>\n"
      ]
     },
     "metadata": {},
     "output_type": "display_data"
    },
    {
     "data": {
      "text/html": [
       "<div class=\"progress\">\n",
       "  <div class=\"progress-bar\" role=\"progressbar\" style=\"background-color: blue; width: 100%; word-wrap: normal; white-space: nowrap; text-align: center; color: white\" aria-valuenow=\"100\" aria-valuemin=\"0\" aria-valuemax=\"100\">\n",
       "    28 / 28\n",
       "  </div>\n",
       "  <div class=\"progress-bar\" role=\"progressbar\" style=\"background-color: red; width: 0%\" aria-valuenow=\"0\" aria-valuemin=\"0\" aria-valuemax=\"100\"></div>\n",
       "</div>\n"
      ]
     },
     "metadata": {},
     "output_type": "display_data"
    },
    {
     "data": {
      "text/html": [
       "<div>\n",
       "  <span style=\"float: left;\">treeAggregate at RDDLossFunction.scala:61</span>\n",
       "</div>\n"
      ]
     },
     "metadata": {},
     "output_type": "display_data"
    },
    {
     "data": {
      "text/html": [
       "<div class=\"progress\">\n",
       "  <div class=\"progress-bar\" role=\"progressbar\" style=\"background-color: blue; width: 100%; word-wrap: normal; white-space: nowrap; text-align: center; color: white\" aria-valuenow=\"100\" aria-valuemin=\"0\" aria-valuemax=\"100\">\n",
       "    4 / 4\n",
       "  </div>\n",
       "  <div class=\"progress-bar\" role=\"progressbar\" style=\"background-color: red; width: 0%\" aria-valuenow=\"0\" aria-valuemin=\"0\" aria-valuemax=\"100\"></div>\n",
       "</div>\n"
      ]
     },
     "metadata": {},
     "output_type": "display_data"
    },
    {
     "name": "stderr",
     "output_type": "stream",
     "text": [
      "21/05/19 15:51:44 INFO OWLQN: Step Size: 1.000\n",
      "21/05/19 15:51:44 INFO OWLQN: Val and Grad Norm: 0.675682 (rel: 0.000183) 0.791637\n"
     ]
    },
    {
     "data": {
      "text/html": [
       "<div>\n",
       "  <span style=\"float: left;\">treeAggregate at RDDLossFunction.scala:61</span>\n",
       "</div>\n"
      ]
     },
     "metadata": {},
     "output_type": "display_data"
    },
    {
     "data": {
      "text/html": [
       "<div class=\"progress\">\n",
       "  <div class=\"progress-bar\" role=\"progressbar\" style=\"background-color: blue; width: 100%; word-wrap: normal; white-space: nowrap; text-align: center; color: white\" aria-valuenow=\"100\" aria-valuemin=\"0\" aria-valuemax=\"100\">\n",
       "    28 / 28\n",
       "  </div>\n",
       "  <div class=\"progress-bar\" role=\"progressbar\" style=\"background-color: red; width: 0%\" aria-valuenow=\"0\" aria-valuemin=\"0\" aria-valuemax=\"100\"></div>\n",
       "</div>\n"
      ]
     },
     "metadata": {},
     "output_type": "display_data"
    },
    {
     "data": {
      "text/html": [
       "<div>\n",
       "  <span style=\"float: left;\">treeAggregate at RDDLossFunction.scala:61</span>\n",
       "</div>\n"
      ]
     },
     "metadata": {},
     "output_type": "display_data"
    },
    {
     "data": {
      "text/html": [
       "<div class=\"progress\">\n",
       "  <div class=\"progress-bar\" role=\"progressbar\" style=\"background-color: blue; width: 100%; word-wrap: normal; white-space: nowrap; text-align: center; color: white\" aria-valuenow=\"100\" aria-valuemin=\"0\" aria-valuemax=\"100\">\n",
       "    4 / 4\n",
       "  </div>\n",
       "  <div class=\"progress-bar\" role=\"progressbar\" style=\"background-color: red; width: 0%\" aria-valuenow=\"0\" aria-valuemin=\"0\" aria-valuemax=\"100\"></div>\n",
       "</div>\n"
      ]
     },
     "metadata": {},
     "output_type": "display_data"
    },
    {
     "name": "stderr",
     "output_type": "stream",
     "text": [
      "21/05/19 15:51:46 INFO OWLQN: Step Size: 1.000\n",
      "21/05/19 15:51:46 INFO OWLQN: Val and Grad Norm: 0.675620 (rel: 9.06e-05) 2.81663\n"
     ]
    },
    {
     "data": {
      "text/html": [
       "<div>\n",
       "  <span style=\"float: left;\">treeAggregate at RDDLossFunction.scala:61</span>\n",
       "</div>\n"
      ]
     },
     "metadata": {},
     "output_type": "display_data"
    },
    {
     "data": {
      "text/html": [
       "<div class=\"progress\">\n",
       "  <div class=\"progress-bar\" role=\"progressbar\" style=\"background-color: blue; width: 100%; word-wrap: normal; white-space: nowrap; text-align: center; color: white\" aria-valuenow=\"100\" aria-valuemin=\"0\" aria-valuemax=\"100\">\n",
       "    28 / 28\n",
       "  </div>\n",
       "  <div class=\"progress-bar\" role=\"progressbar\" style=\"background-color: red; width: 0%\" aria-valuenow=\"0\" aria-valuemin=\"0\" aria-valuemax=\"100\"></div>\n",
       "</div>\n"
      ]
     },
     "metadata": {},
     "output_type": "display_data"
    },
    {
     "data": {
      "text/html": [
       "<div>\n",
       "  <span style=\"float: left;\">treeAggregate at RDDLossFunction.scala:61</span>\n",
       "</div>\n"
      ]
     },
     "metadata": {},
     "output_type": "display_data"
    },
    {
     "data": {
      "text/html": [
       "<div class=\"progress\">\n",
       "  <div class=\"progress-bar\" role=\"progressbar\" style=\"background-color: blue; width: 100%; word-wrap: normal; white-space: nowrap; text-align: center; color: white\" aria-valuenow=\"100\" aria-valuemin=\"0\" aria-valuemax=\"100\">\n",
       "    4 / 4\n",
       "  </div>\n",
       "  <div class=\"progress-bar\" role=\"progressbar\" style=\"background-color: red; width: 0%\" aria-valuenow=\"0\" aria-valuemin=\"0\" aria-valuemax=\"100\"></div>\n",
       "</div>\n"
      ]
     },
     "metadata": {},
     "output_type": "display_data"
    },
    {
     "name": "stderr",
     "output_type": "stream",
     "text": [
      "21/05/19 15:51:48 INFO OWLQN: Step Size: 1.000\n",
      "21/05/19 15:51:48 INFO OWLQN: Val and Grad Norm: 0.675548 (rel: 0.000107) 0.728512\n"
     ]
    },
    {
     "data": {
      "text/html": [
       "<div>\n",
       "  <span style=\"float: left;\">treeAggregate at RDDLossFunction.scala:61</span>\n",
       "</div>\n"
      ]
     },
     "metadata": {},
     "output_type": "display_data"
    },
    {
     "data": {
      "text/html": [
       "<div class=\"progress\">\n",
       "  <div class=\"progress-bar\" role=\"progressbar\" style=\"background-color: blue; width: 100%; word-wrap: normal; white-space: nowrap; text-align: center; color: white\" aria-valuenow=\"100\" aria-valuemin=\"0\" aria-valuemax=\"100\">\n",
       "    28 / 28\n",
       "  </div>\n",
       "  <div class=\"progress-bar\" role=\"progressbar\" style=\"background-color: red; width: 0%\" aria-valuenow=\"0\" aria-valuemin=\"0\" aria-valuemax=\"100\"></div>\n",
       "</div>\n"
      ]
     },
     "metadata": {},
     "output_type": "display_data"
    },
    {
     "data": {
      "text/html": [
       "<div>\n",
       "  <span style=\"float: left;\">treeAggregate at RDDLossFunction.scala:61</span>\n",
       "</div>\n"
      ]
     },
     "metadata": {},
     "output_type": "display_data"
    },
    {
     "data": {
      "text/html": [
       "<div class=\"progress\">\n",
       "  <div class=\"progress-bar\" role=\"progressbar\" style=\"background-color: blue; width: 100%; word-wrap: normal; white-space: nowrap; text-align: center; color: white\" aria-valuenow=\"100\" aria-valuemin=\"0\" aria-valuemax=\"100\">\n",
       "    4 / 4\n",
       "  </div>\n",
       "  <div class=\"progress-bar\" role=\"progressbar\" style=\"background-color: red; width: 0%\" aria-valuenow=\"0\" aria-valuemin=\"0\" aria-valuemax=\"100\"></div>\n",
       "</div>\n"
      ]
     },
     "metadata": {},
     "output_type": "display_data"
    },
    {
     "name": "stderr",
     "output_type": "stream",
     "text": [
      "21/05/19 15:51:50 INFO OWLQN: Step Size: 1.000\n",
      "21/05/19 15:51:50 INFO OWLQN: Val and Grad Norm: 0.675478 (rel: 0.000104) 1.33013\n"
     ]
    },
    {
     "data": {
      "text/html": [
       "<div>\n",
       "  <span style=\"float: left;\">treeAggregate at RDDLossFunction.scala:61</span>\n",
       "</div>\n"
      ]
     },
     "metadata": {},
     "output_type": "display_data"
    },
    {
     "data": {
      "text/html": [
       "<div class=\"progress\">\n",
       "  <div class=\"progress-bar\" role=\"progressbar\" style=\"background-color: blue; width: 100%; word-wrap: normal; white-space: nowrap; text-align: center; color: white\" aria-valuenow=\"100\" aria-valuemin=\"0\" aria-valuemax=\"100\">\n",
       "    28 / 28\n",
       "  </div>\n",
       "  <div class=\"progress-bar\" role=\"progressbar\" style=\"background-color: red; width: 0%\" aria-valuenow=\"0\" aria-valuemin=\"0\" aria-valuemax=\"100\"></div>\n",
       "</div>\n"
      ]
     },
     "metadata": {},
     "output_type": "display_data"
    },
    {
     "data": {
      "text/html": [
       "<div>\n",
       "  <span style=\"float: left;\">treeAggregate at RDDLossFunction.scala:61</span>\n",
       "</div>\n"
      ]
     },
     "metadata": {},
     "output_type": "display_data"
    },
    {
     "data": {
      "text/html": [
       "<div class=\"progress\">\n",
       "  <div class=\"progress-bar\" role=\"progressbar\" style=\"background-color: blue; width: 100%; word-wrap: normal; white-space: nowrap; text-align: center; color: white\" aria-valuenow=\"100\" aria-valuemin=\"0\" aria-valuemax=\"100\">\n",
       "    4 / 4\n",
       "  </div>\n",
       "  <div class=\"progress-bar\" role=\"progressbar\" style=\"background-color: red; width: 0%\" aria-valuenow=\"0\" aria-valuemin=\"0\" aria-valuemax=\"100\"></div>\n",
       "</div>\n"
      ]
     },
     "metadata": {},
     "output_type": "display_data"
    },
    {
     "name": "stderr",
     "output_type": "stream",
     "text": [
      "21/05/19 15:51:52 INFO OWLQN: Step Size: 1.000\n",
      "21/05/19 15:51:52 INFO OWLQN: Val and Grad Norm: 0.675404 (rel: 0.000109) 0.945280\n"
     ]
    },
    {
     "data": {
      "text/html": [
       "<div>\n",
       "  <span style=\"float: left;\">treeAggregate at RDDLossFunction.scala:61</span>\n",
       "</div>\n"
      ]
     },
     "metadata": {},
     "output_type": "display_data"
    },
    {
     "data": {
      "text/html": [
       "<div class=\"progress\">\n",
       "  <div class=\"progress-bar\" role=\"progressbar\" style=\"background-color: blue; width: 100%; word-wrap: normal; white-space: nowrap; text-align: center; color: white\" aria-valuenow=\"100\" aria-valuemin=\"0\" aria-valuemax=\"100\">\n",
       "    28 / 28\n",
       "  </div>\n",
       "  <div class=\"progress-bar\" role=\"progressbar\" style=\"background-color: red; width: 0%\" aria-valuenow=\"0\" aria-valuemin=\"0\" aria-valuemax=\"100\"></div>\n",
       "</div>\n"
      ]
     },
     "metadata": {},
     "output_type": "display_data"
    },
    {
     "data": {
      "text/html": [
       "<div>\n",
       "  <span style=\"float: left;\">treeAggregate at RDDLossFunction.scala:61</span>\n",
       "</div>\n"
      ]
     },
     "metadata": {},
     "output_type": "display_data"
    },
    {
     "data": {
      "text/html": [
       "<div class=\"progress\">\n",
       "  <div class=\"progress-bar\" role=\"progressbar\" style=\"background-color: blue; width: 100%; word-wrap: normal; white-space: nowrap; text-align: center; color: white\" aria-valuenow=\"100\" aria-valuemin=\"0\" aria-valuemax=\"100\">\n",
       "    4 / 4\n",
       "  </div>\n",
       "  <div class=\"progress-bar\" role=\"progressbar\" style=\"background-color: red; width: 0%\" aria-valuenow=\"0\" aria-valuemin=\"0\" aria-valuemax=\"100\"></div>\n",
       "</div>\n"
      ]
     },
     "metadata": {},
     "output_type": "display_data"
    },
    {
     "name": "stderr",
     "output_type": "stream",
     "text": [
      "21/05/19 15:51:53 INFO OWLQN: Step Size: 1.000\n",
      "21/05/19 15:51:53 INFO OWLQN: Val and Grad Norm: 0.675223 (rel: 0.000268) 0.927511\n"
     ]
    },
    {
     "data": {
      "text/html": [
       "<div>\n",
       "  <span style=\"float: left;\">treeAggregate at RDDLossFunction.scala:61</span>\n",
       "</div>\n"
      ]
     },
     "metadata": {},
     "output_type": "display_data"
    },
    {
     "data": {
      "text/html": [
       "<div class=\"progress\">\n",
       "  <div class=\"progress-bar\" role=\"progressbar\" style=\"background-color: blue; width: 100%; word-wrap: normal; white-space: nowrap; text-align: center; color: white\" aria-valuenow=\"100\" aria-valuemin=\"0\" aria-valuemax=\"100\">\n",
       "    28 / 28\n",
       "  </div>\n",
       "  <div class=\"progress-bar\" role=\"progressbar\" style=\"background-color: red; width: 0%\" aria-valuenow=\"0\" aria-valuemin=\"0\" aria-valuemax=\"100\"></div>\n",
       "</div>\n"
      ]
     },
     "metadata": {},
     "output_type": "display_data"
    },
    {
     "data": {
      "text/html": [
       "<div>\n",
       "  <span style=\"float: left;\">treeAggregate at RDDLossFunction.scala:61</span>\n",
       "</div>\n"
      ]
     },
     "metadata": {},
     "output_type": "display_data"
    },
    {
     "data": {
      "text/html": [
       "<div class=\"progress\">\n",
       "  <div class=\"progress-bar\" role=\"progressbar\" style=\"background-color: blue; width: 100%; word-wrap: normal; white-space: nowrap; text-align: center; color: white\" aria-valuenow=\"100\" aria-valuemin=\"0\" aria-valuemax=\"100\">\n",
       "    4 / 4\n",
       "  </div>\n",
       "  <div class=\"progress-bar\" role=\"progressbar\" style=\"background-color: red; width: 0%\" aria-valuenow=\"0\" aria-valuemin=\"0\" aria-valuemax=\"100\"></div>\n",
       "</div>\n"
      ]
     },
     "metadata": {},
     "output_type": "display_data"
    },
    {
     "name": "stderr",
     "output_type": "stream",
     "text": [
      "21/05/19 15:51:55 INFO OWLQN: Step Size: 1.000\n",
      "21/05/19 15:51:55 INFO OWLQN: Val and Grad Norm: 0.675131 (rel: 0.000137) 1.16926\n"
     ]
    },
    {
     "data": {
      "text/html": [
       "<div>\n",
       "  <span style=\"float: left;\">treeAggregate at RDDLossFunction.scala:61</span>\n",
       "</div>\n"
      ]
     },
     "metadata": {},
     "output_type": "display_data"
    },
    {
     "data": {
      "text/html": [
       "<div class=\"progress\">\n",
       "  <div class=\"progress-bar\" role=\"progressbar\" style=\"background-color: blue; width: 100%; word-wrap: normal; white-space: nowrap; text-align: center; color: white\" aria-valuenow=\"100\" aria-valuemin=\"0\" aria-valuemax=\"100\">\n",
       "    28 / 28\n",
       "  </div>\n",
       "  <div class=\"progress-bar\" role=\"progressbar\" style=\"background-color: red; width: 0%\" aria-valuenow=\"0\" aria-valuemin=\"0\" aria-valuemax=\"100\"></div>\n",
       "</div>\n"
      ]
     },
     "metadata": {},
     "output_type": "display_data"
    },
    {
     "data": {
      "text/html": [
       "<div>\n",
       "  <span style=\"float: left;\">treeAggregate at RDDLossFunction.scala:61</span>\n",
       "</div>\n"
      ]
     },
     "metadata": {},
     "output_type": "display_data"
    },
    {
     "data": {
      "text/html": [
       "<div class=\"progress\">\n",
       "  <div class=\"progress-bar\" role=\"progressbar\" style=\"background-color: blue; width: 100%; word-wrap: normal; white-space: nowrap; text-align: center; color: white\" aria-valuenow=\"100\" aria-valuemin=\"0\" aria-valuemax=\"100\">\n",
       "    4 / 4\n",
       "  </div>\n",
       "  <div class=\"progress-bar\" role=\"progressbar\" style=\"background-color: red; width: 0%\" aria-valuenow=\"0\" aria-valuemin=\"0\" aria-valuemax=\"100\"></div>\n",
       "</div>\n"
      ]
     },
     "metadata": {},
     "output_type": "display_data"
    },
    {
     "name": "stderr",
     "output_type": "stream",
     "text": [
      "21/05/19 15:51:57 INFO OWLQN: Step Size: 1.000\n",
      "21/05/19 15:51:57 INFO OWLQN: Val and Grad Norm: 0.675093 (rel: 5.53e-05) 0.891441\n"
     ]
    },
    {
     "data": {
      "text/html": [
       "<div>\n",
       "  <span style=\"float: left;\">treeAggregate at RDDLossFunction.scala:61</span>\n",
       "</div>\n"
      ]
     },
     "metadata": {},
     "output_type": "display_data"
    },
    {
     "data": {
      "text/html": [
       "<div class=\"progress\">\n",
       "  <div class=\"progress-bar\" role=\"progressbar\" style=\"background-color: blue; width: 100%; word-wrap: normal; white-space: nowrap; text-align: center; color: white\" aria-valuenow=\"100\" aria-valuemin=\"0\" aria-valuemax=\"100\">\n",
       "    28 / 28\n",
       "  </div>\n",
       "  <div class=\"progress-bar\" role=\"progressbar\" style=\"background-color: red; width: 0%\" aria-valuenow=\"0\" aria-valuemin=\"0\" aria-valuemax=\"100\"></div>\n",
       "</div>\n"
      ]
     },
     "metadata": {},
     "output_type": "display_data"
    },
    {
     "data": {
      "text/html": [
       "<div>\n",
       "  <span style=\"float: left;\">treeAggregate at RDDLossFunction.scala:61</span>\n",
       "</div>\n"
      ]
     },
     "metadata": {},
     "output_type": "display_data"
    },
    {
     "data": {
      "text/html": [
       "<div class=\"progress\">\n",
       "  <div class=\"progress-bar\" role=\"progressbar\" style=\"background-color: blue; width: 100%; word-wrap: normal; white-space: nowrap; text-align: center; color: white\" aria-valuenow=\"100\" aria-valuemin=\"0\" aria-valuemax=\"100\">\n",
       "    4 / 4\n",
       "  </div>\n",
       "  <div class=\"progress-bar\" role=\"progressbar\" style=\"background-color: red; width: 0%\" aria-valuenow=\"0\" aria-valuemin=\"0\" aria-valuemax=\"100\"></div>\n",
       "</div>\n"
      ]
     },
     "metadata": {},
     "output_type": "display_data"
    },
    {
     "name": "stderr",
     "output_type": "stream",
     "text": [
      "21/05/19 15:51:59 INFO OWLQN: Step Size: 1.000\n",
      "21/05/19 15:51:59 INFO OWLQN: Val and Grad Norm: 0.675072 (rel: 3.14e-05) 0.418437\n"
     ]
    },
    {
     "data": {
      "text/html": [
       "<div>\n",
       "  <span style=\"float: left;\">treeAggregate at RDDLossFunction.scala:61</span>\n",
       "</div>\n"
      ]
     },
     "metadata": {},
     "output_type": "display_data"
    },
    {
     "data": {
      "text/html": [
       "<div class=\"progress\">\n",
       "  <div class=\"progress-bar\" role=\"progressbar\" style=\"background-color: blue; width: 100%; word-wrap: normal; white-space: nowrap; text-align: center; color: white\" aria-valuenow=\"100\" aria-valuemin=\"0\" aria-valuemax=\"100\">\n",
       "    28 / 28\n",
       "  </div>\n",
       "  <div class=\"progress-bar\" role=\"progressbar\" style=\"background-color: red; width: 0%\" aria-valuenow=\"0\" aria-valuemin=\"0\" aria-valuemax=\"100\"></div>\n",
       "</div>\n"
      ]
     },
     "metadata": {},
     "output_type": "display_data"
    },
    {
     "data": {
      "text/html": [
       "<div>\n",
       "  <span style=\"float: left;\">treeAggregate at RDDLossFunction.scala:61</span>\n",
       "</div>\n"
      ]
     },
     "metadata": {},
     "output_type": "display_data"
    },
    {
     "data": {
      "text/html": [
       "<div class=\"progress\">\n",
       "  <div class=\"progress-bar\" role=\"progressbar\" style=\"background-color: blue; width: 100%; word-wrap: normal; white-space: nowrap; text-align: center; color: white\" aria-valuenow=\"100\" aria-valuemin=\"0\" aria-valuemax=\"100\">\n",
       "    4 / 4\n",
       "  </div>\n",
       "  <div class=\"progress-bar\" role=\"progressbar\" style=\"background-color: red; width: 0%\" aria-valuenow=\"0\" aria-valuemin=\"0\" aria-valuemax=\"100\"></div>\n",
       "</div>\n"
      ]
     },
     "metadata": {},
     "output_type": "display_data"
    },
    {
     "name": "stderr",
     "output_type": "stream",
     "text": [
      "21/05/19 15:52:01 INFO OWLQN: Step Size: 1.000\n",
      "21/05/19 15:52:01 INFO OWLQN: Val and Grad Norm: 0.675054 (rel: 2.69e-05) 0.379671\n"
     ]
    },
    {
     "data": {
      "text/html": [
       "<div>\n",
       "  <span style=\"float: left;\">treeAggregate at RDDLossFunction.scala:61</span>\n",
       "</div>\n"
      ]
     },
     "metadata": {},
     "output_type": "display_data"
    },
    {
     "data": {
      "text/html": [
       "<div class=\"progress\">\n",
       "  <div class=\"progress-bar\" role=\"progressbar\" style=\"background-color: blue; width: 100%; word-wrap: normal; white-space: nowrap; text-align: center; color: white\" aria-valuenow=\"100\" aria-valuemin=\"0\" aria-valuemax=\"100\">\n",
       "    28 / 28\n",
       "  </div>\n",
       "  <div class=\"progress-bar\" role=\"progressbar\" style=\"background-color: red; width: 0%\" aria-valuenow=\"0\" aria-valuemin=\"0\" aria-valuemax=\"100\"></div>\n",
       "</div>\n"
      ]
     },
     "metadata": {},
     "output_type": "display_data"
    },
    {
     "data": {
      "text/html": [
       "<div>\n",
       "  <span style=\"float: left;\">treeAggregate at RDDLossFunction.scala:61</span>\n",
       "</div>\n"
      ]
     },
     "metadata": {},
     "output_type": "display_data"
    },
    {
     "data": {
      "text/html": [
       "<div class=\"progress\">\n",
       "  <div class=\"progress-bar\" role=\"progressbar\" style=\"background-color: blue; width: 100%; word-wrap: normal; white-space: nowrap; text-align: center; color: white\" aria-valuenow=\"100\" aria-valuemin=\"0\" aria-valuemax=\"100\">\n",
       "    4 / 4\n",
       "  </div>\n",
       "  <div class=\"progress-bar\" role=\"progressbar\" style=\"background-color: red; width: 0%\" aria-valuenow=\"0\" aria-valuemin=\"0\" aria-valuemax=\"100\"></div>\n",
       "</div>\n"
      ]
     },
     "metadata": {},
     "output_type": "display_data"
    },
    {
     "name": "stderr",
     "output_type": "stream",
     "text": [
      "21/05/19 15:52:03 INFO OWLQN: Step Size: 1.000\n",
      "21/05/19 15:52:03 INFO OWLQN: Val and Grad Norm: 0.675027 (rel: 4.06e-05) 0.0289452\n"
     ]
    },
    {
     "data": {
      "text/html": [
       "<div>\n",
       "  <span style=\"float: left;\">treeAggregate at RDDLossFunction.scala:61</span>\n",
       "</div>\n"
      ]
     },
     "metadata": {},
     "output_type": "display_data"
    },
    {
     "data": {
      "text/html": [
       "<div class=\"progress\">\n",
       "  <div class=\"progress-bar\" role=\"progressbar\" style=\"background-color: blue; width: 100%; word-wrap: normal; white-space: nowrap; text-align: center; color: white\" aria-valuenow=\"100\" aria-valuemin=\"0\" aria-valuemax=\"100\">\n",
       "    28 / 28\n",
       "  </div>\n",
       "  <div class=\"progress-bar\" role=\"progressbar\" style=\"background-color: red; width: 0%\" aria-valuenow=\"0\" aria-valuemin=\"0\" aria-valuemax=\"100\"></div>\n",
       "</div>\n"
      ]
     },
     "metadata": {},
     "output_type": "display_data"
    },
    {
     "data": {
      "text/html": [
       "<div>\n",
       "  <span style=\"float: left;\">treeAggregate at RDDLossFunction.scala:61</span>\n",
       "</div>\n"
      ]
     },
     "metadata": {},
     "output_type": "display_data"
    },
    {
     "data": {
      "text/html": [
       "<div class=\"progress\">\n",
       "  <div class=\"progress-bar\" role=\"progressbar\" style=\"background-color: blue; width: 100%; word-wrap: normal; white-space: nowrap; text-align: center; color: white\" aria-valuenow=\"100\" aria-valuemin=\"0\" aria-valuemax=\"100\">\n",
       "    4 / 4\n",
       "  </div>\n",
       "  <div class=\"progress-bar\" role=\"progressbar\" style=\"background-color: red; width: 0%\" aria-valuenow=\"0\" aria-valuemin=\"0\" aria-valuemax=\"100\"></div>\n",
       "</div>\n"
      ]
     },
     "metadata": {},
     "output_type": "display_data"
    },
    {
     "name": "stderr",
     "output_type": "stream",
     "text": [
      "21/05/19 15:52:05 INFO OWLQN: Step Size: 1.000\n",
      "21/05/19 15:52:05 INFO OWLQN: Val and Grad Norm: 0.674999 (rel: 4.11e-05) 0.603438\n"
     ]
    },
    {
     "data": {
      "text/html": [
       "<div>\n",
       "  <span style=\"float: left;\">treeAggregate at RDDLossFunction.scala:61</span>\n",
       "</div>\n"
      ]
     },
     "metadata": {},
     "output_type": "display_data"
    },
    {
     "data": {
      "text/html": [
       "<div class=\"progress\">\n",
       "  <div class=\"progress-bar\" role=\"progressbar\" style=\"background-color: blue; width: 100%; word-wrap: normal; white-space: nowrap; text-align: center; color: white\" aria-valuenow=\"100\" aria-valuemin=\"0\" aria-valuemax=\"100\">\n",
       "    28 / 28\n",
       "  </div>\n",
       "  <div class=\"progress-bar\" role=\"progressbar\" style=\"background-color: red; width: 0%\" aria-valuenow=\"0\" aria-valuemin=\"0\" aria-valuemax=\"100\"></div>\n",
       "</div>\n"
      ]
     },
     "metadata": {},
     "output_type": "display_data"
    },
    {
     "data": {
      "text/html": [
       "<div>\n",
       "  <span style=\"float: left;\">treeAggregate at RDDLossFunction.scala:61</span>\n",
       "</div>\n"
      ]
     },
     "metadata": {},
     "output_type": "display_data"
    },
    {
     "data": {
      "text/html": [
       "<div class=\"progress\">\n",
       "  <div class=\"progress-bar\" role=\"progressbar\" style=\"background-color: blue; width: 100%; word-wrap: normal; white-space: nowrap; text-align: center; color: white\" aria-valuenow=\"100\" aria-valuemin=\"0\" aria-valuemax=\"100\">\n",
       "    4 / 4\n",
       "  </div>\n",
       "  <div class=\"progress-bar\" role=\"progressbar\" style=\"background-color: red; width: 0%\" aria-valuenow=\"0\" aria-valuemin=\"0\" aria-valuemax=\"100\"></div>\n",
       "</div>\n"
      ]
     },
     "metadata": {},
     "output_type": "display_data"
    },
    {
     "name": "stderr",
     "output_type": "stream",
     "text": [
      "21/05/19 15:52:07 INFO OWLQN: Step Size: 1.000\n",
      "21/05/19 15:52:07 INFO OWLQN: Val and Grad Norm: 0.674968 (rel: 4.62e-05) 0.103188\n"
     ]
    },
    {
     "data": {
      "text/html": [
       "<div>\n",
       "  <span style=\"float: left;\">treeAggregate at RDDLossFunction.scala:61</span>\n",
       "</div>\n"
      ]
     },
     "metadata": {},
     "output_type": "display_data"
    },
    {
     "data": {
      "text/html": [
       "<div class=\"progress\">\n",
       "  <div class=\"progress-bar\" role=\"progressbar\" style=\"background-color: blue; width: 100%; word-wrap: normal; white-space: nowrap; text-align: center; color: white\" aria-valuenow=\"100\" aria-valuemin=\"0\" aria-valuemax=\"100\">\n",
       "    28 / 28\n",
       "  </div>\n",
       "  <div class=\"progress-bar\" role=\"progressbar\" style=\"background-color: red; width: 0%\" aria-valuenow=\"0\" aria-valuemin=\"0\" aria-valuemax=\"100\"></div>\n",
       "</div>\n"
      ]
     },
     "metadata": {},
     "output_type": "display_data"
    },
    {
     "data": {
      "text/html": [
       "<div>\n",
       "  <span style=\"float: left;\">treeAggregate at RDDLossFunction.scala:61</span>\n",
       "</div>\n"
      ]
     },
     "metadata": {},
     "output_type": "display_data"
    },
    {
     "data": {
      "text/html": [
       "<div class=\"progress\">\n",
       "  <div class=\"progress-bar\" role=\"progressbar\" style=\"background-color: blue; width: 100%; word-wrap: normal; white-space: nowrap; text-align: center; color: white\" aria-valuenow=\"100\" aria-valuemin=\"0\" aria-valuemax=\"100\">\n",
       "    4 / 4\n",
       "  </div>\n",
       "  <div class=\"progress-bar\" role=\"progressbar\" style=\"background-color: red; width: 0%\" aria-valuenow=\"0\" aria-valuemin=\"0\" aria-valuemax=\"100\"></div>\n",
       "</div>\n"
      ]
     },
     "metadata": {},
     "output_type": "display_data"
    },
    {
     "name": "stderr",
     "output_type": "stream",
     "text": [
      "21/05/19 15:52:09 INFO OWLQN: Step Size: 1.000\n",
      "21/05/19 15:52:09 INFO OWLQN: Val and Grad Norm: 0.674958 (rel: 1.50e-05) 0.616068\n"
     ]
    },
    {
     "data": {
      "text/html": [
       "<div>\n",
       "  <span style=\"float: left;\">treeAggregate at RDDLossFunction.scala:61</span>\n",
       "</div>\n"
      ]
     },
     "metadata": {},
     "output_type": "display_data"
    },
    {
     "data": {
      "text/html": [
       "<div class=\"progress\">\n",
       "  <div class=\"progress-bar\" role=\"progressbar\" style=\"background-color: blue; width: 100%; word-wrap: normal; white-space: nowrap; text-align: center; color: white\" aria-valuenow=\"100\" aria-valuemin=\"0\" aria-valuemax=\"100\">\n",
       "    28 / 28\n",
       "  </div>\n",
       "  <div class=\"progress-bar\" role=\"progressbar\" style=\"background-color: red; width: 0%\" aria-valuenow=\"0\" aria-valuemin=\"0\" aria-valuemax=\"100\"></div>\n",
       "</div>\n"
      ]
     },
     "metadata": {},
     "output_type": "display_data"
    },
    {
     "data": {
      "text/html": [
       "<div>\n",
       "  <span style=\"float: left;\">treeAggregate at RDDLossFunction.scala:61</span>\n",
       "</div>\n"
      ]
     },
     "metadata": {},
     "output_type": "display_data"
    },
    {
     "data": {
      "text/html": [
       "<div class=\"progress\">\n",
       "  <div class=\"progress-bar\" role=\"progressbar\" style=\"background-color: blue; width: 100%; word-wrap: normal; white-space: nowrap; text-align: center; color: white\" aria-valuenow=\"100\" aria-valuemin=\"0\" aria-valuemax=\"100\">\n",
       "    4 / 4\n",
       "  </div>\n",
       "  <div class=\"progress-bar\" role=\"progressbar\" style=\"background-color: red; width: 0%\" aria-valuenow=\"0\" aria-valuemin=\"0\" aria-valuemax=\"100\"></div>\n",
       "</div>\n"
      ]
     },
     "metadata": {},
     "output_type": "display_data"
    },
    {
     "name": "stderr",
     "output_type": "stream",
     "text": [
      "21/05/19 15:52:11 INFO OWLQN: Step Size: 1.000\n",
      "21/05/19 15:52:11 INFO OWLQN: Val and Grad Norm: 0.674937 (rel: 3.07e-05) 0.0866260\n"
     ]
    },
    {
     "data": {
      "text/html": [
       "<div>\n",
       "  <span style=\"float: left;\">treeAggregate at RDDLossFunction.scala:61</span>\n",
       "</div>\n"
      ]
     },
     "metadata": {},
     "output_type": "display_data"
    },
    {
     "data": {
      "text/html": [
       "<div class=\"progress\">\n",
       "  <div class=\"progress-bar\" role=\"progressbar\" style=\"background-color: blue; width: 100%; word-wrap: normal; white-space: nowrap; text-align: center; color: white\" aria-valuenow=\"100\" aria-valuemin=\"0\" aria-valuemax=\"100\">\n",
       "    28 / 28\n",
       "  </div>\n",
       "  <div class=\"progress-bar\" role=\"progressbar\" style=\"background-color: red; width: 0%\" aria-valuenow=\"0\" aria-valuemin=\"0\" aria-valuemax=\"100\"></div>\n",
       "</div>\n"
      ]
     },
     "metadata": {},
     "output_type": "display_data"
    },
    {
     "data": {
      "text/html": [
       "<div>\n",
       "  <span style=\"float: left;\">treeAggregate at RDDLossFunction.scala:61</span>\n",
       "</div>\n"
      ]
     },
     "metadata": {},
     "output_type": "display_data"
    },
    {
     "data": {
      "text/html": [
       "<div class=\"progress\">\n",
       "  <div class=\"progress-bar\" role=\"progressbar\" style=\"background-color: blue; width: 100%; word-wrap: normal; white-space: nowrap; text-align: center; color: white\" aria-valuenow=\"100\" aria-valuemin=\"0\" aria-valuemax=\"100\">\n",
       "    4 / 4\n",
       "  </div>\n",
       "  <div class=\"progress-bar\" role=\"progressbar\" style=\"background-color: red; width: 0%\" aria-valuenow=\"0\" aria-valuemin=\"0\" aria-valuemax=\"100\"></div>\n",
       "</div>\n"
      ]
     },
     "metadata": {},
     "output_type": "display_data"
    },
    {
     "name": "stderr",
     "output_type": "stream",
     "text": [
      "21/05/19 15:52:13 INFO OWLQN: Step Size: 1.000\n",
      "21/05/19 15:52:13 INFO OWLQN: Val and Grad Norm: 0.674906 (rel: 4.64e-05) 0.399328\n"
     ]
    },
    {
     "data": {
      "text/html": [
       "<div>\n",
       "  <span style=\"float: left;\">treeAggregate at RDDLossFunction.scala:61</span>\n",
       "</div>\n"
      ]
     },
     "metadata": {},
     "output_type": "display_data"
    },
    {
     "data": {
      "text/html": [
       "<div class=\"progress\">\n",
       "  <div class=\"progress-bar\" role=\"progressbar\" style=\"background-color: blue; width: 100%; word-wrap: normal; white-space: nowrap; text-align: center; color: white\" aria-valuenow=\"100\" aria-valuemin=\"0\" aria-valuemax=\"100\">\n",
       "    28 / 28\n",
       "  </div>\n",
       "  <div class=\"progress-bar\" role=\"progressbar\" style=\"background-color: red; width: 0%\" aria-valuenow=\"0\" aria-valuemin=\"0\" aria-valuemax=\"100\"></div>\n",
       "</div>\n"
      ]
     },
     "metadata": {},
     "output_type": "display_data"
    },
    {
     "data": {
      "text/html": [
       "<div>\n",
       "  <span style=\"float: left;\">treeAggregate at RDDLossFunction.scala:61</span>\n",
       "</div>\n"
      ]
     },
     "metadata": {},
     "output_type": "display_data"
    },
    {
     "data": {
      "text/html": [
       "<div class=\"progress\">\n",
       "  <div class=\"progress-bar\" role=\"progressbar\" style=\"background-color: blue; width: 100%; word-wrap: normal; white-space: nowrap; text-align: center; color: white\" aria-valuenow=\"100\" aria-valuemin=\"0\" aria-valuemax=\"100\">\n",
       "    4 / 4\n",
       "  </div>\n",
       "  <div class=\"progress-bar\" role=\"progressbar\" style=\"background-color: red; width: 0%\" aria-valuenow=\"0\" aria-valuemin=\"0\" aria-valuemax=\"100\"></div>\n",
       "</div>\n"
      ]
     },
     "metadata": {},
     "output_type": "display_data"
    },
    {
     "data": {
      "text/html": [
       "<div>\n",
       "  <span style=\"float: left;\">treeAggregate at RDDLossFunction.scala:61</span>\n",
       "</div>\n"
      ]
     },
     "metadata": {},
     "output_type": "display_data"
    },
    {
     "data": {
      "text/html": [
       "<div class=\"progress\">\n",
       "  <div class=\"progress-bar\" role=\"progressbar\" style=\"background-color: blue; width: 100%; word-wrap: normal; white-space: nowrap; text-align: center; color: white\" aria-valuenow=\"100\" aria-valuemin=\"0\" aria-valuemax=\"100\">\n",
       "    28 / 28\n",
       "  </div>\n",
       "  <div class=\"progress-bar\" role=\"progressbar\" style=\"background-color: red; width: 0%\" aria-valuenow=\"0\" aria-valuemin=\"0\" aria-valuemax=\"100\"></div>\n",
       "</div>\n"
      ]
     },
     "metadata": {},
     "output_type": "display_data"
    },
    {
     "data": {
      "text/html": [
       "<div>\n",
       "  <span style=\"float: left;\">treeAggregate at RDDLossFunction.scala:61</span>\n",
       "</div>\n"
      ]
     },
     "metadata": {},
     "output_type": "display_data"
    },
    {
     "data": {
      "text/html": [
       "<div class=\"progress\">\n",
       "  <div class=\"progress-bar\" role=\"progressbar\" style=\"background-color: blue; width: 100%; word-wrap: normal; white-space: nowrap; text-align: center; color: white\" aria-valuenow=\"100\" aria-valuemin=\"0\" aria-valuemax=\"100\">\n",
       "    4 / 4\n",
       "  </div>\n",
       "  <div class=\"progress-bar\" role=\"progressbar\" style=\"background-color: red; width: 0%\" aria-valuenow=\"0\" aria-valuemin=\"0\" aria-valuemax=\"100\"></div>\n",
       "</div>\n"
      ]
     },
     "metadata": {},
     "output_type": "display_data"
    },
    {
     "data": {
      "text/html": [
       "<div>\n",
       "  <span style=\"float: left;\">treeAggregate at RDDLossFunction.scala:61</span>\n",
       "</div>\n"
      ]
     },
     "metadata": {},
     "output_type": "display_data"
    },
    {
     "data": {
      "text/html": [
       "<div class=\"progress\">\n",
       "  <div class=\"progress-bar\" role=\"progressbar\" style=\"background-color: blue; width: 100%; word-wrap: normal; white-space: nowrap; text-align: center; color: white\" aria-valuenow=\"100\" aria-valuemin=\"0\" aria-valuemax=\"100\">\n",
       "    28 / 28\n",
       "  </div>\n",
       "  <div class=\"progress-bar\" role=\"progressbar\" style=\"background-color: red; width: 0%\" aria-valuenow=\"0\" aria-valuemin=\"0\" aria-valuemax=\"100\"></div>\n",
       "</div>\n"
      ]
     },
     "metadata": {},
     "output_type": "display_data"
    },
    {
     "data": {
      "text/html": [
       "<div>\n",
       "  <span style=\"float: left;\">treeAggregate at RDDLossFunction.scala:61</span>\n",
       "</div>\n"
      ]
     },
     "metadata": {},
     "output_type": "display_data"
    },
    {
     "data": {
      "text/html": [
       "<div class=\"progress\">\n",
       "  <div class=\"progress-bar\" role=\"progressbar\" style=\"background-color: blue; width: 100%; word-wrap: normal; white-space: nowrap; text-align: center; color: white\" aria-valuenow=\"100\" aria-valuemin=\"0\" aria-valuemax=\"100\">\n",
       "    4 / 4\n",
       "  </div>\n",
       "  <div class=\"progress-bar\" role=\"progressbar\" style=\"background-color: red; width: 0%\" aria-valuenow=\"0\" aria-valuemin=\"0\" aria-valuemax=\"100\"></div>\n",
       "</div>\n"
      ]
     },
     "metadata": {},
     "output_type": "display_data"
    },
    {
     "name": "stderr",
     "output_type": "stream",
     "text": [
      "21/05/19 15:52:19 INFO OWLQN: Step Size: 0.2500\n",
      "21/05/19 15:52:19 INFO OWLQN: Val and Grad Norm: 0.674868 (rel: 5.63e-05) 1.39801\n"
     ]
    },
    {
     "data": {
      "text/html": [
       "<div>\n",
       "  <span style=\"float: left;\">treeAggregate at RDDLossFunction.scala:61</span>\n",
       "</div>\n"
      ]
     },
     "metadata": {},
     "output_type": "display_data"
    },
    {
     "data": {
      "text/html": [
       "<div class=\"progress\">\n",
       "  <div class=\"progress-bar\" role=\"progressbar\" style=\"background-color: blue; width: 100%; word-wrap: normal; white-space: nowrap; text-align: center; color: white\" aria-valuenow=\"100\" aria-valuemin=\"0\" aria-valuemax=\"100\">\n",
       "    28 / 28\n",
       "  </div>\n",
       "  <div class=\"progress-bar\" role=\"progressbar\" style=\"background-color: red; width: 0%\" aria-valuenow=\"0\" aria-valuemin=\"0\" aria-valuemax=\"100\"></div>\n",
       "</div>\n"
      ]
     },
     "metadata": {},
     "output_type": "display_data"
    },
    {
     "data": {
      "text/html": [
       "<div>\n",
       "  <span style=\"float: left;\">treeAggregate at RDDLossFunction.scala:61</span>\n",
       "</div>\n"
      ]
     },
     "metadata": {},
     "output_type": "display_data"
    },
    {
     "data": {
      "text/html": [
       "<div class=\"progress\">\n",
       "  <div class=\"progress-bar\" role=\"progressbar\" style=\"background-color: blue; width: 100%; word-wrap: normal; white-space: nowrap; text-align: center; color: white\" aria-valuenow=\"100\" aria-valuemin=\"0\" aria-valuemax=\"100\">\n",
       "    4 / 4\n",
       "  </div>\n",
       "  <div class=\"progress-bar\" role=\"progressbar\" style=\"background-color: red; width: 0%\" aria-valuenow=\"0\" aria-valuemin=\"0\" aria-valuemax=\"100\"></div>\n",
       "</div>\n"
      ]
     },
     "metadata": {},
     "output_type": "display_data"
    },
    {
     "name": "stderr",
     "output_type": "stream",
     "text": [
      "21/05/19 15:52:20 INFO OWLQN: Step Size: 1.000\n",
      "21/05/19 15:52:20 INFO OWLQN: Val and Grad Norm: 0.674779 (rel: 0.000131) 2.78207\n"
     ]
    },
    {
     "data": {
      "text/html": [
       "<div>\n",
       "  <span style=\"float: left;\">treeAggregate at RDDLossFunction.scala:61</span>\n",
       "</div>\n"
      ]
     },
     "metadata": {},
     "output_type": "display_data"
    },
    {
     "data": {
      "text/html": [
       "<div class=\"progress\">\n",
       "  <div class=\"progress-bar\" role=\"progressbar\" style=\"background-color: blue; width: 100%; word-wrap: normal; white-space: nowrap; text-align: center; color: white\" aria-valuenow=\"100\" aria-valuemin=\"0\" aria-valuemax=\"100\">\n",
       "    28 / 28\n",
       "  </div>\n",
       "  <div class=\"progress-bar\" role=\"progressbar\" style=\"background-color: red; width: 0%\" aria-valuenow=\"0\" aria-valuemin=\"0\" aria-valuemax=\"100\"></div>\n",
       "</div>\n"
      ]
     },
     "metadata": {},
     "output_type": "display_data"
    },
    {
     "data": {
      "text/html": [
       "<div>\n",
       "  <span style=\"float: left;\">treeAggregate at RDDLossFunction.scala:61</span>\n",
       "</div>\n"
      ]
     },
     "metadata": {},
     "output_type": "display_data"
    },
    {
     "data": {
      "text/html": [
       "<div class=\"progress\">\n",
       "  <div class=\"progress-bar\" role=\"progressbar\" style=\"background-color: blue; width: 100%; word-wrap: normal; white-space: nowrap; text-align: center; color: white\" aria-valuenow=\"100\" aria-valuemin=\"0\" aria-valuemax=\"100\">\n",
       "    4 / 4\n",
       "  </div>\n",
       "  <div class=\"progress-bar\" role=\"progressbar\" style=\"background-color: red; width: 0%\" aria-valuenow=\"0\" aria-valuemin=\"0\" aria-valuemax=\"100\"></div>\n",
       "</div>\n"
      ]
     },
     "metadata": {},
     "output_type": "display_data"
    },
    {
     "name": "stderr",
     "output_type": "stream",
     "text": [
      "21/05/19 15:52:22 INFO OWLQN: Step Size: 1.000\n",
      "21/05/19 15:52:22 INFO OWLQN: Val and Grad Norm: 0.674649 (rel: 0.000193) 0.776606\n"
     ]
    },
    {
     "data": {
      "text/html": [
       "<div>\n",
       "  <span style=\"float: left;\">treeAggregate at RDDLossFunction.scala:61</span>\n",
       "</div>\n"
      ]
     },
     "metadata": {},
     "output_type": "display_data"
    },
    {
     "data": {
      "text/html": [
       "<div class=\"progress\">\n",
       "  <div class=\"progress-bar\" role=\"progressbar\" style=\"background-color: blue; width: 100%; word-wrap: normal; white-space: nowrap; text-align: center; color: white\" aria-valuenow=\"100\" aria-valuemin=\"0\" aria-valuemax=\"100\">\n",
       "    28 / 28\n",
       "  </div>\n",
       "  <div class=\"progress-bar\" role=\"progressbar\" style=\"background-color: red; width: 0%\" aria-valuenow=\"0\" aria-valuemin=\"0\" aria-valuemax=\"100\"></div>\n",
       "</div>\n"
      ]
     },
     "metadata": {},
     "output_type": "display_data"
    },
    {
     "data": {
      "text/html": [
       "<div>\n",
       "  <span style=\"float: left;\">treeAggregate at RDDLossFunction.scala:61</span>\n",
       "</div>\n"
      ]
     },
     "metadata": {},
     "output_type": "display_data"
    },
    {
     "data": {
      "text/html": [
       "<div class=\"progress\">\n",
       "  <div class=\"progress-bar\" role=\"progressbar\" style=\"background-color: blue; width: 100%; word-wrap: normal; white-space: nowrap; text-align: center; color: white\" aria-valuenow=\"100\" aria-valuemin=\"0\" aria-valuemax=\"100\">\n",
       "    4 / 4\n",
       "  </div>\n",
       "  <div class=\"progress-bar\" role=\"progressbar\" style=\"background-color: red; width: 0%\" aria-valuenow=\"0\" aria-valuemin=\"0\" aria-valuemax=\"100\"></div>\n",
       "</div>\n"
      ]
     },
     "metadata": {},
     "output_type": "display_data"
    },
    {
     "name": "stderr",
     "output_type": "stream",
     "text": [
      "21/05/19 15:52:24 INFO OWLQN: Step Size: 1.000\n",
      "21/05/19 15:52:24 INFO OWLQN: Val and Grad Norm: 0.674644 (rel: 6.90e-06) 0.724261\n"
     ]
    },
    {
     "data": {
      "text/html": [
       "<div>\n",
       "  <span style=\"float: left;\">treeAggregate at RDDLossFunction.scala:61</span>\n",
       "</div>\n"
      ]
     },
     "metadata": {},
     "output_type": "display_data"
    },
    {
     "data": {
      "text/html": [
       "<div class=\"progress\">\n",
       "  <div class=\"progress-bar\" role=\"progressbar\" style=\"background-color: blue; width: 100%; word-wrap: normal; white-space: nowrap; text-align: center; color: white\" aria-valuenow=\"100\" aria-valuemin=\"0\" aria-valuemax=\"100\">\n",
       "    28 / 28\n",
       "  </div>\n",
       "  <div class=\"progress-bar\" role=\"progressbar\" style=\"background-color: red; width: 0%\" aria-valuenow=\"0\" aria-valuemin=\"0\" aria-valuemax=\"100\"></div>\n",
       "</div>\n"
      ]
     },
     "metadata": {},
     "output_type": "display_data"
    },
    {
     "data": {
      "text/html": [
       "<div>\n",
       "  <span style=\"float: left;\">treeAggregate at RDDLossFunction.scala:61</span>\n",
       "</div>\n"
      ]
     },
     "metadata": {},
     "output_type": "display_data"
    },
    {
     "data": {
      "text/html": [
       "<div class=\"progress\">\n",
       "  <div class=\"progress-bar\" role=\"progressbar\" style=\"background-color: blue; width: 100%; word-wrap: normal; white-space: nowrap; text-align: center; color: white\" aria-valuenow=\"100\" aria-valuemin=\"0\" aria-valuemax=\"100\">\n",
       "    4 / 4\n",
       "  </div>\n",
       "  <div class=\"progress-bar\" role=\"progressbar\" style=\"background-color: red; width: 0%\" aria-valuenow=\"0\" aria-valuemin=\"0\" aria-valuemax=\"100\"></div>\n",
       "</div>\n"
      ]
     },
     "metadata": {},
     "output_type": "display_data"
    },
    {
     "name": "stderr",
     "output_type": "stream",
     "text": [
      "21/05/19 15:52:26 INFO OWLQN: Step Size: 1.000\n",
      "21/05/19 15:52:26 INFO OWLQN: Val and Grad Norm: 0.674634 (rel: 1.54e-05) 0.237655\n"
     ]
    },
    {
     "data": {
      "text/html": [
       "<div>\n",
       "  <span style=\"float: left;\">treeAggregate at RDDLossFunction.scala:61</span>\n",
       "</div>\n"
      ]
     },
     "metadata": {},
     "output_type": "display_data"
    },
    {
     "data": {
      "text/html": [
       "<div class=\"progress\">\n",
       "  <div class=\"progress-bar\" role=\"progressbar\" style=\"background-color: blue; width: 100%; word-wrap: normal; white-space: nowrap; text-align: center; color: white\" aria-valuenow=\"100\" aria-valuemin=\"0\" aria-valuemax=\"100\">\n",
       "    28 / 28\n",
       "  </div>\n",
       "  <div class=\"progress-bar\" role=\"progressbar\" style=\"background-color: red; width: 0%\" aria-valuenow=\"0\" aria-valuemin=\"0\" aria-valuemax=\"100\"></div>\n",
       "</div>\n"
      ]
     },
     "metadata": {},
     "output_type": "display_data"
    },
    {
     "data": {
      "text/html": [
       "<div>\n",
       "  <span style=\"float: left;\">treeAggregate at RDDLossFunction.scala:61</span>\n",
       "</div>\n"
      ]
     },
     "metadata": {},
     "output_type": "display_data"
    },
    {
     "data": {
      "text/html": [
       "<div class=\"progress\">\n",
       "  <div class=\"progress-bar\" role=\"progressbar\" style=\"background-color: blue; width: 100%; word-wrap: normal; white-space: nowrap; text-align: center; color: white\" aria-valuenow=\"100\" aria-valuemin=\"0\" aria-valuemax=\"100\">\n",
       "    4 / 4\n",
       "  </div>\n",
       "  <div class=\"progress-bar\" role=\"progressbar\" style=\"background-color: red; width: 0%\" aria-valuenow=\"0\" aria-valuemin=\"0\" aria-valuemax=\"100\"></div>\n",
       "</div>\n"
      ]
     },
     "metadata": {},
     "output_type": "display_data"
    },
    {
     "name": "stderr",
     "output_type": "stream",
     "text": [
      "21/05/19 15:52:28 INFO OWLQN: Step Size: 1.000\n",
      "21/05/19 15:52:28 INFO OWLQN: Val and Grad Norm: 0.674622 (rel: 1.73e-05) 0.0261379\n"
     ]
    },
    {
     "data": {
      "text/html": [
       "<div>\n",
       "  <span style=\"float: left;\">treeAggregate at RDDLossFunction.scala:61</span>\n",
       "</div>\n"
      ]
     },
     "metadata": {},
     "output_type": "display_data"
    },
    {
     "data": {
      "text/html": [
       "<div class=\"progress\">\n",
       "  <div class=\"progress-bar\" role=\"progressbar\" style=\"background-color: blue; width: 100%; word-wrap: normal; white-space: nowrap; text-align: center; color: white\" aria-valuenow=\"100\" aria-valuemin=\"0\" aria-valuemax=\"100\">\n",
       "    28 / 28\n",
       "  </div>\n",
       "  <div class=\"progress-bar\" role=\"progressbar\" style=\"background-color: red; width: 0%\" aria-valuenow=\"0\" aria-valuemin=\"0\" aria-valuemax=\"100\"></div>\n",
       "</div>\n"
      ]
     },
     "metadata": {},
     "output_type": "display_data"
    },
    {
     "data": {
      "text/html": [
       "<div>\n",
       "  <span style=\"float: left;\">treeAggregate at RDDLossFunction.scala:61</span>\n",
       "</div>\n"
      ]
     },
     "metadata": {},
     "output_type": "display_data"
    },
    {
     "data": {
      "text/html": [
       "<div class=\"progress\">\n",
       "  <div class=\"progress-bar\" role=\"progressbar\" style=\"background-color: blue; width: 100%; word-wrap: normal; white-space: nowrap; text-align: center; color: white\" aria-valuenow=\"100\" aria-valuemin=\"0\" aria-valuemax=\"100\">\n",
       "    4 / 4\n",
       "  </div>\n",
       "  <div class=\"progress-bar\" role=\"progressbar\" style=\"background-color: red; width: 0%\" aria-valuenow=\"0\" aria-valuemin=\"0\" aria-valuemax=\"100\"></div>\n",
       "</div>\n"
      ]
     },
     "metadata": {},
     "output_type": "display_data"
    },
    {
     "name": "stderr",
     "output_type": "stream",
     "text": [
      "21/05/19 15:52:30 INFO OWLQN: Step Size: 1.000\n",
      "21/05/19 15:52:30 INFO OWLQN: Val and Grad Norm: 0.674575 (rel: 6.95e-05) 1.73292\n"
     ]
    },
    {
     "data": {
      "text/html": [
       "<div>\n",
       "  <span style=\"float: left;\">treeAggregate at RDDLossFunction.scala:61</span>\n",
       "</div>\n"
      ]
     },
     "metadata": {},
     "output_type": "display_data"
    },
    {
     "data": {
      "text/html": [
       "<div class=\"progress\">\n",
       "  <div class=\"progress-bar\" role=\"progressbar\" style=\"background-color: blue; width: 100%; word-wrap: normal; white-space: nowrap; text-align: center; color: white\" aria-valuenow=\"100\" aria-valuemin=\"0\" aria-valuemax=\"100\">\n",
       "    28 / 28\n",
       "  </div>\n",
       "  <div class=\"progress-bar\" role=\"progressbar\" style=\"background-color: red; width: 0%\" aria-valuenow=\"0\" aria-valuemin=\"0\" aria-valuemax=\"100\"></div>\n",
       "</div>\n"
      ]
     },
     "metadata": {},
     "output_type": "display_data"
    },
    {
     "data": {
      "text/html": [
       "<div>\n",
       "  <span style=\"float: left;\">treeAggregate at RDDLossFunction.scala:61</span>\n",
       "</div>\n"
      ]
     },
     "metadata": {},
     "output_type": "display_data"
    },
    {
     "data": {
      "text/html": [
       "<div class=\"progress\">\n",
       "  <div class=\"progress-bar\" role=\"progressbar\" style=\"background-color: blue; width: 100%; word-wrap: normal; white-space: nowrap; text-align: center; color: white\" aria-valuenow=\"100\" aria-valuemin=\"0\" aria-valuemax=\"100\">\n",
       "    4 / 4\n",
       "  </div>\n",
       "  <div class=\"progress-bar\" role=\"progressbar\" style=\"background-color: red; width: 0%\" aria-valuenow=\"0\" aria-valuemin=\"0\" aria-valuemax=\"100\"></div>\n",
       "</div>\n"
      ]
     },
     "metadata": {},
     "output_type": "display_data"
    },
    {
     "data": {
      "text/html": [
       "<div>\n",
       "  <span style=\"float: left;\">treeAggregate at RDDLossFunction.scala:61</span>\n",
       "</div>\n"
      ]
     },
     "metadata": {},
     "output_type": "display_data"
    },
    {
     "data": {
      "text/html": [
       "<div class=\"progress\">\n",
       "  <div class=\"progress-bar\" role=\"progressbar\" style=\"background-color: blue; width: 100%; word-wrap: normal; white-space: nowrap; text-align: center; color: white\" aria-valuenow=\"100\" aria-valuemin=\"0\" aria-valuemax=\"100\">\n",
       "    28 / 28\n",
       "  </div>\n",
       "  <div class=\"progress-bar\" role=\"progressbar\" style=\"background-color: red; width: 0%\" aria-valuenow=\"0\" aria-valuemin=\"0\" aria-valuemax=\"100\"></div>\n",
       "</div>\n"
      ]
     },
     "metadata": {},
     "output_type": "display_data"
    },
    {
     "data": {
      "text/html": [
       "<div>\n",
       "  <span style=\"float: left;\">treeAggregate at RDDLossFunction.scala:61</span>\n",
       "</div>\n"
      ]
     },
     "metadata": {},
     "output_type": "display_data"
    },
    {
     "data": {
      "text/html": [
       "<div class=\"progress\">\n",
       "  <div class=\"progress-bar\" role=\"progressbar\" style=\"background-color: blue; width: 100%; word-wrap: normal; white-space: nowrap; text-align: center; color: white\" aria-valuenow=\"100\" aria-valuemin=\"0\" aria-valuemax=\"100\">\n",
       "    4 / 4\n",
       "  </div>\n",
       "  <div class=\"progress-bar\" role=\"progressbar\" style=\"background-color: red; width: 0%\" aria-valuenow=\"0\" aria-valuemin=\"0\" aria-valuemax=\"100\"></div>\n",
       "</div>\n"
      ]
     },
     "metadata": {},
     "output_type": "display_data"
    },
    {
     "name": "stderr",
     "output_type": "stream",
     "text": [
      "21/05/19 15:52:34 INFO OWLQN: Step Size: 0.5000\n",
      "21/05/19 15:52:34 INFO OWLQN: Val and Grad Norm: 0.674521 (rel: 8.10e-05) 0.671907\n"
     ]
    },
    {
     "data": {
      "text/html": [
       "<div>\n",
       "  <span style=\"float: left;\">treeAggregate at RDDLossFunction.scala:61</span>\n",
       "</div>\n"
      ]
     },
     "metadata": {},
     "output_type": "display_data"
    },
    {
     "data": {
      "text/html": [
       "<div class=\"progress\">\n",
       "  <div class=\"progress-bar\" role=\"progressbar\" style=\"background-color: blue; width: 100%; word-wrap: normal; white-space: nowrap; text-align: center; color: white\" aria-valuenow=\"100\" aria-valuemin=\"0\" aria-valuemax=\"100\">\n",
       "    28 / 28\n",
       "  </div>\n",
       "  <div class=\"progress-bar\" role=\"progressbar\" style=\"background-color: red; width: 0%\" aria-valuenow=\"0\" aria-valuemin=\"0\" aria-valuemax=\"100\"></div>\n",
       "</div>\n"
      ]
     },
     "metadata": {},
     "output_type": "display_data"
    },
    {
     "data": {
      "text/html": [
       "<div>\n",
       "  <span style=\"float: left;\">treeAggregate at RDDLossFunction.scala:61</span>\n",
       "</div>\n"
      ]
     },
     "metadata": {},
     "output_type": "display_data"
    },
    {
     "data": {
      "text/html": [
       "<div class=\"progress\">\n",
       "  <div class=\"progress-bar\" role=\"progressbar\" style=\"background-color: blue; width: 100%; word-wrap: normal; white-space: nowrap; text-align: center; color: white\" aria-valuenow=\"100\" aria-valuemin=\"0\" aria-valuemax=\"100\">\n",
       "    4 / 4\n",
       "  </div>\n",
       "  <div class=\"progress-bar\" role=\"progressbar\" style=\"background-color: red; width: 0%\" aria-valuenow=\"0\" aria-valuemin=\"0\" aria-valuemax=\"100\"></div>\n",
       "</div>\n"
      ]
     },
     "metadata": {},
     "output_type": "display_data"
    },
    {
     "data": {
      "text/html": [
       "<div>\n",
       "  <span style=\"float: left;\">treeAggregate at RDDLossFunction.scala:61</span>\n",
       "</div>\n"
      ]
     },
     "metadata": {},
     "output_type": "display_data"
    },
    {
     "data": {
      "text/html": [
       "<div class=\"progress\">\n",
       "  <div class=\"progress-bar\" role=\"progressbar\" style=\"background-color: blue; width: 100%; word-wrap: normal; white-space: nowrap; text-align: center; color: white\" aria-valuenow=\"100\" aria-valuemin=\"0\" aria-valuemax=\"100\">\n",
       "    28 / 28\n",
       "  </div>\n",
       "  <div class=\"progress-bar\" role=\"progressbar\" style=\"background-color: red; width: 0%\" aria-valuenow=\"0\" aria-valuemin=\"0\" aria-valuemax=\"100\"></div>\n",
       "</div>\n"
      ]
     },
     "metadata": {},
     "output_type": "display_data"
    },
    {
     "data": {
      "text/html": [
       "<div>\n",
       "  <span style=\"float: left;\">treeAggregate at RDDLossFunction.scala:61</span>\n",
       "</div>\n"
      ]
     },
     "metadata": {},
     "output_type": "display_data"
    },
    {
     "data": {
      "text/html": [
       "<div class=\"progress\">\n",
       "  <div class=\"progress-bar\" role=\"progressbar\" style=\"background-color: blue; width: 100%; word-wrap: normal; white-space: nowrap; text-align: center; color: white\" aria-valuenow=\"100\" aria-valuemin=\"0\" aria-valuemax=\"100\">\n",
       "    4 / 4\n",
       "  </div>\n",
       "  <div class=\"progress-bar\" role=\"progressbar\" style=\"background-color: red; width: 0%\" aria-valuenow=\"0\" aria-valuemin=\"0\" aria-valuemax=\"100\"></div>\n",
       "</div>\n"
      ]
     },
     "metadata": {},
     "output_type": "display_data"
    },
    {
     "data": {
      "text/html": [
       "<div>\n",
       "  <span style=\"float: left;\">treeAggregate at RDDLossFunction.scala:61</span>\n",
       "</div>\n"
      ]
     },
     "metadata": {},
     "output_type": "display_data"
    },
    {
     "data": {
      "text/html": [
       "<div class=\"progress\">\n",
       "  <div class=\"progress-bar\" role=\"progressbar\" style=\"background-color: blue; width: 100%; word-wrap: normal; white-space: nowrap; text-align: center; color: white\" aria-valuenow=\"100\" aria-valuemin=\"0\" aria-valuemax=\"100\">\n",
       "    28 / 28\n",
       "  </div>\n",
       "  <div class=\"progress-bar\" role=\"progressbar\" style=\"background-color: red; width: 0%\" aria-valuenow=\"0\" aria-valuemin=\"0\" aria-valuemax=\"100\"></div>\n",
       "</div>\n"
      ]
     },
     "metadata": {},
     "output_type": "display_data"
    },
    {
     "data": {
      "text/html": [
       "<div>\n",
       "  <span style=\"float: left;\">treeAggregate at RDDLossFunction.scala:61</span>\n",
       "</div>\n"
      ]
     },
     "metadata": {},
     "output_type": "display_data"
    },
    {
     "data": {
      "text/html": [
       "<div class=\"progress\">\n",
       "  <div class=\"progress-bar\" role=\"progressbar\" style=\"background-color: blue; width: 100%; word-wrap: normal; white-space: nowrap; text-align: center; color: white\" aria-valuenow=\"100\" aria-valuemin=\"0\" aria-valuemax=\"100\">\n",
       "    4 / 4\n",
       "  </div>\n",
       "  <div class=\"progress-bar\" role=\"progressbar\" style=\"background-color: red; width: 0%\" aria-valuenow=\"0\" aria-valuemin=\"0\" aria-valuemax=\"100\"></div>\n",
       "</div>\n"
      ]
     },
     "metadata": {},
     "output_type": "display_data"
    },
    {
     "name": "stderr",
     "output_type": "stream",
     "text": [
      "21/05/19 15:52:40 INFO OWLQN: Step Size: 0.2500\n",
      "21/05/19 15:52:40 INFO OWLQN: Val and Grad Norm: 0.674508 (rel: 1.95e-05) 0.672451\n"
     ]
    },
    {
     "data": {
      "text/html": [
       "<div>\n",
       "  <span style=\"float: left;\">treeAggregate at RDDLossFunction.scala:61</span>\n",
       "</div>\n"
      ]
     },
     "metadata": {},
     "output_type": "display_data"
    },
    {
     "data": {
      "text/html": [
       "<div class=\"progress\">\n",
       "  <div class=\"progress-bar\" role=\"progressbar\" style=\"background-color: blue; width: 100%; word-wrap: normal; white-space: nowrap; text-align: center; color: white\" aria-valuenow=\"100\" aria-valuemin=\"0\" aria-valuemax=\"100\">\n",
       "    28 / 28\n",
       "  </div>\n",
       "  <div class=\"progress-bar\" role=\"progressbar\" style=\"background-color: red; width: 0%\" aria-valuenow=\"0\" aria-valuemin=\"0\" aria-valuemax=\"100\"></div>\n",
       "</div>\n"
      ]
     },
     "metadata": {},
     "output_type": "display_data"
    },
    {
     "data": {
      "text/html": [
       "<div>\n",
       "  <span style=\"float: left;\">treeAggregate at RDDLossFunction.scala:61</span>\n",
       "</div>\n"
      ]
     },
     "metadata": {},
     "output_type": "display_data"
    },
    {
     "data": {
      "text/html": [
       "<div class=\"progress\">\n",
       "  <div class=\"progress-bar\" role=\"progressbar\" style=\"background-color: blue; width: 100%; word-wrap: normal; white-space: nowrap; text-align: center; color: white\" aria-valuenow=\"100\" aria-valuemin=\"0\" aria-valuemax=\"100\">\n",
       "    4 / 4\n",
       "  </div>\n",
       "  <div class=\"progress-bar\" role=\"progressbar\" style=\"background-color: red; width: 0%\" aria-valuenow=\"0\" aria-valuemin=\"0\" aria-valuemax=\"100\"></div>\n",
       "</div>\n"
      ]
     },
     "metadata": {},
     "output_type": "display_data"
    },
    {
     "data": {
      "text/html": [
       "<div>\n",
       "  <span style=\"float: left;\">treeAggregate at RDDLossFunction.scala:61</span>\n",
       "</div>\n"
      ]
     },
     "metadata": {},
     "output_type": "display_data"
    },
    {
     "data": {
      "text/html": [
       "<div class=\"progress\">\n",
       "  <div class=\"progress-bar\" role=\"progressbar\" style=\"background-color: blue; width: 100%; word-wrap: normal; white-space: nowrap; text-align: center; color: white\" aria-valuenow=\"100\" aria-valuemin=\"0\" aria-valuemax=\"100\">\n",
       "    28 / 28\n",
       "  </div>\n",
       "  <div class=\"progress-bar\" role=\"progressbar\" style=\"background-color: red; width: 0%\" aria-valuenow=\"0\" aria-valuemin=\"0\" aria-valuemax=\"100\"></div>\n",
       "</div>\n"
      ]
     },
     "metadata": {},
     "output_type": "display_data"
    },
    {
     "data": {
      "text/html": [
       "<div>\n",
       "  <span style=\"float: left;\">treeAggregate at RDDLossFunction.scala:61</span>\n",
       "</div>\n"
      ]
     },
     "metadata": {},
     "output_type": "display_data"
    },
    {
     "data": {
      "text/html": [
       "<div class=\"progress\">\n",
       "  <div class=\"progress-bar\" role=\"progressbar\" style=\"background-color: blue; width: 100%; word-wrap: normal; white-space: nowrap; text-align: center; color: white\" aria-valuenow=\"100\" aria-valuemin=\"0\" aria-valuemax=\"100\">\n",
       "    4 / 4\n",
       "  </div>\n",
       "  <div class=\"progress-bar\" role=\"progressbar\" style=\"background-color: red; width: 0%\" aria-valuenow=\"0\" aria-valuemin=\"0\" aria-valuemax=\"100\"></div>\n",
       "</div>\n"
      ]
     },
     "metadata": {},
     "output_type": "display_data"
    },
    {
     "name": "stderr",
     "output_type": "stream",
     "text": [
      "21/05/19 15:52:44 INFO OWLQN: Step Size: 0.5000\n",
      "21/05/19 15:52:44 INFO OWLQN: Val and Grad Norm: 0.674497 (rel: 1.55e-05) 1.26453\n"
     ]
    },
    {
     "data": {
      "text/html": [
       "<div>\n",
       "  <span style=\"float: left;\">treeAggregate at RDDLossFunction.scala:61</span>\n",
       "</div>\n"
      ]
     },
     "metadata": {},
     "output_type": "display_data"
    },
    {
     "data": {
      "text/html": [
       "<div class=\"progress\">\n",
       "  <div class=\"progress-bar\" role=\"progressbar\" style=\"background-color: blue; width: 100%; word-wrap: normal; white-space: nowrap; text-align: center; color: white\" aria-valuenow=\"100\" aria-valuemin=\"0\" aria-valuemax=\"100\">\n",
       "    28 / 28\n",
       "  </div>\n",
       "  <div class=\"progress-bar\" role=\"progressbar\" style=\"background-color: red; width: 0%\" aria-valuenow=\"0\" aria-valuemin=\"0\" aria-valuemax=\"100\"></div>\n",
       "</div>\n"
      ]
     },
     "metadata": {},
     "output_type": "display_data"
    },
    {
     "data": {
      "text/html": [
       "<div>\n",
       "  <span style=\"float: left;\">treeAggregate at RDDLossFunction.scala:61</span>\n",
       "</div>\n"
      ]
     },
     "metadata": {},
     "output_type": "display_data"
    },
    {
     "data": {
      "text/html": [
       "<div class=\"progress\">\n",
       "  <div class=\"progress-bar\" role=\"progressbar\" style=\"background-color: blue; width: 100%; word-wrap: normal; white-space: nowrap; text-align: center; color: white\" aria-valuenow=\"100\" aria-valuemin=\"0\" aria-valuemax=\"100\">\n",
       "    4 / 4\n",
       "  </div>\n",
       "  <div class=\"progress-bar\" role=\"progressbar\" style=\"background-color: red; width: 0%\" aria-valuenow=\"0\" aria-valuemin=\"0\" aria-valuemax=\"100\"></div>\n",
       "</div>\n"
      ]
     },
     "metadata": {},
     "output_type": "display_data"
    },
    {
     "data": {
      "text/html": [
       "<div>\n",
       "  <span style=\"float: left;\">treeAggregate at RDDLossFunction.scala:61</span>\n",
       "</div>\n"
      ]
     },
     "metadata": {},
     "output_type": "display_data"
    },
    {
     "data": {
      "text/html": [
       "<div class=\"progress\">\n",
       "  <div class=\"progress-bar\" role=\"progressbar\" style=\"background-color: blue; width: 100%; word-wrap: normal; white-space: nowrap; text-align: center; color: white\" aria-valuenow=\"100\" aria-valuemin=\"0\" aria-valuemax=\"100\">\n",
       "    28 / 28\n",
       "  </div>\n",
       "  <div class=\"progress-bar\" role=\"progressbar\" style=\"background-color: red; width: 0%\" aria-valuenow=\"0\" aria-valuemin=\"0\" aria-valuemax=\"100\"></div>\n",
       "</div>\n"
      ]
     },
     "metadata": {},
     "output_type": "display_data"
    },
    {
     "data": {
      "text/html": [
       "<div>\n",
       "  <span style=\"float: left;\">treeAggregate at RDDLossFunction.scala:61</span>\n",
       "</div>\n"
      ]
     },
     "metadata": {},
     "output_type": "display_data"
    },
    {
     "data": {
      "text/html": [
       "<div class=\"progress\">\n",
       "  <div class=\"progress-bar\" role=\"progressbar\" style=\"background-color: blue; width: 100%; word-wrap: normal; white-space: nowrap; text-align: center; color: white\" aria-valuenow=\"100\" aria-valuemin=\"0\" aria-valuemax=\"100\">\n",
       "    4 / 4\n",
       "  </div>\n",
       "  <div class=\"progress-bar\" role=\"progressbar\" style=\"background-color: red; width: 0%\" aria-valuenow=\"0\" aria-valuemin=\"0\" aria-valuemax=\"100\"></div>\n",
       "</div>\n"
      ]
     },
     "metadata": {},
     "output_type": "display_data"
    },
    {
     "name": "stderr",
     "output_type": "stream",
     "text": [
      "21/05/19 15:52:48 INFO OWLQN: Step Size: 0.5000\n",
      "21/05/19 15:52:48 INFO OWLQN: Val and Grad Norm: 0.674475 (rel: 3.23e-05) 0.197157\n"
     ]
    },
    {
     "data": {
      "text/html": [
       "<div>\n",
       "  <span style=\"float: left;\">treeAggregate at RDDLossFunction.scala:61</span>\n",
       "</div>\n"
      ]
     },
     "metadata": {},
     "output_type": "display_data"
    },
    {
     "data": {
      "text/html": [
       "<div class=\"progress\">\n",
       "  <div class=\"progress-bar\" role=\"progressbar\" style=\"background-color: blue; width: 100%; word-wrap: normal; white-space: nowrap; text-align: center; color: white\" aria-valuenow=\"100\" aria-valuemin=\"0\" aria-valuemax=\"100\">\n",
       "    28 / 28\n",
       "  </div>\n",
       "  <div class=\"progress-bar\" role=\"progressbar\" style=\"background-color: red; width: 0%\" aria-valuenow=\"0\" aria-valuemin=\"0\" aria-valuemax=\"100\"></div>\n",
       "</div>\n"
      ]
     },
     "metadata": {},
     "output_type": "display_data"
    },
    {
     "data": {
      "text/html": [
       "<div>\n",
       "  <span style=\"float: left;\">treeAggregate at RDDLossFunction.scala:61</span>\n",
       "</div>\n"
      ]
     },
     "metadata": {},
     "output_type": "display_data"
    },
    {
     "data": {
      "text/html": [
       "<div class=\"progress\">\n",
       "  <div class=\"progress-bar\" role=\"progressbar\" style=\"background-color: blue; width: 100%; word-wrap: normal; white-space: nowrap; text-align: center; color: white\" aria-valuenow=\"100\" aria-valuemin=\"0\" aria-valuemax=\"100\">\n",
       "    4 / 4\n",
       "  </div>\n",
       "  <div class=\"progress-bar\" role=\"progressbar\" style=\"background-color: red; width: 0%\" aria-valuenow=\"0\" aria-valuemin=\"0\" aria-valuemax=\"100\"></div>\n",
       "</div>\n"
      ]
     },
     "metadata": {},
     "output_type": "display_data"
    },
    {
     "data": {
      "text/html": [
       "<div>\n",
       "  <span style=\"float: left;\">treeAggregate at RDDLossFunction.scala:61</span>\n",
       "</div>\n"
      ]
     },
     "metadata": {},
     "output_type": "display_data"
    },
    {
     "data": {
      "text/html": [
       "<div class=\"progress\">\n",
       "  <div class=\"progress-bar\" role=\"progressbar\" style=\"background-color: blue; width: 100%; word-wrap: normal; white-space: nowrap; text-align: center; color: white\" aria-valuenow=\"100\" aria-valuemin=\"0\" aria-valuemax=\"100\">\n",
       "    28 / 28\n",
       "  </div>\n",
       "  <div class=\"progress-bar\" role=\"progressbar\" style=\"background-color: red; width: 0%\" aria-valuenow=\"0\" aria-valuemin=\"0\" aria-valuemax=\"100\"></div>\n",
       "</div>\n"
      ]
     },
     "metadata": {},
     "output_type": "display_data"
    },
    {
     "data": {
      "text/html": [
       "<div>\n",
       "  <span style=\"float: left;\">treeAggregate at RDDLossFunction.scala:61</span>\n",
       "</div>\n"
      ]
     },
     "metadata": {},
     "output_type": "display_data"
    },
    {
     "data": {
      "text/html": [
       "<div class=\"progress\">\n",
       "  <div class=\"progress-bar\" role=\"progressbar\" style=\"background-color: blue; width: 100%; word-wrap: normal; white-space: nowrap; text-align: center; color: white\" aria-valuenow=\"100\" aria-valuemin=\"0\" aria-valuemax=\"100\">\n",
       "    4 / 4\n",
       "  </div>\n",
       "  <div class=\"progress-bar\" role=\"progressbar\" style=\"background-color: red; width: 0%\" aria-valuenow=\"0\" aria-valuemin=\"0\" aria-valuemax=\"100\"></div>\n",
       "</div>\n"
      ]
     },
     "metadata": {},
     "output_type": "display_data"
    },
    {
     "name": "stderr",
     "output_type": "stream",
     "text": [
      "21/05/19 15:52:52 INFO OWLQN: Step Size: 0.5000\n",
      "21/05/19 15:52:52 INFO OWLQN: Val and Grad Norm: 0.674473 (rel: 3.37e-06) 0.845558\n"
     ]
    },
    {
     "data": {
      "text/html": [
       "<div>\n",
       "  <span style=\"float: left;\">treeAggregate at RDDLossFunction.scala:61</span>\n",
       "</div>\n"
      ]
     },
     "metadata": {},
     "output_type": "display_data"
    },
    {
     "data": {
      "text/html": [
       "<div class=\"progress\">\n",
       "  <div class=\"progress-bar\" role=\"progressbar\" style=\"background-color: blue; width: 100%; word-wrap: normal; white-space: nowrap; text-align: center; color: white\" aria-valuenow=\"100\" aria-valuemin=\"0\" aria-valuemax=\"100\">\n",
       "    28 / 28\n",
       "  </div>\n",
       "  <div class=\"progress-bar\" role=\"progressbar\" style=\"background-color: red; width: 0%\" aria-valuenow=\"0\" aria-valuemin=\"0\" aria-valuemax=\"100\"></div>\n",
       "</div>\n"
      ]
     },
     "metadata": {},
     "output_type": "display_data"
    },
    {
     "data": {
      "text/html": [
       "<div>\n",
       "  <span style=\"float: left;\">treeAggregate at RDDLossFunction.scala:61</span>\n",
       "</div>\n"
      ]
     },
     "metadata": {},
     "output_type": "display_data"
    },
    {
     "data": {
      "text/html": [
       "<div class=\"progress\">\n",
       "  <div class=\"progress-bar\" role=\"progressbar\" style=\"background-color: blue; width: 100%; word-wrap: normal; white-space: nowrap; text-align: center; color: white\" aria-valuenow=\"100\" aria-valuemin=\"0\" aria-valuemax=\"100\">\n",
       "    4 / 4\n",
       "  </div>\n",
       "  <div class=\"progress-bar\" role=\"progressbar\" style=\"background-color: red; width: 0%\" aria-valuenow=\"0\" aria-valuemin=\"0\" aria-valuemax=\"100\"></div>\n",
       "</div>\n"
      ]
     },
     "metadata": {},
     "output_type": "display_data"
    },
    {
     "data": {
      "text/html": [
       "<div>\n",
       "  <span style=\"float: left;\">treeAggregate at RDDLossFunction.scala:61</span>\n",
       "</div>\n"
      ]
     },
     "metadata": {},
     "output_type": "display_data"
    },
    {
     "data": {
      "text/html": [
       "<div class=\"progress\">\n",
       "  <div class=\"progress-bar\" role=\"progressbar\" style=\"background-color: blue; width: 100%; word-wrap: normal; white-space: nowrap; text-align: center; color: white\" aria-valuenow=\"100\" aria-valuemin=\"0\" aria-valuemax=\"100\">\n",
       "    28 / 28\n",
       "  </div>\n",
       "  <div class=\"progress-bar\" role=\"progressbar\" style=\"background-color: red; width: 0%\" aria-valuenow=\"0\" aria-valuemin=\"0\" aria-valuemax=\"100\"></div>\n",
       "</div>\n"
      ]
     },
     "metadata": {},
     "output_type": "display_data"
    },
    {
     "data": {
      "text/html": [
       "<div>\n",
       "  <span style=\"float: left;\">treeAggregate at RDDLossFunction.scala:61</span>\n",
       "</div>\n"
      ]
     },
     "metadata": {},
     "output_type": "display_data"
    },
    {
     "data": {
      "text/html": [
       "<div class=\"progress\">\n",
       "  <div class=\"progress-bar\" role=\"progressbar\" style=\"background-color: blue; width: 100%; word-wrap: normal; white-space: nowrap; text-align: center; color: white\" aria-valuenow=\"100\" aria-valuemin=\"0\" aria-valuemax=\"100\">\n",
       "    4 / 4\n",
       "  </div>\n",
       "  <div class=\"progress-bar\" role=\"progressbar\" style=\"background-color: red; width: 0%\" aria-valuenow=\"0\" aria-valuemin=\"0\" aria-valuemax=\"100\"></div>\n",
       "</div>\n"
      ]
     },
     "metadata": {},
     "output_type": "display_data"
    },
    {
     "name": "stderr",
     "output_type": "stream",
     "text": [
      "21/05/19 15:52:56 INFO OWLQN: Step Size: 0.5000\n",
      "21/05/19 15:52:56 INFO OWLQN: Val and Grad Norm: 0.674464 (rel: 1.28e-05) 0.163836\n"
     ]
    },
    {
     "data": {
      "text/html": [
       "<div>\n",
       "  <span style=\"float: left;\">treeAggregate at RDDLossFunction.scala:61</span>\n",
       "</div>\n"
      ]
     },
     "metadata": {},
     "output_type": "display_data"
    },
    {
     "data": {
      "text/html": [
       "<div class=\"progress\">\n",
       "  <div class=\"progress-bar\" role=\"progressbar\" style=\"background-color: blue; width: 100%; word-wrap: normal; white-space: nowrap; text-align: center; color: white\" aria-valuenow=\"100\" aria-valuemin=\"0\" aria-valuemax=\"100\">\n",
       "    28 / 28\n",
       "  </div>\n",
       "  <div class=\"progress-bar\" role=\"progressbar\" style=\"background-color: red; width: 0%\" aria-valuenow=\"0\" aria-valuemin=\"0\" aria-valuemax=\"100\"></div>\n",
       "</div>\n"
      ]
     },
     "metadata": {},
     "output_type": "display_data"
    },
    {
     "data": {
      "text/html": [
       "<div>\n",
       "  <span style=\"float: left;\">treeAggregate at RDDLossFunction.scala:61</span>\n",
       "</div>\n"
      ]
     },
     "metadata": {},
     "output_type": "display_data"
    },
    {
     "data": {
      "text/html": [
       "<div class=\"progress\">\n",
       "  <div class=\"progress-bar\" role=\"progressbar\" style=\"background-color: blue; width: 100%; word-wrap: normal; white-space: nowrap; text-align: center; color: white\" aria-valuenow=\"100\" aria-valuemin=\"0\" aria-valuemax=\"100\">\n",
       "    4 / 4\n",
       "  </div>\n",
       "  <div class=\"progress-bar\" role=\"progressbar\" style=\"background-color: red; width: 0%\" aria-valuenow=\"0\" aria-valuemin=\"0\" aria-valuemax=\"100\"></div>\n",
       "</div>\n"
      ]
     },
     "metadata": {},
     "output_type": "display_data"
    },
    {
     "data": {
      "text/html": [
       "<div>\n",
       "  <span style=\"float: left;\">treeAggregate at RDDLossFunction.scala:61</span>\n",
       "</div>\n"
      ]
     },
     "metadata": {},
     "output_type": "display_data"
    },
    {
     "data": {
      "text/html": [
       "<div class=\"progress\">\n",
       "  <div class=\"progress-bar\" role=\"progressbar\" style=\"background-color: blue; width: 100%; word-wrap: normal; white-space: nowrap; text-align: center; color: white\" aria-valuenow=\"100\" aria-valuemin=\"0\" aria-valuemax=\"100\">\n",
       "    28 / 28\n",
       "  </div>\n",
       "  <div class=\"progress-bar\" role=\"progressbar\" style=\"background-color: red; width: 0%\" aria-valuenow=\"0\" aria-valuemin=\"0\" aria-valuemax=\"100\"></div>\n",
       "</div>\n"
      ]
     },
     "metadata": {},
     "output_type": "display_data"
    },
    {
     "data": {
      "text/html": [
       "<div>\n",
       "  <span style=\"float: left;\">treeAggregate at RDDLossFunction.scala:61</span>\n",
       "</div>\n"
      ]
     },
     "metadata": {},
     "output_type": "display_data"
    },
    {
     "data": {
      "text/html": [
       "<div class=\"progress\">\n",
       "  <div class=\"progress-bar\" role=\"progressbar\" style=\"background-color: blue; width: 100%; word-wrap: normal; white-space: nowrap; text-align: center; color: white\" aria-valuenow=\"100\" aria-valuemin=\"0\" aria-valuemax=\"100\">\n",
       "    4 / 4\n",
       "  </div>\n",
       "  <div class=\"progress-bar\" role=\"progressbar\" style=\"background-color: red; width: 0%\" aria-valuenow=\"0\" aria-valuemin=\"0\" aria-valuemax=\"100\"></div>\n",
       "</div>\n"
      ]
     },
     "metadata": {},
     "output_type": "display_data"
    },
    {
     "name": "stderr",
     "output_type": "stream",
     "text": [
      "21/05/19 15:52:59 INFO OWLQN: Step Size: 0.5000\n",
      "21/05/19 15:52:59 INFO OWLQN: Val and Grad Norm: 0.674460 (rel: 7.13e-06) 0.691210\n"
     ]
    },
    {
     "data": {
      "text/html": [
       "<div>\n",
       "  <span style=\"float: left;\">treeAggregate at RDDLossFunction.scala:61</span>\n",
       "</div>\n"
      ]
     },
     "metadata": {},
     "output_type": "display_data"
    },
    {
     "data": {
      "text/html": [
       "<div class=\"progress\">\n",
       "  <div class=\"progress-bar\" role=\"progressbar\" style=\"background-color: blue; width: 100%; word-wrap: normal; white-space: nowrap; text-align: center; color: white\" aria-valuenow=\"100\" aria-valuemin=\"0\" aria-valuemax=\"100\">\n",
       "    28 / 28\n",
       "  </div>\n",
       "  <div class=\"progress-bar\" role=\"progressbar\" style=\"background-color: red; width: 0%\" aria-valuenow=\"0\" aria-valuemin=\"0\" aria-valuemax=\"100\"></div>\n",
       "</div>\n"
      ]
     },
     "metadata": {},
     "output_type": "display_data"
    },
    {
     "data": {
      "text/html": [
       "<div>\n",
       "  <span style=\"float: left;\">treeAggregate at RDDLossFunction.scala:61</span>\n",
       "</div>\n"
      ]
     },
     "metadata": {},
     "output_type": "display_data"
    },
    {
     "data": {
      "text/html": [
       "<div class=\"progress\">\n",
       "  <div class=\"progress-bar\" role=\"progressbar\" style=\"background-color: blue; width: 100%; word-wrap: normal; white-space: nowrap; text-align: center; color: white\" aria-valuenow=\"100\" aria-valuemin=\"0\" aria-valuemax=\"100\">\n",
       "    4 / 4\n",
       "  </div>\n",
       "  <div class=\"progress-bar\" role=\"progressbar\" style=\"background-color: red; width: 0%\" aria-valuenow=\"0\" aria-valuemin=\"0\" aria-valuemax=\"100\"></div>\n",
       "</div>\n"
      ]
     },
     "metadata": {},
     "output_type": "display_data"
    },
    {
     "data": {
      "text/html": [
       "<div>\n",
       "  <span style=\"float: left;\">treeAggregate at RDDLossFunction.scala:61</span>\n",
       "</div>\n"
      ]
     },
     "metadata": {},
     "output_type": "display_data"
    },
    {
     "data": {
      "text/html": [
       "<div class=\"progress\">\n",
       "  <div class=\"progress-bar\" role=\"progressbar\" style=\"background-color: blue; width: 100%; word-wrap: normal; white-space: nowrap; text-align: center; color: white\" aria-valuenow=\"100\" aria-valuemin=\"0\" aria-valuemax=\"100\">\n",
       "    28 / 28\n",
       "  </div>\n",
       "  <div class=\"progress-bar\" role=\"progressbar\" style=\"background-color: red; width: 0%\" aria-valuenow=\"0\" aria-valuemin=\"0\" aria-valuemax=\"100\"></div>\n",
       "</div>\n"
      ]
     },
     "metadata": {},
     "output_type": "display_data"
    },
    {
     "data": {
      "text/html": [
       "<div>\n",
       "  <span style=\"float: left;\">treeAggregate at RDDLossFunction.scala:61</span>\n",
       "</div>\n"
      ]
     },
     "metadata": {},
     "output_type": "display_data"
    },
    {
     "data": {
      "text/html": [
       "<div class=\"progress\">\n",
       "  <div class=\"progress-bar\" role=\"progressbar\" style=\"background-color: blue; width: 100%; word-wrap: normal; white-space: nowrap; text-align: center; color: white\" aria-valuenow=\"100\" aria-valuemin=\"0\" aria-valuemax=\"100\">\n",
       "    4 / 4\n",
       "  </div>\n",
       "  <div class=\"progress-bar\" role=\"progressbar\" style=\"background-color: red; width: 0%\" aria-valuenow=\"0\" aria-valuemin=\"0\" aria-valuemax=\"100\"></div>\n",
       "</div>\n"
      ]
     },
     "metadata": {},
     "output_type": "display_data"
    },
    {
     "name": "stderr",
     "output_type": "stream",
     "text": [
      "21/05/19 15:53:03 INFO OWLQN: Step Size: 0.5000\n",
      "21/05/19 15:53:03 INFO OWLQN: Val and Grad Norm: 0.674454 (rel: 8.25e-06) 0.206505\n"
     ]
    },
    {
     "data": {
      "text/html": [
       "<div>\n",
       "  <span style=\"float: left;\">treeAggregate at RDDLossFunction.scala:61</span>\n",
       "</div>\n"
      ]
     },
     "metadata": {},
     "output_type": "display_data"
    },
    {
     "data": {
      "text/html": [
       "<div class=\"progress\">\n",
       "  <div class=\"progress-bar\" role=\"progressbar\" style=\"background-color: blue; width: 100%; word-wrap: normal; white-space: nowrap; text-align: center; color: white\" aria-valuenow=\"100\" aria-valuemin=\"0\" aria-valuemax=\"100\">\n",
       "    28 / 28\n",
       "  </div>\n",
       "  <div class=\"progress-bar\" role=\"progressbar\" style=\"background-color: red; width: 0%\" aria-valuenow=\"0\" aria-valuemin=\"0\" aria-valuemax=\"100\"></div>\n",
       "</div>\n"
      ]
     },
     "metadata": {},
     "output_type": "display_data"
    },
    {
     "data": {
      "text/html": [
       "<div>\n",
       "  <span style=\"float: left;\">treeAggregate at RDDLossFunction.scala:61</span>\n",
       "</div>\n"
      ]
     },
     "metadata": {},
     "output_type": "display_data"
    },
    {
     "data": {
      "text/html": [
       "<div class=\"progress\">\n",
       "  <div class=\"progress-bar\" role=\"progressbar\" style=\"background-color: blue; width: 100%; word-wrap: normal; white-space: nowrap; text-align: center; color: white\" aria-valuenow=\"100\" aria-valuemin=\"0\" aria-valuemax=\"100\">\n",
       "    4 / 4\n",
       "  </div>\n",
       "  <div class=\"progress-bar\" role=\"progressbar\" style=\"background-color: red; width: 0%\" aria-valuenow=\"0\" aria-valuemin=\"0\" aria-valuemax=\"100\"></div>\n",
       "</div>\n"
      ]
     },
     "metadata": {},
     "output_type": "display_data"
    },
    {
     "data": {
      "text/html": [
       "<div>\n",
       "  <span style=\"float: left;\">treeAggregate at RDDLossFunction.scala:61</span>\n",
       "</div>\n"
      ]
     },
     "metadata": {},
     "output_type": "display_data"
    },
    {
     "data": {
      "text/html": [
       "<div class=\"progress\">\n",
       "  <div class=\"progress-bar\" role=\"progressbar\" style=\"background-color: blue; width: 100%; word-wrap: normal; white-space: nowrap; text-align: center; color: white\" aria-valuenow=\"100\" aria-valuemin=\"0\" aria-valuemax=\"100\">\n",
       "    28 / 28\n",
       "  </div>\n",
       "  <div class=\"progress-bar\" role=\"progressbar\" style=\"background-color: red; width: 0%\" aria-valuenow=\"0\" aria-valuemin=\"0\" aria-valuemax=\"100\"></div>\n",
       "</div>\n"
      ]
     },
     "metadata": {},
     "output_type": "display_data"
    },
    {
     "data": {
      "text/html": [
       "<div>\n",
       "  <span style=\"float: left;\">treeAggregate at RDDLossFunction.scala:61</span>\n",
       "</div>\n"
      ]
     },
     "metadata": {},
     "output_type": "display_data"
    },
    {
     "data": {
      "text/html": [
       "<div class=\"progress\">\n",
       "  <div class=\"progress-bar\" role=\"progressbar\" style=\"background-color: blue; width: 100%; word-wrap: normal; white-space: nowrap; text-align: center; color: white\" aria-valuenow=\"100\" aria-valuemin=\"0\" aria-valuemax=\"100\">\n",
       "    4 / 4\n",
       "  </div>\n",
       "  <div class=\"progress-bar\" role=\"progressbar\" style=\"background-color: red; width: 0%\" aria-valuenow=\"0\" aria-valuemin=\"0\" aria-valuemax=\"100\"></div>\n",
       "</div>\n"
      ]
     },
     "metadata": {},
     "output_type": "display_data"
    },
    {
     "name": "stderr",
     "output_type": "stream",
     "text": [
      "21/05/19 15:53:07 INFO OWLQN: Step Size: 0.5000\n",
      "21/05/19 15:53:07 INFO OWLQN: Val and Grad Norm: 0.674446 (rel: 1.16e-05) 0.591583\n"
     ]
    },
    {
     "data": {
      "text/html": [
       "<div>\n",
       "  <span style=\"float: left;\">treeAggregate at RDDLossFunction.scala:61</span>\n",
       "</div>\n"
      ]
     },
     "metadata": {},
     "output_type": "display_data"
    },
    {
     "data": {
      "text/html": [
       "<div class=\"progress\">\n",
       "  <div class=\"progress-bar\" role=\"progressbar\" style=\"background-color: blue; width: 100%; word-wrap: normal; white-space: nowrap; text-align: center; color: white\" aria-valuenow=\"100\" aria-valuemin=\"0\" aria-valuemax=\"100\">\n",
       "    28 / 28\n",
       "  </div>\n",
       "  <div class=\"progress-bar\" role=\"progressbar\" style=\"background-color: red; width: 0%\" aria-valuenow=\"0\" aria-valuemin=\"0\" aria-valuemax=\"100\"></div>\n",
       "</div>\n"
      ]
     },
     "metadata": {},
     "output_type": "display_data"
    },
    {
     "data": {
      "text/html": [
       "<div>\n",
       "  <span style=\"float: left;\">treeAggregate at RDDLossFunction.scala:61</span>\n",
       "</div>\n"
      ]
     },
     "metadata": {},
     "output_type": "display_data"
    },
    {
     "data": {
      "text/html": [
       "<div class=\"progress\">\n",
       "  <div class=\"progress-bar\" role=\"progressbar\" style=\"background-color: blue; width: 100%; word-wrap: normal; white-space: nowrap; text-align: center; color: white\" aria-valuenow=\"100\" aria-valuemin=\"0\" aria-valuemax=\"100\">\n",
       "    4 / 4\n",
       "  </div>\n",
       "  <div class=\"progress-bar\" role=\"progressbar\" style=\"background-color: red; width: 0%\" aria-valuenow=\"0\" aria-valuemin=\"0\" aria-valuemax=\"100\"></div>\n",
       "</div>\n"
      ]
     },
     "metadata": {},
     "output_type": "display_data"
    },
    {
     "data": {
      "text/html": [
       "<div>\n",
       "  <span style=\"float: left;\">treeAggregate at RDDLossFunction.scala:61</span>\n",
       "</div>\n"
      ]
     },
     "metadata": {},
     "output_type": "display_data"
    },
    {
     "data": {
      "text/html": [
       "<div class=\"progress\">\n",
       "  <div class=\"progress-bar\" role=\"progressbar\" style=\"background-color: blue; width: 100%; word-wrap: normal; white-space: nowrap; text-align: center; color: white\" aria-valuenow=\"100\" aria-valuemin=\"0\" aria-valuemax=\"100\">\n",
       "    28 / 28\n",
       "  </div>\n",
       "  <div class=\"progress-bar\" role=\"progressbar\" style=\"background-color: red; width: 0%\" aria-valuenow=\"0\" aria-valuemin=\"0\" aria-valuemax=\"100\"></div>\n",
       "</div>\n"
      ]
     },
     "metadata": {},
     "output_type": "display_data"
    },
    {
     "data": {
      "text/html": [
       "<div>\n",
       "  <span style=\"float: left;\">treeAggregate at RDDLossFunction.scala:61</span>\n",
       "</div>\n"
      ]
     },
     "metadata": {},
     "output_type": "display_data"
    },
    {
     "data": {
      "text/html": [
       "<div class=\"progress\">\n",
       "  <div class=\"progress-bar\" role=\"progressbar\" style=\"background-color: blue; width: 100%; word-wrap: normal; white-space: nowrap; text-align: center; color: white\" aria-valuenow=\"100\" aria-valuemin=\"0\" aria-valuemax=\"100\">\n",
       "    4 / 4\n",
       "  </div>\n",
       "  <div class=\"progress-bar\" role=\"progressbar\" style=\"background-color: red; width: 0%\" aria-valuenow=\"0\" aria-valuemin=\"0\" aria-valuemax=\"100\"></div>\n",
       "</div>\n"
      ]
     },
     "metadata": {},
     "output_type": "display_data"
    },
    {
     "name": "stderr",
     "output_type": "stream",
     "text": [
      "21/05/19 15:53:11 INFO OWLQN: Step Size: 0.5000\n",
      "21/05/19 15:53:11 INFO OWLQN: Val and Grad Norm: 0.674445 (rel: 1.39e-06) 0.536020\n"
     ]
    },
    {
     "data": {
      "text/html": [
       "<div>\n",
       "  <span style=\"float: left;\">treeAggregate at RDDLossFunction.scala:61</span>\n",
       "</div>\n"
      ]
     },
     "metadata": {},
     "output_type": "display_data"
    },
    {
     "data": {
      "text/html": [
       "<div class=\"progress\">\n",
       "  <div class=\"progress-bar\" role=\"progressbar\" style=\"background-color: blue; width: 100%; word-wrap: normal; white-space: nowrap; text-align: center; color: white\" aria-valuenow=\"100\" aria-valuemin=\"0\" aria-valuemax=\"100\">\n",
       "    28 / 28\n",
       "  </div>\n",
       "  <div class=\"progress-bar\" role=\"progressbar\" style=\"background-color: red; width: 0%\" aria-valuenow=\"0\" aria-valuemin=\"0\" aria-valuemax=\"100\"></div>\n",
       "</div>\n"
      ]
     },
     "metadata": {},
     "output_type": "display_data"
    },
    {
     "data": {
      "text/html": [
       "<div>\n",
       "  <span style=\"float: left;\">treeAggregate at RDDLossFunction.scala:61</span>\n",
       "</div>\n"
      ]
     },
     "metadata": {},
     "output_type": "display_data"
    },
    {
     "data": {
      "text/html": [
       "<div class=\"progress\">\n",
       "  <div class=\"progress-bar\" role=\"progressbar\" style=\"background-color: blue; width: 100%; word-wrap: normal; white-space: nowrap; text-align: center; color: white\" aria-valuenow=\"100\" aria-valuemin=\"0\" aria-valuemax=\"100\">\n",
       "    4 / 4\n",
       "  </div>\n",
       "  <div class=\"progress-bar\" role=\"progressbar\" style=\"background-color: red; width: 0%\" aria-valuenow=\"0\" aria-valuemin=\"0\" aria-valuemax=\"100\"></div>\n",
       "</div>\n"
      ]
     },
     "metadata": {},
     "output_type": "display_data"
    },
    {
     "data": {
      "text/html": [
       "<div>\n",
       "  <span style=\"float: left;\">treeAggregate at RDDLossFunction.scala:61</span>\n",
       "</div>\n"
      ]
     },
     "metadata": {},
     "output_type": "display_data"
    },
    {
     "data": {
      "text/html": [
       "<div class=\"progress\">\n",
       "  <div class=\"progress-bar\" role=\"progressbar\" style=\"background-color: blue; width: 100%; word-wrap: normal; white-space: nowrap; text-align: center; color: white\" aria-valuenow=\"100\" aria-valuemin=\"0\" aria-valuemax=\"100\">\n",
       "    28 / 28\n",
       "  </div>\n",
       "  <div class=\"progress-bar\" role=\"progressbar\" style=\"background-color: red; width: 0%\" aria-valuenow=\"0\" aria-valuemin=\"0\" aria-valuemax=\"100\"></div>\n",
       "</div>\n"
      ]
     },
     "metadata": {},
     "output_type": "display_data"
    },
    {
     "data": {
      "text/html": [
       "<div>\n",
       "  <span style=\"float: left;\">treeAggregate at RDDLossFunction.scala:61</span>\n",
       "</div>\n"
      ]
     },
     "metadata": {},
     "output_type": "display_data"
    },
    {
     "data": {
      "text/html": [
       "<div class=\"progress\">\n",
       "  <div class=\"progress-bar\" role=\"progressbar\" style=\"background-color: blue; width: 100%; word-wrap: normal; white-space: nowrap; text-align: center; color: white\" aria-valuenow=\"100\" aria-valuemin=\"0\" aria-valuemax=\"100\">\n",
       "    4 / 4\n",
       "  </div>\n",
       "  <div class=\"progress-bar\" role=\"progressbar\" style=\"background-color: red; width: 0%\" aria-valuenow=\"0\" aria-valuemin=\"0\" aria-valuemax=\"100\"></div>\n",
       "</div>\n"
      ]
     },
     "metadata": {},
     "output_type": "display_data"
    },
    {
     "name": "stderr",
     "output_type": "stream",
     "text": [
      "21/05/19 15:53:15 INFO OWLQN: Step Size: 0.5000\n",
      "21/05/19 15:53:15 INFO OWLQN: Val and Grad Norm: 0.674437 (rel: 1.17e-05) 0.633843\n"
     ]
    },
    {
     "data": {
      "text/html": [
       "<div>\n",
       "  <span style=\"float: left;\">treeAggregate at RDDLossFunction.scala:61</span>\n",
       "</div>\n"
      ]
     },
     "metadata": {},
     "output_type": "display_data"
    },
    {
     "data": {
      "text/html": [
       "<div class=\"progress\">\n",
       "  <div class=\"progress-bar\" role=\"progressbar\" style=\"background-color: blue; width: 100%; word-wrap: normal; white-space: nowrap; text-align: center; color: white\" aria-valuenow=\"100\" aria-valuemin=\"0\" aria-valuemax=\"100\">\n",
       "    28 / 28\n",
       "  </div>\n",
       "  <div class=\"progress-bar\" role=\"progressbar\" style=\"background-color: red; width: 0%\" aria-valuenow=\"0\" aria-valuemin=\"0\" aria-valuemax=\"100\"></div>\n",
       "</div>\n"
      ]
     },
     "metadata": {},
     "output_type": "display_data"
    },
    {
     "data": {
      "text/html": [
       "<div>\n",
       "  <span style=\"float: left;\">treeAggregate at RDDLossFunction.scala:61</span>\n",
       "</div>\n"
      ]
     },
     "metadata": {},
     "output_type": "display_data"
    },
    {
     "data": {
      "text/html": [
       "<div class=\"progress\">\n",
       "  <div class=\"progress-bar\" role=\"progressbar\" style=\"background-color: blue; width: 100%; word-wrap: normal; white-space: nowrap; text-align: center; color: white\" aria-valuenow=\"100\" aria-valuemin=\"0\" aria-valuemax=\"100\">\n",
       "    4 / 4\n",
       "  </div>\n",
       "  <div class=\"progress-bar\" role=\"progressbar\" style=\"background-color: red; width: 0%\" aria-valuenow=\"0\" aria-valuemin=\"0\" aria-valuemax=\"100\"></div>\n",
       "</div>\n"
      ]
     },
     "metadata": {},
     "output_type": "display_data"
    },
    {
     "data": {
      "text/html": [
       "<div>\n",
       "  <span style=\"float: left;\">treeAggregate at RDDLossFunction.scala:61</span>\n",
       "</div>\n"
      ]
     },
     "metadata": {},
     "output_type": "display_data"
    },
    {
     "data": {
      "text/html": [
       "<div class=\"progress\">\n",
       "  <div class=\"progress-bar\" role=\"progressbar\" style=\"background-color: blue; width: 100%; word-wrap: normal; white-space: nowrap; text-align: center; color: white\" aria-valuenow=\"100\" aria-valuemin=\"0\" aria-valuemax=\"100\">\n",
       "    28 / 28\n",
       "  </div>\n",
       "  <div class=\"progress-bar\" role=\"progressbar\" style=\"background-color: red; width: 0%\" aria-valuenow=\"0\" aria-valuemin=\"0\" aria-valuemax=\"100\"></div>\n",
       "</div>\n"
      ]
     },
     "metadata": {},
     "output_type": "display_data"
    },
    {
     "data": {
      "text/html": [
       "<div>\n",
       "  <span style=\"float: left;\">treeAggregate at RDDLossFunction.scala:61</span>\n",
       "</div>\n"
      ]
     },
     "metadata": {},
     "output_type": "display_data"
    },
    {
     "data": {
      "text/html": [
       "<div class=\"progress\">\n",
       "  <div class=\"progress-bar\" role=\"progressbar\" style=\"background-color: blue; width: 100%; word-wrap: normal; white-space: nowrap; text-align: center; color: white\" aria-valuenow=\"100\" aria-valuemin=\"0\" aria-valuemax=\"100\">\n",
       "    4 / 4\n",
       "  </div>\n",
       "  <div class=\"progress-bar\" role=\"progressbar\" style=\"background-color: red; width: 0%\" aria-valuenow=\"0\" aria-valuemin=\"0\" aria-valuemax=\"100\"></div>\n",
       "</div>\n"
      ]
     },
     "metadata": {},
     "output_type": "display_data"
    },
    {
     "name": "stderr",
     "output_type": "stream",
     "text": [
      "21/05/19 15:53:19 INFO OWLQN: Step Size: 0.5000\n",
      "21/05/19 15:53:19 INFO OWLQN: Val and Grad Norm: 0.674436 (rel: 2.63e-06) 0.355733\n"
     ]
    },
    {
     "data": {
      "text/html": [
       "<div>\n",
       "  <span style=\"float: left;\">treeAggregate at RDDLossFunction.scala:61</span>\n",
       "</div>\n"
      ]
     },
     "metadata": {},
     "output_type": "display_data"
    },
    {
     "data": {
      "text/html": [
       "<div class=\"progress\">\n",
       "  <div class=\"progress-bar\" role=\"progressbar\" style=\"background-color: blue; width: 100%; word-wrap: normal; white-space: nowrap; text-align: center; color: white\" aria-valuenow=\"100\" aria-valuemin=\"0\" aria-valuemax=\"100\">\n",
       "    28 / 28\n",
       "  </div>\n",
       "  <div class=\"progress-bar\" role=\"progressbar\" style=\"background-color: red; width: 0%\" aria-valuenow=\"0\" aria-valuemin=\"0\" aria-valuemax=\"100\"></div>\n",
       "</div>\n"
      ]
     },
     "metadata": {},
     "output_type": "display_data"
    },
    {
     "data": {
      "text/html": [
       "<div>\n",
       "  <span style=\"float: left;\">treeAggregate at RDDLossFunction.scala:61</span>\n",
       "</div>\n"
      ]
     },
     "metadata": {},
     "output_type": "display_data"
    },
    {
     "data": {
      "text/html": [
       "<div class=\"progress\">\n",
       "  <div class=\"progress-bar\" role=\"progressbar\" style=\"background-color: blue; width: 100%; word-wrap: normal; white-space: nowrap; text-align: center; color: white\" aria-valuenow=\"100\" aria-valuemin=\"0\" aria-valuemax=\"100\">\n",
       "    4 / 4\n",
       "  </div>\n",
       "  <div class=\"progress-bar\" role=\"progressbar\" style=\"background-color: red; width: 0%\" aria-valuenow=\"0\" aria-valuemin=\"0\" aria-valuemax=\"100\"></div>\n",
       "</div>\n"
      ]
     },
     "metadata": {},
     "output_type": "display_data"
    },
    {
     "data": {
      "text/html": [
       "<div>\n",
       "  <span style=\"float: left;\">treeAggregate at RDDLossFunction.scala:61</span>\n",
       "</div>\n"
      ]
     },
     "metadata": {},
     "output_type": "display_data"
    },
    {
     "data": {
      "text/html": [
       "<div class=\"progress\">\n",
       "  <div class=\"progress-bar\" role=\"progressbar\" style=\"background-color: blue; width: 100%; word-wrap: normal; white-space: nowrap; text-align: center; color: white\" aria-valuenow=\"100\" aria-valuemin=\"0\" aria-valuemax=\"100\">\n",
       "    28 / 28\n",
       "  </div>\n",
       "  <div class=\"progress-bar\" role=\"progressbar\" style=\"background-color: red; width: 0%\" aria-valuenow=\"0\" aria-valuemin=\"0\" aria-valuemax=\"100\"></div>\n",
       "</div>\n"
      ]
     },
     "metadata": {},
     "output_type": "display_data"
    },
    {
     "data": {
      "text/html": [
       "<div>\n",
       "  <span style=\"float: left;\">treeAggregate at RDDLossFunction.scala:61</span>\n",
       "</div>\n"
      ]
     },
     "metadata": {},
     "output_type": "display_data"
    },
    {
     "data": {
      "text/html": [
       "<div class=\"progress\">\n",
       "  <div class=\"progress-bar\" role=\"progressbar\" style=\"background-color: blue; width: 100%; word-wrap: normal; white-space: nowrap; text-align: center; color: white\" aria-valuenow=\"100\" aria-valuemin=\"0\" aria-valuemax=\"100\">\n",
       "    4 / 4\n",
       "  </div>\n",
       "  <div class=\"progress-bar\" role=\"progressbar\" style=\"background-color: red; width: 0%\" aria-valuenow=\"0\" aria-valuemin=\"0\" aria-valuemax=\"100\"></div>\n",
       "</div>\n"
      ]
     },
     "metadata": {},
     "output_type": "display_data"
    },
    {
     "name": "stderr",
     "output_type": "stream",
     "text": [
      "21/05/19 15:53:23 INFO OWLQN: Step Size: 0.5000\n",
      "21/05/19 15:53:23 INFO OWLQN: Val and Grad Norm: 0.674429 (rel: 9.03e-06) 0.574857\n"
     ]
    },
    {
     "data": {
      "text/html": [
       "<div>\n",
       "  <span style=\"float: left;\">treeAggregate at RDDLossFunction.scala:61</span>\n",
       "</div>\n"
      ]
     },
     "metadata": {},
     "output_type": "display_data"
    },
    {
     "data": {
      "text/html": [
       "<div class=\"progress\">\n",
       "  <div class=\"progress-bar\" role=\"progressbar\" style=\"background-color: blue; width: 100%; word-wrap: normal; white-space: nowrap; text-align: center; color: white\" aria-valuenow=\"100\" aria-valuemin=\"0\" aria-valuemax=\"100\">\n",
       "    28 / 28\n",
       "  </div>\n",
       "  <div class=\"progress-bar\" role=\"progressbar\" style=\"background-color: red; width: 0%\" aria-valuenow=\"0\" aria-valuemin=\"0\" aria-valuemax=\"100\"></div>\n",
       "</div>\n"
      ]
     },
     "metadata": {},
     "output_type": "display_data"
    },
    {
     "data": {
      "text/html": [
       "<div>\n",
       "  <span style=\"float: left;\">treeAggregate at RDDLossFunction.scala:61</span>\n",
       "</div>\n"
      ]
     },
     "metadata": {},
     "output_type": "display_data"
    },
    {
     "data": {
      "text/html": [
       "<div class=\"progress\">\n",
       "  <div class=\"progress-bar\" role=\"progressbar\" style=\"background-color: blue; width: 100%; word-wrap: normal; white-space: nowrap; text-align: center; color: white\" aria-valuenow=\"100\" aria-valuemin=\"0\" aria-valuemax=\"100\">\n",
       "    4 / 4\n",
       "  </div>\n",
       "  <div class=\"progress-bar\" role=\"progressbar\" style=\"background-color: red; width: 0%\" aria-valuenow=\"0\" aria-valuemin=\"0\" aria-valuemax=\"100\"></div>\n",
       "</div>\n"
      ]
     },
     "metadata": {},
     "output_type": "display_data"
    },
    {
     "data": {
      "text/html": [
       "<div>\n",
       "  <span style=\"float: left;\">treeAggregate at RDDLossFunction.scala:61</span>\n",
       "</div>\n"
      ]
     },
     "metadata": {},
     "output_type": "display_data"
    },
    {
     "data": {
      "text/html": [
       "<div class=\"progress\">\n",
       "  <div class=\"progress-bar\" role=\"progressbar\" style=\"background-color: blue; width: 100%; word-wrap: normal; white-space: nowrap; text-align: center; color: white\" aria-valuenow=\"100\" aria-valuemin=\"0\" aria-valuemax=\"100\">\n",
       "    28 / 28\n",
       "  </div>\n",
       "  <div class=\"progress-bar\" role=\"progressbar\" style=\"background-color: red; width: 0%\" aria-valuenow=\"0\" aria-valuemin=\"0\" aria-valuemax=\"100\"></div>\n",
       "</div>\n"
      ]
     },
     "metadata": {},
     "output_type": "display_data"
    },
    {
     "data": {
      "text/html": [
       "<div>\n",
       "  <span style=\"float: left;\">treeAggregate at RDDLossFunction.scala:61</span>\n",
       "</div>\n"
      ]
     },
     "metadata": {},
     "output_type": "display_data"
    },
    {
     "data": {
      "text/html": [
       "<div class=\"progress\">\n",
       "  <div class=\"progress-bar\" role=\"progressbar\" style=\"background-color: blue; width: 100%; word-wrap: normal; white-space: nowrap; text-align: center; color: white\" aria-valuenow=\"100\" aria-valuemin=\"0\" aria-valuemax=\"100\">\n",
       "    4 / 4\n",
       "  </div>\n",
       "  <div class=\"progress-bar\" role=\"progressbar\" style=\"background-color: red; width: 0%\" aria-valuenow=\"0\" aria-valuemin=\"0\" aria-valuemax=\"100\"></div>\n",
       "</div>\n"
      ]
     },
     "metadata": {},
     "output_type": "display_data"
    },
    {
     "name": "stderr",
     "output_type": "stream",
     "text": [
      "21/05/19 15:53:27 INFO OWLQN: Step Size: 0.5000\n",
      "21/05/19 15:53:27 INFO OWLQN: Val and Grad Norm: 0.674428 (rel: 2.24e-06) 0.225847\n"
     ]
    },
    {
     "data": {
      "text/html": [
       "<div>\n",
       "  <span style=\"float: left;\">treeAggregate at RDDLossFunction.scala:61</span>\n",
       "</div>\n"
      ]
     },
     "metadata": {},
     "output_type": "display_data"
    },
    {
     "data": {
      "text/html": [
       "<div class=\"progress\">\n",
       "  <div class=\"progress-bar\" role=\"progressbar\" style=\"background-color: blue; width: 100%; word-wrap: normal; white-space: nowrap; text-align: center; color: white\" aria-valuenow=\"100\" aria-valuemin=\"0\" aria-valuemax=\"100\">\n",
       "    28 / 28\n",
       "  </div>\n",
       "  <div class=\"progress-bar\" role=\"progressbar\" style=\"background-color: red; width: 0%\" aria-valuenow=\"0\" aria-valuemin=\"0\" aria-valuemax=\"100\"></div>\n",
       "</div>\n"
      ]
     },
     "metadata": {},
     "output_type": "display_data"
    },
    {
     "data": {
      "text/html": [
       "<div>\n",
       "  <span style=\"float: left;\">treeAggregate at RDDLossFunction.scala:61</span>\n",
       "</div>\n"
      ]
     },
     "metadata": {},
     "output_type": "display_data"
    },
    {
     "data": {
      "text/html": [
       "<div class=\"progress\">\n",
       "  <div class=\"progress-bar\" role=\"progressbar\" style=\"background-color: blue; width: 100%; word-wrap: normal; white-space: nowrap; text-align: center; color: white\" aria-valuenow=\"100\" aria-valuemin=\"0\" aria-valuemax=\"100\">\n",
       "    4 / 4\n",
       "  </div>\n",
       "  <div class=\"progress-bar\" role=\"progressbar\" style=\"background-color: red; width: 0%\" aria-valuenow=\"0\" aria-valuemin=\"0\" aria-valuemax=\"100\"></div>\n",
       "</div>\n"
      ]
     },
     "metadata": {},
     "output_type": "display_data"
    },
    {
     "data": {
      "text/html": [
       "<div>\n",
       "  <span style=\"float: left;\">treeAggregate at RDDLossFunction.scala:61</span>\n",
       "</div>\n"
      ]
     },
     "metadata": {},
     "output_type": "display_data"
    },
    {
     "data": {
      "text/html": [
       "<div class=\"progress\">\n",
       "  <div class=\"progress-bar\" role=\"progressbar\" style=\"background-color: blue; width: 100%; word-wrap: normal; white-space: nowrap; text-align: center; color: white\" aria-valuenow=\"100\" aria-valuemin=\"0\" aria-valuemax=\"100\">\n",
       "    28 / 28\n",
       "  </div>\n",
       "  <div class=\"progress-bar\" role=\"progressbar\" style=\"background-color: red; width: 0%\" aria-valuenow=\"0\" aria-valuemin=\"0\" aria-valuemax=\"100\"></div>\n",
       "</div>\n"
      ]
     },
     "metadata": {},
     "output_type": "display_data"
    },
    {
     "data": {
      "text/html": [
       "<div>\n",
       "  <span style=\"float: left;\">treeAggregate at RDDLossFunction.scala:61</span>\n",
       "</div>\n"
      ]
     },
     "metadata": {},
     "output_type": "display_data"
    },
    {
     "data": {
      "text/html": [
       "<div class=\"progress\">\n",
       "  <div class=\"progress-bar\" role=\"progressbar\" style=\"background-color: blue; width: 100%; word-wrap: normal; white-space: nowrap; text-align: center; color: white\" aria-valuenow=\"100\" aria-valuemin=\"0\" aria-valuemax=\"100\">\n",
       "    4 / 4\n",
       "  </div>\n",
       "  <div class=\"progress-bar\" role=\"progressbar\" style=\"background-color: red; width: 0%\" aria-valuenow=\"0\" aria-valuemin=\"0\" aria-valuemax=\"100\"></div>\n",
       "</div>\n"
      ]
     },
     "metadata": {},
     "output_type": "display_data"
    },
    {
     "name": "stderr",
     "output_type": "stream",
     "text": [
      "21/05/19 15:53:31 INFO OWLQN: Step Size: 0.5000\n",
      "21/05/19 15:53:31 INFO OWLQN: Val and Grad Norm: 0.674424 (rel: 6.17e-06) 0.506369\n"
     ]
    },
    {
     "data": {
      "text/html": [
       "<div>\n",
       "  <span style=\"float: left;\">treeAggregate at RDDLossFunction.scala:61</span>\n",
       "</div>\n"
      ]
     },
     "metadata": {},
     "output_type": "display_data"
    },
    {
     "data": {
      "text/html": [
       "<div class=\"progress\">\n",
       "  <div class=\"progress-bar\" role=\"progressbar\" style=\"background-color: blue; width: 100%; word-wrap: normal; white-space: nowrap; text-align: center; color: white\" aria-valuenow=\"100\" aria-valuemin=\"0\" aria-valuemax=\"100\">\n",
       "    28 / 28\n",
       "  </div>\n",
       "  <div class=\"progress-bar\" role=\"progressbar\" style=\"background-color: red; width: 0%\" aria-valuenow=\"0\" aria-valuemin=\"0\" aria-valuemax=\"100\"></div>\n",
       "</div>\n"
      ]
     },
     "metadata": {},
     "output_type": "display_data"
    },
    {
     "data": {
      "text/html": [
       "<div>\n",
       "  <span style=\"float: left;\">treeAggregate at RDDLossFunction.scala:61</span>\n",
       "</div>\n"
      ]
     },
     "metadata": {},
     "output_type": "display_data"
    },
    {
     "data": {
      "text/html": [
       "<div class=\"progress\">\n",
       "  <div class=\"progress-bar\" role=\"progressbar\" style=\"background-color: blue; width: 100%; word-wrap: normal; white-space: nowrap; text-align: center; color: white\" aria-valuenow=\"100\" aria-valuemin=\"0\" aria-valuemax=\"100\">\n",
       "    4 / 4\n",
       "  </div>\n",
       "  <div class=\"progress-bar\" role=\"progressbar\" style=\"background-color: red; width: 0%\" aria-valuenow=\"0\" aria-valuemin=\"0\" aria-valuemax=\"100\"></div>\n",
       "</div>\n"
      ]
     },
     "metadata": {},
     "output_type": "display_data"
    },
    {
     "data": {
      "text/html": [
       "<div>\n",
       "  <span style=\"float: left;\">treeAggregate at RDDLossFunction.scala:61</span>\n",
       "</div>\n"
      ]
     },
     "metadata": {},
     "output_type": "display_data"
    },
    {
     "data": {
      "text/html": [
       "<div class=\"progress\">\n",
       "  <div class=\"progress-bar\" role=\"progressbar\" style=\"background-color: blue; width: 100%; word-wrap: normal; white-space: nowrap; text-align: center; color: white\" aria-valuenow=\"100\" aria-valuemin=\"0\" aria-valuemax=\"100\">\n",
       "    28 / 28\n",
       "  </div>\n",
       "  <div class=\"progress-bar\" role=\"progressbar\" style=\"background-color: red; width: 0%\" aria-valuenow=\"0\" aria-valuemin=\"0\" aria-valuemax=\"100\"></div>\n",
       "</div>\n"
      ]
     },
     "metadata": {},
     "output_type": "display_data"
    },
    {
     "data": {
      "text/html": [
       "<div>\n",
       "  <span style=\"float: left;\">treeAggregate at RDDLossFunction.scala:61</span>\n",
       "</div>\n"
      ]
     },
     "metadata": {},
     "output_type": "display_data"
    },
    {
     "data": {
      "text/html": [
       "<div class=\"progress\">\n",
       "  <div class=\"progress-bar\" role=\"progressbar\" style=\"background-color: blue; width: 100%; word-wrap: normal; white-space: nowrap; text-align: center; color: white\" aria-valuenow=\"100\" aria-valuemin=\"0\" aria-valuemax=\"100\">\n",
       "    4 / 4\n",
       "  </div>\n",
       "  <div class=\"progress-bar\" role=\"progressbar\" style=\"background-color: red; width: 0%\" aria-valuenow=\"0\" aria-valuemin=\"0\" aria-valuemax=\"100\"></div>\n",
       "</div>\n"
      ]
     },
     "metadata": {},
     "output_type": "display_data"
    },
    {
     "name": "stderr",
     "output_type": "stream",
     "text": [
      "21/05/19 15:53:35 INFO OWLQN: Step Size: 0.5000\n",
      "21/05/19 15:53:35 INFO OWLQN: Val and Grad Norm: 0.674423 (rel: 1.70e-06) 0.174781\n"
     ]
    },
    {
     "data": {
      "text/html": [
       "<div>\n",
       "  <span style=\"float: left;\">treeAggregate at RDDLossFunction.scala:61</span>\n",
       "</div>\n"
      ]
     },
     "metadata": {},
     "output_type": "display_data"
    },
    {
     "data": {
      "text/html": [
       "<div class=\"progress\">\n",
       "  <div class=\"progress-bar\" role=\"progressbar\" style=\"background-color: blue; width: 100%; word-wrap: normal; white-space: nowrap; text-align: center; color: white\" aria-valuenow=\"100\" aria-valuemin=\"0\" aria-valuemax=\"100\">\n",
       "    28 / 28\n",
       "  </div>\n",
       "  <div class=\"progress-bar\" role=\"progressbar\" style=\"background-color: red; width: 0%\" aria-valuenow=\"0\" aria-valuemin=\"0\" aria-valuemax=\"100\"></div>\n",
       "</div>\n"
      ]
     },
     "metadata": {},
     "output_type": "display_data"
    },
    {
     "data": {
      "text/html": [
       "<div>\n",
       "  <span style=\"float: left;\">treeAggregate at RDDLossFunction.scala:61</span>\n",
       "</div>\n"
      ]
     },
     "metadata": {},
     "output_type": "display_data"
    },
    {
     "data": {
      "text/html": [
       "<div class=\"progress\">\n",
       "  <div class=\"progress-bar\" role=\"progressbar\" style=\"background-color: blue; width: 100%; word-wrap: normal; white-space: nowrap; text-align: center; color: white\" aria-valuenow=\"100\" aria-valuemin=\"0\" aria-valuemax=\"100\">\n",
       "    4 / 4\n",
       "  </div>\n",
       "  <div class=\"progress-bar\" role=\"progressbar\" style=\"background-color: red; width: 0%\" aria-valuenow=\"0\" aria-valuemin=\"0\" aria-valuemax=\"100\"></div>\n",
       "</div>\n"
      ]
     },
     "metadata": {},
     "output_type": "display_data"
    },
    {
     "data": {
      "text/html": [
       "<div>\n",
       "  <span style=\"float: left;\">treeAggregate at RDDLossFunction.scala:61</span>\n",
       "</div>\n"
      ]
     },
     "metadata": {},
     "output_type": "display_data"
    },
    {
     "data": {
      "text/html": [
       "<div class=\"progress\">\n",
       "  <div class=\"progress-bar\" role=\"progressbar\" style=\"background-color: blue; width: 100%; word-wrap: normal; white-space: nowrap; text-align: center; color: white\" aria-valuenow=\"100\" aria-valuemin=\"0\" aria-valuemax=\"100\">\n",
       "    28 / 28\n",
       "  </div>\n",
       "  <div class=\"progress-bar\" role=\"progressbar\" style=\"background-color: red; width: 0%\" aria-valuenow=\"0\" aria-valuemin=\"0\" aria-valuemax=\"100\"></div>\n",
       "</div>\n"
      ]
     },
     "metadata": {},
     "output_type": "display_data"
    },
    {
     "data": {
      "text/html": [
       "<div>\n",
       "  <span style=\"float: left;\">treeAggregate at RDDLossFunction.scala:61</span>\n",
       "</div>\n"
      ]
     },
     "metadata": {},
     "output_type": "display_data"
    },
    {
     "data": {
      "text/html": [
       "<div class=\"progress\">\n",
       "  <div class=\"progress-bar\" role=\"progressbar\" style=\"background-color: blue; width: 100%; word-wrap: normal; white-space: nowrap; text-align: center; color: white\" aria-valuenow=\"100\" aria-valuemin=\"0\" aria-valuemax=\"100\">\n",
       "    4 / 4\n",
       "  </div>\n",
       "  <div class=\"progress-bar\" role=\"progressbar\" style=\"background-color: red; width: 0%\" aria-valuenow=\"0\" aria-valuemin=\"0\" aria-valuemax=\"100\"></div>\n",
       "</div>\n"
      ]
     },
     "metadata": {},
     "output_type": "display_data"
    },
    {
     "name": "stderr",
     "output_type": "stream",
     "text": [
      "21/05/19 15:53:39 INFO OWLQN: Step Size: 0.5000\n",
      "21/05/19 15:53:39 INFO OWLQN: Val and Grad Norm: 0.674419 (rel: 5.25e-06) 0.426068\n"
     ]
    },
    {
     "data": {
      "text/html": [
       "<div>\n",
       "  <span style=\"float: left;\">treeAggregate at RDDLossFunction.scala:61</span>\n",
       "</div>\n"
      ]
     },
     "metadata": {},
     "output_type": "display_data"
    },
    {
     "data": {
      "text/html": [
       "<div class=\"progress\">\n",
       "  <div class=\"progress-bar\" role=\"progressbar\" style=\"background-color: blue; width: 100%; word-wrap: normal; white-space: nowrap; text-align: center; color: white\" aria-valuenow=\"100\" aria-valuemin=\"0\" aria-valuemax=\"100\">\n",
       "    28 / 28\n",
       "  </div>\n",
       "  <div class=\"progress-bar\" role=\"progressbar\" style=\"background-color: red; width: 0%\" aria-valuenow=\"0\" aria-valuemin=\"0\" aria-valuemax=\"100\"></div>\n",
       "</div>\n"
      ]
     },
     "metadata": {},
     "output_type": "display_data"
    },
    {
     "data": {
      "text/html": [
       "<div>\n",
       "  <span style=\"float: left;\">treeAggregate at RDDLossFunction.scala:61</span>\n",
       "</div>\n"
      ]
     },
     "metadata": {},
     "output_type": "display_data"
    },
    {
     "data": {
      "text/html": [
       "<div class=\"progress\">\n",
       "  <div class=\"progress-bar\" role=\"progressbar\" style=\"background-color: blue; width: 100%; word-wrap: normal; white-space: nowrap; text-align: center; color: white\" aria-valuenow=\"100\" aria-valuemin=\"0\" aria-valuemax=\"100\">\n",
       "    4 / 4\n",
       "  </div>\n",
       "  <div class=\"progress-bar\" role=\"progressbar\" style=\"background-color: red; width: 0%\" aria-valuenow=\"0\" aria-valuemin=\"0\" aria-valuemax=\"100\"></div>\n",
       "</div>\n"
      ]
     },
     "metadata": {},
     "output_type": "display_data"
    },
    {
     "data": {
      "text/html": [
       "<div>\n",
       "  <span style=\"float: left;\">treeAggregate at RDDLossFunction.scala:61</span>\n",
       "</div>\n"
      ]
     },
     "metadata": {},
     "output_type": "display_data"
    },
    {
     "data": {
      "text/html": [
       "<div class=\"progress\">\n",
       "  <div class=\"progress-bar\" role=\"progressbar\" style=\"background-color: blue; width: 100%; word-wrap: normal; white-space: nowrap; text-align: center; color: white\" aria-valuenow=\"100\" aria-valuemin=\"0\" aria-valuemax=\"100\">\n",
       "    28 / 28\n",
       "  </div>\n",
       "  <div class=\"progress-bar\" role=\"progressbar\" style=\"background-color: red; width: 0%\" aria-valuenow=\"0\" aria-valuemin=\"0\" aria-valuemax=\"100\"></div>\n",
       "</div>\n"
      ]
     },
     "metadata": {},
     "output_type": "display_data"
    },
    {
     "data": {
      "text/html": [
       "<div>\n",
       "  <span style=\"float: left;\">treeAggregate at RDDLossFunction.scala:61</span>\n",
       "</div>\n"
      ]
     },
     "metadata": {},
     "output_type": "display_data"
    },
    {
     "data": {
      "text/html": [
       "<div class=\"progress\">\n",
       "  <div class=\"progress-bar\" role=\"progressbar\" style=\"background-color: blue; width: 100%; word-wrap: normal; white-space: nowrap; text-align: center; color: white\" aria-valuenow=\"100\" aria-valuemin=\"0\" aria-valuemax=\"100\">\n",
       "    4 / 4\n",
       "  </div>\n",
       "  <div class=\"progress-bar\" role=\"progressbar\" style=\"background-color: red; width: 0%\" aria-valuenow=\"0\" aria-valuemin=\"0\" aria-valuemax=\"100\"></div>\n",
       "</div>\n"
      ]
     },
     "metadata": {},
     "output_type": "display_data"
    },
    {
     "name": "stderr",
     "output_type": "stream",
     "text": [
      "21/05/19 15:53:42 INFO OWLQN: Step Size: 0.5000\n",
      "21/05/19 15:53:42 INFO OWLQN: Val and Grad Norm: 0.674418 (rel: 2.07e-06) 0.126838\n"
     ]
    },
    {
     "data": {
      "text/html": [
       "<div>\n",
       "  <span style=\"float: left;\">treeAggregate at RDDLossFunction.scala:61</span>\n",
       "</div>\n"
      ]
     },
     "metadata": {},
     "output_type": "display_data"
    },
    {
     "data": {
      "text/html": [
       "<div class=\"progress\">\n",
       "  <div class=\"progress-bar\" role=\"progressbar\" style=\"background-color: blue; width: 100%; word-wrap: normal; white-space: nowrap; text-align: center; color: white\" aria-valuenow=\"100\" aria-valuemin=\"0\" aria-valuemax=\"100\">\n",
       "    28 / 28\n",
       "  </div>\n",
       "  <div class=\"progress-bar\" role=\"progressbar\" style=\"background-color: red; width: 0%\" aria-valuenow=\"0\" aria-valuemin=\"0\" aria-valuemax=\"100\"></div>\n",
       "</div>\n"
      ]
     },
     "metadata": {},
     "output_type": "display_data"
    },
    {
     "data": {
      "text/html": [
       "<div>\n",
       "  <span style=\"float: left;\">treeAggregate at RDDLossFunction.scala:61</span>\n",
       "</div>\n"
      ]
     },
     "metadata": {},
     "output_type": "display_data"
    },
    {
     "data": {
      "text/html": [
       "<div class=\"progress\">\n",
       "  <div class=\"progress-bar\" role=\"progressbar\" style=\"background-color: blue; width: 100%; word-wrap: normal; white-space: nowrap; text-align: center; color: white\" aria-valuenow=\"100\" aria-valuemin=\"0\" aria-valuemax=\"100\">\n",
       "    4 / 4\n",
       "  </div>\n",
       "  <div class=\"progress-bar\" role=\"progressbar\" style=\"background-color: red; width: 0%\" aria-valuenow=\"0\" aria-valuemin=\"0\" aria-valuemax=\"100\"></div>\n",
       "</div>\n"
      ]
     },
     "metadata": {},
     "output_type": "display_data"
    },
    {
     "data": {
      "text/html": [
       "<div>\n",
       "  <span style=\"float: left;\">treeAggregate at RDDLossFunction.scala:61</span>\n",
       "</div>\n"
      ]
     },
     "metadata": {},
     "output_type": "display_data"
    },
    {
     "data": {
      "text/html": [
       "<div class=\"progress\">\n",
       "  <div class=\"progress-bar\" role=\"progressbar\" style=\"background-color: blue; width: 100%; word-wrap: normal; white-space: nowrap; text-align: center; color: white\" aria-valuenow=\"100\" aria-valuemin=\"0\" aria-valuemax=\"100\">\n",
       "    28 / 28\n",
       "  </div>\n",
       "  <div class=\"progress-bar\" role=\"progressbar\" style=\"background-color: red; width: 0%\" aria-valuenow=\"0\" aria-valuemin=\"0\" aria-valuemax=\"100\"></div>\n",
       "</div>\n"
      ]
     },
     "metadata": {},
     "output_type": "display_data"
    },
    {
     "data": {
      "text/html": [
       "<div>\n",
       "  <span style=\"float: left;\">treeAggregate at RDDLossFunction.scala:61</span>\n",
       "</div>\n"
      ]
     },
     "metadata": {},
     "output_type": "display_data"
    },
    {
     "data": {
      "text/html": [
       "<div class=\"progress\">\n",
       "  <div class=\"progress-bar\" role=\"progressbar\" style=\"background-color: blue; width: 100%; word-wrap: normal; white-space: nowrap; text-align: center; color: white\" aria-valuenow=\"100\" aria-valuemin=\"0\" aria-valuemax=\"100\">\n",
       "    4 / 4\n",
       "  </div>\n",
       "  <div class=\"progress-bar\" role=\"progressbar\" style=\"background-color: red; width: 0%\" aria-valuenow=\"0\" aria-valuemin=\"0\" aria-valuemax=\"100\"></div>\n",
       "</div>\n"
      ]
     },
     "metadata": {},
     "output_type": "display_data"
    },
    {
     "name": "stderr",
     "output_type": "stream",
     "text": [
      "21/05/19 15:53:46 INFO OWLQN: Step Size: 0.5000\n",
      "21/05/19 15:53:46 INFO OWLQN: Val and Grad Norm: 0.674415 (rel: 4.67e-06) 0.419885\n"
     ]
    },
    {
     "data": {
      "text/html": [
       "<div>\n",
       "  <span style=\"float: left;\">treeAggregate at RDDLossFunction.scala:61</span>\n",
       "</div>\n"
      ]
     },
     "metadata": {},
     "output_type": "display_data"
    },
    {
     "data": {
      "text/html": [
       "<div class=\"progress\">\n",
       "  <div class=\"progress-bar\" role=\"progressbar\" style=\"background-color: blue; width: 100%; word-wrap: normal; white-space: nowrap; text-align: center; color: white\" aria-valuenow=\"100\" aria-valuemin=\"0\" aria-valuemax=\"100\">\n",
       "    28 / 28\n",
       "  </div>\n",
       "  <div class=\"progress-bar\" role=\"progressbar\" style=\"background-color: red; width: 0%\" aria-valuenow=\"0\" aria-valuemin=\"0\" aria-valuemax=\"100\"></div>\n",
       "</div>\n"
      ]
     },
     "metadata": {},
     "output_type": "display_data"
    },
    {
     "data": {
      "text/html": [
       "<div>\n",
       "  <span style=\"float: left;\">treeAggregate at RDDLossFunction.scala:61</span>\n",
       "</div>\n"
      ]
     },
     "metadata": {},
     "output_type": "display_data"
    },
    {
     "data": {
      "text/html": [
       "<div class=\"progress\">\n",
       "  <div class=\"progress-bar\" role=\"progressbar\" style=\"background-color: blue; width: 100%; word-wrap: normal; white-space: nowrap; text-align: center; color: white\" aria-valuenow=\"100\" aria-valuemin=\"0\" aria-valuemax=\"100\">\n",
       "    4 / 4\n",
       "  </div>\n",
       "  <div class=\"progress-bar\" role=\"progressbar\" style=\"background-color: red; width: 0%\" aria-valuenow=\"0\" aria-valuemin=\"0\" aria-valuemax=\"100\"></div>\n",
       "</div>\n"
      ]
     },
     "metadata": {},
     "output_type": "display_data"
    },
    {
     "data": {
      "text/html": [
       "<div>\n",
       "  <span style=\"float: left;\">treeAggregate at RDDLossFunction.scala:61</span>\n",
       "</div>\n"
      ]
     },
     "metadata": {},
     "output_type": "display_data"
    },
    {
     "data": {
      "text/html": [
       "<div class=\"progress\">\n",
       "  <div class=\"progress-bar\" role=\"progressbar\" style=\"background-color: blue; width: 100%; word-wrap: normal; white-space: nowrap; text-align: center; color: white\" aria-valuenow=\"100\" aria-valuemin=\"0\" aria-valuemax=\"100\">\n",
       "    28 / 28\n",
       "  </div>\n",
       "  <div class=\"progress-bar\" role=\"progressbar\" style=\"background-color: red; width: 0%\" aria-valuenow=\"0\" aria-valuemin=\"0\" aria-valuemax=\"100\"></div>\n",
       "</div>\n"
      ]
     },
     "metadata": {},
     "output_type": "display_data"
    },
    {
     "data": {
      "text/html": [
       "<div>\n",
       "  <span style=\"float: left;\">treeAggregate at RDDLossFunction.scala:61</span>\n",
       "</div>\n"
      ]
     },
     "metadata": {},
     "output_type": "display_data"
    },
    {
     "data": {
      "text/html": [
       "<div class=\"progress\">\n",
       "  <div class=\"progress-bar\" role=\"progressbar\" style=\"background-color: blue; width: 100%; word-wrap: normal; white-space: nowrap; text-align: center; color: white\" aria-valuenow=\"100\" aria-valuemin=\"0\" aria-valuemax=\"100\">\n",
       "    4 / 4\n",
       "  </div>\n",
       "  <div class=\"progress-bar\" role=\"progressbar\" style=\"background-color: red; width: 0%\" aria-valuenow=\"0\" aria-valuemin=\"0\" aria-valuemax=\"100\"></div>\n",
       "</div>\n"
      ]
     },
     "metadata": {},
     "output_type": "display_data"
    },
    {
     "name": "stderr",
     "output_type": "stream",
     "text": [
      "21/05/19 15:53:50 INFO OWLQN: Step Size: 0.5000\n",
      "21/05/19 15:53:50 INFO OWLQN: Val and Grad Norm: 0.674414 (rel: 1.32e-06) 0.258499\n"
     ]
    },
    {
     "data": {
      "text/html": [
       "<div>\n",
       "  <span style=\"float: left;\">treeAggregate at RDDLossFunction.scala:61</span>\n",
       "</div>\n"
      ]
     },
     "metadata": {},
     "output_type": "display_data"
    },
    {
     "data": {
      "text/html": [
       "<div class=\"progress\">\n",
       "  <div class=\"progress-bar\" role=\"progressbar\" style=\"background-color: blue; width: 100%; word-wrap: normal; white-space: nowrap; text-align: center; color: white\" aria-valuenow=\"100\" aria-valuemin=\"0\" aria-valuemax=\"100\">\n",
       "    28 / 28\n",
       "  </div>\n",
       "  <div class=\"progress-bar\" role=\"progressbar\" style=\"background-color: red; width: 0%\" aria-valuenow=\"0\" aria-valuemin=\"0\" aria-valuemax=\"100\"></div>\n",
       "</div>\n"
      ]
     },
     "metadata": {},
     "output_type": "display_data"
    },
    {
     "data": {
      "text/html": [
       "<div>\n",
       "  <span style=\"float: left;\">treeAggregate at RDDLossFunction.scala:61</span>\n",
       "</div>\n"
      ]
     },
     "metadata": {},
     "output_type": "display_data"
    },
    {
     "data": {
      "text/html": [
       "<div class=\"progress\">\n",
       "  <div class=\"progress-bar\" role=\"progressbar\" style=\"background-color: blue; width: 100%; word-wrap: normal; white-space: nowrap; text-align: center; color: white\" aria-valuenow=\"100\" aria-valuemin=\"0\" aria-valuemax=\"100\">\n",
       "    4 / 4\n",
       "  </div>\n",
       "  <div class=\"progress-bar\" role=\"progressbar\" style=\"background-color: red; width: 0%\" aria-valuenow=\"0\" aria-valuemin=\"0\" aria-valuemax=\"100\"></div>\n",
       "</div>\n"
      ]
     },
     "metadata": {},
     "output_type": "display_data"
    },
    {
     "data": {
      "text/html": [
       "<div>\n",
       "  <span style=\"float: left;\">treeAggregate at RDDLossFunction.scala:61</span>\n",
       "</div>\n"
      ]
     },
     "metadata": {},
     "output_type": "display_data"
    },
    {
     "data": {
      "text/html": [
       "<div class=\"progress\">\n",
       "  <div class=\"progress-bar\" role=\"progressbar\" style=\"background-color: blue; width: 100%; word-wrap: normal; white-space: nowrap; text-align: center; color: white\" aria-valuenow=\"100\" aria-valuemin=\"0\" aria-valuemax=\"100\">\n",
       "    28 / 28\n",
       "  </div>\n",
       "  <div class=\"progress-bar\" role=\"progressbar\" style=\"background-color: red; width: 0%\" aria-valuenow=\"0\" aria-valuemin=\"0\" aria-valuemax=\"100\"></div>\n",
       "</div>\n"
      ]
     },
     "metadata": {},
     "output_type": "display_data"
    },
    {
     "data": {
      "text/html": [
       "<div>\n",
       "  <span style=\"float: left;\">treeAggregate at RDDLossFunction.scala:61</span>\n",
       "</div>\n"
      ]
     },
     "metadata": {},
     "output_type": "display_data"
    },
    {
     "data": {
      "text/html": [
       "<div class=\"progress\">\n",
       "  <div class=\"progress-bar\" role=\"progressbar\" style=\"background-color: blue; width: 100%; word-wrap: normal; white-space: nowrap; text-align: center; color: white\" aria-valuenow=\"100\" aria-valuemin=\"0\" aria-valuemax=\"100\">\n",
       "    4 / 4\n",
       "  </div>\n",
       "  <div class=\"progress-bar\" role=\"progressbar\" style=\"background-color: red; width: 0%\" aria-valuenow=\"0\" aria-valuemin=\"0\" aria-valuemax=\"100\"></div>\n",
       "</div>\n"
      ]
     },
     "metadata": {},
     "output_type": "display_data"
    },
    {
     "name": "stderr",
     "output_type": "stream",
     "text": [
      "21/05/19 15:53:54 INFO OWLQN: Step Size: 0.5000\n",
      "21/05/19 15:53:54 INFO OWLQN: Val and Grad Norm: 0.674412 (rel: 2.95e-06) 0.522413\n"
     ]
    },
    {
     "data": {
      "text/html": [
       "<div>\n",
       "  <span style=\"float: left;\">treeAggregate at RDDLossFunction.scala:61</span>\n",
       "</div>\n"
      ]
     },
     "metadata": {},
     "output_type": "display_data"
    },
    {
     "data": {
      "text/html": [
       "<div class=\"progress\">\n",
       "  <div class=\"progress-bar\" role=\"progressbar\" style=\"background-color: blue; width: 100%; word-wrap: normal; white-space: nowrap; text-align: center; color: white\" aria-valuenow=\"100\" aria-valuemin=\"0\" aria-valuemax=\"100\">\n",
       "    28 / 28\n",
       "  </div>\n",
       "  <div class=\"progress-bar\" role=\"progressbar\" style=\"background-color: red; width: 0%\" aria-valuenow=\"0\" aria-valuemin=\"0\" aria-valuemax=\"100\"></div>\n",
       "</div>\n"
      ]
     },
     "metadata": {},
     "output_type": "display_data"
    },
    {
     "data": {
      "text/html": [
       "<div>\n",
       "  <span style=\"float: left;\">treeAggregate at RDDLossFunction.scala:61</span>\n",
       "</div>\n"
      ]
     },
     "metadata": {},
     "output_type": "display_data"
    },
    {
     "data": {
      "text/html": [
       "<div class=\"progress\">\n",
       "  <div class=\"progress-bar\" role=\"progressbar\" style=\"background-color: blue; width: 100%; word-wrap: normal; white-space: nowrap; text-align: center; color: white\" aria-valuenow=\"100\" aria-valuemin=\"0\" aria-valuemax=\"100\">\n",
       "    4 / 4\n",
       "  </div>\n",
       "  <div class=\"progress-bar\" role=\"progressbar\" style=\"background-color: red; width: 0%\" aria-valuenow=\"0\" aria-valuemin=\"0\" aria-valuemax=\"100\"></div>\n",
       "</div>\n"
      ]
     },
     "metadata": {},
     "output_type": "display_data"
    },
    {
     "data": {
      "text/html": [
       "<div>\n",
       "  <span style=\"float: left;\">treeAggregate at RDDLossFunction.scala:61</span>\n",
       "</div>\n"
      ]
     },
     "metadata": {},
     "output_type": "display_data"
    },
    {
     "data": {
      "text/html": [
       "<div class=\"progress\">\n",
       "  <div class=\"progress-bar\" role=\"progressbar\" style=\"background-color: blue; width: 100%; word-wrap: normal; white-space: nowrap; text-align: center; color: white\" aria-valuenow=\"100\" aria-valuemin=\"0\" aria-valuemax=\"100\">\n",
       "    28 / 28\n",
       "  </div>\n",
       "  <div class=\"progress-bar\" role=\"progressbar\" style=\"background-color: red; width: 0%\" aria-valuenow=\"0\" aria-valuemin=\"0\" aria-valuemax=\"100\"></div>\n",
       "</div>\n"
      ]
     },
     "metadata": {},
     "output_type": "display_data"
    },
    {
     "data": {
      "text/html": [
       "<div>\n",
       "  <span style=\"float: left;\">treeAggregate at RDDLossFunction.scala:61</span>\n",
       "</div>\n"
      ]
     },
     "metadata": {},
     "output_type": "display_data"
    },
    {
     "data": {
      "text/html": [
       "<div class=\"progress\">\n",
       "  <div class=\"progress-bar\" role=\"progressbar\" style=\"background-color: blue; width: 100%; word-wrap: normal; white-space: nowrap; text-align: center; color: white\" aria-valuenow=\"100\" aria-valuemin=\"0\" aria-valuemax=\"100\">\n",
       "    4 / 4\n",
       "  </div>\n",
       "  <div class=\"progress-bar\" role=\"progressbar\" style=\"background-color: red; width: 0%\" aria-valuenow=\"0\" aria-valuemin=\"0\" aria-valuemax=\"100\"></div>\n",
       "</div>\n"
      ]
     },
     "metadata": {},
     "output_type": "display_data"
    },
    {
     "name": "stderr",
     "output_type": "stream",
     "text": [
      "21/05/19 15:53:58 INFO OWLQN: Step Size: 0.5000\n",
      "21/05/19 15:53:58 INFO OWLQN: Val and Grad Norm: 0.674410 (rel: 3.02e-06) 0.157329\n"
     ]
    },
    {
     "data": {
      "text/html": [
       "<div>\n",
       "  <span style=\"float: left;\">treeAggregate at RDDLossFunction.scala:61</span>\n",
       "</div>\n"
      ]
     },
     "metadata": {},
     "output_type": "display_data"
    },
    {
     "data": {
      "text/html": [
       "<div class=\"progress\">\n",
       "  <div class=\"progress-bar\" role=\"progressbar\" style=\"background-color: blue; width: 100%; word-wrap: normal; white-space: nowrap; text-align: center; color: white\" aria-valuenow=\"100\" aria-valuemin=\"0\" aria-valuemax=\"100\">\n",
       "    28 / 28\n",
       "  </div>\n",
       "  <div class=\"progress-bar\" role=\"progressbar\" style=\"background-color: red; width: 0%\" aria-valuenow=\"0\" aria-valuemin=\"0\" aria-valuemax=\"100\"></div>\n",
       "</div>\n"
      ]
     },
     "metadata": {},
     "output_type": "display_data"
    },
    {
     "data": {
      "text/html": [
       "<div>\n",
       "  <span style=\"float: left;\">treeAggregate at RDDLossFunction.scala:61</span>\n",
       "</div>\n"
      ]
     },
     "metadata": {},
     "output_type": "display_data"
    },
    {
     "data": {
      "text/html": [
       "<div class=\"progress\">\n",
       "  <div class=\"progress-bar\" role=\"progressbar\" style=\"background-color: blue; width: 100%; word-wrap: normal; white-space: nowrap; text-align: center; color: white\" aria-valuenow=\"100\" aria-valuemin=\"0\" aria-valuemax=\"100\">\n",
       "    4 / 4\n",
       "  </div>\n",
       "  <div class=\"progress-bar\" role=\"progressbar\" style=\"background-color: red; width: 0%\" aria-valuenow=\"0\" aria-valuemin=\"0\" aria-valuemax=\"100\"></div>\n",
       "</div>\n"
      ]
     },
     "metadata": {},
     "output_type": "display_data"
    },
    {
     "data": {
      "text/html": [
       "<div>\n",
       "  <span style=\"float: left;\">treeAggregate at RDDLossFunction.scala:61</span>\n",
       "</div>\n"
      ]
     },
     "metadata": {},
     "output_type": "display_data"
    },
    {
     "data": {
      "text/html": [
       "<div class=\"progress\">\n",
       "  <div class=\"progress-bar\" role=\"progressbar\" style=\"background-color: blue; width: 100%; word-wrap: normal; white-space: nowrap; text-align: center; color: white\" aria-valuenow=\"100\" aria-valuemin=\"0\" aria-valuemax=\"100\">\n",
       "    28 / 28\n",
       "  </div>\n",
       "  <div class=\"progress-bar\" role=\"progressbar\" style=\"background-color: red; width: 0%\" aria-valuenow=\"0\" aria-valuemin=\"0\" aria-valuemax=\"100\"></div>\n",
       "</div>\n"
      ]
     },
     "metadata": {},
     "output_type": "display_data"
    },
    {
     "data": {
      "text/html": [
       "<div>\n",
       "  <span style=\"float: left;\">treeAggregate at RDDLossFunction.scala:61</span>\n",
       "</div>\n"
      ]
     },
     "metadata": {},
     "output_type": "display_data"
    },
    {
     "data": {
      "text/html": [
       "<div class=\"progress\">\n",
       "  <div class=\"progress-bar\" role=\"progressbar\" style=\"background-color: blue; width: 100%; word-wrap: normal; white-space: nowrap; text-align: center; color: white\" aria-valuenow=\"100\" aria-valuemin=\"0\" aria-valuemax=\"100\">\n",
       "    4 / 4\n",
       "  </div>\n",
       "  <div class=\"progress-bar\" role=\"progressbar\" style=\"background-color: red; width: 0%\" aria-valuenow=\"0\" aria-valuemin=\"0\" aria-valuemax=\"100\"></div>\n",
       "</div>\n"
      ]
     },
     "metadata": {},
     "output_type": "display_data"
    },
    {
     "name": "stderr",
     "output_type": "stream",
     "text": [
      "21/05/19 15:54:02 INFO OWLQN: Step Size: 0.5000\n",
      "21/05/19 15:54:02 INFO OWLQN: Val and Grad Norm: 0.674409 (rel: 1.35e-06) 0.483171\n"
     ]
    },
    {
     "data": {
      "text/html": [
       "<div>\n",
       "  <span style=\"float: left;\">treeAggregate at RDDLossFunction.scala:61</span>\n",
       "</div>\n"
      ]
     },
     "metadata": {},
     "output_type": "display_data"
    },
    {
     "data": {
      "text/html": [
       "<div class=\"progress\">\n",
       "  <div class=\"progress-bar\" role=\"progressbar\" style=\"background-color: blue; width: 100%; word-wrap: normal; white-space: nowrap; text-align: center; color: white\" aria-valuenow=\"100\" aria-valuemin=\"0\" aria-valuemax=\"100\">\n",
       "    28 / 28\n",
       "  </div>\n",
       "  <div class=\"progress-bar\" role=\"progressbar\" style=\"background-color: red; width: 0%\" aria-valuenow=\"0\" aria-valuemin=\"0\" aria-valuemax=\"100\"></div>\n",
       "</div>\n"
      ]
     },
     "metadata": {},
     "output_type": "display_data"
    },
    {
     "data": {
      "text/html": [
       "<div>\n",
       "  <span style=\"float: left;\">treeAggregate at RDDLossFunction.scala:61</span>\n",
       "</div>\n"
      ]
     },
     "metadata": {},
     "output_type": "display_data"
    },
    {
     "data": {
      "text/html": [
       "<div class=\"progress\">\n",
       "  <div class=\"progress-bar\" role=\"progressbar\" style=\"background-color: blue; width: 100%; word-wrap: normal; white-space: nowrap; text-align: center; color: white\" aria-valuenow=\"100\" aria-valuemin=\"0\" aria-valuemax=\"100\">\n",
       "    4 / 4\n",
       "  </div>\n",
       "  <div class=\"progress-bar\" role=\"progressbar\" style=\"background-color: red; width: 0%\" aria-valuenow=\"0\" aria-valuemin=\"0\" aria-valuemax=\"100\"></div>\n",
       "</div>\n"
      ]
     },
     "metadata": {},
     "output_type": "display_data"
    },
    {
     "data": {
      "text/html": [
       "<div>\n",
       "  <span style=\"float: left;\">treeAggregate at RDDLossFunction.scala:61</span>\n",
       "</div>\n"
      ]
     },
     "metadata": {},
     "output_type": "display_data"
    },
    {
     "data": {
      "text/html": [
       "<div class=\"progress\">\n",
       "  <div class=\"progress-bar\" role=\"progressbar\" style=\"background-color: blue; width: 100%; word-wrap: normal; white-space: nowrap; text-align: center; color: white\" aria-valuenow=\"100\" aria-valuemin=\"0\" aria-valuemax=\"100\">\n",
       "    28 / 28\n",
       "  </div>\n",
       "  <div class=\"progress-bar\" role=\"progressbar\" style=\"background-color: red; width: 0%\" aria-valuenow=\"0\" aria-valuemin=\"0\" aria-valuemax=\"100\"></div>\n",
       "</div>\n"
      ]
     },
     "metadata": {},
     "output_type": "display_data"
    },
    {
     "data": {
      "text/html": [
       "<div>\n",
       "  <span style=\"float: left;\">treeAggregate at RDDLossFunction.scala:61</span>\n",
       "</div>\n"
      ]
     },
     "metadata": {},
     "output_type": "display_data"
    },
    {
     "data": {
      "text/html": [
       "<div class=\"progress\">\n",
       "  <div class=\"progress-bar\" role=\"progressbar\" style=\"background-color: blue; width: 100%; word-wrap: normal; white-space: nowrap; text-align: center; color: white\" aria-valuenow=\"100\" aria-valuemin=\"0\" aria-valuemax=\"100\">\n",
       "    4 / 4\n",
       "  </div>\n",
       "  <div class=\"progress-bar\" role=\"progressbar\" style=\"background-color: red; width: 0%\" aria-valuenow=\"0\" aria-valuemin=\"0\" aria-valuemax=\"100\"></div>\n",
       "</div>\n"
      ]
     },
     "metadata": {},
     "output_type": "display_data"
    },
    {
     "name": "stderr",
     "output_type": "stream",
     "text": [
      "21/05/19 15:54:06 INFO OWLQN: Step Size: 0.5000\n",
      "21/05/19 15:54:06 INFO OWLQN: Val and Grad Norm: 0.674407 (rel: 2.70e-06) 0.0678097\n"
     ]
    },
    {
     "data": {
      "text/html": [
       "<div>\n",
       "  <span style=\"float: left;\">treeAggregate at RDDLossFunction.scala:61</span>\n",
       "</div>\n"
      ]
     },
     "metadata": {},
     "output_type": "display_data"
    },
    {
     "data": {
      "text/html": [
       "<div class=\"progress\">\n",
       "  <div class=\"progress-bar\" role=\"progressbar\" style=\"background-color: blue; width: 100%; word-wrap: normal; white-space: nowrap; text-align: center; color: white\" aria-valuenow=\"100\" aria-valuemin=\"0\" aria-valuemax=\"100\">\n",
       "    28 / 28\n",
       "  </div>\n",
       "  <div class=\"progress-bar\" role=\"progressbar\" style=\"background-color: red; width: 0%\" aria-valuenow=\"0\" aria-valuemin=\"0\" aria-valuemax=\"100\"></div>\n",
       "</div>\n"
      ]
     },
     "metadata": {},
     "output_type": "display_data"
    },
    {
     "data": {
      "text/html": [
       "<div>\n",
       "  <span style=\"float: left;\">treeAggregate at RDDLossFunction.scala:61</span>\n",
       "</div>\n"
      ]
     },
     "metadata": {},
     "output_type": "display_data"
    },
    {
     "data": {
      "text/html": [
       "<div class=\"progress\">\n",
       "  <div class=\"progress-bar\" role=\"progressbar\" style=\"background-color: blue; width: 100%; word-wrap: normal; white-space: nowrap; text-align: center; color: white\" aria-valuenow=\"100\" aria-valuemin=\"0\" aria-valuemax=\"100\">\n",
       "    4 / 4\n",
       "  </div>\n",
       "  <div class=\"progress-bar\" role=\"progressbar\" style=\"background-color: red; width: 0%\" aria-valuenow=\"0\" aria-valuemin=\"0\" aria-valuemax=\"100\"></div>\n",
       "</div>\n"
      ]
     },
     "metadata": {},
     "output_type": "display_data"
    },
    {
     "data": {
      "text/html": [
       "<div>\n",
       "  <span style=\"float: left;\">treeAggregate at RDDLossFunction.scala:61</span>\n",
       "</div>\n"
      ]
     },
     "metadata": {},
     "output_type": "display_data"
    },
    {
     "data": {
      "text/html": [
       "<div class=\"progress\">\n",
       "  <div class=\"progress-bar\" role=\"progressbar\" style=\"background-color: blue; width: 100%; word-wrap: normal; white-space: nowrap; text-align: center; color: white\" aria-valuenow=\"100\" aria-valuemin=\"0\" aria-valuemax=\"100\">\n",
       "    28 / 28\n",
       "  </div>\n",
       "  <div class=\"progress-bar\" role=\"progressbar\" style=\"background-color: red; width: 0%\" aria-valuenow=\"0\" aria-valuemin=\"0\" aria-valuemax=\"100\"></div>\n",
       "</div>\n"
      ]
     },
     "metadata": {},
     "output_type": "display_data"
    },
    {
     "data": {
      "text/html": [
       "<div>\n",
       "  <span style=\"float: left;\">treeAggregate at RDDLossFunction.scala:61</span>\n",
       "</div>\n"
      ]
     },
     "metadata": {},
     "output_type": "display_data"
    },
    {
     "data": {
      "text/html": [
       "<div class=\"progress\">\n",
       "  <div class=\"progress-bar\" role=\"progressbar\" style=\"background-color: blue; width: 100%; word-wrap: normal; white-space: nowrap; text-align: center; color: white\" aria-valuenow=\"100\" aria-valuemin=\"0\" aria-valuemax=\"100\">\n",
       "    4 / 4\n",
       "  </div>\n",
       "  <div class=\"progress-bar\" role=\"progressbar\" style=\"background-color: red; width: 0%\" aria-valuenow=\"0\" aria-valuemin=\"0\" aria-valuemax=\"100\"></div>\n",
       "</div>\n"
      ]
     },
     "metadata": {},
     "output_type": "display_data"
    },
    {
     "name": "stderr",
     "output_type": "stream",
     "text": [
      "21/05/19 15:54:10 INFO OWLQN: Step Size: 0.5000\n",
      "21/05/19 15:54:10 INFO OWLQN: Val and Grad Norm: 0.674406 (rel: 1.11e-06) 0.384281\n"
     ]
    },
    {
     "data": {
      "text/html": [
       "<div>\n",
       "  <span style=\"float: left;\">treeAggregate at RDDLossFunction.scala:61</span>\n",
       "</div>\n"
      ]
     },
     "metadata": {},
     "output_type": "display_data"
    },
    {
     "data": {
      "text/html": [
       "<div class=\"progress\">\n",
       "  <div class=\"progress-bar\" role=\"progressbar\" style=\"background-color: blue; width: 100%; word-wrap: normal; white-space: nowrap; text-align: center; color: white\" aria-valuenow=\"100\" aria-valuemin=\"0\" aria-valuemax=\"100\">\n",
       "    28 / 28\n",
       "  </div>\n",
       "  <div class=\"progress-bar\" role=\"progressbar\" style=\"background-color: red; width: 0%\" aria-valuenow=\"0\" aria-valuemin=\"0\" aria-valuemax=\"100\"></div>\n",
       "</div>\n"
      ]
     },
     "metadata": {},
     "output_type": "display_data"
    },
    {
     "data": {
      "text/html": [
       "<div>\n",
       "  <span style=\"float: left;\">treeAggregate at RDDLossFunction.scala:61</span>\n",
       "</div>\n"
      ]
     },
     "metadata": {},
     "output_type": "display_data"
    },
    {
     "data": {
      "text/html": [
       "<div class=\"progress\">\n",
       "  <div class=\"progress-bar\" role=\"progressbar\" style=\"background-color: blue; width: 100%; word-wrap: normal; white-space: nowrap; text-align: center; color: white\" aria-valuenow=\"100\" aria-valuemin=\"0\" aria-valuemax=\"100\">\n",
       "    4 / 4\n",
       "  </div>\n",
       "  <div class=\"progress-bar\" role=\"progressbar\" style=\"background-color: red; width: 0%\" aria-valuenow=\"0\" aria-valuemin=\"0\" aria-valuemax=\"100\"></div>\n",
       "</div>\n"
      ]
     },
     "metadata": {},
     "output_type": "display_data"
    },
    {
     "data": {
      "text/html": [
       "<div>\n",
       "  <span style=\"float: left;\">treeAggregate at RDDLossFunction.scala:61</span>\n",
       "</div>\n"
      ]
     },
     "metadata": {},
     "output_type": "display_data"
    },
    {
     "data": {
      "text/html": [
       "<div class=\"progress\">\n",
       "  <div class=\"progress-bar\" role=\"progressbar\" style=\"background-color: blue; width: 100%; word-wrap: normal; white-space: nowrap; text-align: center; color: white\" aria-valuenow=\"100\" aria-valuemin=\"0\" aria-valuemax=\"100\">\n",
       "    28 / 28\n",
       "  </div>\n",
       "  <div class=\"progress-bar\" role=\"progressbar\" style=\"background-color: red; width: 0%\" aria-valuenow=\"0\" aria-valuemin=\"0\" aria-valuemax=\"100\"></div>\n",
       "</div>\n"
      ]
     },
     "metadata": {},
     "output_type": "display_data"
    },
    {
     "data": {
      "text/html": [
       "<div>\n",
       "  <span style=\"float: left;\">treeAggregate at RDDLossFunction.scala:61</span>\n",
       "</div>\n"
      ]
     },
     "metadata": {},
     "output_type": "display_data"
    },
    {
     "data": {
      "text/html": [
       "<div class=\"progress\">\n",
       "  <div class=\"progress-bar\" role=\"progressbar\" style=\"background-color: blue; width: 100%; word-wrap: normal; white-space: nowrap; text-align: center; color: white\" aria-valuenow=\"100\" aria-valuemin=\"0\" aria-valuemax=\"100\">\n",
       "    4 / 4\n",
       "  </div>\n",
       "  <div class=\"progress-bar\" role=\"progressbar\" style=\"background-color: red; width: 0%\" aria-valuenow=\"0\" aria-valuemin=\"0\" aria-valuemax=\"100\"></div>\n",
       "</div>\n"
      ]
     },
     "metadata": {},
     "output_type": "display_data"
    },
    {
     "name": "stderr",
     "output_type": "stream",
     "text": [
      "21/05/19 15:54:14 INFO OWLQN: Step Size: 0.5000\n",
      "21/05/19 15:54:14 INFO OWLQN: Val and Grad Norm: 0.674405 (rel: 1.51e-06) 0.0596176\n"
     ]
    },
    {
     "data": {
      "text/html": [
       "<div>\n",
       "  <span style=\"float: left;\">treeAggregate at RDDLossFunction.scala:61</span>\n",
       "</div>\n"
      ]
     },
     "metadata": {},
     "output_type": "display_data"
    },
    {
     "data": {
      "text/html": [
       "<div class=\"progress\">\n",
       "  <div class=\"progress-bar\" role=\"progressbar\" style=\"background-color: blue; width: 100%; word-wrap: normal; white-space: nowrap; text-align: center; color: white\" aria-valuenow=\"100\" aria-valuemin=\"0\" aria-valuemax=\"100\">\n",
       "    28 / 28\n",
       "  </div>\n",
       "  <div class=\"progress-bar\" role=\"progressbar\" style=\"background-color: red; width: 0%\" aria-valuenow=\"0\" aria-valuemin=\"0\" aria-valuemax=\"100\"></div>\n",
       "</div>\n"
      ]
     },
     "metadata": {},
     "output_type": "display_data"
    },
    {
     "data": {
      "text/html": [
       "<div>\n",
       "  <span style=\"float: left;\">treeAggregate at RDDLossFunction.scala:61</span>\n",
       "</div>\n"
      ]
     },
     "metadata": {},
     "output_type": "display_data"
    },
    {
     "data": {
      "text/html": [
       "<div class=\"progress\">\n",
       "  <div class=\"progress-bar\" role=\"progressbar\" style=\"background-color: blue; width: 100%; word-wrap: normal; white-space: nowrap; text-align: center; color: white\" aria-valuenow=\"100\" aria-valuemin=\"0\" aria-valuemax=\"100\">\n",
       "    4 / 4\n",
       "  </div>\n",
       "  <div class=\"progress-bar\" role=\"progressbar\" style=\"background-color: red; width: 0%\" aria-valuenow=\"0\" aria-valuemin=\"0\" aria-valuemax=\"100\"></div>\n",
       "</div>\n"
      ]
     },
     "metadata": {},
     "output_type": "display_data"
    },
    {
     "data": {
      "text/html": [
       "<div>\n",
       "  <span style=\"float: left;\">treeAggregate at RDDLossFunction.scala:61</span>\n",
       "</div>\n"
      ]
     },
     "metadata": {},
     "output_type": "display_data"
    },
    {
     "data": {
      "text/html": [
       "<div class=\"progress\">\n",
       "  <div class=\"progress-bar\" role=\"progressbar\" style=\"background-color: blue; width: 100%; word-wrap: normal; white-space: nowrap; text-align: center; color: white\" aria-valuenow=\"100\" aria-valuemin=\"0\" aria-valuemax=\"100\">\n",
       "    28 / 28\n",
       "  </div>\n",
       "  <div class=\"progress-bar\" role=\"progressbar\" style=\"background-color: red; width: 0%\" aria-valuenow=\"0\" aria-valuemin=\"0\" aria-valuemax=\"100\"></div>\n",
       "</div>\n"
      ]
     },
     "metadata": {},
     "output_type": "display_data"
    },
    {
     "data": {
      "text/html": [
       "<div>\n",
       "  <span style=\"float: left;\">treeAggregate at RDDLossFunction.scala:61</span>\n",
       "</div>\n"
      ]
     },
     "metadata": {},
     "output_type": "display_data"
    },
    {
     "data": {
      "text/html": [
       "<div class=\"progress\">\n",
       "  <div class=\"progress-bar\" role=\"progressbar\" style=\"background-color: blue; width: 100%; word-wrap: normal; white-space: nowrap; text-align: center; color: white\" aria-valuenow=\"100\" aria-valuemin=\"0\" aria-valuemax=\"100\">\n",
       "    4 / 4\n",
       "  </div>\n",
       "  <div class=\"progress-bar\" role=\"progressbar\" style=\"background-color: red; width: 0%\" aria-valuenow=\"0\" aria-valuemin=\"0\" aria-valuemax=\"100\"></div>\n",
       "</div>\n"
      ]
     },
     "metadata": {},
     "output_type": "display_data"
    },
    {
     "name": "stderr",
     "output_type": "stream",
     "text": [
      "21/05/19 15:54:17 INFO OWLQN: Step Size: 0.5000\n",
      "21/05/19 15:54:17 INFO OWLQN: Val and Grad Norm: 0.674405 (rel: 8.56e-07) 0.329948\n"
     ]
    },
    {
     "data": {
      "text/html": [
       "<div>\n",
       "  <span style=\"float: left;\">treeAggregate at RDDLossFunction.scala:61</span>\n",
       "</div>\n"
      ]
     },
     "metadata": {},
     "output_type": "display_data"
    },
    {
     "data": {
      "text/html": [
       "<div class=\"progress\">\n",
       "  <div class=\"progress-bar\" role=\"progressbar\" style=\"background-color: blue; width: 100%; word-wrap: normal; white-space: nowrap; text-align: center; color: white\" aria-valuenow=\"100\" aria-valuemin=\"0\" aria-valuemax=\"100\">\n",
       "    28 / 28\n",
       "  </div>\n",
       "  <div class=\"progress-bar\" role=\"progressbar\" style=\"background-color: red; width: 0%\" aria-valuenow=\"0\" aria-valuemin=\"0\" aria-valuemax=\"100\"></div>\n",
       "</div>\n"
      ]
     },
     "metadata": {},
     "output_type": "display_data"
    },
    {
     "data": {
      "text/html": [
       "<div>\n",
       "  <span style=\"float: left;\">treeAggregate at RDDLossFunction.scala:61</span>\n",
       "</div>\n"
      ]
     },
     "metadata": {},
     "output_type": "display_data"
    },
    {
     "data": {
      "text/html": [
       "<div class=\"progress\">\n",
       "  <div class=\"progress-bar\" role=\"progressbar\" style=\"background-color: blue; width: 100%; word-wrap: normal; white-space: nowrap; text-align: center; color: white\" aria-valuenow=\"100\" aria-valuemin=\"0\" aria-valuemax=\"100\">\n",
       "    4 / 4\n",
       "  </div>\n",
       "  <div class=\"progress-bar\" role=\"progressbar\" style=\"background-color: red; width: 0%\" aria-valuenow=\"0\" aria-valuemin=\"0\" aria-valuemax=\"100\"></div>\n",
       "</div>\n"
      ]
     },
     "metadata": {},
     "output_type": "display_data"
    },
    {
     "data": {
      "text/html": [
       "<div>\n",
       "  <span style=\"float: left;\">treeAggregate at RDDLossFunction.scala:61</span>\n",
       "</div>\n"
      ]
     },
     "metadata": {},
     "output_type": "display_data"
    },
    {
     "data": {
      "text/html": [
       "<div class=\"progress\">\n",
       "  <div class=\"progress-bar\" role=\"progressbar\" style=\"background-color: blue; width: 100%; word-wrap: normal; white-space: nowrap; text-align: center; color: white\" aria-valuenow=\"100\" aria-valuemin=\"0\" aria-valuemax=\"100\">\n",
       "    28 / 28\n",
       "  </div>\n",
       "  <div class=\"progress-bar\" role=\"progressbar\" style=\"background-color: red; width: 0%\" aria-valuenow=\"0\" aria-valuemin=\"0\" aria-valuemax=\"100\"></div>\n",
       "</div>\n"
      ]
     },
     "metadata": {},
     "output_type": "display_data"
    },
    {
     "data": {
      "text/html": [
       "<div>\n",
       "  <span style=\"float: left;\">treeAggregate at RDDLossFunction.scala:61</span>\n",
       "</div>\n"
      ]
     },
     "metadata": {},
     "output_type": "display_data"
    },
    {
     "data": {
      "text/html": [
       "<div class=\"progress\">\n",
       "  <div class=\"progress-bar\" role=\"progressbar\" style=\"background-color: blue; width: 100%; word-wrap: normal; white-space: nowrap; text-align: center; color: white\" aria-valuenow=\"100\" aria-valuemin=\"0\" aria-valuemax=\"100\">\n",
       "    4 / 4\n",
       "  </div>\n",
       "  <div class=\"progress-bar\" role=\"progressbar\" style=\"background-color: red; width: 0%\" aria-valuenow=\"0\" aria-valuemin=\"0\" aria-valuemax=\"100\"></div>\n",
       "</div>\n"
      ]
     },
     "metadata": {},
     "output_type": "display_data"
    },
    {
     "name": "stderr",
     "output_type": "stream",
     "text": [
      "21/05/19 15:54:21 INFO OWLQN: Step Size: 0.5000\n",
      "21/05/19 15:54:21 INFO OWLQN: Val and Grad Norm: 0.674404 (rel: 1.00e-06) 0.0171140\n"
     ]
    },
    {
     "data": {
      "text/html": [
       "<div>\n",
       "  <span style=\"float: left;\">treeAggregate at RDDLossFunction.scala:61</span>\n",
       "</div>\n"
      ]
     },
     "metadata": {},
     "output_type": "display_data"
    },
    {
     "data": {
      "text/html": [
       "<div class=\"progress\">\n",
       "  <div class=\"progress-bar\" role=\"progressbar\" style=\"background-color: blue; width: 100%; word-wrap: normal; white-space: nowrap; text-align: center; color: white\" aria-valuenow=\"100\" aria-valuemin=\"0\" aria-valuemax=\"100\">\n",
       "    28 / 28\n",
       "  </div>\n",
       "  <div class=\"progress-bar\" role=\"progressbar\" style=\"background-color: red; width: 0%\" aria-valuenow=\"0\" aria-valuemin=\"0\" aria-valuemax=\"100\"></div>\n",
       "</div>\n"
      ]
     },
     "metadata": {},
     "output_type": "display_data"
    },
    {
     "data": {
      "text/html": [
       "<div>\n",
       "  <span style=\"float: left;\">treeAggregate at RDDLossFunction.scala:61</span>\n",
       "</div>\n"
      ]
     },
     "metadata": {},
     "output_type": "display_data"
    },
    {
     "data": {
      "text/html": [
       "<div class=\"progress\">\n",
       "  <div class=\"progress-bar\" role=\"progressbar\" style=\"background-color: blue; width: 100%; word-wrap: normal; white-space: nowrap; text-align: center; color: white\" aria-valuenow=\"100\" aria-valuemin=\"0\" aria-valuemax=\"100\">\n",
       "    4 / 4\n",
       "  </div>\n",
       "  <div class=\"progress-bar\" role=\"progressbar\" style=\"background-color: red; width: 0%\" aria-valuenow=\"0\" aria-valuemin=\"0\" aria-valuemax=\"100\"></div>\n",
       "</div>\n"
      ]
     },
     "metadata": {},
     "output_type": "display_data"
    },
    {
     "data": {
      "text/html": [
       "<div>\n",
       "  <span style=\"float: left;\">treeAggregate at RDDLossFunction.scala:61</span>\n",
       "</div>\n"
      ]
     },
     "metadata": {},
     "output_type": "display_data"
    },
    {
     "data": {
      "text/html": [
       "<div class=\"progress\">\n",
       "  <div class=\"progress-bar\" role=\"progressbar\" style=\"background-color: blue; width: 100%; word-wrap: normal; white-space: nowrap; text-align: center; color: white\" aria-valuenow=\"100\" aria-valuemin=\"0\" aria-valuemax=\"100\">\n",
       "    28 / 28\n",
       "  </div>\n",
       "  <div class=\"progress-bar\" role=\"progressbar\" style=\"background-color: red; width: 0%\" aria-valuenow=\"0\" aria-valuemin=\"0\" aria-valuemax=\"100\"></div>\n",
       "</div>\n"
      ]
     },
     "metadata": {},
     "output_type": "display_data"
    },
    {
     "data": {
      "text/html": [
       "<div>\n",
       "  <span style=\"float: left;\">treeAggregate at RDDLossFunction.scala:61</span>\n",
       "</div>\n"
      ]
     },
     "metadata": {},
     "output_type": "display_data"
    },
    {
     "data": {
      "text/html": [
       "<div class=\"progress\">\n",
       "  <div class=\"progress-bar\" role=\"progressbar\" style=\"background-color: blue; width: 100%; word-wrap: normal; white-space: nowrap; text-align: center; color: white\" aria-valuenow=\"100\" aria-valuemin=\"0\" aria-valuemax=\"100\">\n",
       "    4 / 4\n",
       "  </div>\n",
       "  <div class=\"progress-bar\" role=\"progressbar\" style=\"background-color: red; width: 0%\" aria-valuenow=\"0\" aria-valuemin=\"0\" aria-valuemax=\"100\"></div>\n",
       "</div>\n"
      ]
     },
     "metadata": {},
     "output_type": "display_data"
    },
    {
     "name": "stderr",
     "output_type": "stream",
     "text": [
      "21/05/19 15:54:25 INFO OWLQN: Step Size: 0.5000\n",
      "21/05/19 15:54:25 INFO OWLQN: Val and Grad Norm: 0.674403 (rel: 8.68e-07) 0.229520\n"
     ]
    },
    {
     "data": {
      "text/html": [
       "<div>\n",
       "  <span style=\"float: left;\">treeAggregate at RDDLossFunction.scala:61</span>\n",
       "</div>\n"
      ]
     },
     "metadata": {},
     "output_type": "display_data"
    },
    {
     "data": {
      "text/html": [
       "<div class=\"progress\">\n",
       "  <div class=\"progress-bar\" role=\"progressbar\" style=\"background-color: blue; width: 100%; word-wrap: normal; white-space: nowrap; text-align: center; color: white\" aria-valuenow=\"100\" aria-valuemin=\"0\" aria-valuemax=\"100\">\n",
       "    28 / 28\n",
       "  </div>\n",
       "  <div class=\"progress-bar\" role=\"progressbar\" style=\"background-color: red; width: 0%\" aria-valuenow=\"0\" aria-valuemin=\"0\" aria-valuemax=\"100\"></div>\n",
       "</div>\n"
      ]
     },
     "metadata": {},
     "output_type": "display_data"
    },
    {
     "data": {
      "text/html": [
       "<div>\n",
       "  <span style=\"float: left;\">treeAggregate at RDDLossFunction.scala:61</span>\n",
       "</div>\n"
      ]
     },
     "metadata": {},
     "output_type": "display_data"
    },
    {
     "data": {
      "text/html": [
       "<div class=\"progress\">\n",
       "  <div class=\"progress-bar\" role=\"progressbar\" style=\"background-color: blue; width: 100%; word-wrap: normal; white-space: nowrap; text-align: center; color: white\" aria-valuenow=\"100\" aria-valuemin=\"0\" aria-valuemax=\"100\">\n",
       "    4 / 4\n",
       "  </div>\n",
       "  <div class=\"progress-bar\" role=\"progressbar\" style=\"background-color: red; width: 0%\" aria-valuenow=\"0\" aria-valuemin=\"0\" aria-valuemax=\"100\"></div>\n",
       "</div>\n"
      ]
     },
     "metadata": {},
     "output_type": "display_data"
    },
    {
     "data": {
      "text/html": [
       "<div>\n",
       "  <span style=\"float: left;\">treeAggregate at RDDLossFunction.scala:61</span>\n",
       "</div>\n"
      ]
     },
     "metadata": {},
     "output_type": "display_data"
    },
    {
     "data": {
      "text/html": [
       "<div class=\"progress\">\n",
       "  <div class=\"progress-bar\" role=\"progressbar\" style=\"background-color: blue; width: 100%; word-wrap: normal; white-space: nowrap; text-align: center; color: white\" aria-valuenow=\"100\" aria-valuemin=\"0\" aria-valuemax=\"100\">\n",
       "    28 / 28\n",
       "  </div>\n",
       "  <div class=\"progress-bar\" role=\"progressbar\" style=\"background-color: red; width: 0%\" aria-valuenow=\"0\" aria-valuemin=\"0\" aria-valuemax=\"100\"></div>\n",
       "</div>\n"
      ]
     },
     "metadata": {},
     "output_type": "display_data"
    },
    {
     "data": {
      "text/html": [
       "<div>\n",
       "  <span style=\"float: left;\">treeAggregate at RDDLossFunction.scala:61</span>\n",
       "</div>\n"
      ]
     },
     "metadata": {},
     "output_type": "display_data"
    },
    {
     "data": {
      "text/html": [
       "<div class=\"progress\">\n",
       "  <div class=\"progress-bar\" role=\"progressbar\" style=\"background-color: blue; width: 100%; word-wrap: normal; white-space: nowrap; text-align: center; color: white\" aria-valuenow=\"100\" aria-valuemin=\"0\" aria-valuemax=\"100\">\n",
       "    4 / 4\n",
       "  </div>\n",
       "  <div class=\"progress-bar\" role=\"progressbar\" style=\"background-color: red; width: 0%\" aria-valuenow=\"0\" aria-valuemin=\"0\" aria-valuemax=\"100\"></div>\n",
       "</div>\n"
      ]
     },
     "metadata": {},
     "output_type": "display_data"
    },
    {
     "name": "stderr",
     "output_type": "stream",
     "text": [
      "21/05/19 15:54:31 INFO OWLQN: Step Size: 0.5000\n",
      "21/05/19 15:54:31 INFO OWLQN: Val and Grad Norm: 0.674403 (rel: 3.50e-07) 0.0336426\n"
     ]
    },
    {
     "data": {
      "text/html": [
       "<div>\n",
       "  <span style=\"float: left;\">treeAggregate at RDDLossFunction.scala:61</span>\n",
       "</div>\n"
      ]
     },
     "metadata": {},
     "output_type": "display_data"
    },
    {
     "data": {
      "text/html": [
       "<div class=\"progress\">\n",
       "  <div class=\"progress-bar\" role=\"progressbar\" style=\"background-color: blue; width: 100%; word-wrap: normal; white-space: nowrap; text-align: center; color: white\" aria-valuenow=\"100\" aria-valuemin=\"0\" aria-valuemax=\"100\">\n",
       "    28 / 28\n",
       "  </div>\n",
       "  <div class=\"progress-bar\" role=\"progressbar\" style=\"background-color: red; width: 0%\" aria-valuenow=\"0\" aria-valuemin=\"0\" aria-valuemax=\"100\"></div>\n",
       "</div>\n"
      ]
     },
     "metadata": {},
     "output_type": "display_data"
    },
    {
     "data": {
      "text/html": [
       "<div>\n",
       "  <span style=\"float: left;\">treeAggregate at RDDLossFunction.scala:61</span>\n",
       "</div>\n"
      ]
     },
     "metadata": {},
     "output_type": "display_data"
    },
    {
     "data": {
      "text/html": [
       "<div class=\"progress\">\n",
       "  <div class=\"progress-bar\" role=\"progressbar\" style=\"background-color: blue; width: 100%; word-wrap: normal; white-space: nowrap; text-align: center; color: white\" aria-valuenow=\"100\" aria-valuemin=\"0\" aria-valuemax=\"100\">\n",
       "    4 / 4\n",
       "  </div>\n",
       "  <div class=\"progress-bar\" role=\"progressbar\" style=\"background-color: red; width: 0%\" aria-valuenow=\"0\" aria-valuemin=\"0\" aria-valuemax=\"100\"></div>\n",
       "</div>\n"
      ]
     },
     "metadata": {},
     "output_type": "display_data"
    },
    {
     "data": {
      "text/html": [
       "<div>\n",
       "  <span style=\"float: left;\">treeAggregate at RDDLossFunction.scala:61</span>\n",
       "</div>\n"
      ]
     },
     "metadata": {},
     "output_type": "display_data"
    },
    {
     "data": {
      "text/html": [
       "<div class=\"progress\">\n",
       "  <div class=\"progress-bar\" role=\"progressbar\" style=\"background-color: blue; width: 100%; word-wrap: normal; white-space: nowrap; text-align: center; color: white\" aria-valuenow=\"100\" aria-valuemin=\"0\" aria-valuemax=\"100\">\n",
       "    28 / 28\n",
       "  </div>\n",
       "  <div class=\"progress-bar\" role=\"progressbar\" style=\"background-color: red; width: 0%\" aria-valuenow=\"0\" aria-valuemin=\"0\" aria-valuemax=\"100\"></div>\n",
       "</div>\n"
      ]
     },
     "metadata": {},
     "output_type": "display_data"
    },
    {
     "data": {
      "text/html": [
       "<div>\n",
       "  <span style=\"float: left;\">treeAggregate at RDDLossFunction.scala:61</span>\n",
       "</div>\n"
      ]
     },
     "metadata": {},
     "output_type": "display_data"
    },
    {
     "data": {
      "text/html": [
       "<div class=\"progress\">\n",
       "  <div class=\"progress-bar\" role=\"progressbar\" style=\"background-color: blue; width: 100%; word-wrap: normal; white-space: nowrap; text-align: center; color: white\" aria-valuenow=\"100\" aria-valuemin=\"0\" aria-valuemax=\"100\">\n",
       "    4 / 4\n",
       "  </div>\n",
       "  <div class=\"progress-bar\" role=\"progressbar\" style=\"background-color: red; width: 0%\" aria-valuenow=\"0\" aria-valuemin=\"0\" aria-valuemax=\"100\"></div>\n",
       "</div>\n"
      ]
     },
     "metadata": {},
     "output_type": "display_data"
    },
    {
     "name": "stderr",
     "output_type": "stream",
     "text": [
      "21/05/19 15:54:35 INFO OWLQN: Step Size: 0.5000\n",
      "21/05/19 15:54:35 INFO OWLQN: Val and Grad Norm: 0.674403 (rel: 5.72e-07) 0.227125\n"
     ]
    },
    {
     "data": {
      "text/html": [
       "<div>\n",
       "  <span style=\"float: left;\">treeAggregate at RDDLossFunction.scala:61</span>\n",
       "</div>\n"
      ]
     },
     "metadata": {},
     "output_type": "display_data"
    },
    {
     "data": {
      "text/html": [
       "<div class=\"progress\">\n",
       "  <div class=\"progress-bar\" role=\"progressbar\" style=\"background-color: blue; width: 100%; word-wrap: normal; white-space: nowrap; text-align: center; color: white\" aria-valuenow=\"100\" aria-valuemin=\"0\" aria-valuemax=\"100\">\n",
       "    28 / 28\n",
       "  </div>\n",
       "  <div class=\"progress-bar\" role=\"progressbar\" style=\"background-color: red; width: 0%\" aria-valuenow=\"0\" aria-valuemin=\"0\" aria-valuemax=\"100\"></div>\n",
       "</div>\n"
      ]
     },
     "metadata": {},
     "output_type": "display_data"
    },
    {
     "data": {
      "text/html": [
       "<div>\n",
       "  <span style=\"float: left;\">treeAggregate at RDDLossFunction.scala:61</span>\n",
       "</div>\n"
      ]
     },
     "metadata": {},
     "output_type": "display_data"
    },
    {
     "data": {
      "text/html": [
       "<div class=\"progress\">\n",
       "  <div class=\"progress-bar\" role=\"progressbar\" style=\"background-color: blue; width: 100%; word-wrap: normal; white-space: nowrap; text-align: center; color: white\" aria-valuenow=\"100\" aria-valuemin=\"0\" aria-valuemax=\"100\">\n",
       "    4 / 4\n",
       "  </div>\n",
       "  <div class=\"progress-bar\" role=\"progressbar\" style=\"background-color: red; width: 0%\" aria-valuenow=\"0\" aria-valuemin=\"0\" aria-valuemax=\"100\"></div>\n",
       "</div>\n"
      ]
     },
     "metadata": {},
     "output_type": "display_data"
    },
    {
     "data": {
      "text/html": [
       "<div>\n",
       "  <span style=\"float: left;\">treeAggregate at RDDLossFunction.scala:61</span>\n",
       "</div>\n"
      ]
     },
     "metadata": {},
     "output_type": "display_data"
    },
    {
     "data": {
      "text/html": [
       "<div class=\"progress\">\n",
       "  <div class=\"progress-bar\" role=\"progressbar\" style=\"background-color: blue; width: 100%; word-wrap: normal; white-space: nowrap; text-align: center; color: white\" aria-valuenow=\"100\" aria-valuemin=\"0\" aria-valuemax=\"100\">\n",
       "    28 / 28\n",
       "  </div>\n",
       "  <div class=\"progress-bar\" role=\"progressbar\" style=\"background-color: red; width: 0%\" aria-valuenow=\"0\" aria-valuemin=\"0\" aria-valuemax=\"100\"></div>\n",
       "</div>\n"
      ]
     },
     "metadata": {},
     "output_type": "display_data"
    },
    {
     "data": {
      "text/html": [
       "<div>\n",
       "  <span style=\"float: left;\">treeAggregate at RDDLossFunction.scala:61</span>\n",
       "</div>\n"
      ]
     },
     "metadata": {},
     "output_type": "display_data"
    },
    {
     "data": {
      "text/html": [
       "<div class=\"progress\">\n",
       "  <div class=\"progress-bar\" role=\"progressbar\" style=\"background-color: blue; width: 100%; word-wrap: normal; white-space: nowrap; text-align: center; color: white\" aria-valuenow=\"100\" aria-valuemin=\"0\" aria-valuemax=\"100\">\n",
       "    4 / 4\n",
       "  </div>\n",
       "  <div class=\"progress-bar\" role=\"progressbar\" style=\"background-color: red; width: 0%\" aria-valuenow=\"0\" aria-valuemin=\"0\" aria-valuemax=\"100\"></div>\n",
       "</div>\n"
      ]
     },
     "metadata": {},
     "output_type": "display_data"
    },
    {
     "name": "stderr",
     "output_type": "stream",
     "text": [
      "21/05/19 15:54:39 INFO OWLQN: Step Size: 0.5000\n",
      "21/05/19 15:54:39 INFO OWLQN: Val and Grad Norm: 0.674402 (rel: 4.73e-07) 0.0155418\n"
     ]
    },
    {
     "data": {
      "text/html": [
       "<div>\n",
       "  <span style=\"float: left;\">treeAggregate at RDDLossFunction.scala:61</span>\n",
       "</div>\n"
      ]
     },
     "metadata": {},
     "output_type": "display_data"
    },
    {
     "data": {
      "text/html": [
       "<div class=\"progress\">\n",
       "  <div class=\"progress-bar\" role=\"progressbar\" style=\"background-color: blue; width: 100%; word-wrap: normal; white-space: nowrap; text-align: center; color: white\" aria-valuenow=\"100\" aria-valuemin=\"0\" aria-valuemax=\"100\">\n",
       "    28 / 28\n",
       "  </div>\n",
       "  <div class=\"progress-bar\" role=\"progressbar\" style=\"background-color: red; width: 0%\" aria-valuenow=\"0\" aria-valuemin=\"0\" aria-valuemax=\"100\"></div>\n",
       "</div>\n"
      ]
     },
     "metadata": {},
     "output_type": "display_data"
    },
    {
     "data": {
      "text/html": [
       "<div>\n",
       "  <span style=\"float: left;\">treeAggregate at RDDLossFunction.scala:61</span>\n",
       "</div>\n"
      ]
     },
     "metadata": {},
     "output_type": "display_data"
    },
    {
     "data": {
      "text/html": [
       "<div class=\"progress\">\n",
       "  <div class=\"progress-bar\" role=\"progressbar\" style=\"background-color: blue; width: 100%; word-wrap: normal; white-space: nowrap; text-align: center; color: white\" aria-valuenow=\"100\" aria-valuemin=\"0\" aria-valuemax=\"100\">\n",
       "    4 / 4\n",
       "  </div>\n",
       "  <div class=\"progress-bar\" role=\"progressbar\" style=\"background-color: red; width: 0%\" aria-valuenow=\"0\" aria-valuemin=\"0\" aria-valuemax=\"100\"></div>\n",
       "</div>\n"
      ]
     },
     "metadata": {},
     "output_type": "display_data"
    },
    {
     "data": {
      "text/html": [
       "<div>\n",
       "  <span style=\"float: left;\">treeAggregate at RDDLossFunction.scala:61</span>\n",
       "</div>\n"
      ]
     },
     "metadata": {},
     "output_type": "display_data"
    },
    {
     "data": {
      "text/html": [
       "<div class=\"progress\">\n",
       "  <div class=\"progress-bar\" role=\"progressbar\" style=\"background-color: blue; width: 100%; word-wrap: normal; white-space: nowrap; text-align: center; color: white\" aria-valuenow=\"100\" aria-valuemin=\"0\" aria-valuemax=\"100\">\n",
       "    28 / 28\n",
       "  </div>\n",
       "  <div class=\"progress-bar\" role=\"progressbar\" style=\"background-color: red; width: 0%\" aria-valuenow=\"0\" aria-valuemin=\"0\" aria-valuemax=\"100\"></div>\n",
       "</div>\n"
      ]
     },
     "metadata": {},
     "output_type": "display_data"
    },
    {
     "data": {
      "text/html": [
       "<div>\n",
       "  <span style=\"float: left;\">treeAggregate at RDDLossFunction.scala:61</span>\n",
       "</div>\n"
      ]
     },
     "metadata": {},
     "output_type": "display_data"
    },
    {
     "data": {
      "text/html": [
       "<div class=\"progress\">\n",
       "  <div class=\"progress-bar\" role=\"progressbar\" style=\"background-color: blue; width: 100%; word-wrap: normal; white-space: nowrap; text-align: center; color: white\" aria-valuenow=\"100\" aria-valuemin=\"0\" aria-valuemax=\"100\">\n",
       "    4 / 4\n",
       "  </div>\n",
       "  <div class=\"progress-bar\" role=\"progressbar\" style=\"background-color: red; width: 0%\" aria-valuenow=\"0\" aria-valuemin=\"0\" aria-valuemax=\"100\"></div>\n",
       "</div>\n"
      ]
     },
     "metadata": {},
     "output_type": "display_data"
    },
    {
     "name": "stderr",
     "output_type": "stream",
     "text": [
      "21/05/19 15:54:43 INFO OWLQN: Step Size: 0.5000\n",
      "21/05/19 15:54:43 INFO OWLQN: Val and Grad Norm: 0.674402 (rel: 5.52e-07) 0.183755\n"
     ]
    },
    {
     "data": {
      "text/html": [
       "<div>\n",
       "  <span style=\"float: left;\">treeAggregate at RDDLossFunction.scala:61</span>\n",
       "</div>\n"
      ]
     },
     "metadata": {},
     "output_type": "display_data"
    },
    {
     "data": {
      "text/html": [
       "<div class=\"progress\">\n",
       "  <div class=\"progress-bar\" role=\"progressbar\" style=\"background-color: blue; width: 100%; word-wrap: normal; white-space: nowrap; text-align: center; color: white\" aria-valuenow=\"100\" aria-valuemin=\"0\" aria-valuemax=\"100\">\n",
       "    28 / 28\n",
       "  </div>\n",
       "  <div class=\"progress-bar\" role=\"progressbar\" style=\"background-color: red; width: 0%\" aria-valuenow=\"0\" aria-valuemin=\"0\" aria-valuemax=\"100\"></div>\n",
       "</div>\n"
      ]
     },
     "metadata": {},
     "output_type": "display_data"
    },
    {
     "data": {
      "text/html": [
       "<div>\n",
       "  <span style=\"float: left;\">treeAggregate at RDDLossFunction.scala:61</span>\n",
       "</div>\n"
      ]
     },
     "metadata": {},
     "output_type": "display_data"
    },
    {
     "data": {
      "text/html": [
       "<div class=\"progress\">\n",
       "  <div class=\"progress-bar\" role=\"progressbar\" style=\"background-color: blue; width: 100%; word-wrap: normal; white-space: nowrap; text-align: center; color: white\" aria-valuenow=\"100\" aria-valuemin=\"0\" aria-valuemax=\"100\">\n",
       "    4 / 4\n",
       "  </div>\n",
       "  <div class=\"progress-bar\" role=\"progressbar\" style=\"background-color: red; width: 0%\" aria-valuenow=\"0\" aria-valuemin=\"0\" aria-valuemax=\"100\"></div>\n",
       "</div>\n"
      ]
     },
     "metadata": {},
     "output_type": "display_data"
    },
    {
     "name": "stderr",
     "output_type": "stream",
     "text": [
      "21/05/19 15:54:45 INFO OWLQN: Step Size: 1.000\n",
      "21/05/19 15:54:45 INFO OWLQN: Val and Grad Norm: 0.674402 (rel: 2.19e-07) 0.174391\n"
     ]
    },
    {
     "data": {
      "text/html": [
       "<div>\n",
       "  <span style=\"float: left;\">treeAggregate at RDDLossFunction.scala:61</span>\n",
       "</div>\n"
      ]
     },
     "metadata": {},
     "output_type": "display_data"
    },
    {
     "data": {
      "text/html": [
       "<div class=\"progress\">\n",
       "  <div class=\"progress-bar\" role=\"progressbar\" style=\"background-color: blue; width: 100%; word-wrap: normal; white-space: nowrap; text-align: center; color: white\" aria-valuenow=\"100\" aria-valuemin=\"0\" aria-valuemax=\"100\">\n",
       "    28 / 28\n",
       "  </div>\n",
       "  <div class=\"progress-bar\" role=\"progressbar\" style=\"background-color: red; width: 0%\" aria-valuenow=\"0\" aria-valuemin=\"0\" aria-valuemax=\"100\"></div>\n",
       "</div>\n"
      ]
     },
     "metadata": {},
     "output_type": "display_data"
    },
    {
     "data": {
      "text/html": [
       "<div>\n",
       "  <span style=\"float: left;\">treeAggregate at RDDLossFunction.scala:61</span>\n",
       "</div>\n"
      ]
     },
     "metadata": {},
     "output_type": "display_data"
    },
    {
     "data": {
      "text/html": [
       "<div class=\"progress\">\n",
       "  <div class=\"progress-bar\" role=\"progressbar\" style=\"background-color: blue; width: 100%; word-wrap: normal; white-space: nowrap; text-align: center; color: white\" aria-valuenow=\"100\" aria-valuemin=\"0\" aria-valuemax=\"100\">\n",
       "    4 / 4\n",
       "  </div>\n",
       "  <div class=\"progress-bar\" role=\"progressbar\" style=\"background-color: red; width: 0%\" aria-valuenow=\"0\" aria-valuemin=\"0\" aria-valuemax=\"100\"></div>\n",
       "</div>\n"
      ]
     },
     "metadata": {},
     "output_type": "display_data"
    },
    {
     "name": "stderr",
     "output_type": "stream",
     "text": [
      "21/05/19 15:54:46 INFO OWLQN: Step Size: 1.000\n",
      "21/05/19 15:54:46 INFO OWLQN: Val and Grad Norm: 0.674402 (rel: 3.16e-07) 0.369520\n"
     ]
    },
    {
     "data": {
      "text/html": [
       "<div>\n",
       "  <span style=\"float: left;\">treeAggregate at RDDLossFunction.scala:61</span>\n",
       "</div>\n"
      ]
     },
     "metadata": {},
     "output_type": "display_data"
    },
    {
     "data": {
      "text/html": [
       "<div class=\"progress\">\n",
       "  <div class=\"progress-bar\" role=\"progressbar\" style=\"background-color: blue; width: 100%; word-wrap: normal; white-space: nowrap; text-align: center; color: white\" aria-valuenow=\"100\" aria-valuemin=\"0\" aria-valuemax=\"100\">\n",
       "    28 / 28\n",
       "  </div>\n",
       "  <div class=\"progress-bar\" role=\"progressbar\" style=\"background-color: red; width: 0%\" aria-valuenow=\"0\" aria-valuemin=\"0\" aria-valuemax=\"100\"></div>\n",
       "</div>\n"
      ]
     },
     "metadata": {},
     "output_type": "display_data"
    },
    {
     "data": {
      "text/html": [
       "<div>\n",
       "  <span style=\"float: left;\">treeAggregate at RDDLossFunction.scala:61</span>\n",
       "</div>\n"
      ]
     },
     "metadata": {},
     "output_type": "display_data"
    },
    {
     "data": {
      "text/html": [
       "<div class=\"progress\">\n",
       "  <div class=\"progress-bar\" role=\"progressbar\" style=\"background-color: blue; width: 100%; word-wrap: normal; white-space: nowrap; text-align: center; color: white\" aria-valuenow=\"100\" aria-valuemin=\"0\" aria-valuemax=\"100\">\n",
       "    4 / 4\n",
       "  </div>\n",
       "  <div class=\"progress-bar\" role=\"progressbar\" style=\"background-color: red; width: 0%\" aria-valuenow=\"0\" aria-valuemin=\"0\" aria-valuemax=\"100\"></div>\n",
       "</div>\n"
      ]
     },
     "metadata": {},
     "output_type": "display_data"
    },
    {
     "name": "stderr",
     "output_type": "stream",
     "text": [
      "21/05/19 15:54:49 INFO OWLQN: Step Size: 1.000\n",
      "21/05/19 15:54:49 INFO OWLQN: Val and Grad Norm: 0.674400 (rel: 1.82e-06) 0.133872\n"
     ]
    },
    {
     "data": {
      "text/html": [
       "<div>\n",
       "  <span style=\"float: left;\">treeAggregate at RDDLossFunction.scala:61</span>\n",
       "</div>\n"
      ]
     },
     "metadata": {},
     "output_type": "display_data"
    },
    {
     "data": {
      "text/html": [
       "<div class=\"progress\">\n",
       "  <div class=\"progress-bar\" role=\"progressbar\" style=\"background-color: blue; width: 100%; word-wrap: normal; white-space: nowrap; text-align: center; color: white\" aria-valuenow=\"100\" aria-valuemin=\"0\" aria-valuemax=\"100\">\n",
       "    28 / 28\n",
       "  </div>\n",
       "  <div class=\"progress-bar\" role=\"progressbar\" style=\"background-color: red; width: 0%\" aria-valuenow=\"0\" aria-valuemin=\"0\" aria-valuemax=\"100\"></div>\n",
       "</div>\n"
      ]
     },
     "metadata": {},
     "output_type": "display_data"
    },
    {
     "data": {
      "text/html": [
       "<div>\n",
       "  <span style=\"float: left;\">treeAggregate at RDDLossFunction.scala:61</span>\n",
       "</div>\n"
      ]
     },
     "metadata": {},
     "output_type": "display_data"
    },
    {
     "data": {
      "text/html": [
       "<div class=\"progress\">\n",
       "  <div class=\"progress-bar\" role=\"progressbar\" style=\"background-color: blue; width: 100%; word-wrap: normal; white-space: nowrap; text-align: center; color: white\" aria-valuenow=\"100\" aria-valuemin=\"0\" aria-valuemax=\"100\">\n",
       "    4 / 4\n",
       "  </div>\n",
       "  <div class=\"progress-bar\" role=\"progressbar\" style=\"background-color: red; width: 0%\" aria-valuenow=\"0\" aria-valuemin=\"0\" aria-valuemax=\"100\"></div>\n",
       "</div>\n"
      ]
     },
     "metadata": {},
     "output_type": "display_data"
    },
    {
     "name": "stderr",
     "output_type": "stream",
     "text": [
      "21/05/19 15:54:51 INFO OWLQN: Step Size: 1.000\n",
      "21/05/19 15:54:51 INFO OWLQN: Val and Grad Norm: 0.674400 (rel: 2.82e-07) 0.245959\n"
     ]
    },
    {
     "data": {
      "text/html": [
       "<div>\n",
       "  <span style=\"float: left;\">treeAggregate at RDDLossFunction.scala:61</span>\n",
       "</div>\n"
      ]
     },
     "metadata": {},
     "output_type": "display_data"
    },
    {
     "data": {
      "text/html": [
       "<div class=\"progress\">\n",
       "  <div class=\"progress-bar\" role=\"progressbar\" style=\"background-color: blue; width: 100%; word-wrap: normal; white-space: nowrap; text-align: center; color: white\" aria-valuenow=\"100\" aria-valuemin=\"0\" aria-valuemax=\"100\">\n",
       "    28 / 28\n",
       "  </div>\n",
       "  <div class=\"progress-bar\" role=\"progressbar\" style=\"background-color: red; width: 0%\" aria-valuenow=\"0\" aria-valuemin=\"0\" aria-valuemax=\"100\"></div>\n",
       "</div>\n"
      ]
     },
     "metadata": {},
     "output_type": "display_data"
    },
    {
     "data": {
      "text/html": [
       "<div>\n",
       "  <span style=\"float: left;\">treeAggregate at RDDLossFunction.scala:61</span>\n",
       "</div>\n"
      ]
     },
     "metadata": {},
     "output_type": "display_data"
    },
    {
     "data": {
      "text/html": [
       "<div class=\"progress\">\n",
       "  <div class=\"progress-bar\" role=\"progressbar\" style=\"background-color: blue; width: 100%; word-wrap: normal; white-space: nowrap; text-align: center; color: white\" aria-valuenow=\"100\" aria-valuemin=\"0\" aria-valuemax=\"100\">\n",
       "    4 / 4\n",
       "  </div>\n",
       "  <div class=\"progress-bar\" role=\"progressbar\" style=\"background-color: red; width: 0%\" aria-valuenow=\"0\" aria-valuemin=\"0\" aria-valuemax=\"100\"></div>\n",
       "</div>\n"
      ]
     },
     "metadata": {},
     "output_type": "display_data"
    },
    {
     "name": "stderr",
     "output_type": "stream",
     "text": [
      "21/05/19 15:54:52 INFO OWLQN: Step Size: 1.000\n",
      "21/05/19 15:54:52 INFO OWLQN: Val and Grad Norm: 0.674400 (rel: 8.63e-07) 0.117828\n"
     ]
    },
    {
     "data": {
      "text/html": [
       "<div>\n",
       "  <span style=\"float: left;\">treeAggregate at RDDLossFunction.scala:61</span>\n",
       "</div>\n"
      ]
     },
     "metadata": {},
     "output_type": "display_data"
    },
    {
     "data": {
      "text/html": [
       "<div class=\"progress\">\n",
       "  <div class=\"progress-bar\" role=\"progressbar\" style=\"background-color: blue; width: 100%; word-wrap: normal; white-space: nowrap; text-align: center; color: white\" aria-valuenow=\"100\" aria-valuemin=\"0\" aria-valuemax=\"100\">\n",
       "    28 / 28\n",
       "  </div>\n",
       "  <div class=\"progress-bar\" role=\"progressbar\" style=\"background-color: red; width: 0%\" aria-valuenow=\"0\" aria-valuemin=\"0\" aria-valuemax=\"100\"></div>\n",
       "</div>\n"
      ]
     },
     "metadata": {},
     "output_type": "display_data"
    },
    {
     "data": {
      "text/html": [
       "<div>\n",
       "  <span style=\"float: left;\">treeAggregate at RDDLossFunction.scala:61</span>\n",
       "</div>\n"
      ]
     },
     "metadata": {},
     "output_type": "display_data"
    },
    {
     "data": {
      "text/html": [
       "<div class=\"progress\">\n",
       "  <div class=\"progress-bar\" role=\"progressbar\" style=\"background-color: blue; width: 100%; word-wrap: normal; white-space: nowrap; text-align: center; color: white\" aria-valuenow=\"100\" aria-valuemin=\"0\" aria-valuemax=\"100\">\n",
       "    4 / 4\n",
       "  </div>\n",
       "  <div class=\"progress-bar\" role=\"progressbar\" style=\"background-color: red; width: 0%\" aria-valuenow=\"0\" aria-valuemin=\"0\" aria-valuemax=\"100\"></div>\n",
       "</div>\n"
      ]
     },
     "metadata": {},
     "output_type": "display_data"
    },
    {
     "name": "stderr",
     "output_type": "stream",
     "text": [
      "21/05/19 15:54:54 INFO OWLQN: Step Size: 1.000\n",
      "21/05/19 15:54:54 INFO OWLQN: Val and Grad Norm: 0.674399 (rel: 2.77e-07) 0.171489\n"
     ]
    },
    {
     "data": {
      "text/html": [
       "<div>\n",
       "  <span style=\"float: left;\">treeAggregate at RDDLossFunction.scala:61</span>\n",
       "</div>\n"
      ]
     },
     "metadata": {},
     "output_type": "display_data"
    },
    {
     "data": {
      "text/html": [
       "<div class=\"progress\">\n",
       "  <div class=\"progress-bar\" role=\"progressbar\" style=\"background-color: blue; width: 100%; word-wrap: normal; white-space: nowrap; text-align: center; color: white\" aria-valuenow=\"100\" aria-valuemin=\"0\" aria-valuemax=\"100\">\n",
       "    28 / 28\n",
       "  </div>\n",
       "  <div class=\"progress-bar\" role=\"progressbar\" style=\"background-color: red; width: 0%\" aria-valuenow=\"0\" aria-valuemin=\"0\" aria-valuemax=\"100\"></div>\n",
       "</div>\n"
      ]
     },
     "metadata": {},
     "output_type": "display_data"
    },
    {
     "data": {
      "text/html": [
       "<div>\n",
       "  <span style=\"float: left;\">treeAggregate at RDDLossFunction.scala:61</span>\n",
       "</div>\n"
      ]
     },
     "metadata": {},
     "output_type": "display_data"
    },
    {
     "data": {
      "text/html": [
       "<div class=\"progress\">\n",
       "  <div class=\"progress-bar\" role=\"progressbar\" style=\"background-color: blue; width: 100%; word-wrap: normal; white-space: nowrap; text-align: center; color: white\" aria-valuenow=\"100\" aria-valuemin=\"0\" aria-valuemax=\"100\">\n",
       "    4 / 4\n",
       "  </div>\n",
       "  <div class=\"progress-bar\" role=\"progressbar\" style=\"background-color: red; width: 0%\" aria-valuenow=\"0\" aria-valuemin=\"0\" aria-valuemax=\"100\"></div>\n",
       "</div>\n"
      ]
     },
     "metadata": {},
     "output_type": "display_data"
    },
    {
     "name": "stderr",
     "output_type": "stream",
     "text": [
      "21/05/19 15:54:56 INFO OWLQN: Step Size: 1.000\n",
      "21/05/19 15:54:56 INFO OWLQN: Val and Grad Norm: 0.674399 (rel: 6.13e-07) 0.0976564\n"
     ]
    },
    {
     "data": {
      "text/html": [
       "<div>\n",
       "  <span style=\"float: left;\">treeAggregate at RDDLossFunction.scala:61</span>\n",
       "</div>\n"
      ]
     },
     "metadata": {},
     "output_type": "display_data"
    },
    {
     "data": {
      "text/html": [
       "<div class=\"progress\">\n",
       "  <div class=\"progress-bar\" role=\"progressbar\" style=\"background-color: blue; width: 100%; word-wrap: normal; white-space: nowrap; text-align: center; color: white\" aria-valuenow=\"100\" aria-valuemin=\"0\" aria-valuemax=\"100\">\n",
       "    28 / 28\n",
       "  </div>\n",
       "  <div class=\"progress-bar\" role=\"progressbar\" style=\"background-color: red; width: 0%\" aria-valuenow=\"0\" aria-valuemin=\"0\" aria-valuemax=\"100\"></div>\n",
       "</div>\n"
      ]
     },
     "metadata": {},
     "output_type": "display_data"
    },
    {
     "data": {
      "text/html": [
       "<div>\n",
       "  <span style=\"float: left;\">treeAggregate at RDDLossFunction.scala:61</span>\n",
       "</div>\n"
      ]
     },
     "metadata": {},
     "output_type": "display_data"
    },
    {
     "data": {
      "text/html": [
       "<div class=\"progress\">\n",
       "  <div class=\"progress-bar\" role=\"progressbar\" style=\"background-color: blue; width: 100%; word-wrap: normal; white-space: nowrap; text-align: center; color: white\" aria-valuenow=\"100\" aria-valuemin=\"0\" aria-valuemax=\"100\">\n",
       "    4 / 4\n",
       "  </div>\n",
       "  <div class=\"progress-bar\" role=\"progressbar\" style=\"background-color: red; width: 0%\" aria-valuenow=\"0\" aria-valuemin=\"0\" aria-valuemax=\"100\"></div>\n",
       "</div>\n"
      ]
     },
     "metadata": {},
     "output_type": "display_data"
    },
    {
     "name": "stderr",
     "output_type": "stream",
     "text": [
      "21/05/19 15:54:58 INFO OWLQN: Step Size: 1.000\n",
      "21/05/19 15:54:58 INFO OWLQN: Val and Grad Norm: 0.674399 (rel: 1.35e-07) 0.147232\n"
     ]
    },
    {
     "data": {
      "text/html": [
       "<div>\n",
       "  <span style=\"float: left;\">treeAggregate at RDDLossFunction.scala:61</span>\n",
       "</div>\n"
      ]
     },
     "metadata": {},
     "output_type": "display_data"
    },
    {
     "data": {
      "text/html": [
       "<div class=\"progress\">\n",
       "  <div class=\"progress-bar\" role=\"progressbar\" style=\"background-color: blue; width: 100%; word-wrap: normal; white-space: nowrap; text-align: center; color: white\" aria-valuenow=\"100\" aria-valuemin=\"0\" aria-valuemax=\"100\">\n",
       "    28 / 28\n",
       "  </div>\n",
       "  <div class=\"progress-bar\" role=\"progressbar\" style=\"background-color: red; width: 0%\" aria-valuenow=\"0\" aria-valuemin=\"0\" aria-valuemax=\"100\"></div>\n",
       "</div>\n"
      ]
     },
     "metadata": {},
     "output_type": "display_data"
    },
    {
     "data": {
      "text/html": [
       "<div>\n",
       "  <span style=\"float: left;\">treeAggregate at RDDLossFunction.scala:61</span>\n",
       "</div>\n"
      ]
     },
     "metadata": {},
     "output_type": "display_data"
    },
    {
     "data": {
      "text/html": [
       "<div class=\"progress\">\n",
       "  <div class=\"progress-bar\" role=\"progressbar\" style=\"background-color: blue; width: 100%; word-wrap: normal; white-space: nowrap; text-align: center; color: white\" aria-valuenow=\"100\" aria-valuemin=\"0\" aria-valuemax=\"100\">\n",
       "    4 / 4\n",
       "  </div>\n",
       "  <div class=\"progress-bar\" role=\"progressbar\" style=\"background-color: red; width: 0%\" aria-valuenow=\"0\" aria-valuemin=\"0\" aria-valuemax=\"100\"></div>\n",
       "</div>\n"
      ]
     },
     "metadata": {},
     "output_type": "display_data"
    },
    {
     "name": "stderr",
     "output_type": "stream",
     "text": [
      "21/05/19 15:55:00 INFO OWLQN: Step Size: 1.000\n",
      "21/05/19 15:55:00 INFO OWLQN: Val and Grad Norm: 0.674399 (rel: 4.66e-07) 0.108594\n"
     ]
    },
    {
     "data": {
      "text/html": [
       "<div>\n",
       "  <span style=\"float: left;\">treeAggregate at RDDLossFunction.scala:61</span>\n",
       "</div>\n"
      ]
     },
     "metadata": {},
     "output_type": "display_data"
    },
    {
     "data": {
      "text/html": [
       "<div class=\"progress\">\n",
       "  <div class=\"progress-bar\" role=\"progressbar\" style=\"background-color: blue; width: 100%; word-wrap: normal; white-space: nowrap; text-align: center; color: white\" aria-valuenow=\"100\" aria-valuemin=\"0\" aria-valuemax=\"100\">\n",
       "    28 / 28\n",
       "  </div>\n",
       "  <div class=\"progress-bar\" role=\"progressbar\" style=\"background-color: red; width: 0%\" aria-valuenow=\"0\" aria-valuemin=\"0\" aria-valuemax=\"100\"></div>\n",
       "</div>\n"
      ]
     },
     "metadata": {},
     "output_type": "display_data"
    },
    {
     "data": {
      "text/html": [
       "<div>\n",
       "  <span style=\"float: left;\">treeAggregate at RDDLossFunction.scala:61</span>\n",
       "</div>\n"
      ]
     },
     "metadata": {},
     "output_type": "display_data"
    },
    {
     "data": {
      "text/html": [
       "<div class=\"progress\">\n",
       "  <div class=\"progress-bar\" role=\"progressbar\" style=\"background-color: blue; width: 100%; word-wrap: normal; white-space: nowrap; text-align: center; color: white\" aria-valuenow=\"100\" aria-valuemin=\"0\" aria-valuemax=\"100\">\n",
       "    4 / 4\n",
       "  </div>\n",
       "  <div class=\"progress-bar\" role=\"progressbar\" style=\"background-color: red; width: 0%\" aria-valuenow=\"0\" aria-valuemin=\"0\" aria-valuemax=\"100\"></div>\n",
       "</div>\n"
      ]
     },
     "metadata": {},
     "output_type": "display_data"
    },
    {
     "name": "stderr",
     "output_type": "stream",
     "text": [
      "21/05/19 15:55:02 INFO OWLQN: Step Size: 1.000\n",
      "21/05/19 15:55:02 INFO OWLQN: Val and Grad Norm: 0.674399 (rel: 1.75e-07) 0.109520\n"
     ]
    },
    {
     "data": {
      "text/html": [
       "<div>\n",
       "  <span style=\"float: left;\">treeAggregate at RDDLossFunction.scala:61</span>\n",
       "</div>\n"
      ]
     },
     "metadata": {},
     "output_type": "display_data"
    },
    {
     "data": {
      "text/html": [
       "<div class=\"progress\">\n",
       "  <div class=\"progress-bar\" role=\"progressbar\" style=\"background-color: blue; width: 100%; word-wrap: normal; white-space: nowrap; text-align: center; color: white\" aria-valuenow=\"100\" aria-valuemin=\"0\" aria-valuemax=\"100\">\n",
       "    28 / 28\n",
       "  </div>\n",
       "  <div class=\"progress-bar\" role=\"progressbar\" style=\"background-color: red; width: 0%\" aria-valuenow=\"0\" aria-valuemin=\"0\" aria-valuemax=\"100\"></div>\n",
       "</div>\n"
      ]
     },
     "metadata": {},
     "output_type": "display_data"
    },
    {
     "data": {
      "text/html": [
       "<div>\n",
       "  <span style=\"float: left;\">treeAggregate at RDDLossFunction.scala:61</span>\n",
       "</div>\n"
      ]
     },
     "metadata": {},
     "output_type": "display_data"
    },
    {
     "data": {
      "text/html": [
       "<div class=\"progress\">\n",
       "  <div class=\"progress-bar\" role=\"progressbar\" style=\"background-color: blue; width: 100%; word-wrap: normal; white-space: nowrap; text-align: center; color: white\" aria-valuenow=\"100\" aria-valuemin=\"0\" aria-valuemax=\"100\">\n",
       "    4 / 4\n",
       "  </div>\n",
       "  <div class=\"progress-bar\" role=\"progressbar\" style=\"background-color: red; width: 0%\" aria-valuenow=\"0\" aria-valuemin=\"0\" aria-valuemax=\"100\"></div>\n",
       "</div>\n"
      ]
     },
     "metadata": {},
     "output_type": "display_data"
    },
    {
     "name": "stderr",
     "output_type": "stream",
     "text": [
      "21/05/19 15:55:04 INFO OWLQN: Step Size: 1.000\n",
      "21/05/19 15:55:04 INFO OWLQN: Val and Grad Norm: 0.674398 (rel: 3.45e-07) 0.0877193\n"
     ]
    },
    {
     "data": {
      "text/html": [
       "<div>\n",
       "  <span style=\"float: left;\">treeAggregate at RDDLossFunction.scala:61</span>\n",
       "</div>\n"
      ]
     },
     "metadata": {},
     "output_type": "display_data"
    },
    {
     "data": {
      "text/html": [
       "<div class=\"progress\">\n",
       "  <div class=\"progress-bar\" role=\"progressbar\" style=\"background-color: blue; width: 100%; word-wrap: normal; white-space: nowrap; text-align: center; color: white\" aria-valuenow=\"100\" aria-valuemin=\"0\" aria-valuemax=\"100\">\n",
       "    28 / 28\n",
       "  </div>\n",
       "  <div class=\"progress-bar\" role=\"progressbar\" style=\"background-color: red; width: 0%\" aria-valuenow=\"0\" aria-valuemin=\"0\" aria-valuemax=\"100\"></div>\n",
       "</div>\n"
      ]
     },
     "metadata": {},
     "output_type": "display_data"
    },
    {
     "data": {
      "text/html": [
       "<div>\n",
       "  <span style=\"float: left;\">treeAggregate at RDDLossFunction.scala:61</span>\n",
       "</div>\n"
      ]
     },
     "metadata": {},
     "output_type": "display_data"
    },
    {
     "data": {
      "text/html": [
       "<div class=\"progress\">\n",
       "  <div class=\"progress-bar\" role=\"progressbar\" style=\"background-color: blue; width: 100%; word-wrap: normal; white-space: nowrap; text-align: center; color: white\" aria-valuenow=\"100\" aria-valuemin=\"0\" aria-valuemax=\"100\">\n",
       "    4 / 4\n",
       "  </div>\n",
       "  <div class=\"progress-bar\" role=\"progressbar\" style=\"background-color: red; width: 0%\" aria-valuenow=\"0\" aria-valuemin=\"0\" aria-valuemax=\"100\"></div>\n",
       "</div>\n"
      ]
     },
     "metadata": {},
     "output_type": "display_data"
    },
    {
     "name": "stderr",
     "output_type": "stream",
     "text": [
      "21/05/19 15:55:06 INFO OWLQN: Step Size: 1.000\n",
      "21/05/19 15:55:06 INFO OWLQN: Val and Grad Norm: 0.674398 (rel: 2.29e-07) 0.0616474\n"
     ]
    },
    {
     "data": {
      "text/html": [
       "<div>\n",
       "  <span style=\"float: left;\">treeAggregate at RDDLossFunction.scala:61</span>\n",
       "</div>\n"
      ]
     },
     "metadata": {},
     "output_type": "display_data"
    },
    {
     "data": {
      "text/html": [
       "<div class=\"progress\">\n",
       "  <div class=\"progress-bar\" role=\"progressbar\" style=\"background-color: blue; width: 100%; word-wrap: normal; white-space: nowrap; text-align: center; color: white\" aria-valuenow=\"100\" aria-valuemin=\"0\" aria-valuemax=\"100\">\n",
       "    28 / 28\n",
       "  </div>\n",
       "  <div class=\"progress-bar\" role=\"progressbar\" style=\"background-color: red; width: 0%\" aria-valuenow=\"0\" aria-valuemin=\"0\" aria-valuemax=\"100\"></div>\n",
       "</div>\n"
      ]
     },
     "metadata": {},
     "output_type": "display_data"
    },
    {
     "data": {
      "text/html": [
       "<div>\n",
       "  <span style=\"float: left;\">treeAggregate at RDDLossFunction.scala:61</span>\n",
       "</div>\n"
      ]
     },
     "metadata": {},
     "output_type": "display_data"
    },
    {
     "data": {
      "text/html": [
       "<div class=\"progress\">\n",
       "  <div class=\"progress-bar\" role=\"progressbar\" style=\"background-color: blue; width: 100%; word-wrap: normal; white-space: nowrap; text-align: center; color: white\" aria-valuenow=\"100\" aria-valuemin=\"0\" aria-valuemax=\"100\">\n",
       "    4 / 4\n",
       "  </div>\n",
       "  <div class=\"progress-bar\" role=\"progressbar\" style=\"background-color: red; width: 0%\" aria-valuenow=\"0\" aria-valuemin=\"0\" aria-valuemax=\"100\"></div>\n",
       "</div>\n"
      ]
     },
     "metadata": {},
     "output_type": "display_data"
    },
    {
     "name": "stderr",
     "output_type": "stream",
     "text": [
      "21/05/19 15:55:08 INFO OWLQN: Step Size: 1.000\n",
      "21/05/19 15:55:08 INFO OWLQN: Val and Grad Norm: 0.674398 (rel: 3.01e-07) 0.0944698\n"
     ]
    },
    {
     "data": {
      "text/html": [
       "<div>\n",
       "  <span style=\"float: left;\">treeAggregate at RDDLossFunction.scala:61</span>\n",
       "</div>\n"
      ]
     },
     "metadata": {},
     "output_type": "display_data"
    },
    {
     "data": {
      "text/html": [
       "<div class=\"progress\">\n",
       "  <div class=\"progress-bar\" role=\"progressbar\" style=\"background-color: blue; width: 100%; word-wrap: normal; white-space: nowrap; text-align: center; color: white\" aria-valuenow=\"100\" aria-valuemin=\"0\" aria-valuemax=\"100\">\n",
       "    28 / 28\n",
       "  </div>\n",
       "  <div class=\"progress-bar\" role=\"progressbar\" style=\"background-color: red; width: 0%\" aria-valuenow=\"0\" aria-valuemin=\"0\" aria-valuemax=\"100\"></div>\n",
       "</div>\n"
      ]
     },
     "metadata": {},
     "output_type": "display_data"
    },
    {
     "data": {
      "text/html": [
       "<div>\n",
       "  <span style=\"float: left;\">treeAggregate at RDDLossFunction.scala:61</span>\n",
       "</div>\n"
      ]
     },
     "metadata": {},
     "output_type": "display_data"
    },
    {
     "data": {
      "text/html": [
       "<div class=\"progress\">\n",
       "  <div class=\"progress-bar\" role=\"progressbar\" style=\"background-color: blue; width: 100%; word-wrap: normal; white-space: nowrap; text-align: center; color: white\" aria-valuenow=\"100\" aria-valuemin=\"0\" aria-valuemax=\"100\">\n",
       "    4 / 4\n",
       "  </div>\n",
       "  <div class=\"progress-bar\" role=\"progressbar\" style=\"background-color: red; width: 0%\" aria-valuenow=\"0\" aria-valuemin=\"0\" aria-valuemax=\"100\"></div>\n",
       "</div>\n"
      ]
     },
     "metadata": {},
     "output_type": "display_data"
    },
    {
     "name": "stderr",
     "output_type": "stream",
     "text": [
      "21/05/19 15:55:10 INFO OWLQN: Step Size: 1.000\n",
      "21/05/19 15:55:10 INFO OWLQN: Val and Grad Norm: 0.674398 (rel: 3.11e-07) 0.0914106\n",
      "21/05/19 15:55:10 INFO OWLQN: Converged because max iterations reached\n"
     ]
    },
    {
     "data": {
      "text/plain": [
       "\u001b[36mlrModel\u001b[39m: \u001b[32morg\u001b[39m.\u001b[32mapache\u001b[39m.\u001b[32mspark\u001b[39m.\u001b[32mml\u001b[39m.\u001b[32mclassification\u001b[39m.\u001b[32mLogisticRegressionModel\u001b[39m = LogisticRegressionModel: uid=logreg_ad0fa14712b4, numClasses=2, numFeatures=95"
      ]
     },
     "execution_count": 131,
     "metadata": {},
     "output_type": "execute_result"
    }
   ],
   "source": [
    "val lrModel = lr.fit(trainingScaledData)"
   ]
  },
  {
   "cell_type": "code",
   "execution_count": 132,
   "metadata": {},
   "outputs": [
    {
     "data": {
      "text/plain": [
       "\u001b[36mpredictionDf\u001b[39m: \u001b[32mDataFrame\u001b[39m = [label: double, features: vector ... 5 more fields]"
      ]
     },
     "execution_count": 132,
     "metadata": {},
     "output_type": "execute_result"
    }
   ],
   "source": [
    "val predictionDf = lrModel.transform(testScaledData)"
   ]
  },
  {
   "cell_type": "code",
   "execution_count": 133,
   "metadata": {},
   "outputs": [
    {
     "data": {
      "text/plain": [
       "\u001b[36mevaluator\u001b[39m: \u001b[32mBinaryClassificationEvaluator\u001b[39m = BinaryClassificationEvaluator: uid=binEval_010071ab27ae, metricName=areaUnderROC, numBins=1000"
      ]
     },
     "execution_count": 133,
     "metadata": {},
     "output_type": "execute_result"
    }
   ],
   "source": [
    "val evaluator = new BinaryClassificationEvaluator()\n",
    "  .setLabelCol(\"label\")\n",
    "  .setRawPredictionCol(\"prediction\")\n",
    "  .setMetricName(\"areaUnderROC\")"
   ]
  },
  {
   "cell_type": "code",
   "execution_count": 134,
   "metadata": {},
   "outputs": [
    {
     "data": {
      "text/html": [
       "<div>\n",
       "  <span style=\"float: left;\">map at BinaryClassificationMetrics.scala:48</span>\n",
       "</div>\n"
      ]
     },
     "metadata": {},
     "output_type": "display_data"
    },
    {
     "data": {
      "text/html": [
       "<div class=\"progress\">\n",
       "  <div class=\"progress-bar\" role=\"progressbar\" style=\"background-color: blue; width: 100%; word-wrap: normal; white-space: nowrap; text-align: center; color: white\" aria-valuenow=\"100\" aria-valuemin=\"0\" aria-valuemax=\"100\">\n",
       "    28 / 28\n",
       "  </div>\n",
       "  <div class=\"progress-bar\" role=\"progressbar\" style=\"background-color: red; width: 0%\" aria-valuenow=\"0\" aria-valuemin=\"0\" aria-valuemax=\"100\"></div>\n",
       "</div>\n"
      ]
     },
     "metadata": {},
     "output_type": "display_data"
    },
    {
     "data": {
      "text/html": [
       "<div>\n",
       "  <span style=\"float: left;\">sortByKey at BinaryClassificationMetrics.scala:189</span>\n",
       "</div>\n"
      ]
     },
     "metadata": {},
     "output_type": "display_data"
    },
    {
     "data": {
      "text/html": [
       "<div class=\"progress\">\n",
       "  <div class=\"progress-bar\" role=\"progressbar\" style=\"background-color: blue; width: 100%; word-wrap: normal; white-space: nowrap; text-align: center; color: white\" aria-valuenow=\"100\" aria-valuemin=\"0\" aria-valuemax=\"100\">\n",
       "    28 / 28\n",
       "  </div>\n",
       "  <div class=\"progress-bar\" role=\"progressbar\" style=\"background-color: red; width: 0%\" aria-valuenow=\"0\" aria-valuemin=\"0\" aria-valuemax=\"100\"></div>\n",
       "</div>\n"
      ]
     },
     "metadata": {},
     "output_type": "display_data"
    },
    {
     "data": {
      "text/html": [
       "<div>\n",
       "  <span style=\"float: left;\">combineByKey at BinaryClassificationMetrics.scala:188</span>\n",
       "</div>\n"
      ]
     },
     "metadata": {},
     "output_type": "display_data"
    },
    {
     "data": {
      "text/html": [
       "<div class=\"progress\">\n",
       "  <div class=\"progress-bar\" role=\"progressbar\" style=\"background-color: blue; width: 100%; word-wrap: normal; white-space: nowrap; text-align: center; color: white\" aria-valuenow=\"100\" aria-valuemin=\"0\" aria-valuemax=\"100\">\n",
       "    28 / 28\n",
       "  </div>\n",
       "  <div class=\"progress-bar\" role=\"progressbar\" style=\"background-color: red; width: 0%\" aria-valuenow=\"0\" aria-valuemin=\"0\" aria-valuemax=\"100\"></div>\n",
       "</div>\n"
      ]
     },
     "metadata": {},
     "output_type": "display_data"
    },
    {
     "data": {
      "text/html": [
       "<div>\n",
       "  <span style=\"float: left;\">count at BinaryClassificationMetrics.scala:197</span>\n",
       "</div>\n"
      ]
     },
     "metadata": {},
     "output_type": "display_data"
    },
    {
     "data": {
      "text/html": [
       "<div class=\"progress\">\n",
       "  <div class=\"progress-bar\" role=\"progressbar\" style=\"background-color: blue; width: 100%; word-wrap: normal; white-space: nowrap; text-align: center; color: white\" aria-valuenow=\"100\" aria-valuemin=\"0\" aria-valuemax=\"100\">\n",
       "    2 / 2\n",
       "  </div>\n",
       "  <div class=\"progress-bar\" role=\"progressbar\" style=\"background-color: red; width: 0%\" aria-valuenow=\"0\" aria-valuemin=\"0\" aria-valuemax=\"100\"></div>\n",
       "</div>\n"
      ]
     },
     "metadata": {},
     "output_type": "display_data"
    },
    {
     "data": {
      "text/html": [
       "<div>\n",
       "  <span style=\"float: left;\">collect at BinaryClassificationMetrics.scala:237</span>\n",
       "</div>\n"
      ]
     },
     "metadata": {},
     "output_type": "display_data"
    },
    {
     "data": {
      "text/html": [
       "<div class=\"progress\">\n",
       "  <div class=\"progress-bar\" role=\"progressbar\" style=\"background-color: blue; width: 100%; word-wrap: normal; white-space: nowrap; text-align: center; color: white\" aria-valuenow=\"100\" aria-valuemin=\"0\" aria-valuemax=\"100\">\n",
       "    2 / 2\n",
       "  </div>\n",
       "  <div class=\"progress-bar\" role=\"progressbar\" style=\"background-color: red; width: 0%\" aria-valuenow=\"0\" aria-valuemin=\"0\" aria-valuemax=\"100\"></div>\n",
       "</div>\n"
      ]
     },
     "metadata": {},
     "output_type": "display_data"
    },
    {
     "data": {
      "text/html": [
       "<div>\n",
       "  <span style=\"float: left;\">collect at AreaUnderCurve.scala:44</span>\n",
       "</div>\n"
      ]
     },
     "metadata": {},
     "output_type": "display_data"
    },
    {
     "data": {
      "text/html": [
       "<div class=\"progress\">\n",
       "  <div class=\"progress-bar\" role=\"progressbar\" style=\"background-color: blue; width: 100%; word-wrap: normal; white-space: nowrap; text-align: center; color: white\" aria-valuenow=\"100\" aria-valuemin=\"0\" aria-valuemax=\"100\">\n",
       "    2 / 2\n",
       "  </div>\n",
       "  <div class=\"progress-bar\" role=\"progressbar\" style=\"background-color: red; width: 0%\" aria-valuenow=\"0\" aria-valuemin=\"0\" aria-valuemax=\"100\"></div>\n",
       "</div>\n"
      ]
     },
     "metadata": {},
     "output_type": "display_data"
    },
    {
     "name": "stdout",
     "output_type": "stream",
     "text": [
      "Accuracy: 0.6060568807747726\n"
     ]
    },
    {
     "data": {
      "text/plain": [
       "\u001b[36maccuracy\u001b[39m: \u001b[32mDouble\u001b[39m = \u001b[32m0.6060568807747726\u001b[39m"
      ]
     },
     "execution_count": 134,
     "metadata": {},
     "output_type": "execute_result"
    }
   ],
   "source": [
    "val accuracy = evaluator.evaluate(predictionDf)\n",
    "println(s\"Accuracy: ${accuracy}\")"
   ]
  },
  {
   "cell_type": "code",
   "execution_count": 135,
   "metadata": {},
   "outputs": [
    {
     "data": {
      "text/plain": [
       "\u001b[36mdfCoef\u001b[39m: \u001b[32mDataFrame\u001b[39m = [column: string, coef: double]"
      ]
     },
     "execution_count": 135,
     "metadata": {},
     "output_type": "execute_result"
    }
   ],
   "source": [
    "val dfCoef = lrModel\n",
    "    .coefficients\n",
    "    .toArray\n",
    "    .zipWithIndex\n",
    "    .map(ci => {(colFeaturesNotAudit(ci._2),ci._1)})\n",
    "    .toSeq\n",
    "    .toDF(\"column\",\"coef\")"
   ]
  },
  {
   "cell_type": "code",
   "execution_count": 136,
   "metadata": {},
   "outputs": [
    {
     "data": {
      "text/html": [
       "<div>\n",
       "  <span style=\"float: left;\">show at cmd135.sc:3</span>\n",
       "</div>\n"
      ]
     },
     "metadata": {},
     "output_type": "display_data"
    },
    {
     "data": {
      "text/html": [
       "<div class=\"progress\">\n",
       "  <div class=\"progress-bar\" role=\"progressbar\" style=\"background-color: blue; width: 100%; word-wrap: normal; white-space: nowrap; text-align: center; color: white\" aria-valuenow=\"100\" aria-valuemin=\"0\" aria-valuemax=\"100\">\n",
       "    16 / 16\n",
       "  </div>\n",
       "  <div class=\"progress-bar\" role=\"progressbar\" style=\"background-color: red; width: 0%\" aria-valuenow=\"0\" aria-valuemin=\"0\" aria-valuemax=\"100\"></div>\n",
       "</div>\n"
      ]
     },
     "metadata": {},
     "output_type": "display_data"
    },
    {
     "name": "stdout",
     "output_type": "stream",
     "text": [
      "+--------------------------------------------+---------------------+\n",
      "|column                                      |coef                 |\n",
      "+--------------------------------------------+---------------------+\n",
      "|metadata_options_HAS_PHOTOS_imputed         |0.18414347620828156  |\n",
      "|userOwnerCounters_CREATE_LIKE_imputed       |0.17153365192503123  |\n",
      "|membership_status_null_imputed              |0.07127206986237651  |\n",
      "|metadata_options_HAS_POLLS_imputed          |0.07006000154505292  |\n",
      "|metadata_numPolls_imputed                   |0.05980230781354689  |\n",
      "|instanceId_userId_imputed                   |0.026144752299640427 |\n",
      "|user_birth_date_imputed                     |0.013938641868330617 |\n",
      "|user_create_date_imputed                    |0.008359623061887035 |\n",
      "|membership_joinDate_imputed                 |0.006700975801333003 |\n",
      "|user_change_datime_imputed                  |0.006559581337381586 |\n",
      "|membership_statusUpdateDate_imputed         |0.006394590892338547 |\n",
      "|metadata_ownerType_GROUPOPENOFFICIAL_imputed|0.004536188391919961 |\n",
      "|instanceId_objectType_Post_imputed          |0.003845307239140897 |\n",
      "|metadata_options_IS_PART_OF_TOPIC_imputed   |0.0037938737524501396|\n",
      "|user_gender_imputed                         |2.1655064130849653E-7|\n",
      "|userOwnerCounters_CREATE_TOPIC_imputed      |0.0                  |\n",
      "|userOwnerCounters_CREATE_COMMENT_imputed    |0.0                  |\n",
      "|user_ID_Location_imputed                    |0.0                  |\n",
      "|membership_status_Y_imputed                 |0.0                  |\n",
      "|metadata_platform_MOB_imputed               |0.0                  |\n",
      "+--------------------------------------------+---------------------+\n",
      "only showing top 20 rows\n",
      "\n"
     ]
    }
   ],
   "source": [
    "dfCoef\n",
    "    .sort(col(\"coef\").desc)\n",
    "    .show(false)"
   ]
  },
  {
   "cell_type": "markdown",
   "metadata": {},
   "source": [
    "# Выводы:\n",
    "\n",
    "Ожидаемо выглядит влияние наличия фотографий на вероятность лайка.\n\n",
    "Но довольно интересно большое влияние на вероятность лайка колличестав предыдущих лайков.\n\n",
    "Наличие опросов тоже показало влияние на вероятность лайка.\n\n",
    "Так же мы видим, что некоторые пользователи лайкают чаще, а значит в будущем можно класифицировать разные группы пользователей по количеству лайков."
   ]
  }
 ],
 "metadata": {
  "kernelspec": {
   "display_name": "Scala 2.12",
   "language": "scala",
   "name": "scala212"
  },
  "language_info": {
   "codemirror_mode": "text/x-scala",
   "file_extension": ".sc",
   "mimetype": "text/x-scala",
   "name": "scala",
   "nbconvert_exporter": "script",
   "version": "2.12.12"
  }
 },
 "nbformat": 4,
 "nbformat_minor": 4
}
