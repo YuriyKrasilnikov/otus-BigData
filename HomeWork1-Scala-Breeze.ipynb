{
 "cells": [
  {
   "cell_type": "markdown",
   "metadata": {},
   "source": [
    "# Ставим завиcимости "
   ]
  },
  {
   "cell_type": "code",
   "execution_count": 1,
   "metadata": {
    "scrolled": true
   },
   "outputs": [
    {
     "data": {
      "text/plain": [
       "\u001b[32mimport \u001b[39m\u001b[36m$ivy.$                                  \n",
       "\u001b[39m\n",
       "\u001b[32mimport \u001b[39m\u001b[36m$ivy.$                                    \n",
       "\u001b[39m\n",
       "\u001b[32mimport \u001b[39m\u001b[36m$ivy.$                               \n",
       "\u001b[39m\n",
       "\u001b[32mimport \u001b[39m\u001b[36m$ivy.$                         \n",
       "\u001b[39m\n",
       "\u001b[32mimport \u001b[39m\u001b[36m$ivy.$                                 \n",
       "\u001b[39m\n",
       "\u001b[32mimport \u001b[39m\u001b[36m$ivy.$                             \u001b[39m"
      ]
     },
     "execution_count": 1,
     "metadata": {},
     "output_type": "execute_result"
    }
   ],
   "source": [
    "import $ivy.`org.apache.spark::spark-sql:3.1.1`\n",
    "import $ivy.`org.apache.spark::spark-mllib:3.1.1`\n",
    "import $ivy.`sh.almond::almond-spark:0.11.1`\n",
    "import $ivy.`org.scalanlp::breeze:1.2`\n",
    "import $ivy.`org.scalanlp::breeze-natives:1.2`\n",
    "import $ivy.`org.scalanlp::breeze-viz:1.2`"
   ]
  },
  {
   "cell_type": "code",
   "execution_count": 2,
   "metadata": {},
   "outputs": [],
   "source": [
    "interp.repositories() ++= Seq(\n",
    "  coursierapi.MavenRepository.of(\"https://dl.bintray.com/cibotech/public\")\n",
    ")"
   ]
  },
  {
   "cell_type": "code",
   "execution_count": 3,
   "metadata": {},
   "outputs": [
    {
     "data": {
      "text/plain": [
       "\u001b[32mimport \u001b[39m\u001b[36m$ivy.$                              \u001b[39m"
      ]
     },
     "execution_count": 3,
     "metadata": {},
     "output_type": "execute_result"
    }
   ],
   "source": [
    "import $ivy.`com.cibo::evilplot-repl:0.7.1`"
   ]
  },
  {
   "cell_type": "code",
   "execution_count": 4,
   "metadata": {},
   "outputs": [
    {
     "data": {
      "text/plain": [
       "defined \u001b[32mfunction\u001b[39m \u001b[36mshowPlot\u001b[39m"
      ]
     },
     "execution_count": 4,
     "metadata": {},
     "output_type": "execute_result"
    }
   ],
   "source": [
    "def showPlot(plot: com.cibo.evilplot.geometry.Drawable) =\n",
    "  Image.fromRenderedImage(plot.asBufferedImage, format=Image.PNG)"
   ]
  },
  {
   "cell_type": "code",
   "execution_count": 5,
   "metadata": {},
   "outputs": [
    {
     "data": {
      "text/plain": [
       "\u001b[32mimport \u001b[39m\u001b[36morg.apache.log4j.{Level, Logger}\n",
       "\u001b[39m"
      ]
     },
     "execution_count": 5,
     "metadata": {},
     "output_type": "execute_result"
    }
   ],
   "source": [
    "import org.apache.log4j.{Level, Logger}\n",
    "Logger.getLogger(\"org\").setLevel(Level.OFF)"
   ]
  },
  {
   "cell_type": "markdown",
   "metadata": {},
   "source": [
    "# Запускаем Spark"
   ]
  },
  {
   "cell_type": "code",
   "execution_count": 6,
   "metadata": {},
   "outputs": [
    {
     "name": "stdout",
     "output_type": "stream",
     "text": [
      "Loading spark-stubs\n",
      "Getting spark JARs\n",
      "Creating SparkSession\n"
     ]
    },
    {
     "name": "stderr",
     "output_type": "stream",
     "text": [
      "Using Spark's default log4j profile: org/apache/spark/log4j-defaults.properties\n"
     ]
    },
    {
     "data": {
      "text/html": [
       "<a target=\"_blank\" href=\"http://bfec69916284:4040\">Spark UI</a>"
      ]
     },
     "metadata": {},
     "output_type": "display_data"
    },
    {
     "data": {
      "text/plain": [
       "\u001b[32mimport \u001b[39m\u001b[36morg.apache.spark.sql._\n",
       "\n",
       "\u001b[39m\n",
       "\u001b[36mspark\u001b[39m: \u001b[32mSparkSession\u001b[39m = org.apache.spark.sql.SparkSession@19333bdc"
      ]
     },
     "execution_count": 6,
     "metadata": {},
     "output_type": "execute_result"
    }
   ],
   "source": [
    "import org.apache.spark.sql._\n",
    "\n",
    "val spark = {\n",
    "  NotebookSparkSession.builder()\n",
    "    .master(\"local[*]\")\n",
    "    .getOrCreate()\n",
    "}"
   ]
  },
  {
   "cell_type": "markdown",
   "metadata": {},
   "source": [
    "# Читаем датасет"
   ]
  },
  {
   "cell_type": "code",
   "execution_count": 7,
   "metadata": {},
   "outputs": [
    {
     "data": {
      "text/html": [
       "<script>\n",
       "var comm = Jupyter.notebook.kernel.comm_manager.new_comm('cancel-stage-c5c95109-8354-40f3-9349-c74ea41346eb', {});\n",
       "\n",
       "function cancelStage(stageId) {\n",
       "  console.log('Cancelling stage ' + stageId);\n",
       "  comm.send({ 'stageId': stageId });\n",
       "}\n",
       "</script>\n",
       "          "
      ]
     },
     "metadata": {},
     "output_type": "display_data"
    },
    {
     "data": {
      "text/html": [
       "<div>\n",
       "  <span style=\"float: left;\">csv at cmd6.sc:4</span>\n",
       "</div>\n"
      ]
     },
     "metadata": {},
     "output_type": "display_data"
    },
    {
     "data": {
      "text/html": [
       "<div class=\"progress\">\n",
       "  <div class=\"progress-bar\" role=\"progressbar\" style=\"background-color: blue; width: 100%; word-wrap: normal; white-space: nowrap; text-align: center; color: white\" aria-valuenow=\"100\" aria-valuemin=\"0\" aria-valuemax=\"100\">\n",
       "    1 / 1\n",
       "  </div>\n",
       "  <div class=\"progress-bar\" role=\"progressbar\" style=\"background-color: red; width: 0%\" aria-valuenow=\"0\" aria-valuemin=\"0\" aria-valuemax=\"100\"></div>\n",
       "</div>\n"
      ]
     },
     "metadata": {},
     "output_type": "display_data"
    },
    {
     "data": {
      "text/html": [
       "<div>\n",
       "  <span style=\"float: left;\">csv at cmd6.sc:4</span>\n",
       "</div>\n"
      ]
     },
     "metadata": {},
     "output_type": "display_data"
    },
    {
     "data": {
      "text/html": [
       "<div class=\"progress\">\n",
       "  <div class=\"progress-bar\" role=\"progressbar\" style=\"background-color: blue; width: 100%; word-wrap: normal; white-space: nowrap; text-align: center; color: white\" aria-valuenow=\"100\" aria-valuemin=\"0\" aria-valuemax=\"100\">\n",
       "    1 / 1\n",
       "  </div>\n",
       "  <div class=\"progress-bar\" role=\"progressbar\" style=\"background-color: red; width: 0%\" aria-valuenow=\"0\" aria-valuemin=\"0\" aria-valuemax=\"100\"></div>\n",
       "</div>\n"
      ]
     },
     "metadata": {},
     "output_type": "display_data"
    },
    {
     "data": {
      "text/plain": [
       "\u001b[36mraw_df\u001b[39m: \u001b[32mDataFrame\u001b[39m = [likes: int, Checkins: int ... 26 more fields]"
      ]
     },
     "execution_count": 7,
     "metadata": {},
     "output_type": "execute_result"
    }
   ],
   "source": [
    "val raw_df = spark.read\n",
    "    .option(\"header\",true)\n",
    "    .option(\"inferSchema\",true)\n",
    "    .csv(\"Dataset.csv\")"
   ]
  },
  {
   "cell_type": "code",
   "execution_count": 8,
   "metadata": {},
   "outputs": [
    {
     "name": "stdout",
     "output_type": "stream",
     "text": [
      "root\n",
      " |-- likes: integer (nullable = true)\n",
      " |-- Checkins: integer (nullable = true)\n",
      " |-- Returns: integer (nullable = true)\n",
      " |-- Category: integer (nullable = true)\n",
      " |-- commBase: integer (nullable = true)\n",
      " |-- comm24: integer (nullable = true)\n",
      " |-- comm48: integer (nullable = true)\n",
      " |-- comm24_1: integer (nullable = true)\n",
      " |-- diff2448: integer (nullable = true)\n",
      " |-- baseTime: integer (nullable = true)\n",
      " |-- length: integer (nullable = true)\n",
      " |-- shares: integer (nullable = true)\n",
      " |-- hrs: integer (nullable = true)\n",
      " |-- sun_pub: integer (nullable = true)\n",
      " |-- mon_pub: integer (nullable = true)\n",
      " |-- tue_pub: integer (nullable = true)\n",
      " |-- wed_pub: integer (nullable = true)\n",
      " |-- thu_pub: integer (nullable = true)\n",
      " |-- fri_pub: integer (nullable = true)\n",
      " |-- sat_pub: integer (nullable = true)\n",
      " |-- sun_base: integer (nullable = true)\n",
      " |-- mon_base: integer (nullable = true)\n",
      " |-- tue_base: integer (nullable = true)\n",
      " |-- wed_base: integer (nullable = true)\n",
      " |-- thu_base: integer (nullable = true)\n",
      " |-- fri_base: integer (nullable = true)\n",
      " |-- sat_base: integer (nullable = true)\n",
      " |-- output: integer (nullable = true)\n",
      "\n"
     ]
    }
   ],
   "source": [
    "raw_df.printSchema()"
   ]
  },
  {
   "cell_type": "markdown",
   "metadata": {},
   "source": [
    "# Выбираем колонку которую будем пердсказывать"
   ]
  },
  {
   "cell_type": "code",
   "execution_count": 9,
   "metadata": {},
   "outputs": [
    {
     "data": {
      "text/plain": [
       "\u001b[36mlabel\u001b[39m: \u001b[32mString\u001b[39m = \u001b[32m\"output\"\u001b[39m"
      ]
     },
     "execution_count": 9,
     "metadata": {},
     "output_type": "execute_result"
    }
   ],
   "source": [
    "val label = \"output\""
   ]
  },
  {
   "cell_type": "code",
   "execution_count": 10,
   "metadata": {},
   "outputs": [
    {
     "data": {
      "text/plain": [
       "\u001b[36mcolumns_features\u001b[39m: \u001b[32mArray\u001b[39m[\u001b[32mString\u001b[39m] = \u001b[33mArray\u001b[39m(\n",
       "  \u001b[32m\"likes\"\u001b[39m,\n",
       "  \u001b[32m\"Checkins\"\u001b[39m,\n",
       "  \u001b[32m\"Returns\"\u001b[39m,\n",
       "  \u001b[32m\"Category\"\u001b[39m,\n",
       "  \u001b[32m\"commBase\"\u001b[39m,\n",
       "  \u001b[32m\"comm24\"\u001b[39m,\n",
       "  \u001b[32m\"comm48\"\u001b[39m,\n",
       "  \u001b[32m\"comm24_1\"\u001b[39m,\n",
       "  \u001b[32m\"diff2448\"\u001b[39m,\n",
       "  \u001b[32m\"baseTime\"\u001b[39m,\n",
       "  \u001b[32m\"length\"\u001b[39m,\n",
       "  \u001b[32m\"shares\"\u001b[39m,\n",
       "  \u001b[32m\"hrs\"\u001b[39m,\n",
       "  \u001b[32m\"sun_pub\"\u001b[39m,\n",
       "  \u001b[32m\"mon_pub\"\u001b[39m,\n",
       "  \u001b[32m\"tue_pub\"\u001b[39m,\n",
       "  \u001b[32m\"wed_pub\"\u001b[39m,\n",
       "  \u001b[32m\"thu_pub\"\u001b[39m,\n",
       "  \u001b[32m\"fri_pub\"\u001b[39m,\n",
       "  \u001b[32m\"sat_pub\"\u001b[39m,\n",
       "  \u001b[32m\"sun_base\"\u001b[39m,\n",
       "  \u001b[32m\"mon_base\"\u001b[39m,\n",
       "  \u001b[32m\"tue_base\"\u001b[39m,\n",
       "  \u001b[32m\"wed_base\"\u001b[39m,\n",
       "  \u001b[32m\"thu_base\"\u001b[39m,\n",
       "  \u001b[32m\"fri_base\"\u001b[39m,\n",
       "  \u001b[32m\"sat_base\"\u001b[39m\n",
       ")"
      ]
     },
     "execution_count": 10,
     "metadata": {},
     "output_type": "execute_result"
    }
   ],
   "source": [
    "val columns_features = raw_df.drop(label).columns"
   ]
  },
  {
   "cell_type": "markdown",
   "metadata": {},
   "source": [
    "# Чистим датасет от строк с пустыми значениями"
   ]
  },
  {
   "cell_type": "code",
   "execution_count": 11,
   "metadata": {},
   "outputs": [
    {
     "data": {
      "text/plain": [
       "\u001b[32mimport \u001b[39m\u001b[36morg.apache.spark.sql.types.{StructField, StructType}\n",
       "\u001b[39m\n",
       "\u001b[32mimport \u001b[39m\u001b[36morg.apache.spark.sql.{DataFrame, SQLContext}\n",
       "\u001b[39m\n",
       "\u001b[32mimport \u001b[39m\u001b[36morg.apache.spark.{SparkConf, SparkContext}\n",
       "\u001b[39m\n",
       "\u001b[32mimport \u001b[39m\u001b[36morg.apache.spark.sql.functions.{col, udf}\u001b[39m"
      ]
     },
     "execution_count": 11,
     "metadata": {},
     "output_type": "execute_result"
    }
   ],
   "source": [
    "import org.apache.spark.sql.types.{StructField, StructType}\n",
    "import org.apache.spark.sql.{DataFrame, SQLContext}\n",
    "import org.apache.spark.{SparkConf, SparkContext}\n",
    "import org.apache.spark.sql.functions.{col, udf}"
   ]
  },
  {
   "cell_type": "code",
   "execution_count": 12,
   "metadata": {},
   "outputs": [
    {
     "data": {
      "text/plain": [
       "defined \u001b[32mclass\u001b[39m \u001b[36mRichDF\u001b[39m"
      ]
     },
     "execution_count": 12,
     "metadata": {},
     "output_type": "execute_result"
    }
   ],
   "source": [
    "implicit class RichDF(val ds:DataFrame) {\n",
    "    def showHTML(limit:Int = 20, truncate: Int = 20) = {\n",
    "        import xml.Utility.escape\n",
    "        val data = ds.take(limit)\n",
    "        val header = ds.schema.fieldNames.toSeq        \n",
    "        val rows: Seq[Seq[String]] = data.map { row =>\n",
    "          row.toSeq.map { cell =>\n",
    "            val str = cell match {\n",
    "              case null => \"null\"\n",
    "              case binary: Array[Byte] => binary.map(\"%02X\".format(_)).mkString(\"[\", \" \", \"]\")\n",
    "              case array: Array[_] => array.mkString(\"[\", \", \", \"]\")\n",
    "              case seq: Seq[_] => seq.mkString(\"[\", \", \", \"]\")\n",
    "              case _ => cell.toString\n",
    "            }\n",
    "            if (truncate > 0 && str.length > truncate) {\n",
    "              // do not show ellipses for strings shorter than 4 characters.\n",
    "              if (truncate < 4) str.substring(0, truncate)\n",
    "              else str.substring(0, truncate - 3) + \"...\"\n",
    "            } else {\n",
    "              str\n",
    "            }\n",
    "          }: Seq[String]\n",
    "        }\n",
    "\n",
    "        publish.html(s\"\"\" <table>\n",
    "                <tr>\n",
    "                 ${header.map(h => s\"<th>${escape(h)}</th>\").mkString}\n",
    "                </tr>\n",
    "                ${rows.map { row =>\n",
    "                  s\"<tr>${row.map{c => s\"<td>${escape(c)}</td>\" }.mkString}</tr>\"\n",
    "                }.mkString}\n",
    "            </table>\n",
    "        \"\"\")        \n",
    "    }\n",
    "    \n",
    "}"
   ]
  },
  {
   "cell_type": "code",
   "execution_count": 13,
   "metadata": {},
   "outputs": [
    {
     "data": {
      "text/plain": [
       "defined \u001b[32mfunction\u001b[39m \u001b[36msetNullableStateForAllColumns\u001b[39m"
      ]
     },
     "execution_count": 13,
     "metadata": {},
     "output_type": "execute_result"
    }
   ],
   "source": [
    "def setNullableStateForAllColumns( df: DataFrame, nullable: Boolean) : DataFrame = {\n",
    "  // get schema\n",
    "  val schema = df.schema\n",
    "  // modify [[StructField] with name `cn`\n",
    "  val newSchema = StructType(schema.map {\n",
    "    case StructField( c, t, _, m) ⇒ StructField( c, t, nullable = nullable, m)\n",
    "  })\n",
    "  // apply new schema\n",
    "  df.sqlContext.createDataFrame( df.rdd, newSchema )\n",
    "}"
   ]
  },
  {
   "cell_type": "code",
   "execution_count": 14,
   "metadata": {},
   "outputs": [
    {
     "data": {
      "text/html": [
       "<div>\n",
       "  <span style=\"float: left;\">count at cmd13.sc:4</span>\n",
       "</div>\n"
      ]
     },
     "metadata": {},
     "output_type": "display_data"
    },
    {
     "data": {
      "text/html": [
       "<div class=\"progress\">\n",
       "  <div class=\"progress-bar\" role=\"progressbar\" style=\"background-color: blue; width: 100%; word-wrap: normal; white-space: nowrap; text-align: center; color: white\" aria-valuenow=\"100\" aria-valuemin=\"0\" aria-valuemax=\"100\">\n",
       "    1 / 1\n",
       "  </div>\n",
       "  <div class=\"progress-bar\" role=\"progressbar\" style=\"background-color: red; width: 0%\" aria-valuenow=\"0\" aria-valuemin=\"0\" aria-valuemax=\"100\"></div>\n",
       "</div>\n"
      ]
     },
     "metadata": {},
     "output_type": "display_data"
    },
    {
     "data": {
      "text/html": [
       "<div>\n",
       "  <span style=\"float: left;\">count at cmd13.sc:4</span>\n",
       "</div>\n"
      ]
     },
     "metadata": {},
     "output_type": "display_data"
    },
    {
     "data": {
      "text/html": [
       "<div class=\"progress\">\n",
       "  <div class=\"progress-bar\" role=\"progressbar\" style=\"background-color: blue; width: 100%; word-wrap: normal; white-space: nowrap; text-align: center; color: white\" aria-valuenow=\"100\" aria-valuemin=\"0\" aria-valuemax=\"100\">\n",
       "    1 / 1\n",
       "  </div>\n",
       "  <div class=\"progress-bar\" role=\"progressbar\" style=\"background-color: red; width: 0%\" aria-valuenow=\"0\" aria-valuemin=\"0\" aria-valuemax=\"100\"></div>\n",
       "</div>\n"
      ]
     },
     "metadata": {},
     "output_type": "display_data"
    },
    {
     "name": "stdout",
     "output_type": "stream",
     "text": [
      "Размер датасета с пропусками: 40949"
     ]
    },
    {
     "data": {
      "text/html": [
       "<div>\n",
       "  <span style=\"float: left;\">count at cmd13.sc:5</span>\n",
       "</div>\n"
      ]
     },
     "metadata": {},
     "output_type": "display_data"
    },
    {
     "data": {
      "text/html": [
       "<div class=\"progress\">\n",
       "  <div class=\"progress-bar\" role=\"progressbar\" style=\"background-color: blue; width: 100%; word-wrap: normal; white-space: nowrap; text-align: center; color: white\" aria-valuenow=\"100\" aria-valuemin=\"0\" aria-valuemax=\"100\">\n",
       "    1 / 1\n",
       "  </div>\n",
       "  <div class=\"progress-bar\" role=\"progressbar\" style=\"background-color: red; width: 0%\" aria-valuenow=\"0\" aria-valuemin=\"0\" aria-valuemax=\"100\"></div>\n",
       "</div>\n"
      ]
     },
     "metadata": {},
     "output_type": "display_data"
    },
    {
     "data": {
      "text/html": [
       "<div>\n",
       "  <span style=\"float: left;\">count at cmd13.sc:5</span>\n",
       "</div>\n"
      ]
     },
     "metadata": {},
     "output_type": "display_data"
    },
    {
     "data": {
      "text/html": [
       "<div class=\"progress\">\n",
       "  <div class=\"progress-bar\" role=\"progressbar\" style=\"background-color: blue; width: 100%; word-wrap: normal; white-space: nowrap; text-align: center; color: white\" aria-valuenow=\"100\" aria-valuemin=\"0\" aria-valuemax=\"100\">\n",
       "    1 / 1\n",
       "  </div>\n",
       "  <div class=\"progress-bar\" role=\"progressbar\" style=\"background-color: red; width: 0%\" aria-valuenow=\"0\" aria-valuemin=\"0\" aria-valuemax=\"100\"></div>\n",
       "</div>\n"
      ]
     },
     "metadata": {},
     "output_type": "display_data"
    },
    {
     "name": "stdout",
     "output_type": "stream",
     "text": [
      "Размер датасета без пропусков: 32544"
     ]
    },
    {
     "data": {
      "text/plain": [
       "\u001b[36mfilterCond\u001b[39m: \u001b[32mColumn\u001b[39m = ((((((((((((((((((((((((((((likes IS NOT NULL) AND (Checkins IS NOT NULL)) AND (Returns IS NOT NULL)) AND (Category IS NOT NULL)) AND (commBase IS NOT NULL)) AND (comm24 IS NOT NULL)) AND (comm48 IS NOT NULL)) AND (comm24_1 IS NOT NULL)) AND (diff2448 IS NOT NULL)) AND (baseTime IS NOT NULL)) AND (length IS NOT NULL)) AND (shares IS NOT NULL)) AND (hrs IS NOT NULL)) AND (sun_pub IS NOT NULL)) AND (mon_pub IS NOT NULL)) AND (tue_pub IS NOT NULL)) AND (wed_pub IS NOT NULL)) AND (thu_pub IS NOT NULL)) AND (fri_pub IS NOT NULL)) AND (sat_pub IS NOT NULL)) AND (sun_base IS NOT NULL)) AND (mon_base IS NOT NULL)) AND (tue_base IS NOT NULL)) AND (wed_base IS NOT NULL)) AND (thu_base IS NOT NULL)) AND (fri_base IS NOT NULL)) AND (sat_base IS NOT NULL)) AND (output IS NOT NULL))\n",
       "\u001b[36mdf\u001b[39m: \u001b[32mDataFrame\u001b[39m = [likes: int, Checkins: int ... 26 more fields]"
      ]
     },
     "execution_count": 14,
     "metadata": {},
     "output_type": "execute_result"
    }
   ],
   "source": [
    "val filterCond = raw_df.columns.map(x=>col(x).isNotNull).reduce(_ && _)\n",
    "val df = setNullableStateForAllColumns(raw_df.filter(filterCond), false)\n",
    "\n",
    "print(s\"Размер датасета с пропусками: ${raw_df.count}\")\n",
    "print(s\"Размер датасета без пропусков: ${df.count}\")"
   ]
  },
  {
   "cell_type": "code",
   "execution_count": 15,
   "metadata": {},
   "outputs": [
    {
     "name": "stdout",
     "output_type": "stream",
     "text": [
      "root\n",
      " |-- likes: integer (nullable = false)\n",
      " |-- Checkins: integer (nullable = false)\n",
      " |-- Returns: integer (nullable = false)\n",
      " |-- Category: integer (nullable = false)\n",
      " |-- commBase: integer (nullable = false)\n",
      " |-- comm24: integer (nullable = false)\n",
      " |-- comm48: integer (nullable = false)\n",
      " |-- comm24_1: integer (nullable = false)\n",
      " |-- diff2448: integer (nullable = false)\n",
      " |-- baseTime: integer (nullable = false)\n",
      " |-- length: integer (nullable = false)\n",
      " |-- shares: integer (nullable = false)\n",
      " |-- hrs: integer (nullable = false)\n",
      " |-- sun_pub: integer (nullable = false)\n",
      " |-- mon_pub: integer (nullable = false)\n",
      " |-- tue_pub: integer (nullable = false)\n",
      " |-- wed_pub: integer (nullable = false)\n",
      " |-- thu_pub: integer (nullable = false)\n",
      " |-- fri_pub: integer (nullable = false)\n",
      " |-- sat_pub: integer (nullable = false)\n",
      " |-- sun_base: integer (nullable = false)\n",
      " |-- mon_base: integer (nullable = false)\n",
      " |-- tue_base: integer (nullable = false)\n",
      " |-- wed_base: integer (nullable = false)\n",
      " |-- thu_base: integer (nullable = false)\n",
      " |-- fri_base: integer (nullable = false)\n",
      " |-- sat_base: integer (nullable = false)\n",
      " |-- output: integer (nullable = false)\n",
      "\n"
     ]
    }
   ],
   "source": [
    "df.printSchema()"
   ]
  },
  {
   "cell_type": "code",
   "execution_count": 16,
   "metadata": {},
   "outputs": [
    {
     "data": {
      "text/html": [
       "<div>\n",
       "  <span style=\"float: left;\">summary at cmd15.sc:1</span>\n",
       "</div>\n"
      ]
     },
     "metadata": {},
     "output_type": "display_data"
    },
    {
     "data": {
      "text/html": [
       "<div class=\"progress\">\n",
       "  <div class=\"progress-bar\" role=\"progressbar\" style=\"background-color: blue; width: 100%; word-wrap: normal; white-space: nowrap; text-align: center; color: white\" aria-valuenow=\"100\" aria-valuemin=\"0\" aria-valuemax=\"100\">\n",
       "    1 / 1\n",
       "  </div>\n",
       "  <div class=\"progress-bar\" role=\"progressbar\" style=\"background-color: red; width: 0%\" aria-valuenow=\"0\" aria-valuemin=\"0\" aria-valuemax=\"100\"></div>\n",
       "</div>\n"
      ]
     },
     "metadata": {},
     "output_type": "display_data"
    },
    {
     "data": {
      "text/html": [
       "<div>\n",
       "  <span style=\"float: left;\">summary at cmd15.sc:1</span>\n",
       "</div>\n"
      ]
     },
     "metadata": {},
     "output_type": "display_data"
    },
    {
     "data": {
      "text/html": [
       "<div class=\"progress\">\n",
       "  <div class=\"progress-bar\" role=\"progressbar\" style=\"background-color: blue; width: 100%; word-wrap: normal; white-space: nowrap; text-align: center; color: white\" aria-valuenow=\"100\" aria-valuemin=\"0\" aria-valuemax=\"100\">\n",
       "    1 / 1\n",
       "  </div>\n",
       "  <div class=\"progress-bar\" role=\"progressbar\" style=\"background-color: red; width: 0%\" aria-valuenow=\"0\" aria-valuemin=\"0\" aria-valuemax=\"100\"></div>\n",
       "</div>\n"
      ]
     },
     "metadata": {},
     "output_type": "display_data"
    },
    {
     "data": {
      "text/html": [
       " <table>\n",
       "                <tr>\n",
       "                 <th>summary</th><th>likes</th><th>Checkins</th><th>Returns</th><th>Category</th><th>commBase</th><th>comm24</th><th>comm48</th><th>comm24_1</th><th>diff2448</th><th>baseTime</th><th>length</th><th>shares</th><th>hrs</th><th>sun_pub</th><th>mon_pub</th><th>tue_pub</th><th>wed_pub</th><th>thu_pub</th><th>fri_pub</th><th>sat_pub</th><th>sun_base</th><th>mon_base</th><th>tue_base</th><th>wed_base</th><th>thu_base</th><th>fri_base</th><th>sat_base</th><th>output</th>\n",
       "                </tr>\n",
       "                <tr><td>count</td><td>32544</td><td>32544</td><td>32544</td><td>32544</td><td>32544</td><td>32544</td><td>32544</td><td>32544</td><td>32544</td><td>32544</td><td>32544</td><td>32544</td><td>32544</td><td>32544</td><td>32544</td><td>32544</td><td>32544</td><td>32544</td><td>32544</td><td>32544</td><td>32544</td><td>32544</td><td>32544</td><td>32544</td><td>32544</td><td>32544</td><td>32544</td><td>32544</td></tr><tr><td>mean</td><td>1413566.6092367256</td><td>4958.88148352999</td><td>47644.64586406096</td><td>24.3375430186824</td><td>57.197117748279254</td><td>22.810041789577188</td><td>20.261369223205506</td><td>54.086252458210424</td><td>2.5486725663716814</td><td>35.19011184857424</td><td>158.10127826941985</td><td>125.44926868239921</td><td>23.744346116027533</td><td>0.1160889872173058</td><td>0.13034660766961653</td><td>0.16150442477876106</td><td>0.16998525073746312</td><td>0.14700098328416913</td><td>0.14629424778761063</td><td>0.12877949852507375</td><td>0.15065757128810225</td><td>0.08788102261553589</td><td>0.14420476892822026</td><td>0.1547136184857424</td><td>0.15923058013765978</td><td>0.15025811209439527</td><td>0.15305432645034414</td><td>7.415283923303835</td></tr><tr><td>stddev</td><td>7336572.166988181</td><td>20975.685602975693</td><td>118550.34982212083</td><td>19.920612722316402</td><td>138.53923968315553</td><td>77.38184875738618</td><td>72.34546916148204</td><td>129.72932293030507</td><td>95.1879066635169</td><td>20.911597883378022</td><td>348.0975608592928</td><td>1046.1339922717923</td><td>2.007766621686439</td><td>0.32033652210593183</td><td>0.336689549612527</td><td>0.3680012321203724</td><td>0.3756256125078691</td><td>0.35411233712718043</td><td>0.35340639299876286</td><td>0.33496087366667965</td><td>0.3577202811219888</td><td>0.2831261408260906</td><td>0.3513026412544962</td><td>0.3616370187650174</td><td>0.3658965923748769</td><td>0.3573297290842397</td><td>0.36004539006954295</td><td>35.322185312846436</td></tr><tr><td>min</td><td>36</td><td>0</td><td>0</td><td>1</td><td>0</td><td>0</td><td>0</td><td>0</td><td>-1366</td><td>0</td><td>0</td><td>1</td><td>1</td><td>0</td><td>0</td><td>0</td><td>0</td><td>0</td><td>0</td><td>0</td><td>0</td><td>0</td><td>0</td><td>0</td><td>0</td><td>0</td><td>0</td><td>0</td></tr><tr><td>25%</td><td>43331</td><td>0</td><td>770</td><td>9</td><td>2</td><td>0</td><td>0</td><td>2</td><td>-6</td><td>17</td><td>39</td><td>2</td><td>24</td><td>0</td><td>0</td><td>0</td><td>0</td><td>0</td><td>0</td><td>0</td><td>0</td><td>0</td><td>0</td><td>0</td><td>0</td><td>0</td><td>0</td><td>0</td></tr><tr><td>50%</td><td>313452</td><td>0</td><td>9114</td><td>18</td><td>12</td><td>2</td><td>0</td><td>11</td><td>0</td><td>35</td><td>97</td><td>15</td><td>24</td><td>0</td><td>0</td><td>0</td><td>0</td><td>0</td><td>0</td><td>0</td><td>0</td><td>0</td><td>0</td><td>0</td><td>0</td><td>0</td><td>0</td><td>0</td></tr><tr><td>75%</td><td>1408791</td><td>148</td><td>53288</td><td>32</td><td>48</td><td>12</td><td>9</td><td>46</td><td>3</td><td>53</td><td>170</td><td>64</td><td>24</td><td>0</td><td>0</td><td>0</td><td>0</td><td>0</td><td>0</td><td>0</td><td>0</td><td>0</td><td>0</td><td>0</td><td>0</td><td>0</td><td>0</td><td>3</td></tr><tr><td>max</td><td>486972297</td><td>186370</td><td>6089942</td><td>106</td><td>2341</td><td>2079</td><td>1548</td><td>2184</td><td>2079</td><td>72</td><td>21480</td><td>144860</td><td>24</td><td>1</td><td>1</td><td>1</td><td>1</td><td>1</td><td>1</td><td>1</td><td>1</td><td>1</td><td>1</td><td>1</td><td>1</td><td>1</td><td>1</td><td>1305</td></tr>\n",
       "            </table>\n",
       "        "
      ]
     },
     "metadata": {},
     "output_type": "display_data"
    },
    {
     "data": {
      "text/plain": [
       "\u001b[36mdf_summary\u001b[39m: \u001b[32mDataFrame\u001b[39m = [summary: string, likes: string ... 27 more fields]"
      ]
     },
     "execution_count": 16,
     "metadata": {},
     "output_type": "execute_result"
    }
   ],
   "source": [
    "val df_summary = df.summary()\n",
    "df_summary.showHTML()"
   ]
  },
  {
   "cell_type": "code",
   "execution_count": 17,
   "metadata": {},
   "outputs": [
    {
     "data": {
      "text/plain": [
       "\u001b[32mimport \u001b[39m\u001b[36mspark.implicits._\n",
       "\u001b[39m\n",
       "\u001b[32mimport \u001b[39m\u001b[36mscala.util.Try\n",
       "\u001b[39m\n",
       "\u001b[32mimport \u001b[39m\u001b[36morg.apache.spark.ml.linalg._\n",
       "\u001b[39m\n",
       "\u001b[32mimport \u001b[39m\u001b[36morg.apache.spark.ml.feature.VectorAssembler\n",
       "\u001b[39m\n",
       "\u001b[32mimport \u001b[39m\u001b[36morg.apache.spark.ml.stat.Correlation\u001b[39m"
      ]
     },
     "execution_count": 17,
     "metadata": {},
     "output_type": "execute_result"
    }
   ],
   "source": [
    "import spark.implicits._\n",
    "import scala.util.Try\n",
    "import org.apache.spark.ml.linalg._\n",
    "import org.apache.spark.ml.feature.VectorAssembler\n",
    "import org.apache.spark.ml.stat.Correlation"
   ]
  },
  {
   "cell_type": "code",
   "execution_count": 18,
   "metadata": {},
   "outputs": [
    {
     "data": {
      "text/plain": [
       "\u001b[36mexprs\u001b[39m: \u001b[32mArray\u001b[39m[\u001b[32mColumn\u001b[39m] = \u001b[33mArray\u001b[39m(\n",
       "  CAST(likes AS DOUBLE),\n",
       "  CAST(Checkins AS DOUBLE),\n",
       "  CAST(Returns AS DOUBLE),\n",
       "  CAST(Category AS DOUBLE),\n",
       "  CAST(commBase AS DOUBLE),\n",
       "  CAST(comm24 AS DOUBLE),\n",
       "  CAST(comm48 AS DOUBLE),\n",
       "  CAST(comm24_1 AS DOUBLE),\n",
       "  CAST(diff2448 AS DOUBLE),\n",
       "  CAST(baseTime AS DOUBLE),\n",
       "  CAST(length AS DOUBLE),\n",
       "  CAST(shares AS DOUBLE),\n",
       "  CAST(hrs AS DOUBLE),\n",
       "  CAST(sun_pub AS DOUBLE),\n",
       "  CAST(mon_pub AS DOUBLE),\n",
       "  CAST(tue_pub AS DOUBLE),\n",
       "  CAST(wed_pub AS DOUBLE),\n",
       "  CAST(thu_pub AS DOUBLE),\n",
       "  CAST(fri_pub AS DOUBLE),\n",
       "  CAST(sat_pub AS DOUBLE),\n",
       "  CAST(sun_base AS DOUBLE),\n",
       "  CAST(mon_base AS DOUBLE),\n",
       "  CAST(tue_base AS DOUBLE),\n",
       "  CAST(wed_base AS DOUBLE),\n",
       "  CAST(thu_base AS DOUBLE),\n",
       "  CAST(fri_base AS DOUBLE),\n",
       "  CAST(sat_base AS DOUBLE),\n",
       "  CAST(output AS DOUBLE)\n",
       ")"
      ]
     },
     "execution_count": 18,
     "metadata": {},
     "output_type": "execute_result"
    }
   ],
   "source": [
    "val exprs = df.columns.map(c => col(c).cast(\"double\"))"
   ]
  },
  {
   "cell_type": "code",
   "execution_count": 19,
   "metadata": {},
   "outputs": [
    {
     "data": {
      "text/plain": [
       "\u001b[36mdf_double\u001b[39m: \u001b[32mDataFrame\u001b[39m = [likes: double, Checkins: double ... 26 more fields]"
      ]
     },
     "execution_count": 19,
     "metadata": {},
     "output_type": "execute_result"
    }
   ],
   "source": [
    "val df_double = df.select(exprs: _*)"
   ]
  },
  {
   "cell_type": "code",
   "execution_count": 20,
   "metadata": {},
   "outputs": [
    {
     "data": {
      "text/plain": [
       "\u001b[36massembler\u001b[39m: \u001b[32mVectorAssembler\u001b[39m = VectorAssembler: uid=vecAssembler_53db28982629, handleInvalid=error, numInputCols=27"
      ]
     },
     "execution_count": 20,
     "metadata": {},
     "output_type": "execute_result"
    }
   ],
   "source": [
    "val assembler = new VectorAssembler()\n",
    "  .setInputCols(columns_features)\n",
    "  .setOutputCol(\"features\")"
   ]
  },
  {
   "cell_type": "code",
   "execution_count": 21,
   "metadata": {},
   "outputs": [
    {
     "data": {
      "text/plain": [
       "\u001b[36mdf_features\u001b[39m: \u001b[32mDataFrame\u001b[39m = [likes: double, Checkins: double ... 27 more fields]"
      ]
     },
     "execution_count": 21,
     "metadata": {},
     "output_type": "execute_result"
    }
   ],
   "source": [
    "val df_features = assembler.transform(df_double)"
   ]
  },
  {
   "cell_type": "code",
   "execution_count": 22,
   "metadata": {
    "scrolled": false
   },
   "outputs": [
    {
     "data": {
      "text/html": [
       "<div>\n",
       "  <span style=\"float: left;\">first at RowMatrix.scala:62</span>\n",
       "</div>\n"
      ]
     },
     "metadata": {},
     "output_type": "display_data"
    },
    {
     "data": {
      "text/html": [
       "<div class=\"progress\">\n",
       "  <div class=\"progress-bar\" role=\"progressbar\" style=\"background-color: blue; width: 100%; word-wrap: normal; white-space: nowrap; text-align: center; color: white\" aria-valuenow=\"100\" aria-valuemin=\"0\" aria-valuemax=\"100\">\n",
       "    1 / 1\n",
       "  </div>\n",
       "  <div class=\"progress-bar\" role=\"progressbar\" style=\"background-color: red; width: 0%\" aria-valuenow=\"0\" aria-valuemin=\"0\" aria-valuemax=\"100\"></div>\n",
       "</div>\n"
      ]
     },
     "metadata": {},
     "output_type": "display_data"
    },
    {
     "data": {
      "text/html": [
       "<div>\n",
       "  <span style=\"float: left;\">treeAggregate at Statistics.scala:58</span>\n",
       "</div>\n"
      ]
     },
     "metadata": {},
     "output_type": "display_data"
    },
    {
     "data": {
      "text/html": [
       "<div class=\"progress\">\n",
       "  <div class=\"progress-bar\" role=\"progressbar\" style=\"background-color: blue; width: 100%; word-wrap: normal; white-space: nowrap; text-align: center; color: white\" aria-valuenow=\"100\" aria-valuemin=\"0\" aria-valuemax=\"100\">\n",
       "    1 / 1\n",
       "  </div>\n",
       "  <div class=\"progress-bar\" role=\"progressbar\" style=\"background-color: red; width: 0%\" aria-valuenow=\"0\" aria-valuemin=\"0\" aria-valuemax=\"100\"></div>\n",
       "</div>\n"
      ]
     },
     "metadata": {},
     "output_type": "display_data"
    },
    {
     "data": {
      "text/html": [
       "<div>\n",
       "  <span style=\"float: left;\">first at RowMatrix.scala:442</span>\n",
       "</div>\n"
      ]
     },
     "metadata": {},
     "output_type": "display_data"
    },
    {
     "data": {
      "text/html": [
       "<div class=\"progress\">\n",
       "  <div class=\"progress-bar\" role=\"progressbar\" style=\"background-color: blue; width: 100%; word-wrap: normal; white-space: nowrap; text-align: center; color: white\" aria-valuenow=\"100\" aria-valuemin=\"0\" aria-valuemax=\"100\">\n",
       "    1 / 1\n",
       "  </div>\n",
       "  <div class=\"progress-bar\" role=\"progressbar\" style=\"background-color: red; width: 0%\" aria-valuenow=\"0\" aria-valuemin=\"0\" aria-valuemax=\"100\"></div>\n",
       "</div>\n"
      ]
     },
     "metadata": {},
     "output_type": "display_data"
    },
    {
     "data": {
      "text/html": [
       "<div>\n",
       "  <span style=\"float: left;\">treeAggregate at RowMatrix.scala:124</span>\n",
       "</div>\n"
      ]
     },
     "metadata": {},
     "output_type": "display_data"
    },
    {
     "data": {
      "text/html": [
       "<div class=\"progress\">\n",
       "  <div class=\"progress-bar\" role=\"progressbar\" style=\"background-color: blue; width: 100%; word-wrap: normal; white-space: nowrap; text-align: center; color: white\" aria-valuenow=\"100\" aria-valuemin=\"0\" aria-valuemax=\"100\">\n",
       "    1 / 1\n",
       "  </div>\n",
       "  <div class=\"progress-bar\" role=\"progressbar\" style=\"background-color: red; width: 0%\" aria-valuenow=\"0\" aria-valuemin=\"0\" aria-valuemax=\"100\"></div>\n",
       "</div>\n"
      ]
     },
     "metadata": {},
     "output_type": "display_data"
    },
    {
     "data": {
      "text/plain": [
       "\u001b[36mcoeff1\u001b[39m: \u001b[32mMatrix\u001b[39m = 1.0                     0.040137564380736644    ... (27 total)\n",
       "0.040137564380736644    1.0                     ...\n",
       "0.6278278844661094      0.15337897465130115     ...\n",
       "-0.03279218953119031    -0.07020725164607754    ...\n",
       "0.10025276983055322     0.09237381414133437     ...\n",
       "0.07493402592164884     0.05868844832746428     ...\n",
       "0.06772876928848309     0.06011471539696292     ...\n",
       "0.09973968272660673     0.09522608581444941     ...\n",
       "0.009440945832780127    0.0020211952350139683   ...\n",
       "-0.008929110937885655   0.0049540057887329314   ...\n",
       "-0.0017944676966280093  -0.0025950482814879675  ...\n",
       "0.3415112787866649      0.04432388942967613     ...\n",
       "-0.020968569277467587   -0.010102593128959877   ...\n",
       "-0.004004162639530355   -0.0048009923399678816  ...\n",
       "0.0027063813924104547   -0.018130810585776435   ...\n",
       "0.011790101631194759    0.006480785109265317    ...\n",
       "0.0027318646766279955   0.003669379717366586    ...\n",
       "-0.006896171369131423   0.013340197235506666    ...\n",
       "-0.011350005009850223   -0.011530037384646252   ...\n",
       "0.004357889947191647    0.009642912012351637    ...\n",
       "-0.004706916481342711   0.002851300284213086    ...\n",
       "0.009927850630482979    -0.010176326475726716   ...\n",
       "5.964114312034265E-4    9.484406265167435E-4    ...\n",
       "0.003989763175953544    -0.006270654860819776   ...\n",
       "0.005251315617442071    0.002350971623227284    ...\n",
       "-0.002880972666522016   0.007156049821749211    ...\n",
       "-0.010197111056300756   0.0010511049346592454   ..."
      ]
     },
     "execution_count": 22,
     "metadata": {},
     "output_type": "execute_result"
    }
   ],
   "source": [
    "val Row(coeff1: Matrix) = Correlation.corr(df_features, \"features\").head"
   ]
  },
  {
   "cell_type": "code",
   "execution_count": 23,
   "metadata": {
    "scrolled": false
   },
   "outputs": [
    {
     "data": {
      "text/html": [
       "<div>\n",
       "  <span style=\"float: left;\">flatMap at SpearmanCorrelation.scala:48</span>\n",
       "</div>\n"
      ]
     },
     "metadata": {},
     "output_type": "display_data"
    },
    {
     "data": {
      "text/html": [
       "<div class=\"progress\">\n",
       "  <div class=\"progress-bar\" role=\"progressbar\" style=\"background-color: blue; width: 100%; word-wrap: normal; white-space: nowrap; text-align: center; color: white\" aria-valuenow=\"100\" aria-valuemin=\"0\" aria-valuemax=\"100\">\n",
       "    1 / 1\n",
       "  </div>\n",
       "  <div class=\"progress-bar\" role=\"progressbar\" style=\"background-color: red; width: 0%\" aria-valuenow=\"0\" aria-valuemin=\"0\" aria-valuemax=\"100\"></div>\n",
       "</div>\n"
      ]
     },
     "metadata": {},
     "output_type": "display_data"
    },
    {
     "data": {
      "text/html": [
       "<div>\n",
       "  <span style=\"float: left;\">mapPartitions at SpearmanCorrelation.scala:54</span>\n",
       "</div>\n"
      ]
     },
     "metadata": {},
     "output_type": "display_data"
    },
    {
     "data": {
      "text/html": [
       "<div class=\"progress\">\n",
       "  <div class=\"progress-bar\" role=\"progressbar\" style=\"background-color: blue; width: 100%; word-wrap: normal; white-space: nowrap; text-align: center; color: white\" aria-valuenow=\"100\" aria-valuemin=\"0\" aria-valuemax=\"100\">\n",
       "    1 / 1\n",
       "  </div>\n",
       "  <div class=\"progress-bar\" role=\"progressbar\" style=\"background-color: red; width: 0%\" aria-valuenow=\"0\" aria-valuemin=\"0\" aria-valuemax=\"100\"></div>\n",
       "</div>\n"
      ]
     },
     "metadata": {},
     "output_type": "display_data"
    },
    {
     "data": {
      "text/html": [
       "<div>\n",
       "  <span style=\"float: left;\">first at RowMatrix.scala:62</span>\n",
       "</div>\n"
      ]
     },
     "metadata": {},
     "output_type": "display_data"
    },
    {
     "data": {
      "text/html": [
       "<div class=\"progress\">\n",
       "  <div class=\"progress-bar\" role=\"progressbar\" style=\"background-color: blue; width: 100%; word-wrap: normal; white-space: nowrap; text-align: center; color: white\" aria-valuenow=\"100\" aria-valuemin=\"0\" aria-valuemax=\"100\">\n",
       "    1 / 1\n",
       "  </div>\n",
       "  <div class=\"progress-bar\" role=\"progressbar\" style=\"background-color: red; width: 0%\" aria-valuenow=\"0\" aria-valuemin=\"0\" aria-valuemax=\"100\"></div>\n",
       "</div>\n"
      ]
     },
     "metadata": {},
     "output_type": "display_data"
    },
    {
     "data": {
      "text/html": [
       "<div>\n",
       "  <span style=\"float: left;\">treeAggregate at Statistics.scala:58</span>\n",
       "</div>\n"
      ]
     },
     "metadata": {},
     "output_type": "display_data"
    },
    {
     "data": {
      "text/html": [
       "<div class=\"progress\">\n",
       "  <div class=\"progress-bar\" role=\"progressbar\" style=\"background-color: blue; width: 100%; word-wrap: normal; white-space: nowrap; text-align: center; color: white\" aria-valuenow=\"100\" aria-valuemin=\"0\" aria-valuemax=\"100\">\n",
       "    1 / 1\n",
       "  </div>\n",
       "  <div class=\"progress-bar\" role=\"progressbar\" style=\"background-color: red; width: 0%\" aria-valuenow=\"0\" aria-valuemin=\"0\" aria-valuemax=\"100\"></div>\n",
       "</div>\n"
      ]
     },
     "metadata": {},
     "output_type": "display_data"
    },
    {
     "data": {
      "text/html": [
       "<div>\n",
       "  <span style=\"float: left;\">first at RowMatrix.scala:442</span>\n",
       "</div>\n"
      ]
     },
     "metadata": {},
     "output_type": "display_data"
    },
    {
     "data": {
      "text/html": [
       "<div class=\"progress\">\n",
       "  <div class=\"progress-bar\" role=\"progressbar\" style=\"background-color: blue; width: 100%; word-wrap: normal; white-space: nowrap; text-align: center; color: white\" aria-valuenow=\"100\" aria-valuemin=\"0\" aria-valuemax=\"100\">\n",
       "    1 / 1\n",
       "  </div>\n",
       "  <div class=\"progress-bar\" role=\"progressbar\" style=\"background-color: red; width: 0%\" aria-valuenow=\"0\" aria-valuemin=\"0\" aria-valuemax=\"100\"></div>\n",
       "</div>\n"
      ]
     },
     "metadata": {},
     "output_type": "display_data"
    },
    {
     "data": {
      "text/html": [
       "<div>\n",
       "  <span style=\"float: left;\">treeAggregate at RowMatrix.scala:156</span>\n",
       "</div>\n"
      ]
     },
     "metadata": {},
     "output_type": "display_data"
    },
    {
     "data": {
      "text/html": [
       "<div class=\"progress\">\n",
       "  <div class=\"progress-bar\" role=\"progressbar\" style=\"background-color: blue; width: 100%; word-wrap: normal; white-space: nowrap; text-align: center; color: white\" aria-valuenow=\"100\" aria-valuemin=\"0\" aria-valuemax=\"100\">\n",
       "    1 / 1\n",
       "  </div>\n",
       "  <div class=\"progress-bar\" role=\"progressbar\" style=\"background-color: red; width: 0%\" aria-valuenow=\"0\" aria-valuemin=\"0\" aria-valuemax=\"100\"></div>\n",
       "</div>\n"
      ]
     },
     "metadata": {},
     "output_type": "display_data"
    },
    {
     "name": "stderr",
     "output_type": "stream",
     "text": [
      "21/04/25 20:13:33 WARN BLAS: Failed to load implementation from: com.github.fommil.netlib.NativeSystemBLAS\n",
      "21/04/25 20:13:33 WARN BLAS: Failed to load implementation from: com.github.fommil.netlib.NativeRefBLAS\n"
     ]
    },
    {
     "data": {
      "text/plain": [
       "\u001b[36mcoeff2\u001b[39m: \u001b[32mMatrix\u001b[39m = 1.0                     0.19176513195813522     ... (27 total)\n",
       "0.19176513195813522     1.0                     ...\n",
       "0.8212678867955855      0.13232855496450044     ...\n",
       "-0.3936427688020219     0.05898008751315148     ...\n",
       "0.5586026487997914      0.05732313313077851     ...\n",
       "0.43489655507295044     0.03640593211655421     ...\n",
       "0.29155813502133426     0.01606945977003434     ...\n",
       "0.5577982386671035      0.057985255560984404    ...\n",
       "-0.08771966819816797    -0.011572967331207428   ...\n",
       "-0.01800508361286597    -0.006224827678467367   ...\n",
       "0.06878349769746107     0.094957479038855       ...\n",
       "0.5578894579825961      0.10637276257650845     ...\n",
       "-0.10592316837871632    -0.005888342222886982   ...\n",
       "0.006450640041419278    -0.024776200572208678   ...\n",
       "-5.007974433510054E-4   -0.007980519672215938   ...\n",
       "0.012349922413065657    0.007683578838915802    ...\n",
       "0.016954113127148607    0.007854944157586263    ...\n",
       "-0.014710876688621748   0.01201359867517025     ...\n",
       "-0.016817136581767426   -0.006788218590502683   ...\n",
       "-0.0049509114291698235  0.008927702857483018    ...\n",
       "-0.012451863884950032   0.0022549753326856986   ...\n",
       "-0.012996499439376495   -0.005719195226395635   ...\n",
       "0.007771819123813232    -0.009159854657536106   ...\n",
       "0.017028375283234583    -0.005657005052036152   ...\n",
       "0.019908286091506206    0.01038961562105902     ...\n",
       "-0.007101216692564156   0.0077369444836680075   ...\n",
       "-0.015279508731861477   -0.0013606572993975247  ..."
      ]
     },
     "execution_count": 23,
     "metadata": {},
     "output_type": "execute_result"
    }
   ],
   "source": [
    "val Row(coeff2: Matrix) = Correlation.corr(df_features, \"features\", \"spearman\").head"
   ]
  },
  {
   "cell_type": "markdown",
   "metadata": {},
   "source": [
    "Построим тепловую карту корреляции"
   ]
  },
  {
   "cell_type": "code",
   "execution_count": 24,
   "metadata": {},
   "outputs": [
    {
     "data": {
      "text/plain": [
       "\u001b[32mimport \u001b[39m\u001b[36mcom.cibo.evilplot.geometry._\n",
       "\u001b[39m\n",
       "\u001b[32mimport \u001b[39m\u001b[36mcom.cibo.evilplot.colors._\n",
       "\u001b[39m\n",
       "\u001b[32mimport \u001b[39m\u001b[36mcom.cibo.evilplot.numeric.Point\u001b[39m"
      ]
     },
     "execution_count": 24,
     "metadata": {},
     "output_type": "execute_result"
    }
   ],
   "source": [
    "import com.cibo.evilplot.geometry._\n",
    "import com.cibo.evilplot.colors._\n",
    "import com.cibo.evilplot.numeric.Point"
   ]
  },
  {
   "cell_type": "code",
   "execution_count": 25,
   "metadata": {},
   "outputs": [
    {
     "data": {
      "text/plain": [
       "defined \u001b[32mfunction\u001b[39m \u001b[36mheatmapPlot\u001b[39m"
      ]
     },
     "execution_count": 25,
     "metadata": {},
     "output_type": "execute_result"
    }
   ],
   "source": [
    "def heatmapPlot ( matrix: Matrix ) : Drawable = {\n",
    "    Align.right(\n",
    "        matrix.colIter.toList.map(\n",
    "            c=>{\n",
    "              Align.bottom(\n",
    "                 c.toArray.map(\n",
    "                    e=>{\n",
    "                        Rect(20, 20) filled RGB((255.0*e.abs).toInt, 126, 34)\n",
    "                    }\n",
    "                 ):_*\n",
    "              ).reduce(_ beside _)   \n",
    "            }\n",
    "        ):_*\n",
    "    ).reduce(_ above _)\n",
    "}"
   ]
  },
  {
   "cell_type": "code",
   "execution_count": 26,
   "metadata": {},
   "outputs": [
    {
     "data": {
      "image/png": "[encoded data removed]"
     },
     "metadata": {
      "height": "2160",
      "width": "2160"
     },
     "output_type": "display_data"
    }
   ],
   "source": [
    "showPlot(heatmapPlot(coeff1))"
   ]
  },
  {
   "cell_type": "code",
   "execution_count": 27,
   "metadata": {},
   "outputs": [
    {
     "data": {
      "image/png": "[encoded data removed]"
     },
     "metadata": {
      "height": "2160",
      "width": "2160"
     },
     "output_type": "display_data"
    }
   ],
   "source": [
    "showPlot(heatmapPlot(coeff2))"
   ]
  },
  {
   "cell_type": "markdown",
   "metadata": {},
   "source": [
    "### Выводы:\n",
    "Видем явную кореляции commBase и comm24_1"
   ]
  },
  {
   "cell_type": "markdown",
   "metadata": {},
   "source": [
    "# Скалируем значения"
   ]
  },
  {
   "cell_type": "code",
   "execution_count": 28,
   "metadata": {},
   "outputs": [
    {
     "data": {
      "text/plain": [
       "\u001b[32mimport \u001b[39m\u001b[36morg.apache.spark.ml.feature.StandardScaler\u001b[39m"
      ]
     },
     "execution_count": 28,
     "metadata": {},
     "output_type": "execute_result"
    }
   ],
   "source": [
    "import org.apache.spark.ml.feature.StandardScaler"
   ]
  },
  {
   "cell_type": "code",
   "execution_count": 29,
   "metadata": {},
   "outputs": [
    {
     "data": {
      "text/plain": [
       "\u001b[36mscaler\u001b[39m: \u001b[32mStandardScaler\u001b[39m = stdScal_d5a5844f4e09"
      ]
     },
     "execution_count": 29,
     "metadata": {},
     "output_type": "execute_result"
    }
   ],
   "source": [
    "val scaler = new StandardScaler()\n",
    "      .setInputCol(\"features\")\n",
    "      .setOutputCol(\"scaledFeatures\")\n",
    "      .setWithStd(true)\n",
    "      .setWithMean(false)"
   ]
  },
  {
   "cell_type": "code",
   "execution_count": 30,
   "metadata": {},
   "outputs": [
    {
     "data": {
      "text/html": [
       "<div>\n",
       "  <span style=\"float: left;\">first at StandardScaler.scala:113</span>\n",
       "</div>\n"
      ]
     },
     "metadata": {},
     "output_type": "display_data"
    },
    {
     "data": {
      "text/html": [
       "<div class=\"progress\">\n",
       "  <div class=\"progress-bar\" role=\"progressbar\" style=\"background-color: blue; width: 100%; word-wrap: normal; white-space: nowrap; text-align: center; color: white\" aria-valuenow=\"100\" aria-valuemin=\"0\" aria-valuemax=\"100\">\n",
       "    1 / 1\n",
       "  </div>\n",
       "  <div class=\"progress-bar\" role=\"progressbar\" style=\"background-color: red; width: 0%\" aria-valuenow=\"0\" aria-valuemin=\"0\" aria-valuemax=\"100\"></div>\n",
       "</div>\n"
      ]
     },
     "metadata": {},
     "output_type": "display_data"
    },
    {
     "data": {
      "text/html": [
       "<div>\n",
       "  <span style=\"float: left;\">first at StandardScaler.scala:113</span>\n",
       "</div>\n"
      ]
     },
     "metadata": {},
     "output_type": "display_data"
    },
    {
     "data": {
      "text/html": [
       "<div class=\"progress\">\n",
       "  <div class=\"progress-bar\" role=\"progressbar\" style=\"background-color: blue; width: 100%; word-wrap: normal; white-space: nowrap; text-align: center; color: white\" aria-valuenow=\"100\" aria-valuemin=\"0\" aria-valuemax=\"100\">\n",
       "    1 / 1\n",
       "  </div>\n",
       "  <div class=\"progress-bar\" role=\"progressbar\" style=\"background-color: red; width: 0%\" aria-valuenow=\"0\" aria-valuemin=\"0\" aria-valuemax=\"100\"></div>\n",
       "</div>\n"
      ]
     },
     "metadata": {},
     "output_type": "display_data"
    },
    {
     "data": {
      "text/plain": [
       "\u001b[36mscalerModel\u001b[39m: \u001b[32morg\u001b[39m.\u001b[32mapache\u001b[39m.\u001b[32mspark\u001b[39m.\u001b[32mml\u001b[39m.\u001b[32mfeature\u001b[39m.\u001b[32mStandardScalerModel\u001b[39m = StandardScalerModel: uid=stdScal_d5a5844f4e09, numFeatures=27, withMean=false, withStd=true"
      ]
     },
     "execution_count": 30,
     "metadata": {},
     "output_type": "execute_result"
    }
   ],
   "source": [
    "val scalerModel = scaler.fit(df_features)"
   ]
  },
  {
   "cell_type": "code",
   "execution_count": 31,
   "metadata": {},
   "outputs": [
    {
     "data": {
      "text/html": [
       "<div>\n",
       "  <span style=\"float: left;\">take at cmd11.sc:4</span>\n",
       "</div>\n"
      ]
     },
     "metadata": {},
     "output_type": "display_data"
    },
    {
     "data": {
      "text/html": [
       "<div class=\"progress\">\n",
       "  <div class=\"progress-bar\" role=\"progressbar\" style=\"background-color: blue; width: 100%; word-wrap: normal; white-space: nowrap; text-align: center; color: white\" aria-valuenow=\"100\" aria-valuemin=\"0\" aria-valuemax=\"100\">\n",
       "    1 / 1\n",
       "  </div>\n",
       "  <div class=\"progress-bar\" role=\"progressbar\" style=\"background-color: red; width: 0%\" aria-valuenow=\"0\" aria-valuemin=\"0\" aria-valuemax=\"100\"></div>\n",
       "</div>\n"
      ]
     },
     "metadata": {},
     "output_type": "display_data"
    },
    {
     "data": {
      "text/html": [
       " <table>\n",
       "                <tr>\n",
       "                 <th>likes</th><th>Checkins</th><th>Returns</th><th>Category</th><th>commBase</th><th>comm24</th><th>comm48</th><th>comm24_1</th><th>diff2448</th><th>baseTime</th><th>length</th><th>shares</th><th>hrs</th><th>sun_pub</th><th>mon_pub</th><th>tue_pub</th><th>wed_pub</th><th>thu_pub</th><th>fri_pub</th><th>sat_pub</th><th>sun_base</th><th>mon_base</th><th>tue_base</th><th>wed_base</th><th>thu_base</th><th>fri_base</th><th>sat_base</th><th>output</th><th>features</th><th>scaledFeatures</th>\n",
       "                </tr>\n",
       "                <tr><td>634995.0</td><td>0.0</td><td>463.0</td><td>1.0</td><td>0.0</td><td>0.0</td><td>0.0</td><td>0.0</td><td>0.0</td><td>65.0</td><td>166.0</td><td>2.0</td><td>24.0</td><td>0.0</td><td>0.0</td><td>0.0</td><td>1.0</td><td>0.0</td><td>0.0</td><td>0.0</td><td>0.0</td><td>0.0</td><td>0.0</td><td>0.0</td><td>0.0</td><td>0.0</td><td>1.0</td><td>0.0</td><td>(27,[0,2,3,9,10,1...</td><td>(27,[0,2,3,9,10,1...</td></tr><tr><td>634995.0</td><td>0.0</td><td>463.0</td><td>1.0</td><td>0.0</td><td>0.0</td><td>0.0</td><td>0.0</td><td>0.0</td><td>10.0</td><td>132.0</td><td>1.0</td><td>24.0</td><td>0.0</td><td>0.0</td><td>0.0</td><td>0.0</td><td>1.0</td><td>0.0</td><td>0.0</td><td>0.0</td><td>0.0</td><td>0.0</td><td>0.0</td><td>0.0</td><td>1.0</td><td>0.0</td><td>0.0</td><td>(27,[0,2,3,9,10,1...</td><td>(27,[0,2,3,9,10,1...</td></tr><tr><td>634995.0</td><td>0.0</td><td>463.0</td><td>1.0</td><td>0.0</td><td>0.0</td><td>0.0</td><td>0.0</td><td>0.0</td><td>14.0</td><td>133.0</td><td>2.0</td><td>24.0</td><td>0.0</td><td>0.0</td><td>0.0</td><td>0.0</td><td>0.0</td><td>1.0</td><td>0.0</td><td>0.0</td><td>0.0</td><td>0.0</td><td>0.0</td><td>0.0</td><td>0.0</td><td>1.0</td><td>0.0</td><td>(27,[0,2,3,9,10,1...</td><td>(27,[0,2,3,9,10,1...</td></tr><tr><td>634995.0</td><td>0.0</td><td>463.0</td><td>1.0</td><td>7.0</td><td>0.0</td><td>3.0</td><td>7.0</td><td>-3.0</td><td>62.0</td><td>131.0</td><td>1.0</td><td>24.0</td><td>0.0</td><td>0.0</td><td>0.0</td><td>0.0</td><td>0.0</td><td>1.0</td><td>0.0</td><td>0.0</td><td>1.0</td><td>0.0</td><td>0.0</td><td>0.0</td><td>0.0</td><td>0.0</td><td>0.0</td><td>(27,[0,2,3,4,6,7,...</td><td>(27,[0,2,3,4,6,7,...</td></tr><tr><td>634995.0</td><td>0.0</td><td>463.0</td><td>1.0</td><td>1.0</td><td>0.0</td><td>1.0</td><td>1.0</td><td>-1.0</td><td>32.0</td><td>157.0</td><td>2.0</td><td>24.0</td><td>0.0</td><td>0.0</td><td>0.0</td><td>0.0</td><td>1.0</td><td>0.0</td><td>0.0</td><td>0.0</td><td>0.0</td><td>0.0</td><td>0.0</td><td>0.0</td><td>0.0</td><td>1.0</td><td>0.0</td><td>(27,[0,2,3,4,6,7,...</td><td>(27,[0,2,3,4,6,7,...</td></tr>\n",
       "            </table>\n",
       "        "
      ]
     },
     "metadata": {},
     "output_type": "display_data"
    },
    {
     "data": {
      "text/plain": [
       "\u001b[36mdf_scaled\u001b[39m: \u001b[32mDataFrame\u001b[39m = [likes: double, Checkins: double ... 28 more fields]"
      ]
     },
     "execution_count": 31,
     "metadata": {},
     "output_type": "execute_result"
    }
   ],
   "source": [
    "val df_scaled = scalerModel.transform(df_features)\n",
    "df_scaled.showHTML(5)"
   ]
  },
  {
   "cell_type": "markdown",
   "metadata": {},
   "source": [
    "# Получим матрицу для Breeze"
   ]
  },
  {
   "cell_type": "code",
   "execution_count": 32,
   "metadata": {},
   "outputs": [
    {
     "data": {
      "text/plain": [
       "\u001b[32mimport \u001b[39m\u001b[36mbreeze.linalg._\n",
       "\u001b[39m\n",
       "\u001b[32mimport \u001b[39m\u001b[36mbreeze.numerics._\u001b[39m"
      ]
     },
     "execution_count": 32,
     "metadata": {},
     "output_type": "execute_result"
    }
   ],
   "source": [
    "import breeze.linalg._\n",
    "import breeze.numerics._"
   ]
  },
  {
   "cell_type": "code",
   "execution_count": 33,
   "metadata": {},
   "outputs": [
    {
     "data": {
      "text/plain": [
       "defined \u001b[32mfunction\u001b[39m \u001b[36mgetDenseMatrixFromDF\u001b[39m"
      ]
     },
     "execution_count": 33,
     "metadata": {},
     "output_type": "execute_result"
    }
   ],
   "source": [
    "def getDenseMatrixFromDF(\n",
    "    df:DataFrame,\n",
    "    label:String,\n",
    "    features:String,\n",
    "    columns_features:Array[String]\n",
    "    ):(DenseMatrix[Double],DenseMatrix[Double]) = {\n",
    "       \n",
    "    import org.apache.spark.ml.linalg.Vector\n",
    "    val vecToArray = udf( (xs: Vector) => xs.toArray )\n",
    "    \n",
    "    val sqlExpr = columns_features.zipWithIndex.map{ case (alias, idx) => col(features).getItem(idx).as(alias)}\n",
    "\n",
    "    val df_matrix = df.select(features).withColumn(features , vecToArray(col(features)) ).select(sqlExpr : _*)\n",
    "\n",
    "    val featureArray:Array[Seq[Double]] = df_matrix.collect.map(_.toSeq.collect { case i: java.lang.Number => i.doubleValue() })\n",
    "    \n",
    "    val featureMatrix:DenseMatrix[Double] = DenseMatrix(featureArray:_*)\n",
    "    \n",
    "    val labelArray:Array[Seq[Double]] = df.select(label).collect.map(_.toSeq.collect { case i: java.lang.Number => i.doubleValue() })\n",
    "    \n",
    "    val labelMatrix:DenseMatrix[Double] = DenseMatrix(labelArray:_*)\n",
    "    \n",
    "    (featureMatrix, labelMatrix)\n",
    "}"
   ]
  },
  {
   "cell_type": "code",
   "execution_count": 34,
   "metadata": {},
   "outputs": [
    {
     "data": {
      "text/html": [
       "<div>\n",
       "  <span style=\"float: left;\">collect at cmd32.sc:15</span>\n",
       "</div>\n"
      ]
     },
     "metadata": {},
     "output_type": "display_data"
    },
    {
     "data": {
      "text/html": [
       "<div class=\"progress\">\n",
       "  <div class=\"progress-bar\" role=\"progressbar\" style=\"background-color: blue; width: 100%; word-wrap: normal; white-space: nowrap; text-align: center; color: white\" aria-valuenow=\"100\" aria-valuemin=\"0\" aria-valuemax=\"100\">\n",
       "    1 / 1\n",
       "  </div>\n",
       "  <div class=\"progress-bar\" role=\"progressbar\" style=\"background-color: red; width: 0%\" aria-valuenow=\"0\" aria-valuemin=\"0\" aria-valuemax=\"100\"></div>\n",
       "</div>\n"
      ]
     },
     "metadata": {},
     "output_type": "display_data"
    },
    {
     "data": {
      "text/html": [
       "<div>\n",
       "  <span style=\"float: left;\">collect at cmd32.sc:19</span>\n",
       "</div>\n"
      ]
     },
     "metadata": {},
     "output_type": "display_data"
    },
    {
     "data": {
      "text/html": [
       "<div class=\"progress\">\n",
       "  <div class=\"progress-bar\" role=\"progressbar\" style=\"background-color: blue; width: 100%; word-wrap: normal; white-space: nowrap; text-align: center; color: white\" aria-valuenow=\"100\" aria-valuemin=\"0\" aria-valuemax=\"100\">\n",
       "    1 / 1\n",
       "  </div>\n",
       "  <div class=\"progress-bar\" role=\"progressbar\" style=\"background-color: red; width: 0%\" aria-valuenow=\"0\" aria-valuemin=\"0\" aria-valuemax=\"100\"></div>\n",
       "</div>\n"
      ]
     },
     "metadata": {},
     "output_type": "display_data"
    },
    {
     "data": {
      "text/plain": [
       "\u001b[36mx\u001b[39m: \u001b[32mDenseMatrix\u001b[39m[\u001b[32mDouble\u001b[39m] = 0.0865520007909469   0.0  0.003905513570349724  ... (27 total)\n",
       "0.0865520007909469   0.0  0.003905513570349724  ...\n",
       "0.0865520007909469   0.0  0.003905513570349724  ...\n",
       "0.0865520007909469   0.0  0.003905513570349724  ...\n",
       "0.0865520007909469   0.0  0.003905513570349724  ...\n",
       "0.211628668628961    0.0  0.5452619928746792    ...\n",
       "0.211628668628961    0.0  0.5452619928746792    ...\n",
       "0.211628668628961    0.0  0.5452619928746792    ...\n",
       "0.211628668628961    0.0  0.5452619928746792    ...\n",
       "0.211628668628961    0.0  0.5452619928746792    ...\n",
       "0.211628668628961    0.0  0.5452619928746792    ...\n",
       "0.211628668628961    0.0  0.5452619928746792    ...\n",
       "0.211628668628961    0.0  0.5452619928746792    ...\n",
       "0.211628668628961    0.0  0.5452619928746792    ...\n",
       "0.211628668628961    0.0  0.5452619928746792    ...\n",
       "0.211628668628961    0.0  0.5452619928746792    ...\n",
       "0.211628668628961    0.0  0.5452619928746792    ...\n",
       "0.211628668628961    0.0  0.5452619928746792    ...\n",
       "0.211628668628961    0.0  0.5452619928746792    ...\n",
       "0.211628668628961    0.0  0.5452619928746792    ...\n",
       "0.211628668628961    0.0  0.5452619928746792    ...\n",
       "0.211628668628961    0.0  0.5452619928746792    ...\n",
       "0.211628668628961    0.0  0.5452619928746792    ...\n",
       "0.211628668628961    0.0  0.5452619928746792    ...\n",
       "0.211628668628961    0.0  0.5452619928746792    ...\n",
       "0.211628668628961    0.0  0.5452619928746792    ...\n",
       "0.211628668628961    0.0  0.5452619928746792    ...\n",
       "0.211628668628961    0.0  0.5452619928746792    ...\n",
       "0.211628668628961    0.0  0.5452619928746792    ...\n",
       "0.211628668628961    0.0  0.5452619928746792    ...\n",
       "0.211628668628961    0.0  0.5452619928746792    ...\n",
       "0.211628668628961    0.0  0.5452619928746792    ...\n",
       "0.211628668628961    0.0  0.5452619928746792    ...\n",
       "0.211628668628961    0.0  0.5452619928746792    ...\n",
       "0.211628668628961    0.0  0.5452619928746792    ...\n",
       "0.211628668628961    0.0  0.5452619928746792    ...\n",
       "0.211628668628961    0.0  0.5452619928746792    ...\n",
       "0.211628668628961    0.0  0.5452619928746792    ...\n",
       "0.211628668628961    0.0  0.5452619928746792    ...\n",
       "...\n",
       "\u001b[36my\u001b[39m: \u001b[32mDenseMatrix\u001b[39m[\u001b[32mDouble\u001b[39m] = 0.0    \n",
       "0.0    \n",
       "0.0    \n",
       "0.0    \n",
       "0.0    \n",
       "1.0    \n",
       "2.0    \n",
       "0.0    \n",
       "22.0   \n",
       "1.0    \n",
       "5.0    \n",
       "3.0    \n",
       "18.0   \n",
       "25.0   \n",
       "11.0   \n",
       "36.0   \n",
       "53.0   \n",
       "23.0   \n",
       "6.0    \n",
       "16.0   \n",
       "7.0    \n",
       "0.0    \n",
       "52.0   \n",
       "28.0   \n",
       "24.0   \n",
       "55.0   \n",
       "48.0   \n",
       "193.0  \n",
       "14.0   \n",
       "36.0   \n",
       "13.0   \n",
       "58.0   \n",
       "21.0   \n",
       "34.0   \n",
       "93.0   \n",
       "8.0    \n",
       "2.0    \n",
       "0.0    \n",
       "0.0    \n",
       "..."
      ]
     },
     "execution_count": 34,
     "metadata": {},
     "output_type": "execute_result"
    }
   ],
   "source": [
    "val (x, y) = getDenseMatrixFromDF(\n",
    "    df=df_scaled,\n",
    "    label=label,\n",
    "    features=\"scaledFeatures\",\n",
    "    columns_features=columns_features\n",
    ")"
   ]
  },
  {
   "cell_type": "markdown",
   "metadata": {},
   "source": [
    "# Реализуем модель простой линейной регрессии, используя стандартные функции Breeze"
   ]
  },
  {
   "cell_type": "code",
   "execution_count": 35,
   "metadata": {},
   "outputs": [
    {
     "data": {
      "text/plain": [
       "defined \u001b[32mfunction\u001b[39m \u001b[36mgradientDescent\u001b[39m"
      ]
     },
     "execution_count": 35,
     "metadata": {},
     "output_type": "execute_result"
    }
   ],
   "source": [
    "def gradientDescent(\n",
    "    x:DenseMatrix[Double],\n",
    "    y:DenseMatrix[Double],\n",
    "    theta:DenseMatrix[Double],\n",
    "    alpha:Double,\n",
    "    iters:Int) = {\n",
    "    val m = x.rows.toDouble\n",
    "    val xTrans = x.t\n",
    "    var th = theta.copy\n",
    "    var i = 0\n",
    "    var result = -1.0\n",
    "    while( i < iters ){\n",
    "        var hypothesis = x*th.t\n",
    "        var loss = hypothesis - y\n",
    "        var cost = sum(pow(loss, 2)) / (2 * m)\n",
    "        //println(s\"Iteration $i | Cost: $cost\")\n",
    "        var gradient = (xTrans*loss)/m\n",
    "        th = th - (alpha * gradient).t\n",
    "        result = cost\n",
    "        i+=1\n",
    "    }\n",
    "    \n",
    "    (th, result)\n",
    "}"
   ]
  },
  {
   "cell_type": "code",
   "execution_count": 36,
   "metadata": {},
   "outputs": [
    {
     "data": {
      "text/plain": [
       "\u001b[36mtheta\u001b[39m: \u001b[32mDenseMatrix\u001b[39m[\u001b[32mDouble\u001b[39m] = 1.0  1.0  1.0  1.0  1.0  1.0  1.0  1.0  1.0  1.0  1.0  1.0  1.0  ... (27 total)\n",
       "\u001b[36malpha\u001b[39m: \u001b[32mDouble\u001b[39m = \u001b[32m1.0E-4\u001b[39m\n",
       "\u001b[36miters\u001b[39m: \u001b[32mInt\u001b[39m = \u001b[32m10000\u001b[39m"
      ]
     },
     "execution_count": 36,
     "metadata": {},
     "output_type": "execute_result"
    }
   ],
   "source": [
    "val theta = DenseMatrix.ones[Double]( 1, x.cols)\n",
    "val alpha = 0.0001\n",
    "val iters = 10000"
   ]
  },
  {
   "cell_type": "code",
   "execution_count": 38,
   "metadata": {},
   "outputs": [
    {
     "data": {
      "text/plain": [
       "\u001b[36mth\u001b[39m: \u001b[32mDenseMatrix\u001b[39m[\u001b[32mDouble\u001b[39m] = 0.07802780476683224  0.15721614909263676  1.396303267543915  ... (27 total)\n",
       "\u001b[36mcost\u001b[39m: \u001b[32mDouble\u001b[39m = \u001b[32m445.69007646709116\u001b[39m"
      ]
     },
     "execution_count": 38,
     "metadata": {},
     "output_type": "execute_result"
    }
   ],
   "source": [
    "val (th, cost) = gradientDescent(\n",
    "    x=x,\n",
    "    y=y,\n",
    "    theta=theta,\n",
    "    alpha=alpha,\n",
    "    iters=iters\n",
    ")"
   ]
  },
  {
   "cell_type": "code",
   "execution_count": null,
   "metadata": {},
   "outputs": [],
   "source": []
  },
  {
   "cell_type": "code",
   "execution_count": null,
   "metadata": {},
   "outputs": [],
   "source": []
  },
  {
   "cell_type": "code",
   "execution_count": null,
   "metadata": {},
   "outputs": [],
   "source": []
  },
  {
   "cell_type": "code",
   "execution_count": null,
   "metadata": {},
   "outputs": [],
   "source": []
  },
  {
   "cell_type": "code",
   "execution_count": null,
   "metadata": {},
   "outputs": [],
   "source": []
  },
  {
   "cell_type": "code",
   "execution_count": null,
   "metadata": {},
   "outputs": [],
   "source": []
  },
  {
   "cell_type": "code",
   "execution_count": null,
   "metadata": {},
   "outputs": [],
   "source": []
  }
 ],
 "metadata": {
  "kernelspec": {
   "display_name": "Scala 2.12",
   "language": "scala",
   "name": "scala212"
  },
  "language_info": {
   "codemirror_mode": "text/x-scala",
   "file_extension": ".sc",
   "mimetype": "text/x-scala",
   "name": "scala",
   "nbconvert_exporter": "script",
   "version": "2.12.12"
  }
 },
 "nbformat": 4,
 "nbformat_minor": 4
}
