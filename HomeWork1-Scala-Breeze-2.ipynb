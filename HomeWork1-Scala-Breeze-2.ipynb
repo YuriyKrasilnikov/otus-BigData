﻿{
  "metadata": {
    "name": "HomeWork1-Scala-Breeze",
    "kernelspec": {
      "language": "scala",
      "name": "spark2-scala"
    },
    "language_info": {
      "codemirror_mode": "text/x-scala",
      "file_extension": ".scala",
      "mimetype": "text/x-scala",
      "name": "scala",
      "pygments_lexer": "scala"
    }
  },
  "nbformat": 4,
  "nbformat_minor": 2,
  "cells": [
    {
      "cell_type": "code",
      "execution_count": 0,
      "metadata": {
        "autoscroll": "auto"
      },
      "outputs": [],
      "source": "val dir \u003d \"notebook/otus/homework1/\"\nval filename \u003d \"Dataset.csv\""
    },
    {
      "cell_type": "code",
      "execution_count": 1,
      "metadata": {
        "autoscroll": "auto"
      },
      "outputs": [],
      "source": "class CSVData(dir: String, filename: String){\r\n    import scala.io.Source\r\n    \r\n    private val file \u003d dir+filename\r\n    \r\n    private def file_read[T](func: scala.io.BufferedSource\u003d\u003eT) \u003d {\r\n        val bufferedSource \u003d Source.fromFile(dir+filename)\r\n        val result \u003d func(bufferedSource)\r\n        bufferedSource.close\r\n        result\r\n    }\r\n    \r\n    def getColsName() \u003d {\r\n        file_read[List[String]](\r\n            bs \u003d\u003e bs.getLines.next.split(\",\").map(_.trim).toList\r\n        )\r\n    }\r\n    \r\n    def seeRows(limit:Int \u003d 5) \u003d {\r\n        file_read[List[List[String]]](\r\n            bs \u003d\u003e {\r\n                bs.getLines.next\r\n                bs.getLines.take(limit).map{line\u003d\u003e{\r\n                    line.split(\",\").map(_.trim).toList\r\n                }}.toList\r\n            }\r\n        )\r\n    }\r\n\r\n    def collectRows() \u003d {\r\n        file_read[List[List[Double]]](\r\n            bs \u003d\u003e {\r\n                bs.getLines.next\r\n                bs.getLines.collect{\r\n                    case line if !line.split(\",\").map(_.trim).exists(_.isEmpty) \u003d\u003e line.split(\",\").map(_.trim.toDouble).toList\r\n                }.toList\r\n            }\r\n        )\r\n    }\r\n    \r\n}"
    },
    {
      "cell_type": "code",
      "execution_count": 2,
      "metadata": {
        "autoscroll": "auto"
      },
      "outputs": [],
      "source": "def show(data: CSVData, limit:Int \u003d 5) \u003d {\nprint(s\"\"\"%table\n${data.getColsName.mkString(\"\\t\")}\n${data.seeRows(limit).map { row \u003d\u003e\n row.mkString(\"\\t\")\n}.mkString(\"\\n\")}\n\"\"\")\n}"
    },
    {
      "cell_type": "code",
      "execution_count": 3,
      "metadata": {
        "autoscroll": "auto"
      },
      "outputs": [],
      "source": "val data \u003d new CSVData(dir, filename)"
    },
    {
      "cell_type": "code",
      "execution_count": 4,
      "metadata": {
        "autoscroll": "auto"
      },
      "outputs": [],
      "source": "show(data)"
    },
    {
      "cell_type": "markdown",
      "metadata": {},
      "source": "# Выбираем колонку которую будем пердсказывать"
    },
    {
      "cell_type": "code",
      "execution_count": 6,
      "metadata": {
        "autoscroll": "auto"
      },
      "outputs": [],
      "source": "val label \u003d \"output\"\nval cols_features \u003d data.getColsName.dropRight(1)"
    },
    {
      "cell_type": "code",
      "execution_count": 7,
      "metadata": {
        "autoscroll": "auto"
      },
      "outputs": [],
      "source": "val rows \u003d data.collectRows\nval rows_features \u003d rows.map(_.dropRight(1))\nval rows_label \u003d rows.map(_.takeRight(1))"
    },
    {
      "cell_type": "code",
      "execution_count": 8,
      "metadata": {
        "autoscroll": "auto"
      },
      "outputs": [],
      "source": "import breeze.linalg._\r\nimport breeze.numerics._"
    },
    {
      "cell_type": "code",
      "execution_count": 9,
      "metadata": {
        "autoscroll": "auto"
      },
      "outputs": [],
      "source": "val matrix_features \u003d DenseMatrix(rows_features:_*).apply(::, *).map(dv \u003d\u003e {\n    val dm \u003d dv.max+dv.min+1.0\n    val av \u003d dv.reduce(_+_)/dv.length\n    dv.map(x\u003d\u003e{\n        (x-av)/dm\n    })\n} )\nval matrix_label \u003d DenseMatrix(rows_label:_*)"
    },
    {
      "cell_type": "code",
      "execution_count": 10,
      "metadata": {
        "autoscroll": "auto"
      },
      "outputs": [],
      "source": "def gradientDescent(\r\n    x:DenseMatrix[Double],\r\n    y:DenseMatrix[Double],\r\n    theta:DenseMatrix[Double],\r\n    alpha:Double,\r\n    iters:Int) \u003d {\r\n    val m \u003d x.rows.toDouble\r\n    val xTrans \u003d x.t\r\n    var th \u003d theta.copy\r\n    var i \u003d 0\r\n    var result \u003d -1.0\r\n    while( i \u003c iters ){\r\n        var hypothesis \u003d x*th.t\r\n        var loss \u003d hypothesis - y\r\n        var cost \u003d sum(pow(loss, 2)) / (2 * m)\r\n        //println(s\"Iteration $i | Cost: $cost\")\r\n        var gradient \u003d (xTrans*loss)/m\r\n        th \u003d th - (alpha * gradient).t\r\n        result \u003d cost\r\n        i+\u003d1\r\n    }\r\n    \r\n    (th, result)\r\n}"
    },
    {
      "cell_type": "code",
      "execution_count": 11,
      "metadata": {
        "autoscroll": "auto"
      },
      "outputs": [],
      "source": "val theta \u003d DenseMatrix.ones[Double]( 1, matrix_features.cols)\r\nval alpha \u003d 0.01\r\nval iters \u003d 1000000"
    },
    {
      "cell_type": "code",
      "execution_count": 12,
      "metadata": {
        "autoscroll": "auto"
      },
      "outputs": [],
      "source": "val (th, cost) \u003d gradientDescent(\r\n    x\u003dmatrix_features,\r\n    y\u003dmatrix_label,\r\n    theta\u003dtheta,\r\n    alpha\u003dalpha,\r\n    iters\u003diters\r\n)"
    }
  ]
}